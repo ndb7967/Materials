{
  "nbformat": 4,
  "nbformat_minor": 0,
  "metadata": {
    "colab": {
      "name": "Attention is All You Need Tutorial (English-Korean)",
      "provenance": [],
      "collapsed_sections": []
    },
    "kernelspec": {
      "name": "python3",
      "display_name": "Python 3"
    },
    "accelerator": "GPU"
  },
  "cells": [
    {
      "cell_type": "markdown",
      "metadata": {
        "id": "lsqPQvqsoEs1"
      },
      "source": [
        "#### **Attention is All You Need (NIPS 2017)** 실습\r\n",
        "* <b>(뉴스 데이터셋)</b> 영어 문장을 한국어 문장으로 번역합니다.\r\n",
        "* 본 코드는 기본적으로 **Transformer** 논문의 내용을 최대한 따릅니다.\r\n",
        "    * 본 논문은 **딥러닝 기반의 자연어 처리** 기법의 기본적인 구성을 이해하고 공부하는 데에 도움을 줍니다.\r\n",
        "    * 2020년 기준 가장 뛰어난 번역 모델들은 본 논문에서 제안한 **Transformer 기반의 아키텍처**를 따르고 있습니다.\r\n",
        "* 코드 실행 전에 **[런타임]** → **[런타임 유형 변경]** → 유형을 **GPU**로 설정합니다."
      ]
    },
    {
      "cell_type": "markdown",
      "metadata": {
        "id": "K94h1GvfeYzI"
      },
      "source": [
        "#### <b>한글 출력을 위한 폰트 설치</b>\r\n",
        "\r\n",
        "* 설치 이후에 수동으로 <b>[런타임]</b> - <b>[런타임 다시 시작]</b> 버튼을 눌러 재시작합니다."
      ]
    },
    {
      "cell_type": "code",
      "metadata": {
        "colab": {
          "base_uri": "https://localhost:8080/"
        },
        "id": "bv1vH80DeZ4A",
        "outputId": "f3f500aa-9e9f-4843-84c7-e9bc573595ce"
      },
      "source": [
        "!sudo apt-get install -y fonts-nanum\r\n",
        "!sudo fc-cache -fv\r\n",
        "!rm ~/.cache/matplotlib -rf"
      ],
      "execution_count": 2,
      "outputs": [
        {
          "output_type": "stream",
          "text": [
            "Reading package lists... Done\n",
            "Building dependency tree       \n",
            "Reading state information... Done\n",
            "fonts-nanum is already the newest version (20170925-1).\n",
            "0 upgraded, 0 newly installed, 0 to remove and 14 not upgraded.\n",
            "/usr/share/fonts: caching, new cache contents: 0 fonts, 1 dirs\n",
            "/usr/share/fonts/truetype: caching, new cache contents: 0 fonts, 3 dirs\n",
            "/usr/share/fonts/truetype/humor-sans: caching, new cache contents: 1 fonts, 0 dirs\n",
            "/usr/share/fonts/truetype/liberation: caching, new cache contents: 16 fonts, 0 dirs\n",
            "/usr/share/fonts/truetype/nanum: caching, new cache contents: 10 fonts, 0 dirs\n",
            "/usr/local/share/fonts: caching, new cache contents: 0 fonts, 0 dirs\n",
            "/root/.local/share/fonts: skipping, no such directory\n",
            "/root/.fonts: skipping, no such directory\n",
            "/var/cache/fontconfig: cleaning cache directory\n",
            "/root/.cache/fontconfig: not cleaning non-existent cache directory\n",
            "/root/.fontconfig: not cleaning non-existent cache directory\n",
            "fc-cache: succeeded\n"
          ],
          "name": "stdout"
        }
      ]
    },
    {
      "cell_type": "markdown",
      "metadata": {
        "id": "XMhPNsdvoMc8"
      },
      "source": [
        "#### <b>한글 토큰화 라이브러리 설치하기</b>\r\n"
      ]
    },
    {
      "cell_type": "code",
      "metadata": {
        "colab": {
          "base_uri": "https://localhost:8080/"
        },
        "id": "RLR80SBJX-ld",
        "outputId": "a67915f2-d036-49a2-ddcd-9731ba9bd02d"
      },
      "source": [
        "!pip3 install konlpy"
      ],
      "execution_count": 4,
      "outputs": [
        {
          "output_type": "stream",
          "text": [
            "Requirement already satisfied: konlpy in /usr/local/lib/python3.6/dist-packages (0.5.2)\n",
            "Requirement already satisfied: lxml>=4.1.0 in /usr/local/lib/python3.6/dist-packages (from konlpy) (4.2.6)\n",
            "Requirement already satisfied: colorama in /usr/local/lib/python3.6/dist-packages (from konlpy) (0.4.4)\n",
            "Requirement already satisfied: numpy>=1.6 in /usr/local/lib/python3.6/dist-packages (from konlpy) (1.18.5)\n",
            "Requirement already satisfied: JPype1>=0.7.0 in /usr/local/lib/python3.6/dist-packages (from konlpy) (1.2.0)\n",
            "Requirement already satisfied: beautifulsoup4==4.6.0 in /usr/local/lib/python3.6/dist-packages (from konlpy) (4.6.0)\n",
            "Requirement already satisfied: tweepy>=3.7.0 in /usr/local/lib/python3.6/dist-packages (from konlpy) (3.9.0)\n",
            "Requirement already satisfied: typing-extensions; python_version < \"3.8\" in /usr/local/lib/python3.6/dist-packages (from JPype1>=0.7.0->konlpy) (3.7.4.3)\n",
            "Requirement already satisfied: requests-oauthlib>=0.7.0 in /usr/local/lib/python3.6/dist-packages (from tweepy>=3.7.0->konlpy) (1.3.0)\n",
            "Requirement already satisfied: six>=1.10.0 in /usr/local/lib/python3.6/dist-packages (from tweepy>=3.7.0->konlpy) (1.15.0)\n",
            "Requirement already satisfied: requests[socks]>=2.11.1 in /usr/local/lib/python3.6/dist-packages (from tweepy>=3.7.0->konlpy) (2.23.0)\n",
            "Requirement already satisfied: oauthlib>=3.0.0 in /usr/local/lib/python3.6/dist-packages (from requests-oauthlib>=0.7.0->tweepy>=3.7.0->konlpy) (3.1.0)\n",
            "Requirement already satisfied: urllib3!=1.25.0,!=1.25.1,<1.26,>=1.21.1 in /usr/local/lib/python3.6/dist-packages (from requests[socks]>=2.11.1->tweepy>=3.7.0->konlpy) (1.24.3)\n",
            "Requirement already satisfied: chardet<4,>=3.0.2 in /usr/local/lib/python3.6/dist-packages (from requests[socks]>=2.11.1->tweepy>=3.7.0->konlpy) (3.0.4)\n",
            "Requirement already satisfied: certifi>=2017.4.17 in /usr/local/lib/python3.6/dist-packages (from requests[socks]>=2.11.1->tweepy>=3.7.0->konlpy) (2020.12.5)\n",
            "Requirement already satisfied: idna<3,>=2.5 in /usr/local/lib/python3.6/dist-packages (from requests[socks]>=2.11.1->tweepy>=3.7.0->konlpy) (2.10)\n",
            "Requirement already satisfied: PySocks!=1.5.7,>=1.5.6; extra == \"socks\" in /usr/local/lib/python3.6/dist-packages (from requests[socks]>=2.11.1->tweepy>=3.7.0->konlpy) (1.7.1)\n"
          ],
          "name": "stdout"
        }
      ]
    },
    {
      "cell_type": "markdown",
      "metadata": {
        "id": "YvC4SCB4oYIG"
      },
      "source": [
        "#### <b>데이터셋 다운로드</b>\r\n",
        "\r\n",
        "* 한영 번역 데이터셋을 다운로드하여 파이썬 객체로 불러옵니다."
      ]
    },
    {
      "cell_type": "code",
      "metadata": {
        "colab": {
          "base_uri": "https://localhost:8080/"
        },
        "id": "wKyOkrvEYFB3",
        "outputId": "bba6d91f-5fbe-4472-8d31-f9aa8afb013c"
      },
      "source": [
        "# 한영 번역 데이터셋을 포함하는 저장소\r\n",
        "!git clone https://github.com/ndb796/korean-parallel-corpora"
      ],
      "execution_count": 5,
      "outputs": [
        {
          "output_type": "stream",
          "text": [
            "Cloning into 'korean-parallel-corpora'...\n",
            "remote: Enumerating objects: 131, done.\u001b[K\n",
            "remote: Total 131 (delta 0), reused 0 (delta 0), pack-reused 131\u001b[K\n",
            "Receiving objects: 100% (131/131), 17.67 MiB | 30.66 MiB/s, done.\n",
            "Resolving deltas: 100% (43/43), done.\n"
          ],
          "name": "stdout"
        }
      ]
    },
    {
      "cell_type": "code",
      "metadata": {
        "id": "UOr9xTQYYLx6",
        "colab": {
          "base_uri": "https://localhost:8080/"
        },
        "outputId": "f0f1cad4-d310-4af4-890c-2571cb357240"
      },
      "source": [
        "# 데이터셋이 저장될 폴더 생성\r\n",
        "!mkdir -p ./dataset\r\n",
        "\r\n",
        "# 압축 해제\r\n",
        "!tar -xvf ./korean-parallel-corpora/korean-english-news-v1/korean-english-park.train.tar.gz -C ./dataset\r\n",
        "!tar -xvf ./korean-parallel-corpora/korean-english-news-v1/korean-english-park.test.tar.gz -C ./dataset\r\n",
        "!tar -xvf ./korean-parallel-corpora/korean-english-news-v1/korean-english-park.dev.tar.gz -C ./dataset\r\n",
        "\r\n",
        "# 학습(training) 데이터셋 이름 변경\r\n",
        "!mv ./dataset/korean-english-park.train.en ./dataset/train.en\r\n",
        "!mv ./dataset/korean-english-park.train.ko ./dataset/train.ko\r\n",
        "\r\n",
        "# 평가(validation) 데이터셋 이름 변경\r\n",
        "!mv ./dataset/korean-english-park.dev.en ./dataset/dev.en\r\n",
        "!mv ./dataset/korean-english-park.dev.ko ./dataset/dev.ko\r\n",
        "\r\n",
        "# 테스트(test) 데이터셋 이름 변경\r\n",
        "!mv ./dataset/korean-english-park.test.en ./dataset/test.en\r\n",
        "!mv ./dataset/korean-english-park.test.ko ./dataset/test.ko"
      ],
      "execution_count": 6,
      "outputs": [
        {
          "output_type": "stream",
          "text": [
            "korean-english-park.train.en\n",
            "korean-english-park.train.ko\n",
            "korean-english-park.test.en\n",
            "korean-english-park.test.ko\n",
            "korean-english-park.dev.en\n",
            "korean-english-park.dev.ko\n"
          ],
          "name": "stdout"
        }
      ]
    },
    {
      "cell_type": "markdown",
      "metadata": {
        "id": "MPTPFTsQOqtY"
      },
      "source": [
        "#### <b>데이터셋 읽어 확인하기</b>\r\n",
        "\r\n",
        "* 학습, 평가, 테스트 데이터셋을 각각 읽어 문장 데이터를 확인합니다."
      ]
    },
    {
      "cell_type": "code",
      "metadata": {
        "id": "MHJVBJV1odo_"
      },
      "source": [
        "korean_lines_train = open(\"./dataset/train.ko\", 'r', encoding='utf-8').readlines()\r\n",
        "english_lines_train = open(\"./dataset/train.en\", 'r', encoding='utf-8').readlines()\r\n",
        "\r\n",
        "korean_lines_val = open(\"./dataset/dev.ko\", 'r', encoding='utf-8').readlines()\r\n",
        "english_lines_val = open(\"./dataset/dev.en\", 'r', encoding='utf-8').readlines()\r\n",
        "\r\n",
        "korean_lines_test = open(\"./dataset/test.ko\", 'r', encoding='utf-8').readlines()\r\n",
        "english_lines_test = open(\"./dataset/test.en\", 'r', encoding='utf-8').readlines()"
      ],
      "execution_count": 7,
      "outputs": []
    },
    {
      "cell_type": "code",
      "metadata": {
        "id": "BE7BcVFrYjLL",
        "colab": {
          "base_uri": "https://localhost:8080/"
        },
        "outputId": "704b2f34-ca48-49b2-9e64-17e9e732c727"
      },
      "source": [
        "print(f\"한글 문장 학습 데이터 개수: {len(korean_lines_train)}개\")\r\n",
        "print(f\"영어 문장 학습 데이터 개수: {len(english_lines_train)}개\")\r\n",
        "\r\n",
        "print(f\"한글 문장 평가 데이터 개수: {len(korean_lines_val)}개\")\r\n",
        "print(f\"영어 문장 평가 데이터 개수: {len(english_lines_val)}개\")\r\n",
        "\r\n",
        "print(f\"한글 문장 테스트 데이터 개수: {len(korean_lines_test)}개\")\r\n",
        "print(f\"영어 문장 테스트 데이터 개수: {len(english_lines_test)}개\")\r\n",
        "\r\n",
        "index = 777\r\n",
        "print(f\"{index + 1}번째 학습용 한글 문장:\", korean_lines_train[index], end='')\r\n",
        "print(f\"{index + 1}번째 학습용 영어 문장:\", english_lines_train[index], end='')"
      ],
      "execution_count": 8,
      "outputs": [
        {
          "output_type": "stream",
          "text": [
            "한글 문장 학습 데이터 개수: 94123개\n",
            "영어 문장 학습 데이터 개수: 94123개\n",
            "한글 문장 평가 데이터 개수: 1000개\n",
            "영어 문장 평가 데이터 개수: 1000개\n",
            "한글 문장 테스트 데이터 개수: 2000개\n",
            "영어 문장 테스트 데이터 개수: 2000개\n",
            "778번째 학습용 한글 문장: 지금 21살인 유는 학교에 가기 전 서너시간 동안 컴퓨터 통신에 끼어들기 위해 새벽 5시에 침대에서 일어나 나온다.\n",
            "778번째 학습용 영어 문장: Now Yu, 21, drags herself out of bed at 5 a.m. to squeeze in a few hours online before school.\n"
          ],
          "name": "stdout"
        }
      ]
    },
    {
      "cell_type": "markdown",
      "metadata": {
        "id": "pZve2G--oiJ2"
      },
      "source": [
        "#### <b>단어 사전 만들기 </b>\r\n",
        "\r\n",
        "* 단어 사전 클래스를 정의합니다."
      ]
    },
    {
      "cell_type": "code",
      "metadata": {
        "id": "PAVNpvQWZXUw"
      },
      "source": [
        "class Vocabulary(object):\r\n",
        "    def __init__(self):\r\n",
        "        self.UNK = '<unk>'\r\n",
        "        self.PAD = '<pad>'\r\n",
        "        self.SOS = '<sos>'\r\n",
        "        self.EOS = '<eos>'\r\n",
        "\r\n",
        "        self.word2idx = {}\r\n",
        "        self.idx2word = {}\r\n",
        "        self.word2count = {}\r\n",
        "\r\n",
        "    # 하나의 문장(sentence)에 포함된 모든 토큰을 추가하는 함수\r\n",
        "    def add_tokens(self, tokens):\r\n",
        "        for word in tokens:\r\n",
        "            if word in self.word2count:\r\n",
        "                self.word2count[word] += 1\r\n",
        "            else:\r\n",
        "                self.word2count[word] = 1\r\n",
        "\r\n",
        "    def preprocess(self, min_count):\r\n",
        "        # 사용하지 않을 단어 집합\r\n",
        "        trim_words = set()\r\n",
        "        for word, count in self.word2count.items():\r\n",
        "            if count < min_count:\r\n",
        "                trim_words.add(word)\r\n",
        "\r\n",
        "        # 실제로 사용할 단어만 남기기\r\n",
        "        words = set(self.word2count.keys()) - trim_words\r\n",
        "        words = [self.UNK, self.PAD, self.SOS, self.EOS] + list(words)\r\n",
        "\r\n",
        "        self.word2idx = {}\r\n",
        "        self.idx2word = {}\r\n",
        "        for i, word in enumerate(words):\r\n",
        "            self.word2idx[word] = i\r\n",
        "            self.idx2word[i] = word"
      ],
      "execution_count": 9,
      "outputs": []
    },
    {
      "cell_type": "markdown",
      "metadata": {
        "id": "pCxeZatro0dO"
      },
      "source": [
        "#### <b>문장 토큰화</b>\r\n",
        "\r\n",
        "* 먼저 한글 문장 및 영어 문장 데이터셋에 대하여 토큰화를 수행합니다.\r\n",
        "* 토큰화를 위해 특수문자 제거 함수를 정의하고 객체를 초기화합니다."
      ]
    },
    {
      "cell_type": "code",
      "metadata": {
        "id": "hgjF0CmxZt7q"
      },
      "source": [
        "import re\r\n",
        "from konlpy.tag import Okt\r\n",
        "\r\n",
        "def clean_string(string):\r\n",
        "    string = string.strip() # 앞뒤로 존재하는 공백 제거\r\n",
        "    string = re.sub('[-=+,#/\\?:^$.@*\\\"※~&%ㆍ!』\\\\‘|\\(\\)\\[\\]\\<\\>`\\'…》]', '', string) # 특수문자 제거\r\n",
        "    return string.strip().lower() # 소문자로 변환하여 반환\r\n",
        "\r\n",
        "okt = Okt() # 한글 형태소 분석기"
      ],
      "execution_count": 10,
      "outputs": []
    },
    {
      "cell_type": "markdown",
      "metadata": {
        "id": "CISd-zFxo4Z_"
      },
      "source": [
        "* 학습(training) 데이터셋을 토큰화합니다."
      ]
    },
    {
      "cell_type": "code",
      "metadata": {
        "id": "Ofqxn7ViagCT",
        "colab": {
          "base_uri": "https://localhost:8080/"
        },
        "outputId": "b22917e3-b303-433a-fa9f-22d221cd19b0"
      },
      "source": [
        "tokenized_korean_lines_train = []\r\n",
        "tokenized_english_lines_train = []\r\n",
        "\r\n",
        "min_length = 4 # 단어의 개수가 4개 이상인 학습 문장 쌍만 사용\r\n",
        "max_length = 50 # 단어의 개수가 50개 이하인 학습 문장 쌍만 사용\r\n",
        "\r\n",
        "for i in range(len(korean_lines_train)):\r\n",
        "    korean = korean_lines_train[i]\r\n",
        "    korean = clean_string(korean)\r\n",
        "    korean_tokens = [line[0] for line in okt.pos(korean, norm=True)] # 한글 형태소 분석 결과 추출\r\n",
        "\r\n",
        "    english = english_lines_train[i]\r\n",
        "    english = clean_string(english)\r\n",
        "    english_tokens = english.split(' ')\r\n",
        "\r\n",
        "    if len(korean_tokens) < min_length or len(korean_tokens) > max_length:\r\n",
        "        continue\r\n",
        "    if len(english_tokens) < min_length or len(english_tokens) > max_length:\r\n",
        "        continue\r\n",
        "\r\n",
        "    tokenized_korean_lines_train.append(korean_tokens)\r\n",
        "    tokenized_english_lines_train.append(english_tokens)\r\n",
        "\r\n",
        "    if (i + 1) % 4000 == 0:\r\n",
        "        print(f\"학습 데이터셋 토큰화: {i + 1}/{len(korean_lines_train)}\")"
      ],
      "execution_count": 11,
      "outputs": [
        {
          "output_type": "stream",
          "text": [
            "학습 데이터셋 토큰화: 4000/94123\n",
            "학습 데이터셋 토큰화: 8000/94123\n",
            "학습 데이터셋 토큰화: 12000/94123\n",
            "학습 데이터셋 토큰화: 16000/94123\n",
            "학습 데이터셋 토큰화: 20000/94123\n",
            "학습 데이터셋 토큰화: 24000/94123\n",
            "학습 데이터셋 토큰화: 28000/94123\n",
            "학습 데이터셋 토큰화: 32000/94123\n",
            "학습 데이터셋 토큰화: 36000/94123\n",
            "학습 데이터셋 토큰화: 40000/94123\n",
            "학습 데이터셋 토큰화: 44000/94123\n",
            "학습 데이터셋 토큰화: 48000/94123\n",
            "학습 데이터셋 토큰화: 52000/94123\n",
            "학습 데이터셋 토큰화: 56000/94123\n",
            "학습 데이터셋 토큰화: 60000/94123\n",
            "학습 데이터셋 토큰화: 64000/94123\n",
            "학습 데이터셋 토큰화: 68000/94123\n",
            "학습 데이터셋 토큰화: 72000/94123\n",
            "학습 데이터셋 토큰화: 76000/94123\n",
            "학습 데이터셋 토큰화: 80000/94123\n",
            "학습 데이터셋 토큰화: 84000/94123\n",
            "학습 데이터셋 토큰화: 88000/94123\n",
            "학습 데이터셋 토큰화: 92000/94123\n"
          ],
          "name": "stdout"
        }
      ]
    },
    {
      "cell_type": "markdown",
      "metadata": {
        "id": "B0OaMfcGo8t7"
      },
      "source": [
        "* 평가(validation) 데이터셋을 토큰화합니다."
      ]
    },
    {
      "cell_type": "code",
      "metadata": {
        "colab": {
          "base_uri": "https://localhost:8080/"
        },
        "id": "FuV2gxmMo-4B",
        "outputId": "2cf8aaeb-ddba-4623-d079-3ee11c86f7d9"
      },
      "source": [
        "tokenized_korean_lines_val = []\r\n",
        "tokenized_english_lines_val = []\r\n",
        "\r\n",
        "for i in range(len(korean_lines_val)):\r\n",
        "    korean = korean_lines_val[i]\r\n",
        "    korean = clean_string(korean)\r\n",
        "    korean_tokens = [line[0] for line in okt.pos(korean, norm=True)] # 한글 형태소 분석 결과 추출\r\n",
        "\r\n",
        "    english = english_lines_val[i]\r\n",
        "    english = clean_string(english)\r\n",
        "    english_tokens = english.split(' ')\r\n",
        "\r\n",
        "    tokenized_korean_lines_val.append(korean_tokens)\r\n",
        "    tokenized_english_lines_val.append(english_tokens)\r\n",
        "\r\n",
        "    if (i + 1) % 1000 == 0:\r\n",
        "        print(f\"평가 데이터셋 토큰화: {i + 1}/{len(korean_lines_val)}\")"
      ],
      "execution_count": 12,
      "outputs": [
        {
          "output_type": "stream",
          "text": [
            "평가 데이터셋 토큰화: 1000/1000\n"
          ],
          "name": "stdout"
        }
      ]
    },
    {
      "cell_type": "markdown",
      "metadata": {
        "id": "wI16_DXgp8BB"
      },
      "source": [
        "* 테스트(test) 데이터셋을 토큰화합니다."
      ]
    },
    {
      "cell_type": "code",
      "metadata": {
        "colab": {
          "base_uri": "https://localhost:8080/"
        },
        "id": "5gX8iYYbp8oe",
        "outputId": "49aa66d7-bc31-4090-cccc-7a7a4e3653ff"
      },
      "source": [
        "tokenized_korean_lines_test = []\r\n",
        "tokenized_english_lines_test = []\r\n",
        "\r\n",
        "for i in range(len(korean_lines_test)):\r\n",
        "    korean = korean_lines_test[i]\r\n",
        "    korean = clean_string(korean)\r\n",
        "    korean_tokens = [line[0] for line in okt.pos(korean, norm=True)] # 한글 형태소 분석 결과 추출\r\n",
        "\r\n",
        "    english = english_lines_test[i]\r\n",
        "    english = clean_string(english)\r\n",
        "    english_tokens = english.split(' ')\r\n",
        "\r\n",
        "    tokenized_korean_lines_test.append(korean_tokens)\r\n",
        "    tokenized_english_lines_test.append(english_tokens)\r\n",
        "\r\n",
        "    if (i + 1) % 1000 == 0:\r\n",
        "        print(f\"테스트 데이터셋 토큰화: {i + 1}/{len(korean_lines_test)}\")"
      ],
      "execution_count": 13,
      "outputs": [
        {
          "output_type": "stream",
          "text": [
            "테스트 데이터셋 토큰화: 1000/2000\n",
            "테스트 데이터셋 토큰화: 2000/2000\n"
          ],
          "name": "stdout"
        }
      ]
    },
    {
      "cell_type": "markdown",
      "metadata": {
        "id": "Y0p6kpZq1v7u"
      },
      "source": [
        "#### <b>단어 사전 만들기</b>\r\n",
        "\r\n",
        "* 최소 2번 이상 등장한 단어만 사용합니다."
      ]
    },
    {
      "cell_type": "code",
      "metadata": {
        "colab": {
          "base_uri": "https://localhost:8080/"
        },
        "id": "0qAx2NU81wcV",
        "outputId": "927b03e4-490c-4071-9778-8527fb7a32ae"
      },
      "source": [
        "korean_voca = Vocabulary()\r\n",
        "english_voca = Vocabulary()\r\n",
        "\r\n",
        "for i in range(len(tokenized_korean_lines_train)):\r\n",
        "    korean_tokens = tokenized_korean_lines_train[i]\r\n",
        "    english_tokens = tokenized_english_lines_train[i]\r\n",
        "\r\n",
        "    korean_voca.add_tokens(korean_tokens)\r\n",
        "    english_voca.add_tokens(english_tokens)\r\n",
        "\r\n",
        "korean_voca.preprocess(min_count=2)\r\n",
        "english_voca.preprocess(min_count=2)\r\n",
        "\r\n",
        "print(\"전체 한국어 단어 수:\", len(korean_voca.word2count))\r\n",
        "print(\"전체 영어 단어 수:\", len(english_voca.word2count))\r\n",
        "print(\"사용할 한국어 토큰 수:\", len(korean_voca.word2idx))\r\n",
        "print(\"사용할 영어 토큰 수:\", len(english_voca.word2idx))"
      ],
      "execution_count": 14,
      "outputs": [
        {
          "output_type": "stream",
          "text": [
            "전체 한국어 단어 수: 67029\n",
            "전체 영어 단어 수: 58833\n",
            "사용할 한국어 토큰 수: 40612\n",
            "사용할 영어 토큰 수: 35745\n"
          ],
          "name": "stdout"
        }
      ]
    },
    {
      "cell_type": "code",
      "metadata": {
        "id": "iBTMN7Lb1yFn",
        "colab": {
          "base_uri": "https://localhost:8080/"
        },
        "outputId": "2790ca00-5298-4d32-da89-4042de5ff708"
      },
      "source": [
        "print(korean_voca.word2idx['<pad>']) # 패딩(padding): 1\r\n",
        "print(korean_voca.word2idx['<sos>']) # <sos>: 2\r\n",
        "print(korean_voca.word2idx['<eos>']) # <eos>: 3\r\n",
        "print(korean_voca.word2idx['컴퓨터'])\r\n",
        "print(korean_voca.word2idx['사랑'])\r\n",
        "print(korean_voca.word2idx['기적'])"
      ],
      "execution_count": 15,
      "outputs": [
        {
          "output_type": "stream",
          "text": [
            "1\n",
            "2\n",
            "3\n",
            "33246\n",
            "4871\n",
            "32580\n"
          ],
          "name": "stdout"
        }
      ]
    },
    {
      "cell_type": "code",
      "metadata": {
        "id": "QB6ufPou1zIw",
        "colab": {
          "base_uri": "https://localhost:8080/"
        },
        "outputId": "f679b5e1-3e7a-4226-f099-22e7d89926f2"
      },
      "source": [
        "print(english_voca.word2idx['<pad>']) # 패딩(padding): 1\r\n",
        "print(english_voca.word2idx['<sos>']) # <sos>: 2\r\n",
        "print(english_voca.word2idx['<eos>']) # <eos>: 3\r\n",
        "print(english_voca.word2idx['computer'])\r\n",
        "print(english_voca.word2idx['love'])\r\n",
        "print(english_voca.word2idx['miracle'])"
      ],
      "execution_count": 16,
      "outputs": [
        {
          "output_type": "stream",
          "text": [
            "1\n",
            "2\n",
            "3\n",
            "32151\n",
            "34147\n",
            "4847\n"
          ],
          "name": "stdout"
        }
      ]
    },
    {
      "cell_type": "markdown",
      "metadata": {
        "id": "Va7ygBRF10ki"
      },
      "source": [
        "* Unknown Token이 1개 이상 포함된 문장은 데이터셋에서 제외하여 다시 학습 데이터셋을 구성합니다."
      ]
    },
    {
      "cell_type": "code",
      "metadata": {
        "id": "N7li3eRg12JH"
      },
      "source": [
        "unknown_threshold = 1\r\n",
        "\r\n",
        "preprocessed_korean_lines_train = []\r\n",
        "preprocessed_english_lines_train = []\r\n",
        "\r\n",
        "for i in range(len(tokenized_korean_lines_train)):\r\n",
        "    korean_tokens = tokenized_korean_lines_train[i]\r\n",
        "    english_tokens = tokenized_english_lines_train[i]\r\n",
        "\r\n",
        "    is_used = True # 현재의 문장 쌍을 사용할지의 여부\r\n",
        "    for token in korean_tokens:\r\n",
        "        cnt = 0\r\n",
        "        if token not in korean_voca.word2idx:\r\n",
        "            cnt += 1\r\n",
        "        if cnt >= unknown_threshold:\r\n",
        "            is_used = False\r\n",
        "    for token in english_tokens:\r\n",
        "        cnt = 0\r\n",
        "        if token not in english_voca.word2idx:\r\n",
        "            cnt += 1\r\n",
        "        if cnt >= unknown_threshold:\r\n",
        "            is_used = False\r\n",
        "\r\n",
        "    if not is_used:\r\n",
        "        continue\r\n",
        "\r\n",
        "    preprocessed_korean_lines_train.append(korean_tokens)\r\n",
        "    preprocessed_english_lines_train.append(english_tokens)"
      ],
      "execution_count": 17,
      "outputs": []
    },
    {
      "cell_type": "code",
      "metadata": {
        "id": "f464n5Vc13Yh",
        "colab": {
          "base_uri": "https://localhost:8080/"
        },
        "outputId": "88f5e82c-c638-4374-d609-bf1dc4fb9e0b"
      },
      "source": [
        "print(\"사용할 한국어 학습 문장 수:\", len(preprocessed_korean_lines_train))\r\n",
        "print(\"사용할 영어 학습 문장 수:\", len(preprocessed_english_lines_train))"
      ],
      "execution_count": 18,
      "outputs": [
        {
          "output_type": "stream",
          "text": [
            "사용할 한국어 학습 문장 수: 61029\n",
            "사용할 영어 학습 문장 수: 61029\n"
          ],
          "name": "stdout"
        }
      ]
    },
    {
      "cell_type": "code",
      "metadata": {
        "id": "fFMRWy0414cW",
        "colab": {
          "base_uri": "https://localhost:8080/"
        },
        "outputId": "7066cd73-78cf-404e-98b7-4cb8d73fc26b"
      },
      "source": [
        "print(preprocessed_korean_lines_train[7777])\r\n",
        "print(preprocessed_english_lines_train[7777])"
      ],
      "execution_count": 19,
      "outputs": [
        {
          "output_type": "stream",
          "text": [
            "['cnn', '의', '여론조사', '국장', '인', '키팅', '홀랜드', '는', '“', '이라크전', '발발', '직후', '부시', '의', '지지도', '는', '71', '였다', '”', '며', '“', '지지율', '40', '추락', '은', '베트남전', '당시', '린', '든', '존슨', '대통령', '과', '유사하다', '”', '고', '지적', '했다']\n",
            "['bushs', 'approval', 'rating', 'five', 'years', 'ago', 'at', 'the', 'start', 'of', 'the', 'iraq', 'war', 'was', '71', 'percent', 'and', 'that', '40point', 'drop', 'is', 'almost', 'identical', 'to', 'the', 'drop', 'president', 'lyndon', 'johnson', 'faced', 'during', 'the', 'vietnam', 'war', 'said', 'cnn', 'polling', 'director', 'keating', 'holland']\n"
          ],
          "name": "stdout"
        }
      ]
    },
    {
      "cell_type": "markdown",
      "metadata": {
        "id": "9F3KDxjb16Dl"
      },
      "source": [
        "#### <b>커스텀 데이터셋 클래스 작성하기</b>\r\n",
        "\r\n",
        "* 소스 문장(영어)과 타겟 문장(한국어)를 한 쌍으로 반환하는 데이터셋 클래스를 정의합니다."
      ]
    },
    {
      "cell_type": "code",
      "metadata": {
        "id": "k5NDY__817v7"
      },
      "source": [
        "import copy\r\n",
        "from torch.utils.data import Dataset\r\n",
        "\r\n",
        "\r\n",
        "class CustomDataset(Dataset):\r\n",
        "    def __init__(self, korean_lines, english_lines, max_seq_len):\r\n",
        "        self.korean_lines = korean_lines\r\n",
        "        self.english_lines = english_lines\r\n",
        "        self.max_seq_len = max_seq_len\r\n",
        "\r\n",
        "    def __getitem__(self, index):\r\n",
        "        encoder_input = self.get_encoder_input(self.english_lines[index])\r\n",
        "        decoder_input = self.get_decoder_input(self.korean_lines[index])\r\n",
        "\r\n",
        "        return encoder_input, decoder_input\r\n",
        "\r\n",
        "    def __len__(self):\r\n",
        "        return len(self.korean_lines)\r\n",
        "\r\n",
        "    # 영어 문장 벡터화\r\n",
        "    def get_encoder_input(self, tokens):\r\n",
        "        tokens = copy.deepcopy(tokens)\r\n",
        "        tokens.insert(0, english_voca.SOS)\r\n",
        "        tokens.append(english_voca.EOS)\r\n",
        "        tokens = self.padding(tokens, english_voca) # 문장 뒤쪽에 패딩 붙이기\r\n",
        "        index_list = self.word2idx(tokens, english_voca)\r\n",
        "\r\n",
        "        return torch.tensor(index_list).to(device)\r\n",
        "\r\n",
        "    # 한글 문장 벡터화\r\n",
        "    def get_decoder_input(self, tokens):\r\n",
        "        tokens = copy.deepcopy(tokens)\r\n",
        "        tokens.insert(0, korean_voca.SOS)\r\n",
        "        tokens.append(korean_voca.EOS)\r\n",
        "        tokens = self.padding(tokens, korean_voca) # 문장 뒤쪽에 패딩 붙이기\r\n",
        "        index_list = self.word2idx(tokens, korean_voca)\r\n",
        "\r\n",
        "        return torch.tensor(index_list).to(device)\r\n",
        "\r\n",
        "    # max_seq_len보다 길이가 짧은 문장에 대해 <pad> 토큰 채우기\r\n",
        "    def padding(self, tokens, voca):\r\n",
        "        if len(tokens) < self.max_seq_len:\r\n",
        "            tokens += [voca.PAD] * (self.max_seq_len - len(tokens))\r\n",
        "        else:\r\n",
        "            tokens = tokens[:self.max_seq_len]\r\n",
        "        return tokens\r\n",
        "\r\n",
        "    def word2idx(self, tokens, voca):\r\n",
        "        idx_list = []\r\n",
        "        for token in tokens:\r\n",
        "            try:\r\n",
        "                idx_list.append(voca.word2idx[token])\r\n",
        "            except KeyError:\r\n",
        "                idx_list.append(voca.word2idx[voca.UNK])\r\n",
        "        return idx_list"
      ],
      "execution_count": 20,
      "outputs": []
    },
    {
      "cell_type": "markdown",
      "metadata": {
        "id": "dMU4sINJ19cY"
      },
      "source": [
        "* 학습/평가/테스트 데이터셋 객체를 초기화합니다."
      ]
    },
    {
      "cell_type": "code",
      "metadata": {
        "id": "1HWmJ6741-7T"
      },
      "source": [
        "import torch\r\n",
        "from torch.utils.data import DataLoader\r\n",
        "\r\n",
        "device = torch.device('cuda:0' if torch.cuda.is_available() else 'cpu')\r\n",
        "\r\n",
        "train_dataset = CustomDataset(preprocessed_korean_lines_train, preprocessed_english_lines_train, max_seq_len=80)\r\n",
        "train_loader = DataLoader(train_dataset, shuffle=True, batch_size=128, num_workers=0)\r\n",
        "\r\n",
        "val_dataset = CustomDataset(tokenized_korean_lines_val, tokenized_english_lines_val, max_seq_len=80)\r\n",
        "val_loader = DataLoader(val_dataset, shuffle=False, batch_size=128, num_workers=0)\r\n",
        "\r\n",
        "test_dataset = CustomDataset(tokenized_korean_lines_test, tokenized_english_lines_test, max_seq_len=80)\r\n",
        "test_loader = DataLoader(test_dataset, shuffle=False, batch_size=128, num_workers=0)"
      ],
      "execution_count": 21,
      "outputs": []
    },
    {
      "cell_type": "code",
      "metadata": {
        "id": "w7ImIdmp2M9a",
        "colab": {
          "base_uri": "https://localhost:8080/"
        },
        "outputId": "39ac787e-a4eb-4318-a140-ded7d5a749dd"
      },
      "source": [
        "# 하나의 배치에 포함되어 있는 문장을 출력합니다.\r\n",
        "for i, batch in enumerate(train_loader):\r\n",
        "    src = batch[0]\r\n",
        "    trg = batch[1]\r\n",
        "\r\n",
        "    print(f\"첫 번째 배치 크기: {src.shape}\")\r\n",
        "\r\n",
        "    # 현재 배치에 있는 하나의 문장에 포함된 정보 출력\r\n",
        "    for i in range(src.shape[1]):\r\n",
        "        print(f\"인덱스 {i}: {src[0][i].item()}\") # 여기에서는 [Seq_num, Seq_len]\r\n",
        "\r\n",
        "    # 첫 번째 배치만 확인\r\n",
        "    break"
      ],
      "execution_count": 22,
      "outputs": [
        {
          "output_type": "stream",
          "text": [
            "첫 번째 배치 크기: torch.Size([128, 80])\n",
            "인덱스 0: 2\n",
            "인덱스 1: 22990\n",
            "인덱스 2: 22266\n",
            "인덱스 3: 19676\n",
            "인덱스 4: 122\n",
            "인덱스 5: 32693\n",
            "인덱스 6: 2803\n",
            "인덱스 7: 15120\n",
            "인덱스 8: 30860\n",
            "인덱스 9: 31925\n",
            "인덱스 10: 7335\n",
            "인덱스 11: 20832\n",
            "인덱스 12: 17536\n",
            "인덱스 13: 2803\n",
            "인덱스 14: 251\n",
            "인덱스 15: 34037\n",
            "인덱스 16: 9263\n",
            "인덱스 17: 10891\n",
            "인덱스 18: 34846\n",
            "인덱스 19: 2600\n",
            "인덱스 20: 19043\n",
            "인덱스 21: 12521\n",
            "인덱스 22: 30630\n",
            "인덱스 23: 14712\n",
            "인덱스 24: 8952\n",
            "인덱스 25: 34562\n",
            "인덱스 26: 34846\n",
            "인덱스 27: 4417\n",
            "인덱스 28: 2803\n",
            "인덱스 29: 24884\n",
            "인덱스 30: 25044\n",
            "인덱스 31: 19352\n",
            "인덱스 32: 21689\n",
            "인덱스 33: 1393\n",
            "인덱스 34: 32002\n",
            "인덱스 35: 30223\n",
            "인덱스 36: 28536\n",
            "인덱스 37: 32552\n",
            "인덱스 38: 12799\n",
            "인덱스 39: 11113\n",
            "인덱스 40: 30630\n",
            "인덱스 41: 1588\n",
            "인덱스 42: 19676\n",
            "인덱스 43: 11734\n",
            "인덱스 44: 2803\n",
            "인덱스 45: 22035\n",
            "인덱스 46: 4275\n",
            "인덱스 47: 21964\n",
            "인덱스 48: 3\n",
            "인덱스 49: 1\n",
            "인덱스 50: 1\n",
            "인덱스 51: 1\n",
            "인덱스 52: 1\n",
            "인덱스 53: 1\n",
            "인덱스 54: 1\n",
            "인덱스 55: 1\n",
            "인덱스 56: 1\n",
            "인덱스 57: 1\n",
            "인덱스 58: 1\n",
            "인덱스 59: 1\n",
            "인덱스 60: 1\n",
            "인덱스 61: 1\n",
            "인덱스 62: 1\n",
            "인덱스 63: 1\n",
            "인덱스 64: 1\n",
            "인덱스 65: 1\n",
            "인덱스 66: 1\n",
            "인덱스 67: 1\n",
            "인덱스 68: 1\n",
            "인덱스 69: 1\n",
            "인덱스 70: 1\n",
            "인덱스 71: 1\n",
            "인덱스 72: 1\n",
            "인덱스 73: 1\n",
            "인덱스 74: 1\n",
            "인덱스 75: 1\n",
            "인덱스 76: 1\n",
            "인덱스 77: 1\n",
            "인덱스 78: 1\n",
            "인덱스 79: 1\n"
          ],
          "name": "stdout"
        }
      ]
    },
    {
      "cell_type": "markdown",
      "metadata": {
        "id": "wDqhUroM2Sjg"
      },
      "source": [
        "#### **Multi Head Attention 아키텍처**\r\n",
        "\r\n",
        "* 어텐션(attention)은 <b>세 가지 요소</b>를 입력으로 받습니다.\r\n",
        "    * <b>쿼리(queries)</b>\r\n",
        "    * <b>키(keys)</b>\r\n",
        "    * <b>값(values)</b>\r\n",
        "    * 현재 구현에서는 Query, Key, Value의 차원이 모두 같습니다.\r\n",
        "* 하이퍼 파라미터(hyperparameter)\r\n",
        "    * **hidden_dim**: 하나의 단어에 대한 임베딩 차원\r\n",
        "    * **n_heads**: 헤드(head)의 개수 = scaled dot-product attention의 개수\r\n",
        "    * **dropout_ratio**: 드롭아웃(dropout) 비율"
      ]
    },
    {
      "cell_type": "code",
      "metadata": {
        "id": "KmGEMrqPrjmF"
      },
      "source": [
        "import torch.nn as nn\r\n",
        "\r\n",
        "class MultiHeadAttentionLayer(nn.Module):\r\n",
        "    def __init__(self, hidden_dim, n_heads, dropout_ratio, device):\r\n",
        "        super().__init__()\r\n",
        "\r\n",
        "        assert hidden_dim % n_heads == 0\r\n",
        "\r\n",
        "        self.hidden_dim = hidden_dim # 임베딩 차원\r\n",
        "        self.n_heads = n_heads # 헤드(head)의 개수: 서로 다른 어텐션(attention) 컨셉의 수\r\n",
        "        self.head_dim = hidden_dim // n_heads # 각 헤드(head)에서의 임베딩 차원\r\n",
        "\r\n",
        "        self.fc_q = nn.Linear(hidden_dim, hidden_dim) # Query 값에 적용될 FC 레이어\r\n",
        "        self.fc_k = nn.Linear(hidden_dim, hidden_dim) # Key 값에 적용될 FC 레이어\r\n",
        "        self.fc_v = nn.Linear(hidden_dim, hidden_dim) # Value 값에 적용될 FC 레이어\r\n",
        "\r\n",
        "        self.fc_o = nn.Linear(hidden_dim, hidden_dim)\r\n",
        "\r\n",
        "        self.dropout = nn.Dropout(dropout_ratio)\r\n",
        "\r\n",
        "        self.scale = torch.sqrt(torch.FloatTensor([self.head_dim])).to(device)\r\n",
        "\r\n",
        "    def forward(self, query, key, value, mask = None):\r\n",
        "\r\n",
        "        batch_size = query.shape[0]\r\n",
        "\r\n",
        "        # query: [batch_size, query_len, hidden_dim]\r\n",
        "        # key: [batch_size, key_len, hidden_dim]\r\n",
        "        # value: [batch_size, value_len, hidden_dim]\r\n",
        " \r\n",
        "        Q = self.fc_q(query)\r\n",
        "        K = self.fc_k(key)\r\n",
        "        V = self.fc_v(value)\r\n",
        "\r\n",
        "        # Q: [batch_size, query_len, hidden_dim]\r\n",
        "        # K: [batch_size, key_len, hidden_dim]\r\n",
        "        # V: [batch_size, value_len, hidden_dim]\r\n",
        "\r\n",
        "        # hidden_dim → n_heads X head_dim 형태로 변형\r\n",
        "        # n_heads(h)개의 서로 다른 어텐션(attention) 컨셉을 학습하도록 유도\r\n",
        "        Q = Q.view(batch_size, -1, self.n_heads, self.head_dim).permute(0, 2, 1, 3)\r\n",
        "        K = K.view(batch_size, -1, self.n_heads, self.head_dim).permute(0, 2, 1, 3)\r\n",
        "        V = V.view(batch_size, -1, self.n_heads, self.head_dim).permute(0, 2, 1, 3)\r\n",
        "\r\n",
        "        # Q: [batch_size, n_heads, query_len, head_dim]\r\n",
        "        # K: [batch_size, n_heads, key_len, head_dim]\r\n",
        "        # V: [batch_size, n_heads, value_len, head_dim]\r\n",
        "\r\n",
        "        # Attention Energy 계산\r\n",
        "        energy = torch.matmul(Q, K.permute(0, 1, 3, 2)) / self.scale\r\n",
        "\r\n",
        "        # energy: [batch_size, n_heads, query_len, key_len]\r\n",
        "\r\n",
        "        # 마스크(mask)를 사용하는 경우\r\n",
        "        if mask is not None:\r\n",
        "            # 마스크(mask) 값이 0인 부분을 -1e10으로 채우기\r\n",
        "            energy = energy.masked_fill(mask==0, -1e10)\r\n",
        "\r\n",
        "        # 어텐션(attention) 스코어 계산: 각 단어에 대한 확률 값\r\n",
        "        attention = torch.softmax(energy, dim=-1)\r\n",
        "\r\n",
        "        # attention: [batch_size, n_heads, query_len, key_len]\r\n",
        "\r\n",
        "        # 여기에서 Scaled Dot-Product Attention을 계산\r\n",
        "        x = torch.matmul(self.dropout(attention), V)\r\n",
        "\r\n",
        "        # x: [batch_size, n_heads, query_len, head_dim]\r\n",
        "\r\n",
        "        x = x.permute(0, 2, 1, 3).contiguous()\r\n",
        "\r\n",
        "        # x: [batch_size, query_len, n_heads, head_dim]\r\n",
        "\r\n",
        "        x = x.view(batch_size, -1, self.hidden_dim)\r\n",
        "\r\n",
        "        # x: [batch_size, query_len, hidden_dim]\r\n",
        "\r\n",
        "        x = self.fc_o(x)\r\n",
        "\r\n",
        "        # x: [batch_size, query_len, hidden_dim]\r\n",
        "\r\n",
        "        return x, attention"
      ],
      "execution_count": 23,
      "outputs": []
    },
    {
      "cell_type": "markdown",
      "metadata": {
        "id": "aay5ZCbZ2Ucj"
      },
      "source": [
        "#### **Position-wise Feedforward 아키텍처**\r\n",
        "\r\n",
        "* 입력과 출력의 차원이 동일합니다.\r\n",
        "* 하이퍼 파라미터(hyperparameter)\r\n",
        "    * **hidden_dim**: 하나의 단어에 대한 임베딩 차원\r\n",
        "    * **pf_dim**: Feedforward 레이어에서의 내부 임베딩 차원\r\n",
        "    * **dropout_ratio**: 드롭아웃(dropout) 비율"
      ]
    },
    {
      "cell_type": "code",
      "metadata": {
        "id": "xeYe6dSHscdC"
      },
      "source": [
        "class PositionwiseFeedforwardLayer(nn.Module):\r\n",
        "    def __init__(self, hidden_dim, pf_dim, dropout_ratio):\r\n",
        "        super().__init__()\r\n",
        "\r\n",
        "        self.fc_1 = nn.Linear(hidden_dim, pf_dim)\r\n",
        "        self.fc_2 = nn.Linear(pf_dim, hidden_dim)\r\n",
        "\r\n",
        "        self.dropout = nn.Dropout(dropout_ratio)\r\n",
        "\r\n",
        "    def forward(self, x):\r\n",
        "\r\n",
        "        # x: [batch_size, seq_len, hidden_dim]\r\n",
        "\r\n",
        "        x = self.dropout(torch.relu(self.fc_1(x)))\r\n",
        "\r\n",
        "        # x: [batch_size, seq_len, pf_dim]\r\n",
        "\r\n",
        "        x = self.fc_2(x)\r\n",
        "\r\n",
        "        # x: [batch_size, seq_len, hidden_dim]\r\n",
        "\r\n",
        "        return x"
      ],
      "execution_count": 24,
      "outputs": []
    },
    {
      "cell_type": "markdown",
      "metadata": {
        "id": "_scf5LMA2V-G"
      },
      "source": [
        "#### **인코더(Encoder) 레이어 아키텍처**\r\n",
        "\r\n",
        "* 하나의 인코더 레이어에 대해 정의합니다.\r\n",
        "    * 입력과 출력의 차원이 같습니다.\r\n",
        "    * 이러한 특징을 이용해 트랜스포머의 인코더는 인코더 레이어를 여러 번 중첩해 사용합니다.\r\n",
        "* 하이퍼 파라미터(hyperparameter)\r\n",
        "    * **hidden_dim**: 하나의 단어에 대한 임베딩 차원\r\n",
        "    * **n_heads**: 헤드(head)의 개수 = scaled dot-product attention의 개수\r\n",
        "    * **pf_dim**: Feedforward 레이어에서의 내부 임베딩 차원\r\n",
        "    * **dropout_ratio**: 드롭아웃(dropout) 비율\r\n",
        "* &lt;pad&gt; 토큰에 대하여 마스크(mask) 값을 0으로 설정합니다."
      ]
    },
    {
      "cell_type": "code",
      "metadata": {
        "id": "FmOnPkAfsk5X"
      },
      "source": [
        "class EncoderLayer(nn.Module):\r\n",
        "    def __init__(self, hidden_dim, n_heads, pf_dim, dropout_ratio, device):\r\n",
        "        super().__init__()\r\n",
        "\r\n",
        "        self.self_attn_layer_norm = nn.LayerNorm(hidden_dim)\r\n",
        "        self.ff_layer_norm = nn.LayerNorm(hidden_dim)\r\n",
        "        self.self_attention = MultiHeadAttentionLayer(hidden_dim, n_heads, dropout_ratio, device)\r\n",
        "        self.positionwise_feedforward = PositionwiseFeedforwardLayer(hidden_dim, pf_dim, dropout_ratio)\r\n",
        "        self.dropout = nn.Dropout(dropout_ratio)\r\n",
        "\r\n",
        "    # 하나의 임베딩이 복제되어 Query, Key, Value로 입력되는 방식\r\n",
        "    def forward(self, src, src_mask):\r\n",
        "\r\n",
        "        # src: [batch_size, src_len, hidden_dim]\r\n",
        "        # src_mask: [batch_size, src_len]\r\n",
        "\r\n",
        "        # self attention\r\n",
        "        # 필요한 경우 마스크(mask) 행렬을 이용하여 어텐션(attention)할 단어를 조절 가능\r\n",
        "        _src, _ = self.self_attention(src, src, src, src_mask)\r\n",
        "\r\n",
        "        # dropout, residual connection and layer norm\r\n",
        "        src = self.self_attn_layer_norm(src + self.dropout(_src))\r\n",
        "\r\n",
        "        # src: [batch_size, src_len, hidden_dim]\r\n",
        "\r\n",
        "        # position-wise feedforward\r\n",
        "        _src = self.positionwise_feedforward(src)\r\n",
        "\r\n",
        "        # dropout, residual and layer norm\r\n",
        "        src = self.ff_layer_norm(src + self.dropout(_src))\r\n",
        "\r\n",
        "        # src: [batch_size, src_len, hidden_dim]\r\n",
        "\r\n",
        "        return src"
      ],
      "execution_count": 25,
      "outputs": []
    },
    {
      "cell_type": "markdown",
      "metadata": {
        "id": "W2qbY3qW2XvU"
      },
      "source": [
        "#### **인코더(Encoder) 아키텍처**\r\n",
        "\r\n",
        "* 전체 인코더 아키텍처를 정의합니다.\r\n",
        "* 하이퍼 파라미터(hyperparameter)\r\n",
        "    * **input_dim**: 하나의 단어에 대한 원 핫 인코딩 차원\r\n",
        "    * **hidden_dim**: 하나의 단어에 대한 임베딩 차원\r\n",
        "    * **n_layers**: 내부적으로 사용할 인코더 레이어의 개수\r\n",
        "    * **n_heads**: 헤드(head)의 개수 = scaled dot-product attention의 개수\r\n",
        "    * **pf_dim**: Feedforward 레이어에서의 내부 임베딩 차원\r\n",
        "    * **dropout_ratio**: 드롭아웃(dropout) 비율\r\n",
        "    * **max_length**: 문장 내 최대 단어 개수\r\n",
        "* 원본 논문과는 다르게 <b>위치 임베딩(positional embedding)을 학습</b>하는 형태로 구현합니다.\r\n",
        "    * BERT와 같은 모던 트랜스포머 아키텍처에서 사용되는 방식입니다.\r\n",
        "* &lt;pad&gt; 토큰에 대하여 마스크(mask) 값을 0으로 설정합니다."
      ]
    },
    {
      "cell_type": "code",
      "metadata": {
        "id": "-4MZsJFIv_eq"
      },
      "source": [
        "class Encoder(nn.Module):\r\n",
        "    def __init__(self, input_dim, hidden_dim, n_layers, n_heads, pf_dim, dropout_ratio, device, max_length=100):\r\n",
        "        super().__init__()\r\n",
        "\r\n",
        "        self.device = device\r\n",
        "\r\n",
        "        self.tok_embedding = nn.Embedding(input_dim, hidden_dim)\r\n",
        "        self.pos_embedding = nn.Embedding(max_length, hidden_dim)\r\n",
        "\r\n",
        "        self.layers = nn.ModuleList([EncoderLayer(hidden_dim, n_heads, pf_dim, dropout_ratio, device) for _ in range(n_layers)])\r\n",
        "\r\n",
        "        self.dropout = nn.Dropout(dropout_ratio)\r\n",
        "\r\n",
        "        self.scale = torch.sqrt(torch.FloatTensor([hidden_dim])).to(device)\r\n",
        "\r\n",
        "    def forward(self, src, src_mask):\r\n",
        "\r\n",
        "        # src: [batch_size, src_len]\r\n",
        "        # src_mask: [batch_size, src_len]\r\n",
        "\r\n",
        "        batch_size = src.shape[0]\r\n",
        "        src_len = src.shape[1]\r\n",
        "\r\n",
        "        pos = torch.arange(0, src_len).unsqueeze(0).repeat(batch_size, 1).to(self.device)\r\n",
        "\r\n",
        "        # pos: [batch_size, src_len]\r\n",
        "\r\n",
        "        # 소스 문장의 임베딩과 위치 임베딩을 더한 것을 사용\r\n",
        "        src = self.dropout((self.tok_embedding(src) * self.scale) + self.pos_embedding(pos))\r\n",
        "\r\n",
        "        # src: [batch_size, src_len, hidden_dim]\r\n",
        "\r\n",
        "        # 모든 인코더 레이어를 차례대로 거치면서 순전파(forward) 수행\r\n",
        "        for layer in self.layers:\r\n",
        "            src = layer(src, src_mask)\r\n",
        "\r\n",
        "        # src: [batch_size, src_len, hidden_dim]\r\n",
        "\r\n",
        "        return src # 마지막 레이어의 출력을 반환"
      ],
      "execution_count": 26,
      "outputs": []
    },
    {
      "cell_type": "markdown",
      "metadata": {
        "id": "RmiT7ABq2Zjp"
      },
      "source": [
        "#### **디코더(Decoder) 레이어 아키텍처**\r\n",
        "\r\n",
        "* 하나의 디코더 레이어에 대해 정의합니다.\r\n",
        "    * 입력과 출력의 차원이 같습니다.\r\n",
        "    * 이러한 특징을 이용해 트랜스포머의 디코더는 디코더 레이어를 여러 번 중첩해 사용합니다.\r\n",
        "    * 디코더 레이어에서는 두 개의 Multi-Head Attention 레이어가 사용됩니다.\r\n",
        "* 하이퍼 파라미터(hyperparameter)\r\n",
        "    * **hidden_dim**: 하나의 단어에 대한 임베딩 차원\r\n",
        "    * **n_heads**: 헤드(head)의 개수 = scaled dot-product attention의 개수\r\n",
        "    * **pf_dim**: Feedforward 레이어에서의 내부 임베딩 차원\r\n",
        "    * **dropout_ratio**: 드롭아웃(dropout) 비율\r\n",
        "* 소스 문장의 &lt;pad&gt; 토큰에 대하여 마스크(mask) 값을 0으로 설정합니다.\r\n",
        "* 타겟 문장에서 각 단어는 다음 단어가 무엇인지 알 수 없도록(이전 단어만 보도록) 만들기 위해 마스크를 사용합니다."
      ]
    },
    {
      "cell_type": "code",
      "metadata": {
        "id": "y-sq3hiwwBLu"
      },
      "source": [
        "class DecoderLayer(nn.Module):\r\n",
        "    def __init__(self, hidden_dim, n_heads, pf_dim, dropout_ratio, device):\r\n",
        "        super().__init__()\r\n",
        "\r\n",
        "        self.self_attn_layer_norm = nn.LayerNorm(hidden_dim)\r\n",
        "        self.enc_attn_layer_norm = nn.LayerNorm(hidden_dim)\r\n",
        "        self.ff_layer_norm = nn.LayerNorm(hidden_dim)\r\n",
        "        self.self_attention = MultiHeadAttentionLayer(hidden_dim, n_heads, dropout_ratio, device)\r\n",
        "        self.encoder_attention = MultiHeadAttentionLayer(hidden_dim, n_heads, dropout_ratio, device)\r\n",
        "        self.positionwise_feedforward = PositionwiseFeedforwardLayer(hidden_dim, pf_dim, dropout_ratio)\r\n",
        "        self.dropout = nn.Dropout(dropout_ratio)\r\n",
        "\r\n",
        "    # 인코더의 출력 값(enc_src)을 어텐션(attention)하는 구조\r\n",
        "    def forward(self, trg, enc_src, trg_mask, src_mask):\r\n",
        "\r\n",
        "        # trg: [batch_size, trg_len, hidden_dim]\r\n",
        "        # enc_src: [batch_size, src_len, hidden_dim]\r\n",
        "        # trg_mask: [batch_size, trg_len]\r\n",
        "        # src_mask: [batch_size, src_len]\r\n",
        "\r\n",
        "        # self attention\r\n",
        "        # 자기 자신에 대하여 어텐션(attention)\r\n",
        "        _trg, _ = self.self_attention(trg, trg, trg, trg_mask)\r\n",
        "\r\n",
        "        # dropout, residual connection and layer norm\r\n",
        "        trg = self.self_attn_layer_norm(trg + self.dropout(_trg))\r\n",
        "\r\n",
        "        # trg: [batch_size, trg_len, hidden_dim]\r\n",
        "\r\n",
        "        # encoder attention\r\n",
        "        # 디코더의 쿼리(Query)를 이용해 인코더를 어텐션(attention)\r\n",
        "        _trg, attention = self.encoder_attention(trg, enc_src, enc_src, src_mask)\r\n",
        "\r\n",
        "        # dropout, residual connection and layer norm\r\n",
        "        trg = self.enc_attn_layer_norm(trg + self.dropout(_trg))\r\n",
        "\r\n",
        "        # trg: [batch_size, trg_len, hidden_dim]\r\n",
        "\r\n",
        "        # positionwise feedforward\r\n",
        "        _trg = self.positionwise_feedforward(trg)\r\n",
        "\r\n",
        "        # dropout, residual and layer norm\r\n",
        "        trg = self.ff_layer_norm(trg + self.dropout(_trg))\r\n",
        "\r\n",
        "        # trg: [batch_size, trg_len, hidden_dim]\r\n",
        "        # attention: [batch_size, n_heads, trg_len, src_len]\r\n",
        "\r\n",
        "        return trg, attention"
      ],
      "execution_count": 27,
      "outputs": []
    },
    {
      "cell_type": "markdown",
      "metadata": {
        "id": "2PeSq_C52bVM"
      },
      "source": [
        "#### **디코더(Decoder) 아키텍처**\r\n",
        "\r\n",
        "* 전체 디코더 아키텍처를 정의합니다.\r\n",
        "* 하이퍼 파라미터(hyperparameter)\r\n",
        "    * **output_dim**: 하나의 단어에 대한 원 핫 인코딩 차원\r\n",
        "    * **hidden_dim**: 하나의 단어에 대한 임베딩 차원\r\n",
        "    * **n_layers**: 내부적으로 사용할 인코더 레이어의 개수\r\n",
        "    * **n_heads**: 헤드(head)의 개수 = scaled dot-product attention의 개수\r\n",
        "    * **pf_dim**: Feedforward 레이어에서의 내부 임베딩 차원\r\n",
        "    * **dropout_ratio**: 드롭아웃(dropout) 비율\r\n",
        "    * **max_length**: 문장 내 최대 단어 개수\r\n",
        "* 원본 논문과는 다르게 <b>위치 임베딩(positional embedding)을 학습</b>하는 형태로 구현합니다.\r\n",
        "    * BERT와 같은 모던 트랜스포머 아키텍처에서 사용되는 방식입니다.\r\n",
        "* Seq2Seq과는 마찬가지로 실제로 추론(inference) 시기에서는 디코더를 반복적으로 넣을 필요가 있습니다.\r\n",
        "    * 학습(training) 시기에서는 한 번에 출력 문장을 구해 학습할 수 있습니다.\r\n",
        "* 소스 문장의 &lt;pad&gt; 토큰에 대하여 마스크(mask) 값을 0으로 설정합니다.\r\n",
        "* 타겟 문장에서 각 단어는 다음 단어가 무엇인지 알 수 없도록(이전 단어만 보도록) 만들기 위해 마스크를 사용합니다."
      ]
    },
    {
      "cell_type": "code",
      "metadata": {
        "id": "LTDbyGniwWS8"
      },
      "source": [
        "class Decoder(nn.Module):\r\n",
        "    def __init__(self, output_dim, hidden_dim, n_layers, n_heads, pf_dim, dropout_ratio, device, max_length=100):\r\n",
        "        super().__init__()\r\n",
        "\r\n",
        "        self.device = device\r\n",
        "\r\n",
        "        self.tok_embedding = nn.Embedding(output_dim, hidden_dim)\r\n",
        "        self.pos_embedding = nn.Embedding(max_length, hidden_dim)\r\n",
        "\r\n",
        "        self.layers = nn.ModuleList([DecoderLayer(hidden_dim, n_heads, pf_dim, dropout_ratio, device) for _ in range(n_layers)])\r\n",
        "\r\n",
        "        self.fc_out = nn.Linear(hidden_dim, output_dim)\r\n",
        "\r\n",
        "        self.dropout = nn.Dropout(dropout_ratio)\r\n",
        "\r\n",
        "        self.scale = torch.sqrt(torch.FloatTensor([hidden_dim])).to(device)\r\n",
        "\r\n",
        "    def forward(self, trg, enc_src, trg_mask, src_mask):\r\n",
        "\r\n",
        "        # trg: [batch_size, trg_len]\r\n",
        "        # enc_src: [batch_size, src_len, hidden_dim]\r\n",
        "        # trg_mask: [batch_size, trg_len]\r\n",
        "        # src_mask: [batch_size, src_len]\r\n",
        "\r\n",
        "        batch_size = trg.shape[0]\r\n",
        "        trg_len = trg.shape[1]\r\n",
        "\r\n",
        "        pos = torch.arange(0, trg_len).unsqueeze(0).repeat(batch_size, 1).to(self.device)\r\n",
        "\r\n",
        "        # pos: [batch_size, trg_len]\r\n",
        "\r\n",
        "        trg = self.dropout((self.tok_embedding(trg) * self.scale) + self.pos_embedding(pos))\r\n",
        "\r\n",
        "        # trg: [batch_size, trg_len, hidden_dim]\r\n",
        "\r\n",
        "        for layer in self.layers:\r\n",
        "            # 소스 마스크와 타겟 마스크 모두 사용\r\n",
        "            trg, attention = layer(trg, enc_src, trg_mask, src_mask)\r\n",
        "\r\n",
        "        # trg: [batch_size, trg_len, hidden_dim]\r\n",
        "        # attention: [batch_size, n_heads, trg_len, src_len]\r\n",
        "\r\n",
        "        output = self.fc_out(trg)\r\n",
        "\r\n",
        "        # output: [batch_size, trg_len, output_dim]\r\n",
        "\r\n",
        "        return output, attention"
      ],
      "execution_count": 28,
      "outputs": []
    },
    {
      "cell_type": "markdown",
      "metadata": {
        "id": "eDgyqMxL2dG-"
      },
      "source": [
        "#### **트랜스포머(Transformer) 아키텍처**\r\n",
        "\r\n",
        "* 최종적인 전체 트랜스포머(Transformer) 모델을 정의합니다.\r\n",
        "* 입력이 들어왔을 때 앞서 정의한 인코더와 디코더를 거쳐 출력 문장을 생성합니다."
      ]
    },
    {
      "cell_type": "code",
      "metadata": {
        "id": "CvQcvQB1wY7c"
      },
      "source": [
        "class Transformer(nn.Module):\r\n",
        "    def __init__(self, encoder, decoder, src_pad_idx, trg_pad_idx, device):\r\n",
        "        super().__init__()\r\n",
        "\r\n",
        "        self.encoder = encoder\r\n",
        "        self.decoder = decoder\r\n",
        "        self.src_pad_idx = src_pad_idx\r\n",
        "        self.trg_pad_idx = trg_pad_idx\r\n",
        "        self.device = device\r\n",
        "\r\n",
        "    # 소스 문장의 <pad> 토큰에 대하여 마스크(mask) 값을 0으로 설정\r\n",
        "    def make_src_mask(self, src):\r\n",
        "\r\n",
        "        # src: [batch_size, src_len]\r\n",
        "\r\n",
        "        src_mask = (src != self.src_pad_idx).unsqueeze(1).unsqueeze(2)\r\n",
        "\r\n",
        "        # src_mask: [batch_size, 1, 1, src_len]\r\n",
        "\r\n",
        "        return src_mask\r\n",
        "\r\n",
        "    # 타겟 문장에서 각 단어는 다음 단어가 무엇인지 알 수 없도록(이전 단어만 보도록) 만들기 위해 마스크를 사용\r\n",
        "    def make_trg_mask(self, trg):\r\n",
        "\r\n",
        "        # trg: [batch_size, trg_len]\r\n",
        "\r\n",
        "        \"\"\" (마스크 예시)\r\n",
        "        1 0 0 0 0\r\n",
        "        1 1 0 0 0\r\n",
        "        1 1 1 0 0\r\n",
        "        1 1 1 0 0\r\n",
        "        1 1 1 0 0\r\n",
        "        \"\"\"\r\n",
        "        trg_pad_mask = (trg != self.trg_pad_idx).unsqueeze(1).unsqueeze(2)\r\n",
        "\r\n",
        "        # trg_pad_mask: [batch_size, 1, 1, trg_len]\r\n",
        "\r\n",
        "        trg_len = trg.shape[1]\r\n",
        "\r\n",
        "        \"\"\" (마스크 예시)\r\n",
        "        1 0 0 0 0\r\n",
        "        1 1 0 0 0\r\n",
        "        1 1 1 0 0\r\n",
        "        1 1 1 1 0\r\n",
        "        1 1 1 1 1\r\n",
        "        \"\"\"\r\n",
        "        trg_sub_mask = torch.tril(torch.ones((trg_len, trg_len), device = self.device)).bool()\r\n",
        "\r\n",
        "        # trg_sub_mask: [trg_len, trg_len]\r\n",
        "\r\n",
        "        trg_mask = trg_pad_mask & trg_sub_mask\r\n",
        "\r\n",
        "        # trg_mask: [batch_size, 1, trg_len, trg_len]\r\n",
        "\r\n",
        "        return trg_mask\r\n",
        "\r\n",
        "    def forward(self, src, trg):\r\n",
        "\r\n",
        "        # src: [batch_size, src_len]\r\n",
        "        # trg: [batch_size, trg_len]\r\n",
        "\r\n",
        "        src_mask = self.make_src_mask(src)\r\n",
        "        trg_mask = self.make_trg_mask(trg)\r\n",
        "\r\n",
        "        # src_mask: [batch_size, 1, 1, src_len]\r\n",
        "        # trg_mask: [batch_size, 1, trg_len, trg_len]\r\n",
        "\r\n",
        "        enc_src = self.encoder(src, src_mask)\r\n",
        "\r\n",
        "        # enc_src: [batch_size, src_len, hidden_dim]\r\n",
        "\r\n",
        "        output, attention = self.decoder(trg, enc_src, trg_mask, src_mask)\r\n",
        "\r\n",
        "        # output: [batch_size, trg_len, output_dim]\r\n",
        "        # attention: [batch_size, n_heads, trg_len, src_len]\r\n",
        "\r\n",
        "        return output, attention"
      ],
      "execution_count": 29,
      "outputs": []
    },
    {
      "cell_type": "markdown",
      "metadata": {
        "id": "QOO0xj3k2e3Q"
      },
      "source": [
        "#### **학습(Training)**\r\n",
        "\r\n",
        "* 하이퍼 파라미터 설정 및 모델 초기화"
      ]
    },
    {
      "cell_type": "code",
      "metadata": {
        "id": "CBO-K10Iwbi8"
      },
      "source": [
        "INPUT_DIM = len(english_voca.word2idx)\r\n",
        "OUTPUT_DIM = len(korean_voca.word2idx)\r\n",
        "HIDDEN_DIM = 256\r\n",
        "ENC_LAYERS = 3\r\n",
        "DEC_LAYERS = 3\r\n",
        "ENC_HEADS = 8\r\n",
        "DEC_HEADS = 8\r\n",
        "ENC_PF_DIM = 512\r\n",
        "DEC_PF_DIM = 512\r\n",
        "ENC_DROPOUT = 0.1\r\n",
        "DEC_DROPOUT = 0.1"
      ],
      "execution_count": 30,
      "outputs": []
    },
    {
      "cell_type": "code",
      "metadata": {
        "id": "DC8zXUkywdpY"
      },
      "source": [
        "SRC_PAD_IDX = english_voca.word2idx[english_voca.PAD]\r\n",
        "TRG_PAD_IDX = korean_voca.word2idx[korean_voca.PAD]\r\n",
        "\r\n",
        "# 인코더(encoder)와 디코더(decoder) 객체 선언\r\n",
        "enc = Encoder(INPUT_DIM, HIDDEN_DIM, ENC_LAYERS, ENC_HEADS, ENC_PF_DIM, ENC_DROPOUT, device)\r\n",
        "dec = Decoder(OUTPUT_DIM, HIDDEN_DIM, DEC_LAYERS, DEC_HEADS, DEC_PF_DIM, DEC_DROPOUT, device)\r\n",
        "\r\n",
        "# Transformer 객체 선언\r\n",
        "model = Transformer(enc, dec, SRC_PAD_IDX, TRG_PAD_IDX, device).to(device)"
      ],
      "execution_count": 31,
      "outputs": []
    },
    {
      "cell_type": "markdown",
      "metadata": {
        "id": "oBzBtlz02ghc"
      },
      "source": [
        "* **모델 가중치 파라미터 초기화**"
      ]
    },
    {
      "cell_type": "code",
      "metadata": {
        "colab": {
          "base_uri": "https://localhost:8080/"
        },
        "id": "PJeB1JH8xTc3",
        "outputId": "746f25c6-74fe-4a9e-e623-f1dfbe8cd3a1"
      },
      "source": [
        "def count_parameters(model):\r\n",
        "    return sum(p.numel() for p in model.parameters() if p.requires_grad)\r\n",
        "\r\n",
        "print(f'The model has {count_parameters(model):,} trainable parameters')"
      ],
      "execution_count": 32,
      "outputs": [
        {
          "output_type": "stream",
          "text": [
            "The model has 33,989,540 trainable parameters\n"
          ],
          "name": "stdout"
        }
      ]
    },
    {
      "cell_type": "code",
      "metadata": {
        "colab": {
          "base_uri": "https://localhost:8080/"
        },
        "id": "nQ32QhgbxV0k",
        "outputId": "9692f2c0-0964-40f9-c8e9-fe8618e617ae"
      },
      "source": [
        "def initialize_weights(m):\r\n",
        "    if hasattr(m, 'weight') and m.weight.dim() > 1:\r\n",
        "        nn.init.xavier_uniform_(m.weight.data)\r\n",
        "\r\n",
        "model.apply(initialize_weights)"
      ],
      "execution_count": 33,
      "outputs": [
        {
          "output_type": "execute_result",
          "data": {
            "text/plain": [
              "Transformer(\n",
              "  (encoder): Encoder(\n",
              "    (tok_embedding): Embedding(35745, 256)\n",
              "    (pos_embedding): Embedding(100, 256)\n",
              "    (layers): ModuleList(\n",
              "      (0): EncoderLayer(\n",
              "        (self_attn_layer_norm): LayerNorm((256,), eps=1e-05, elementwise_affine=True)\n",
              "        (ff_layer_norm): LayerNorm((256,), eps=1e-05, elementwise_affine=True)\n",
              "        (self_attention): MultiHeadAttentionLayer(\n",
              "          (fc_q): Linear(in_features=256, out_features=256, bias=True)\n",
              "          (fc_k): Linear(in_features=256, out_features=256, bias=True)\n",
              "          (fc_v): Linear(in_features=256, out_features=256, bias=True)\n",
              "          (fc_o): Linear(in_features=256, out_features=256, bias=True)\n",
              "          (dropout): Dropout(p=0.1, inplace=False)\n",
              "        )\n",
              "        (positionwise_feedforward): PositionwiseFeedforwardLayer(\n",
              "          (fc_1): Linear(in_features=256, out_features=512, bias=True)\n",
              "          (fc_2): Linear(in_features=512, out_features=256, bias=True)\n",
              "          (dropout): Dropout(p=0.1, inplace=False)\n",
              "        )\n",
              "        (dropout): Dropout(p=0.1, inplace=False)\n",
              "      )\n",
              "      (1): EncoderLayer(\n",
              "        (self_attn_layer_norm): LayerNorm((256,), eps=1e-05, elementwise_affine=True)\n",
              "        (ff_layer_norm): LayerNorm((256,), eps=1e-05, elementwise_affine=True)\n",
              "        (self_attention): MultiHeadAttentionLayer(\n",
              "          (fc_q): Linear(in_features=256, out_features=256, bias=True)\n",
              "          (fc_k): Linear(in_features=256, out_features=256, bias=True)\n",
              "          (fc_v): Linear(in_features=256, out_features=256, bias=True)\n",
              "          (fc_o): Linear(in_features=256, out_features=256, bias=True)\n",
              "          (dropout): Dropout(p=0.1, inplace=False)\n",
              "        )\n",
              "        (positionwise_feedforward): PositionwiseFeedforwardLayer(\n",
              "          (fc_1): Linear(in_features=256, out_features=512, bias=True)\n",
              "          (fc_2): Linear(in_features=512, out_features=256, bias=True)\n",
              "          (dropout): Dropout(p=0.1, inplace=False)\n",
              "        )\n",
              "        (dropout): Dropout(p=0.1, inplace=False)\n",
              "      )\n",
              "      (2): EncoderLayer(\n",
              "        (self_attn_layer_norm): LayerNorm((256,), eps=1e-05, elementwise_affine=True)\n",
              "        (ff_layer_norm): LayerNorm((256,), eps=1e-05, elementwise_affine=True)\n",
              "        (self_attention): MultiHeadAttentionLayer(\n",
              "          (fc_q): Linear(in_features=256, out_features=256, bias=True)\n",
              "          (fc_k): Linear(in_features=256, out_features=256, bias=True)\n",
              "          (fc_v): Linear(in_features=256, out_features=256, bias=True)\n",
              "          (fc_o): Linear(in_features=256, out_features=256, bias=True)\n",
              "          (dropout): Dropout(p=0.1, inplace=False)\n",
              "        )\n",
              "        (positionwise_feedforward): PositionwiseFeedforwardLayer(\n",
              "          (fc_1): Linear(in_features=256, out_features=512, bias=True)\n",
              "          (fc_2): Linear(in_features=512, out_features=256, bias=True)\n",
              "          (dropout): Dropout(p=0.1, inplace=False)\n",
              "        )\n",
              "        (dropout): Dropout(p=0.1, inplace=False)\n",
              "      )\n",
              "    )\n",
              "    (dropout): Dropout(p=0.1, inplace=False)\n",
              "  )\n",
              "  (decoder): Decoder(\n",
              "    (tok_embedding): Embedding(40612, 256)\n",
              "    (pos_embedding): Embedding(100, 256)\n",
              "    (layers): ModuleList(\n",
              "      (0): DecoderLayer(\n",
              "        (self_attn_layer_norm): LayerNorm((256,), eps=1e-05, elementwise_affine=True)\n",
              "        (enc_attn_layer_norm): LayerNorm((256,), eps=1e-05, elementwise_affine=True)\n",
              "        (ff_layer_norm): LayerNorm((256,), eps=1e-05, elementwise_affine=True)\n",
              "        (self_attention): MultiHeadAttentionLayer(\n",
              "          (fc_q): Linear(in_features=256, out_features=256, bias=True)\n",
              "          (fc_k): Linear(in_features=256, out_features=256, bias=True)\n",
              "          (fc_v): Linear(in_features=256, out_features=256, bias=True)\n",
              "          (fc_o): Linear(in_features=256, out_features=256, bias=True)\n",
              "          (dropout): Dropout(p=0.1, inplace=False)\n",
              "        )\n",
              "        (encoder_attention): MultiHeadAttentionLayer(\n",
              "          (fc_q): Linear(in_features=256, out_features=256, bias=True)\n",
              "          (fc_k): Linear(in_features=256, out_features=256, bias=True)\n",
              "          (fc_v): Linear(in_features=256, out_features=256, bias=True)\n",
              "          (fc_o): Linear(in_features=256, out_features=256, bias=True)\n",
              "          (dropout): Dropout(p=0.1, inplace=False)\n",
              "        )\n",
              "        (positionwise_feedforward): PositionwiseFeedforwardLayer(\n",
              "          (fc_1): Linear(in_features=256, out_features=512, bias=True)\n",
              "          (fc_2): Linear(in_features=512, out_features=256, bias=True)\n",
              "          (dropout): Dropout(p=0.1, inplace=False)\n",
              "        )\n",
              "        (dropout): Dropout(p=0.1, inplace=False)\n",
              "      )\n",
              "      (1): DecoderLayer(\n",
              "        (self_attn_layer_norm): LayerNorm((256,), eps=1e-05, elementwise_affine=True)\n",
              "        (enc_attn_layer_norm): LayerNorm((256,), eps=1e-05, elementwise_affine=True)\n",
              "        (ff_layer_norm): LayerNorm((256,), eps=1e-05, elementwise_affine=True)\n",
              "        (self_attention): MultiHeadAttentionLayer(\n",
              "          (fc_q): Linear(in_features=256, out_features=256, bias=True)\n",
              "          (fc_k): Linear(in_features=256, out_features=256, bias=True)\n",
              "          (fc_v): Linear(in_features=256, out_features=256, bias=True)\n",
              "          (fc_o): Linear(in_features=256, out_features=256, bias=True)\n",
              "          (dropout): Dropout(p=0.1, inplace=False)\n",
              "        )\n",
              "        (encoder_attention): MultiHeadAttentionLayer(\n",
              "          (fc_q): Linear(in_features=256, out_features=256, bias=True)\n",
              "          (fc_k): Linear(in_features=256, out_features=256, bias=True)\n",
              "          (fc_v): Linear(in_features=256, out_features=256, bias=True)\n",
              "          (fc_o): Linear(in_features=256, out_features=256, bias=True)\n",
              "          (dropout): Dropout(p=0.1, inplace=False)\n",
              "        )\n",
              "        (positionwise_feedforward): PositionwiseFeedforwardLayer(\n",
              "          (fc_1): Linear(in_features=256, out_features=512, bias=True)\n",
              "          (fc_2): Linear(in_features=512, out_features=256, bias=True)\n",
              "          (dropout): Dropout(p=0.1, inplace=False)\n",
              "        )\n",
              "        (dropout): Dropout(p=0.1, inplace=False)\n",
              "      )\n",
              "      (2): DecoderLayer(\n",
              "        (self_attn_layer_norm): LayerNorm((256,), eps=1e-05, elementwise_affine=True)\n",
              "        (enc_attn_layer_norm): LayerNorm((256,), eps=1e-05, elementwise_affine=True)\n",
              "        (ff_layer_norm): LayerNorm((256,), eps=1e-05, elementwise_affine=True)\n",
              "        (self_attention): MultiHeadAttentionLayer(\n",
              "          (fc_q): Linear(in_features=256, out_features=256, bias=True)\n",
              "          (fc_k): Linear(in_features=256, out_features=256, bias=True)\n",
              "          (fc_v): Linear(in_features=256, out_features=256, bias=True)\n",
              "          (fc_o): Linear(in_features=256, out_features=256, bias=True)\n",
              "          (dropout): Dropout(p=0.1, inplace=False)\n",
              "        )\n",
              "        (encoder_attention): MultiHeadAttentionLayer(\n",
              "          (fc_q): Linear(in_features=256, out_features=256, bias=True)\n",
              "          (fc_k): Linear(in_features=256, out_features=256, bias=True)\n",
              "          (fc_v): Linear(in_features=256, out_features=256, bias=True)\n",
              "          (fc_o): Linear(in_features=256, out_features=256, bias=True)\n",
              "          (dropout): Dropout(p=0.1, inplace=False)\n",
              "        )\n",
              "        (positionwise_feedforward): PositionwiseFeedforwardLayer(\n",
              "          (fc_1): Linear(in_features=256, out_features=512, bias=True)\n",
              "          (fc_2): Linear(in_features=512, out_features=256, bias=True)\n",
              "          (dropout): Dropout(p=0.1, inplace=False)\n",
              "        )\n",
              "        (dropout): Dropout(p=0.1, inplace=False)\n",
              "      )\n",
              "    )\n",
              "    (fc_out): Linear(in_features=256, out_features=40612, bias=True)\n",
              "    (dropout): Dropout(p=0.1, inplace=False)\n",
              "  )\n",
              ")"
            ]
          },
          "metadata": {
            "tags": []
          },
          "execution_count": 33
        }
      ]
    },
    {
      "cell_type": "markdown",
      "metadata": {
        "id": "2GqrjAtw2pOM"
      },
      "source": [
        "* 학습 및 평가 함수 정의\r\n",
        "    * 기본적인 Seq2Seq 모델과 거의 유사하게 작성할 수 있습니다."
      ]
    },
    {
      "cell_type": "code",
      "metadata": {
        "id": "P23f11l_xXms"
      },
      "source": [
        "import torch.optim as optim\r\n",
        "\r\n",
        "# Adam optimizer로 학습 최적화\r\n",
        "LEARNING_RATE = 0.0005\r\n",
        "optimizer = torch.optim.Adam(model.parameters(), lr=LEARNING_RATE)\r\n",
        "\r\n",
        "# 뒷 부분의 패딩(padding)에 대해서는 값 무시\r\n",
        "criterion = nn.CrossEntropyLoss(ignore_index = TRG_PAD_IDX)"
      ],
      "execution_count": 34,
      "outputs": []
    },
    {
      "cell_type": "code",
      "metadata": {
        "id": "YM9yG7MhxaUA"
      },
      "source": [
        "# 모델 학습(train) 함수\r\n",
        "def train(model, iterator, optimizer, criterion, clip):\r\n",
        "    model.train() # 학습 모드\r\n",
        "    epoch_loss = 0\r\n",
        "\r\n",
        "    # 전체 학습 데이터를 확인하며\r\n",
        "    for i, batch in enumerate(iterator):\r\n",
        "        src = batch[0]\r\n",
        "        trg = batch[1]\r\n",
        "\r\n",
        "        optimizer.zero_grad()\r\n",
        "\r\n",
        "        # 출력 단어의 마지막 인덱스(<eos>)는 제외\r\n",
        "        # 입력을 할 때는 <sos>부터 시작하도록 처리\r\n",
        "        output, _ = model(src, trg[:,:-1]) # output에 마지막이 <eos>가 나오도록\r\n",
        "\r\n",
        "        # output: [배치 크기, trg_len - 1, output_dim]\r\n",
        "        # trg: [배치 크기, trg_len]\r\n",
        "\r\n",
        "        output_dim = output.shape[-1]\r\n",
        "\r\n",
        "        output = output.contiguous().view(-1, output_dim)\r\n",
        "        # 출력 단어의 인덱스 0(<sos>)은 제외\r\n",
        "        trg = trg[:,1:].contiguous().view(-1) # <eos>가 붙어 있는 상황\r\n",
        "\r\n",
        "        # output: [배치 크기 * trg_len - 1, output_dim]\r\n",
        "        # trg: [배치 크기 * trg len - 1]\r\n",
        "\r\n",
        "        # 모델의 출력 결과와 타겟 문장을 비교하여 손실 계산\r\n",
        "        loss = criterion(output, trg)\r\n",
        "        loss.backward() # 기울기(gradient) 계산\r\n",
        "\r\n",
        "        # 기울기(gradient) clipping 진행\r\n",
        "        torch.nn.utils.clip_grad_norm_(model.parameters(), clip)\r\n",
        "\r\n",
        "        # 파라미터 업데이트\r\n",
        "        optimizer.step()\r\n",
        "\r\n",
        "        # 전체 손실 값 계산\r\n",
        "        epoch_loss += loss.item()\r\n",
        "\r\n",
        "    return epoch_loss / len(iterator)"
      ],
      "execution_count": 35,
      "outputs": []
    },
    {
      "cell_type": "code",
      "metadata": {
        "id": "N3jmwDWJxb0B"
      },
      "source": [
        "# 모델 평가(evaluate) 함수\r\n",
        "def evaluate(model, iterator, criterion):\r\n",
        "    model.eval() # 평가 모드\r\n",
        "    epoch_loss = 0\r\n",
        "\r\n",
        "    with torch.no_grad():\r\n",
        "        # 전체 평가 데이터를 확인하며\r\n",
        "        for i, batch in enumerate(iterator):\r\n",
        "            src = batch[0]\r\n",
        "            trg = batch[1]\r\n",
        "\r\n",
        "            # 출력 단어의 마지막 인덱스(<eos>)는 제외\r\n",
        "            # 입력을 할 때는 <sos>부터 시작하도록 처리\r\n",
        "            output, _ = model(src, trg[:,:-1])\r\n",
        "\r\n",
        "            # output: [배치 크기, trg_len - 1, output_dim]\r\n",
        "            # trg: [배치 크기, trg_len]\r\n",
        "\r\n",
        "            output_dim = output.shape[-1]\r\n",
        "\r\n",
        "            output = output.contiguous().view(-1, output_dim)\r\n",
        "            # 출력 단어의 인덱스 0(<sos>)은 제외\r\n",
        "            trg = trg[:,1:].contiguous().view(-1)\r\n",
        "\r\n",
        "            # output: [배치 크기 * trg_len - 1, output_dim]\r\n",
        "            # trg: [배치 크기 * trg len - 1]\r\n",
        "\r\n",
        "            # 모델의 출력 결과와 타겟 문장을 비교하여 손실 계산\r\n",
        "            loss = criterion(output, trg)\r\n",
        "\r\n",
        "            # 전체 손실 값 계산\r\n",
        "            epoch_loss += loss.item()\r\n",
        "\r\n",
        "    return epoch_loss / len(iterator)"
      ],
      "execution_count": 36,
      "outputs": []
    },
    {
      "cell_type": "markdown",
      "metadata": {
        "id": "5tOmO7wC2sQI"
      },
      "source": [
        "* 학습(training) 및 검증(validation) 진행\r\n",
        "    * **학습 횟수(epoch)**: 4"
      ]
    },
    {
      "cell_type": "code",
      "metadata": {
        "id": "-SGELT__xdNc"
      },
      "source": [
        "import math\r\n",
        "import time\r\n",
        "\r\n",
        "def epoch_time(start_time, end_time):\r\n",
        "    elapsed_time = end_time - start_time\r\n",
        "    elapsed_mins = int(elapsed_time / 60)\r\n",
        "    elapsed_secs = int(elapsed_time - (elapsed_mins * 60))\r\n",
        "    return elapsed_mins, elapsed_secs"
      ],
      "execution_count": 37,
      "outputs": []
    },
    {
      "cell_type": "code",
      "metadata": {
        "colab": {
          "base_uri": "https://localhost:8080/"
        },
        "id": "1ft58LCLxeqk",
        "outputId": "a7116ac4-bb7f-4a3d-cfc4-a925c0f854bd"
      },
      "source": [
        "import time\r\n",
        "import math\r\n",
        "import random\r\n",
        "\r\n",
        "N_EPOCHS = 4\r\n",
        "CLIP = 1\r\n",
        "best_valid_loss = float('inf')\r\n",
        "\r\n",
        "for epoch in range(N_EPOCHS):\r\n",
        "    start_time = time.time() # 시작 시간 기록\r\n",
        "\r\n",
        "    train_loss = train(model, train_loader, optimizer, criterion, CLIP)\r\n",
        "    valid_loss = evaluate(model, val_loader, criterion)\r\n",
        "\r\n",
        "    end_time = time.time() # 종료 시간 기록\r\n",
        "    epoch_mins, epoch_secs = epoch_time(start_time, end_time)\r\n",
        "\r\n",
        "    if valid_loss < best_valid_loss:\r\n",
        "        best_valid_loss = valid_loss\r\n",
        "        torch.save(model.state_dict(), 'transformer_english_to_korean.pt')\r\n",
        "\r\n",
        "    print(f'Epoch: {epoch + 1:02} | Time: {epoch_mins}m {epoch_secs}s')\r\n",
        "    print(f'\\tTrain Loss: {train_loss:.3f} | Train PPL: {math.exp(train_loss):.3f}')\r\n",
        "    print(f'\\tValidation Loss: {valid_loss:.3f} | Validation PPL: {math.exp(valid_loss):.3f}')"
      ],
      "execution_count": 38,
      "outputs": [
        {
          "output_type": "stream",
          "text": [
            "Epoch: 01 | Time: 3m 35s\n",
            "\tTrain Loss: 6.099 | Train PPL: 445.448\n",
            "\tValidation Loss: 5.619 | Validation PPL: 275.510\n",
            "Epoch: 02 | Time: 3m 44s\n",
            "\tTrain Loss: 4.605 | Train PPL: 100.014\n",
            "\tValidation Loss: 5.273 | Validation PPL: 194.930\n",
            "Epoch: 03 | Time: 3m 46s\n",
            "\tTrain Loss: 3.888 | Train PPL: 48.808\n",
            "\tValidation Loss: 5.174 | Validation PPL: 176.698\n",
            "Epoch: 04 | Time: 3m 45s\n",
            "\tTrain Loss: 3.320 | Train PPL: 27.655\n",
            "\tValidation Loss: 5.228 | Validation PPL: 186.327\n"
          ],
          "name": "stdout"
        }
      ]
    },
    {
      "cell_type": "code",
      "metadata": {
        "id": "98cRSHi53BB_"
      },
      "source": [
        "# 번역(translation) 함수\r\n",
        "def translate_sentence(english, model, device, max_len=80, logging=True):\r\n",
        "    model.eval() # 평가 모드\r\n",
        "\r\n",
        "    english = clean_string(english)\r\n",
        "    tokens = english.split(' ')\r\n",
        "\r\n",
        "    # 처음에 <sos> 토큰, 마지막에 <eos> 토큰 붙이기\r\n",
        "    tokens = [english_voca.SOS] + tokens + [english_voca.EOS]\r\n",
        "    if logging:\r\n",
        "        print(f\"전체 소스 토큰: {tokens}\")\r\n",
        "\r\n",
        "    src_indexes = []\r\n",
        "    for token in tokens:\r\n",
        "        try:\r\n",
        "            src_indexes.append(english_voca.word2idx[token])\r\n",
        "        except KeyError:\r\n",
        "            src_indexes.append(english_voca.word2idx[english_voca.UNK])\r\n",
        "    if logging:\r\n",
        "        print(f\"소스 문장 인덱스: {src_indexes}\")\r\n",
        "\r\n",
        "    src_tensor = torch.LongTensor(src_indexes).unsqueeze(0).to(device)\r\n",
        "\r\n",
        "    # 소스 문장에 따른 마스크 생성\r\n",
        "    src_mask = model.make_src_mask(src_tensor)\r\n",
        "\r\n",
        "    # 인코더(endocer)에 소스 문장을 넣어 문맥 벡터(context vector) 계산\r\n",
        "    with torch.no_grad():\r\n",
        "        enc_src = model.encoder(src_tensor, src_mask)\r\n",
        "\r\n",
        "    # 처음에는 <sos> 토큰 하나만 가지고 있도록 하기\r\n",
        "    trg_indexes = [korean_voca.word2idx[korean_voca.SOS]]\r\n",
        "\r\n",
        "    for i in range(max_len):\r\n",
        "        trg_tensor = torch.LongTensor(trg_indexes).unsqueeze(0).to(device)\r\n",
        "\r\n",
        "        # 출력 문장에 따른 마스크 생성\r\n",
        "        trg_mask = model.make_trg_mask(trg_tensor)\r\n",
        "\r\n",
        "        with torch.no_grad():\r\n",
        "            output, attention = model.decoder(trg_tensor, enc_src, trg_mask, src_mask)\r\n",
        "\r\n",
        "        # 출력 문장에서 가장 마지막 단어만 사용\r\n",
        "        pred_token = output.argmax(2)[:,-1].item()\r\n",
        "        trg_indexes.append(pred_token) # 출력 문장에 더하기\r\n",
        "\r\n",
        "        # <eos>를 만나는 순간 끝\r\n",
        "        if pred_token == korean_voca.word2idx[korean_voca.EOS]:\r\n",
        "            break\r\n",
        "\r\n",
        "    # 각 출력 단어 인덱스를 실제 단어로 변환\r\n",
        "    trg_tokens = [korean_voca.idx2word[i] for i in trg_indexes]\r\n",
        "\r\n",
        "    # 첫 번째 <sos>는 제외하고 출력 문장 반환\r\n",
        "    return trg_tokens[1:], attention"
      ],
      "execution_count": 39,
      "outputs": []
    },
    {
      "cell_type": "code",
      "metadata": {
        "colab": {
          "base_uri": "https://localhost:8080/"
        },
        "id": "mU27KZG-3WgV",
        "outputId": "fd520777-d0e2-42dc-a706-3f1cd41f27e4"
      },
      "source": [
        "example_idx = 900\r\n",
        "\r\n",
        "src = english_lines_test[example_idx]\r\n",
        "trg = korean_lines_test[example_idx]\r\n",
        "\r\n",
        "print(f'소스 문장: {src}', end='')\r\n",
        "print(f'타겟 문장: {trg}', end='')\r\n",
        "\r\n",
        "translation, attention = translate_sentence(src, model, device, logging=True)\r\n",
        "\r\n",
        "print(\"모델 출력 결과:\", \" \".join(translation))"
      ],
      "execution_count": 85,
      "outputs": [
        {
          "output_type": "stream",
          "text": [
            "소스 문장: But one missile failed to launch Wednesday and the Iranians fired it the next day, U.S. intelligence suggests.\n",
            "타겟 문장: 그러나 10일 발사한 미사일은 9일 발사에 실패한 미사일일 것이라는 것이 미국 정보국의 예상이다.\n",
            "전체 소스 토큰: ['<sos>', 'but', 'one', 'missile', 'failed', 'to', 'launch', 'wednesday', 'and', 'the', 'iranians', 'fired', 'it', 'the', 'next', 'day', 'us', 'intelligence', 'suggests', '<eos>']\n",
            "소스 문장 인덱스: [2, 2586, 25044, 19861, 21708, 2206, 17134, 9188, 34846, 2803, 31604, 18825, 4123, 2803, 8285, 2084, 15120, 15564, 5113, 3]\n",
            "모델 출력 결과: 그러나 미국 은 이란 이 이라크 의 미사일 시험 발사 를 계획 하고 있다고 주장 했다 <eos>\n"
          ],
          "name": "stdout"
        }
      ]
    },
    {
      "cell_type": "markdown",
      "metadata": {
        "id": "FxJW4HjScI-N"
      },
      "source": [
        "* 어텐션 맵(Attention Map) 시각화"
      ]
    },
    {
      "cell_type": "code",
      "metadata": {
        "id": "ljauws2qas3d"
      },
      "source": [
        "import matplotlib.pyplot as plt\r\n",
        "import matplotlib.ticker as ticker\r\n",
        "\r\n",
        "def display_attention(sentence, translation, attention, n_heads=8, n_rows=4, n_cols=2):\r\n",
        "\r\n",
        "    assert n_rows * n_cols == n_heads\r\n",
        "\r\n",
        "    plt.rc('font', family='NanumBarunGothic') # 폰트 설정\r\n",
        "    fig = plt.figure(figsize=(15, 25)) # 출력할 그림 크기 조절\r\n",
        "\r\n",
        "    for i in range(n_heads):\r\n",
        "        ax = fig.add_subplot(n_rows, n_cols, i + 1)\r\n",
        "\r\n",
        "        # 어텐션(Attention) 스코어 확률 값을 이용해 그리기\r\n",
        "        _attention = attention.squeeze(0)[i].cpu().detach().numpy()\r\n",
        "\r\n",
        "        cax = ax.matshow(_attention, cmap='bone')\r\n",
        "\r\n",
        "        ax.tick_params(labelsize=12)\r\n",
        "        ax.set_xticklabels([''] + ['<sos>'] + [t.lower() for t in sentence] + ['<eos>'], rotation=45)\r\n",
        "        ax.set_yticklabels([''] + translation)\r\n",
        "\r\n",
        "        ax.xaxis.set_major_locator(ticker.MultipleLocator(1))\r\n",
        "        ax.yaxis.set_major_locator(ticker.MultipleLocator(1))\r\n",
        "\r\n",
        "    plt.show()\r\n",
        "    plt.close()"
      ],
      "execution_count": 105,
      "outputs": []
    },
    {
      "cell_type": "code",
      "metadata": {
        "colab": {
          "base_uri": "https://localhost:8080/"
        },
        "id": "TqHbg0IwcJol",
        "outputId": "75736e16-35cd-445c-e3e1-80998cda218d"
      },
      "source": [
        "src = \"Many graduate students have majored in computer science.\"\r\n",
        "\r\n",
        "print(f'소스 문장: {src}')\r\n",
        "\r\n",
        "translation, attention = translate_sentence(src, model, device, logging=True)\r\n",
        "\r\n",
        "print(\"모델 출력 결과:\", \" \".join(translation))"
      ],
      "execution_count": 106,
      "outputs": [
        {
          "output_type": "stream",
          "text": [
            "소스 문장: Many graduate students have majored in computer science.\n",
            "전체 소스 토큰: ['<sos>', 'many', 'graduate', 'students', 'have', 'majored', 'in', 'computer', 'science', '<eos>']\n",
            "소스 문장 인덱스: [2, 15380, 19067, 565, 15818, 0, 21689, 32151, 6868, 3]\n",
            "모델 출력 결과: 이 연구 는 과학 적 인 컴퓨터 와 컴퓨터 를 이용 하는 학생 들 이 있다 <eos>\n"
          ],
          "name": "stdout"
        }
      ]
    },
    {
      "cell_type": "code",
      "metadata": {
        "colab": {
          "base_uri": "https://localhost:8080/",
          "height": 1000
        },
        "id": "QfY_dYEpcLF9",
        "outputId": "459ef013-d485-4c88-9c1a-9ad4dfe3faf8"
      },
      "source": [
        "src = clean_string(src)\r\n",
        "english_tokens = src.split(' ')\r\n",
        "\r\n",
        "display_attention(english_tokens, translation, attention)"
      ],
      "execution_count": 107,
      "outputs": [
        {
          "output_type": "display_data",
          "data": {
            "image/png": "[encoded data removed]",
            "text/plain": [
              "<Figure size 1080x1800 with 8 Axes>"
            ]
          },
          "metadata": {
            "tags": [],
            "needs_background": "light"
          }
        }
      ]
    }
  ]
}