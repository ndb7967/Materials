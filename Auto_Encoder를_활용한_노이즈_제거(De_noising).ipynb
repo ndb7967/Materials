{
  "nbformat": 4,
  "nbformat_minor": 0,
  "metadata": {
    "colab": {
      "provenance": [],
      "gpuType": "T4"
    },
    "kernelspec": {
      "name": "python3",
      "display_name": "Python 3"
    },
    "language_info": {
      "name": "python"
    },
    "accelerator": "GPU"
  },
  "cells": [
    {
      "cell_type": "markdown",
      "source": [
        "#### <b>라이브러리 불러오기</b>\n",
        "\n",
        "* 필요한 라이브러리를 불러온다."
      ],
      "metadata": {
        "id": "qmwjt1OyLgC7"
      }
    },
    {
      "cell_type": "code",
      "execution_count": null,
      "metadata": {
        "id": "SPnFFJ2WJm8z"
      },
      "outputs": [],
      "source": [
        "import numpy as np # 데이터 처리를 위한 NumPy 라이브러리 불러오기\n",
        "import matplotlib.pyplot as plt # 데이터 시각화 라이브러리 불러오기\n",
        "\n",
        "import torch # PyTorch 라이브러리 불러오기\n",
        "# PyTorch의 컴퓨터 비전 라이브러리의 손글씨 데이터 세트인 MNIST 불러오기\n",
        "from torchvision.datasets.mnist import MNIST\n",
        "# 이미지를 PyTorch의 텐서(tensor) 형태로 변경하여 처리하기 위한 transforms 라이브러리\n",
        "from torchvision.transforms import ToTensor"
      ]
    },
    {
      "cell_type": "markdown",
      "source": [
        "#### <b>추가적인 함수 정의</b>\n",
        "\n",
        "* Gaussian Noise 삽입 함수를 정의한다."
      ],
      "metadata": {
        "id": "sXzAf6yGLmaj"
      }
    },
    {
      "cell_type": "code",
      "source": [
        "# 이미지에 가우시안 노이즈를 추가하는 함수\n",
        "def gaussian_noise(x, scale=0.5):\n",
        "     # 이미지 x는 [0, 255]의 값을 가지는 상태에서 [0, 1]로 scaling 수행 이후의 값\n",
        "     # 노이즈를 정의\n",
        "     noise = np.random.normal(\n",
        "        loc=0, # 평균\n",
        "        scale=0.5, # 표준 편차\n",
        "        size=x.shape\n",
        "     )\n",
        "     noise_x = x + noise\n",
        "\n",
        "     # 이미지 픽셀 값이 [0, 1] 사이의 값이 되도록 clipping (튀어나온 부분을 잘라냄)\n",
        "     noise_x = np.clip(noise_x, 0, 1)\n",
        "     # PyTorch의 Tensor 객체로 변환\n",
        "     noise_x = torch.Tensor(noise_x)\n",
        "     noise_x = noise_x.type(torch.FloatTensor)\n",
        "     return noise_x"
      ],
      "metadata": {
        "id": "68HqSUT_LflU"
      },
      "execution_count": null,
      "outputs": []
    },
    {
      "cell_type": "markdown",
      "source": [
        "#### <b>데이터 세트 정의</b>"
      ],
      "metadata": {
        "id": "SUZqYNCE2Y2S"
      }
    },
    {
      "cell_type": "code",
      "source": [
        "# 학습용 데이터 세트 정의\n",
        "training_dataset = MNIST(\n",
        "    root=\"./data\", # 데이터를 다운로드할 경로\n",
        "    train=True, # 학습 데이터를 불러올 것인지 설정\n",
        "    download=True, # 데이터 세트가 현재 컴퓨터에 없다면, 다운로드\n",
        "    transform=ToTensor() # 기본적으로 픽셀 값은 [0, 255]이므로, [0, 1]로 scaling\n",
        ")\n",
        "\n",
        "# 평가용 데이터 세트 정의\n",
        "test_dataset = MNIST(\n",
        "    root=\"./data\", # 데이터를 다운로드할 경로\n",
        "    train=False, # 학습 데이터를 불러올 것인지 설정\n",
        "    download=True, # 데이터 세트가 현재 컴퓨터에 없다면, 다운로드\n",
        "    transform=ToTensor() # 기본적으로 픽셀 값은 [0, 255]이므로, [0, 1]로 scaling\n",
        ")\n",
        "\n",
        "# 첫 번째 원본 이미지\n",
        "img = training_dataset.data[0]\n",
        "# 해당 이미지에 노이즈를 섞기\n",
        "noise_img = gaussian_noise(img)\n",
        "\n",
        "# 두 개의 이미지를 출력\n",
        "plt.subplot(1, 2, 1) # [1 X 2] 크기의 이미지에서 1번째 위치에 이미지 표시\n",
        "plt.title(\"original\")\n",
        "plt.imshow(img, cmap=\"gray\") # cmap은 color map을 설정하는 속성\n",
        "plt.subplot(1, 2, 2) # [1 X 2] 크기의 이미지에서 2번째 위치에 이미지 표시\n",
        "plt.title(\"noisy\")\n",
        "plt.imshow(noise_img, cmap=\"gray\") # cmap은 color map을 설정하는 속성"
      ],
      "metadata": {
        "colab": {
          "base_uri": "https://localhost:8080/",
          "height": 672
        },
        "id": "pQrbOHoILurt",
        "outputId": "27942bfb-ee50-4ff8-cef0-f1234de64be0"
      },
      "execution_count": null,
      "outputs": [
        {
          "output_type": "stream",
          "name": "stdout",
          "text": [
            "Downloading http://yann.lecun.com/exdb/mnist/train-images-idx3-ubyte.gz\n",
            "Downloading http://yann.lecun.com/exdb/mnist/train-images-idx3-ubyte.gz to ./data/MNIST/raw/train-images-idx3-ubyte.gz\n"
          ]
        },
        {
          "output_type": "stream",
          "name": "stderr",
          "text": [
            "100%|██████████| 9912422/9912422 [00:00<00:00, 350037560.47it/s]"
          ]
        },
        {
          "output_type": "stream",
          "name": "stdout",
          "text": [
            "Extracting ./data/MNIST/raw/train-images-idx3-ubyte.gz to ./data/MNIST/raw\n"
          ]
        },
        {
          "output_type": "stream",
          "name": "stderr",
          "text": [
            "\n"
          ]
        },
        {
          "output_type": "stream",
          "name": "stdout",
          "text": [
            "\n",
            "Downloading http://yann.lecun.com/exdb/mnist/train-labels-idx1-ubyte.gz\n",
            "Downloading http://yann.lecun.com/exdb/mnist/train-labels-idx1-ubyte.gz to ./data/MNIST/raw/train-labels-idx1-ubyte.gz\n"
          ]
        },
        {
          "output_type": "stream",
          "name": "stderr",
          "text": [
            "100%|██████████| 28881/28881 [00:00<00:00, 43573990.58it/s]\n"
          ]
        },
        {
          "output_type": "stream",
          "name": "stdout",
          "text": [
            "Extracting ./data/MNIST/raw/train-labels-idx1-ubyte.gz to ./data/MNIST/raw\n",
            "\n",
            "Downloading http://yann.lecun.com/exdb/mnist/t10k-images-idx3-ubyte.gz\n",
            "Downloading http://yann.lecun.com/exdb/mnist/t10k-images-idx3-ubyte.gz to ./data/MNIST/raw/t10k-images-idx3-ubyte.gz\n"
          ]
        },
        {
          "output_type": "stream",
          "name": "stderr",
          "text": [
            "100%|██████████| 1648877/1648877 [00:00<00:00, 105568399.15it/s]\n"
          ]
        },
        {
          "output_type": "stream",
          "name": "stdout",
          "text": [
            "Extracting ./data/MNIST/raw/t10k-images-idx3-ubyte.gz to ./data/MNIST/raw\n",
            "\n",
            "Downloading http://yann.lecun.com/exdb/mnist/t10k-labels-idx1-ubyte.gz\n",
            "Downloading http://yann.lecun.com/exdb/mnist/t10k-labels-idx1-ubyte.gz to ./data/MNIST/raw/t10k-labels-idx1-ubyte.gz\n"
          ]
        },
        {
          "output_type": "stream",
          "name": "stderr",
          "text": [
            "100%|██████████| 4542/4542 [00:00<00:00, 6260443.24it/s]\n"
          ]
        },
        {
          "output_type": "stream",
          "name": "stdout",
          "text": [
            "Extracting ./data/MNIST/raw/t10k-labels-idx1-ubyte.gz to ./data/MNIST/raw\n",
            "\n"
          ]
        },
        {
          "output_type": "execute_result",
          "data": {
            "text/plain": [
              "<matplotlib.image.AxesImage at 0x7b26eefc84f0>"
            ]
          },
          "metadata": {},
          "execution_count": 8
        },
        {
          "output_type": "display_data",
          "data": {
            "text/plain": [
              "<Figure size 640x480 with 2 Axes>"
            ],
            "image/png": "[encoded data removed]"
          },
          "metadata": {}
        }
      ]
    },
    {
      "cell_type": "code",
      "source": [
        "from torch.utils.data.dataset import Dataset\n",
        "\n",
        "\n",
        "class Denoising(Dataset):\n",
        "    # ① __init__(): 불러올 데이터에 대한 개괄적인 내용\n",
        "    def __init__(self):\n",
        "        # MNIST 데이터 세트 불러오기\n",
        "        self.mnist = MNIST(\n",
        "            root=\"./data\", # 데이터를 다운로드할 경로\n",
        "            train=True, # 학습 데이터를 불러올 것인지 설정\n",
        "            download=True, # 데이터 세트가 현재 컴퓨터에 없다면, 다운로드\n",
        "            transform=ToTensor() # 기본적으로 픽셀 값은 [0, 255]이므로, [0, 1]로 scaling\n",
        "        )\n",
        "        # 노이즈가 포함된 이미지를 담는 리스트\n",
        "        self.noise_data = []\n",
        "\n",
        "        # 모든 데이터에 노이즈 입히기\n",
        "        for i in range(len(self.mnist)):\n",
        "            noise_x = gaussian_noise(self.mnist.data[i])\n",
        "            # 크기: [28, 28]\n",
        "            noise_x = torch.tensor(noise_x)\n",
        "            # 채널(channel) 축을 추가하기 위해 [1, 28, 28]로 변경\n",
        "            self.noise_data.append(torch.unsqueeze(noise_x, dim=0))\n",
        "\n",
        "    # ② __len__(): 현재 데이터 세트에 포함된 총 데이터의 개수\n",
        "    def __len__(self):\n",
        "      return len(self.noise_data)\n",
        "\n",
        "    # ③ __getitem__(): 특정한 인덱스에 해당하는 데이터를 반환하는 함수\n",
        "    def __getitem__(self, idx):\n",
        "        data = self.noise_data[idx]\n",
        "\n",
        "        # 정답 데이터도 0과 1 사이의 값으로 맞추어 주기\n",
        "        label = self.mnist.data[idx] / 255 # ToTensor() 함수랑 같은 의미\n",
        "\n",
        "        # 입력 이미지(data)와 출력 이미지(label) 반환\n",
        "        return data, label"
      ],
      "metadata": {
        "id": "lvNn6J2vPZWf"
      },
      "execution_count": null,
      "outputs": []
    },
    {
      "cell_type": "code",
      "source": [
        "train_dataset = Denoising()"
      ],
      "metadata": {
        "colab": {
          "base_uri": "https://localhost:8080/"
        },
        "id": "oz2HWiaUbGwi",
        "outputId": "100cdf43-07a3-4a36-c342-9d49b5e36b56"
      },
      "execution_count": null,
      "outputs": [
        {
          "output_type": "stream",
          "name": "stderr",
          "text": [
            "<ipython-input-16-258e8bde6c00>:21: UserWarning: To copy construct from a tensor, it is recommended to use sourceTensor.clone().detach() or sourceTensor.clone().detach().requires_grad_(True), rather than torch.tensor(sourceTensor).\n",
            "  noise_x = torch.tensor(noise_x)\n"
          ]
        }
      ]
    },
    {
      "cell_type": "code",
      "source": [
        "print(train_dataset[0][0].shape, train_dataset[0][1].shape)"
      ],
      "metadata": {
        "colab": {
          "base_uri": "https://localhost:8080/"
        },
        "id": "AGT7Dku5bRPJ",
        "outputId": "36d3bc71-3e69-47a6-d0b0-23ea5bef55e6"
      },
      "execution_count": null,
      "outputs": [
        {
          "output_type": "stream",
          "name": "stdout",
          "text": [
            "torch.Size([1, 28, 28]) torch.Size([28, 28])\n"
          ]
        }
      ]
    },
    {
      "cell_type": "markdown",
      "source": [
        "#### <b>딥러닝 모델 정의</b>"
      ],
      "metadata": {
        "id": "2mQldUPe3BXz"
      }
    },
    {
      "cell_type": "code",
      "source": [
        "import torch.nn as nn # PyTorch Neural Networks (nn) 라이브러리\n",
        "\n",
        "\n",
        "# 일반적으로 CNN에서 블록(block)이란, 여러 개의 convolution layer로 구성된 것을 의미\n",
        "class BasicBlock(nn.Module):\n",
        "    def __init__(self, in_channels, out_channels, hidden_dim):\n",
        "        super(BasicBlock, self).__init__()\n",
        "\n",
        "        self.conv1 = nn.Conv2d(\n",
        "            in_channels, # 입력 텐서의 채널(channel) 수와 동일\n",
        "            hidden_dim, # 사용할 커널의 개수\n",
        "            kernel_size=3, # 사용할 커널의 크기\n",
        "            # (3 X 3) 커널을 쓸 때 padding=1이면, 해상도 손실 없음\n",
        "            padding=1 # 해상도를 줄이지 않기 위해 사용\n",
        "        )\n",
        "        self.conv2 = nn.Conv2d(\n",
        "            hidden_dim, # 입력 텐서의 채널(channel) 수와 동일\n",
        "            out_channels, # 사용할 커널의 개수\n",
        "            kernel_size=3, # 사용할 커널의 크기\n",
        "            # (3 X 3) 커널을 쓸 때 padding=1이면, 해상도 손실 없음\n",
        "            padding=1 # 해상도를 줄이지 않기 위해 사용\n",
        "        )\n",
        "        self.relu = nn.ReLU()\n",
        "\n",
        "    def forward(self, x):\n",
        "        x = self.conv1(x)\n",
        "        x = self.relu(x)\n",
        "        x = self.conv2(x)\n",
        "        x = self.relu(x)\n",
        "\n",
        "        return x"
      ],
      "metadata": {
        "id": "mXVQ8_0kbr4B"
      },
      "execution_count": null,
      "outputs": []
    },
    {
      "cell_type": "code",
      "source": [
        "BasicBlock(1, 16, hidden_dim=8)"
      ],
      "metadata": {
        "colab": {
          "base_uri": "https://localhost:8080/"
        },
        "id": "p9WRd5z6gCmF",
        "outputId": "1cfc9ece-fce2-4a75-eba4-b0a8a34708c5"
      },
      "execution_count": null,
      "outputs": [
        {
          "output_type": "execute_result",
          "data": {
            "text/plain": [
              "BasicBlock(\n",
              "  (conv1): Conv2d(1, 8, kernel_size=(3, 3), stride=(1, 1), padding=(1, 1))\n",
              "  (conv2): Conv2d(8, 16, kernel_size=(3, 3), stride=(1, 1), padding=(1, 1))\n",
              "  (relu): ReLU()\n",
              ")"
            ]
          },
          "metadata": {},
          "execution_count": 27
        }
      ]
    },
    {
      "cell_type": "code",
      "source": [
        "# 이미지에서 특징을 추출하는 인코더 네트워크\n",
        "class Encoder(nn.Module):\n",
        "    def __init__(self):\n",
        "        super(Encoder, self).__init__()\n",
        "\n",
        "        # 흑백 이미지이므로, 입력 채널은 1개\n",
        "        self.block1 = BasicBlock(in_channels=1, out_channels=16, hidden_dim=16)\n",
        "        self.block2 = BasicBlock(in_channels=16, out_channels=8, hidden_dim=8)\n",
        "\n",
        "        # 인코더이므로, 해상도를 줄이는 기능 수행\n",
        "        self.pool = nn.AvgPool2d(kernel_size=2, stride=2) # 가로와 너비를 2배씩 감소\n",
        "\n",
        "    # 일반적인 CNN 분류 모델처럼 해상도를 줄이며, 특징 추출\n",
        "    def forward(self, x):\n",
        "        # [1, 28, 28]\n",
        "        x = self.block1(x)\n",
        "        # [16, 28, 28]\n",
        "        x = self.pool(x)\n",
        "        # [16, 14, 14]\n",
        "        x = self.block2(x)\n",
        "        # [8, 14, 14]\n",
        "        x = self.pool(x)\n",
        "        # [8, 7, 7]\n",
        "\n",
        "        return x"
      ],
      "metadata": {
        "id": "U0x2crB7gDlC"
      },
      "execution_count": null,
      "outputs": []
    },
    {
      "cell_type": "code",
      "source": [
        "Encoder()"
      ],
      "metadata": {
        "colab": {
          "base_uri": "https://localhost:8080/"
        },
        "id": "_XmOrZVwjZ6-",
        "outputId": "e755a0cf-5c12-4211-8c5b-acae0f380cd4"
      },
      "execution_count": null,
      "outputs": [
        {
          "output_type": "execute_result",
          "data": {
            "text/plain": [
              "Encoder(\n",
              "  (block1): BasicBlock(\n",
              "    (conv1): Conv2d(1, 16, kernel_size=(3, 3), stride=(1, 1), padding=(1, 1))\n",
              "    (conv2): Conv2d(16, 16, kernel_size=(3, 3), stride=(1, 1), padding=(1, 1))\n",
              "    (relu): ReLU()\n",
              "  )\n",
              "  (block2): BasicBlock(\n",
              "    (conv1): Conv2d(16, 8, kernel_size=(3, 3), stride=(1, 1), padding=(1, 1))\n",
              "    (conv2): Conv2d(8, 8, kernel_size=(3, 3), stride=(1, 1), padding=(1, 1))\n",
              "    (relu): ReLU()\n",
              "  )\n",
              "  (pool): AvgPool2d(kernel_size=2, stride=2, padding=0)\n",
              ")"
            ]
          },
          "metadata": {},
          "execution_count": 33
        }
      ]
    },
    {
      "cell_type": "code",
      "source": [
        "# 특징에서 다시 원본 이미지를 복원하는 디코더 네트워크\n",
        "class Decoder(nn.Module):\n",
        "    def __init__(self):\n",
        "        super(Decoder, self).__init__()\n",
        "\n",
        "        # 흑백 이미지이므로, 입력 채널은 1개\n",
        "        self.block1 = BasicBlock(in_channels=8, out_channels=8, hidden_dim=8) # → upsample1에서 8\n",
        "        self.block2 = BasicBlock(in_channels=8, out_channels=16, hidden_dim=16) # → upsample2에서 16\n",
        "\n",
        "        # 출력을 위한 블록(block)이므로, 출력 채널은 1의 크기로 설정\n",
        "        self.output_conv = nn.Conv2d(in_channels=16, out_channels=1, kernel_size=3, padding=1)\n",
        "\n",
        "        # 디코더이므로, 해상도를 늘리는 기능 수행\n",
        "        self.upsample1 = nn.ConvTranspose2d(8, 8, kernel_size=2, stride=2) # 가로와 너비를 2배씩 증가\n",
        "        self.upsample2 = nn.ConvTranspose2d(16, 16, kernel_size=2, stride=2) # 가로와 너비를 2배씩 증가\n",
        "\n",
        "    # 일반적인 CNN 분류 모델처럼 해상도를 줄이며, 특징 추출\n",
        "    def forward(self, x):\n",
        "        # [8, 7, 7]\n",
        "        x = self.block1(x)\n",
        "        # [8, 7, 7]\n",
        "        x = self.upsample1(x)\n",
        "        # [8, 14, 14]\n",
        "        x = self.block2(x)\n",
        "        # [16, 14, 14]\n",
        "        x = self.upsample2(x)\n",
        "        # [16, 28, 28]\n",
        "        x = self.output_conv(x)\n",
        "        # [1, 28, 28]\n",
        "\n",
        "        return x"
      ],
      "metadata": {
        "id": "3s-N8bnijbjs"
      },
      "execution_count": null,
      "outputs": []
    },
    {
      "cell_type": "code",
      "source": [
        "Decoder()"
      ],
      "metadata": {
        "colab": {
          "base_uri": "https://localhost:8080/"
        },
        "id": "zVNYbE6Ckw-8",
        "outputId": "c6e8f286-958e-4043-88a1-fe6f69b0f6de"
      },
      "execution_count": null,
      "outputs": [
        {
          "output_type": "execute_result",
          "data": {
            "text/plain": [
              "Decoder(\n",
              "  (block1): BasicBlock(\n",
              "    (conv1): Conv2d(8, 8, kernel_size=(3, 3), stride=(1, 1), padding=(1, 1))\n",
              "    (conv2): Conv2d(8, 8, kernel_size=(3, 3), stride=(1, 1), padding=(1, 1))\n",
              "    (relu): ReLU()\n",
              "  )\n",
              "  (block2): BasicBlock(\n",
              "    (conv1): Conv2d(8, 16, kernel_size=(3, 3), stride=(1, 1), padding=(1, 1))\n",
              "    (conv2): Conv2d(16, 16, kernel_size=(3, 3), stride=(1, 1), padding=(1, 1))\n",
              "    (relu): ReLU()\n",
              "  )\n",
              "  (output_conv): Conv2d(16, 1, kernel_size=(3, 3), stride=(1, 1), padding=(1, 1))\n",
              "  (upsample1): ConvTranspose2d(8, 8, kernel_size=(2, 2), stride=(2, 2))\n",
              "  (upsample2): ConvTranspose2d(16, 16, kernel_size=(2, 2), stride=(2, 2))\n",
              ")"
            ]
          },
          "metadata": {},
          "execution_count": 35
        }
      ]
    },
    {
      "cell_type": "code",
      "source": [
        "# CAE (Convolutional Auto-Encoder) 모델 정의하기\n",
        "class CAE(nn.Module):\n",
        "    def __init__(self):\n",
        "        super(CAE, self).__init__()\n",
        "\n",
        "        self.encoder = Encoder() # 인코더 네트워크 초기화\n",
        "        self.decoder = Decoder() # 디코더 네트워크 초기화\n",
        "\n",
        "    # 하나의 입력이 주어지면, 인코더와 디코더를 거친 결과를 출력\n",
        "    def forward(self, x):\n",
        "        x = self.encoder(x) # 인코더를 이용해 특징 추출\n",
        "        x = self.decoder(x) # 디코더를 이용해 노이즈가 제거된 이미지 복원\n",
        "        x = torch.squeeze(x) # 첫 번째 채널을 삭제\n",
        "\n",
        "        return x"
      ],
      "metadata": {
        "id": "6LLtf4oBkxws"
      },
      "execution_count": null,
      "outputs": []
    },
    {
      "cell_type": "code",
      "source": [
        "CAE()"
      ],
      "metadata": {
        "colab": {
          "base_uri": "https://localhost:8080/"
        },
        "id": "gY3pHkKzlwHM",
        "outputId": "2cb0ec5d-010c-40de-ad07-bc1e79c1512d"
      },
      "execution_count": null,
      "outputs": [
        {
          "output_type": "execute_result",
          "data": {
            "text/plain": [
              "CAE(\n",
              "  (encoder): Encoder(\n",
              "    (block1): BasicBlock(\n",
              "      (conv1): Conv2d(1, 16, kernel_size=(3, 3), stride=(1, 1), padding=(1, 1))\n",
              "      (conv2): Conv2d(16, 16, kernel_size=(3, 3), stride=(1, 1), padding=(1, 1))\n",
              "      (relu): ReLU()\n",
              "    )\n",
              "    (block2): BasicBlock(\n",
              "      (conv1): Conv2d(16, 8, kernel_size=(3, 3), stride=(1, 1), padding=(1, 1))\n",
              "      (conv2): Conv2d(8, 8, kernel_size=(3, 3), stride=(1, 1), padding=(1, 1))\n",
              "      (relu): ReLU()\n",
              "    )\n",
              "    (pool): AvgPool2d(kernel_size=2, stride=2, padding=0)\n",
              "  )\n",
              "  (decoder): Decoder(\n",
              "    (block1): BasicBlock(\n",
              "      (conv1): Conv2d(8, 8, kernel_size=(3, 3), stride=(1, 1), padding=(1, 1))\n",
              "      (conv2): Conv2d(8, 8, kernel_size=(3, 3), stride=(1, 1), padding=(1, 1))\n",
              "      (relu): ReLU()\n",
              "    )\n",
              "    (block2): BasicBlock(\n",
              "      (conv1): Conv2d(8, 16, kernel_size=(3, 3), stride=(1, 1), padding=(1, 1))\n",
              "      (conv2): Conv2d(16, 16, kernel_size=(3, 3), stride=(1, 1), padding=(1, 1))\n",
              "      (relu): ReLU()\n",
              "    )\n",
              "    (output_conv): Conv2d(16, 1, kernel_size=(3, 3), stride=(1, 1), padding=(1, 1))\n",
              "    (upsample1): ConvTranspose2d(8, 8, kernel_size=(2, 2), stride=(2, 2))\n",
              "    (upsample2): ConvTranspose2d(16, 16, kernel_size=(2, 2), stride=(2, 2))\n",
              "  )\n",
              ")"
            ]
          },
          "metadata": {},
          "execution_count": 37
        }
      ]
    },
    {
      "cell_type": "markdown",
      "source": [
        "#### <b>딥러닝 모델 학습하기</b>"
      ],
      "metadata": {
        "id": "NBq4B1-s3Gjy"
      }
    },
    {
      "cell_type": "code",
      "source": [
        "import tqdm # 학습 과정 시각화 라이브러리\n",
        "\n",
        "from torch.utils.data.dataloader import DataLoader\n",
        "from torch.optim.adam import Adam\n",
        "\n",
        "train_dataset = Denoising() # 노이즈 제거 기능을 위한 데이터 세트\n",
        "train_loader = DataLoader(train_dataset, batch_size=32)"
      ],
      "metadata": {
        "colab": {
          "base_uri": "https://localhost:8080/"
        },
        "id": "5bUQm0frlxZ0",
        "outputId": "cfc41fd5-8cac-4a75-ba0a-f23056b0ef89"
      },
      "execution_count": null,
      "outputs": [
        {
          "output_type": "stream",
          "name": "stderr",
          "text": [
            "<ipython-input-16-258e8bde6c00>:21: UserWarning: To copy construct from a tensor, it is recommended to use sourceTensor.clone().detach() or sourceTensor.clone().detach().requires_grad_(True), rather than torch.tensor(sourceTensor).\n",
            "  noise_x = torch.tensor(noise_x)\n"
          ]
        }
      ]
    },
    {
      "cell_type": "code",
      "source": [
        "model = CAE().cuda() # 학습할 전체 모델을 GPU에 업로드\n",
        "\n",
        "# 하이퍼 파라미터 설정\n",
        "lr = 0.001\n",
        "optim = Adam(params=model.parameters(), lr=lr)\n",
        "criterion = nn.MSELoss()\n",
        "\n",
        "for epoch in range(20):\n",
        "    iterator = tqdm.tqdm(train_loader) # 학습 과정을 시각화하기 위해 tqdm 사용\n",
        "\n",
        "    for inputs, labels in iterator:\n",
        "        # 입력과 출력을 GPU에 업로드\n",
        "        inputs = inputs.cuda()\n",
        "        labels = labels.cuda()\n",
        "\n",
        "        optim.zero_grad() # ① 일단 모델 가중치의 기울기(gradient) 초기화\n",
        "        pred = model(inputs) # ② 모델에 입력하여 추론 결과 확인\n",
        "        loss = criterion(pred, labels) # ③ 모델의 예측 결과와 정답을 비교하여 손실 계산\n",
        "        loss.backward() # ④ 역전파를 통해 모델의 가중치에 대한 기울기 계산\n",
        "        optim.step() # ⑤ 계산된 기울기를 이용해 모델 가중치 업데이트\n",
        "\n",
        "        # 로그 시각화\n",
        "        iterator.set_description(f\"[Epoch {epoch + 1}] loss: {loss.item()}\")"
      ],
      "metadata": {
        "colab": {
          "base_uri": "https://localhost:8080/"
        },
        "id": "M9UnT6xjnOll",
        "outputId": "32dd28f4-9e19-4ac6-dda0-ceb182ad0a12"
      },
      "execution_count": null,
      "outputs": [
        {
          "output_type": "stream",
          "name": "stderr",
          "text": [
            "[Epoch 1] loss: 0.011484137736260891: 100%|██████████| 1875/1875 [00:14<00:00, 131.31it/s]\n",
            "[Epoch 2] loss: 0.009643679484724998: 100%|██████████| 1875/1875 [00:14<00:00, 133.66it/s]\n",
            "[Epoch 3] loss: 0.009014182724058628: 100%|██████████| 1875/1875 [00:14<00:00, 131.35it/s]\n",
            "[Epoch 4] loss: 0.00856607872992754: 100%|██████████| 1875/1875 [00:14<00:00, 126.41it/s]\n",
            "[Epoch 5] loss: 0.008420406840741634: 100%|██████████| 1875/1875 [00:13<00:00, 135.13it/s]\n",
            "[Epoch 6] loss: 0.008391378447413445: 100%|██████████| 1875/1875 [00:13<00:00, 135.90it/s]\n",
            "[Epoch 7] loss: 0.008218055590987206: 100%|██████████| 1875/1875 [00:13<00:00, 133.95it/s]\n",
            "[Epoch 8] loss: 0.008105957880616188: 100%|██████████| 1875/1875 [00:13<00:00, 134.26it/s]\n",
            "[Epoch 9] loss: 0.008188880048692226: 100%|██████████| 1875/1875 [00:13<00:00, 134.05it/s]\n",
            "[Epoch 10] loss: 0.008163191378116608: 100%|██████████| 1875/1875 [00:14<00:00, 133.82it/s]\n",
            "[Epoch 11] loss: 0.00803028978407383: 100%|██████████| 1875/1875 [00:14<00:00, 131.68it/s]\n",
            "[Epoch 12] loss: 0.007894686423242092: 100%|██████████| 1875/1875 [00:14<00:00, 133.02it/s]\n",
            "[Epoch 13] loss: 0.007874133065342903: 100%|██████████| 1875/1875 [00:15<00:00, 124.68it/s]\n",
            "[Epoch 14] loss: 0.0075464993715286255: 100%|██████████| 1875/1875 [00:15<00:00, 121.76it/s]\n",
            "[Epoch 15] loss: 0.007376345340162516: 100%|██████████| 1875/1875 [00:15<00:00, 122.75it/s]\n",
            "[Epoch 16] loss: 0.007214570418000221: 100%|██████████| 1875/1875 [00:15<00:00, 120.53it/s]\n",
            "[Epoch 17] loss: 0.00695477519184351: 100%|██████████| 1875/1875 [00:14<00:00, 130.95it/s]\n",
            "[Epoch 18] loss: 0.006886836141347885: 100%|██████████| 1875/1875 [00:14<00:00, 131.08it/s]\n",
            "[Epoch 19] loss: 0.006763819605112076: 100%|██████████| 1875/1875 [00:14<00:00, 127.78it/s]\n",
            "[Epoch 20] loss: 0.006738756317645311: 100%|██████████| 1875/1875 [00:14<00:00, 131.36it/s]\n"
          ]
        }
      ]
    },
    {
      "cell_type": "code",
      "source": [
        "# 학습된 모델 저장\n",
        "torch.save(model.state_dict(), \"./CAE.pt\") # 학습된 모델의 가중치를 사전 자료형으로 저장"
      ],
      "metadata": {
        "id": "GphuV4Y0rTqP"
      },
      "execution_count": null,
      "outputs": []
    },
    {
      "cell_type": "code",
      "source": [
        "# 학습된 모델 성능 평가\n",
        "model.load_state_dict(torch.load(\"./CAE.pt\"))\n",
        "model = model.cuda()\n",
        "\n",
        "# 평가할 때는 기울기 추적이 필요 없으므로, 결과만 출력\n",
        "with torch.no_grad():\n",
        "    img = test_dataset.data[0] # 한 장의 테스트 이미지 준비\n",
        "    noise_img = gaussian_noise(img) # 해당 테스트 이미지에 노이즈 삽입\n",
        "\n",
        "    # 모델에 입력으로 삽입(forward)\n",
        "    input = torch.unsqueeze(noise_img, dim=0) # 채널 축(axis) 추가\n",
        "    input.type(torch.FloatTensor) # 모델 가중치와 동일하게 실수 자료형으로 변환\n",
        "    input = input.cuda()\n",
        "    input = torch.unsqueeze(input, dim=0) # 배치 축(axis) 추가\n",
        "\n",
        "    # 노이즈 이미지 시각화\n",
        "    plt.subplot(1, 3, 1) # [1, 3] 크기의 이미지의 1번째 이미지로 시각화\n",
        "    plt.imshow(torch.squeeze(noise_img), cmap=\"gray\") # 배치 축 및 채널 축 제거 필요\n",
        "    # 모델의 예측 결과 이미지 시각화\n",
        "    plt.subplot(1, 3, 2) # [1, 3] 크기의 이미지의 2번째 이미지로 시각화\n",
        "    plt.imshow(torch.squeeze(model(input).cpu()), cmap=\"gray\") # 배치 축 및 채널 축 제거 필요\n",
        "    # 실제 정답 이미지 시각화\n",
        "    plt.subplot(1, 3, 3) # [1, 3] 크기의 이미지의 3번째 이미지로 시각화\n",
        "    plt.imshow(torch.squeeze(img), cmap=\"gray\") # 배치 축 및 채널 축 제거 필요\n",
        "    plt.show()"
      ],
      "metadata": {
        "colab": {
          "base_uri": "https://localhost:8080/",
          "height": 209
        },
        "id": "hWAwqO00nep9",
        "outputId": "5621473b-1fea-4e7a-ab35-bdb294565df9"
      },
      "execution_count": null,
      "outputs": [
        {
          "output_type": "display_data",
          "data": {
            "text/plain": [
              "<Figure size 640x480 with 3 Axes>"
            ],
            "image/png": "[encoded data removed]"
          },
          "metadata": {}
        }
      ]
    }
  ]
}