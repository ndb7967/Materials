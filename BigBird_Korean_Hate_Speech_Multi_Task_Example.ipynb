{
  "cells": [
    {
      "cell_type": "markdown",
      "source": [
        "#### <b>필요한 라이브러리 설치</b>"
      ],
      "metadata": {
        "id": "tvtwH9ggGf1G"
      }
    },
    {
      "cell_type": "code",
      "source": [
        "# 트랜스포머 라이브러리 설치(Huggig Face에 있는 모델 불러오기 가능)\n",
        "!pip install transformers\n",
        "!pip install datasets # 데이터 세트 다운로드 Hugging Face와 연동"
      ],
      "metadata": {
        "colab": {
          "base_uri": "https://localhost:8080/"
        },
        "id": "zeHuY4y0ICJ-",
        "outputId": "d4246bc2-1b49-48b9-fb07-7d8e34dabbc7"
      },
      "execution_count": 1,
      "outputs": [
        {
          "output_type": "stream",
          "name": "stdout",
          "text": [
            "Collecting transformers\n",
            "  Downloading transformers-4.32.0-py3-none-any.whl (7.5 MB)\n",
            "\u001b[2K     \u001b[90m━━━━━━━━━━━━━━━━━━━━━━━━━━━━━━━━━━━━━━━━\u001b[0m \u001b[32m7.5/7.5 MB\u001b[0m \u001b[31m52.5 MB/s\u001b[0m eta \u001b[36m0:00:00\u001b[0m\n",
            "\u001b[?25hRequirement already satisfied: filelock in /usr/local/lib/python3.10/dist-packages (from transformers) (3.12.2)\n",
            "Collecting huggingface-hub<1.0,>=0.15.1 (from transformers)\n",
            "  Downloading huggingface_hub-0.16.4-py3-none-any.whl (268 kB)\n",
            "\u001b[2K     \u001b[90m━━━━━━━━━━━━━━━━━━━━━━━━━━━━━━━━━━━━━━\u001b[0m \u001b[32m268.8/268.8 kB\u001b[0m \u001b[31m28.3 MB/s\u001b[0m eta \u001b[36m0:00:00\u001b[0m\n",
            "\u001b[?25hRequirement already satisfied: numpy>=1.17 in /usr/local/lib/python3.10/dist-packages (from transformers) (1.23.5)\n",
            "Requirement already satisfied: packaging>=20.0 in /usr/local/lib/python3.10/dist-packages (from transformers) (23.1)\n",
            "Requirement already satisfied: pyyaml>=5.1 in /usr/local/lib/python3.10/dist-packages (from transformers) (6.0.1)\n",
            "Requirement already satisfied: regex!=2019.12.17 in /usr/local/lib/python3.10/dist-packages (from transformers) (2023.6.3)\n",
            "Requirement already satisfied: requests in /usr/local/lib/python3.10/dist-packages (from transformers) (2.31.0)\n",
            "Collecting tokenizers!=0.11.3,<0.14,>=0.11.1 (from transformers)\n",
            "  Downloading tokenizers-0.13.3-cp310-cp310-manylinux_2_17_x86_64.manylinux2014_x86_64.whl (7.8 MB)\n",
            "\u001b[2K     \u001b[90m━━━━━━━━━━━━━━━━━━━━━━━━━━━━━━━━━━━━━━━━\u001b[0m \u001b[32m7.8/7.8 MB\u001b[0m \u001b[31m76.7 MB/s\u001b[0m eta \u001b[36m0:00:00\u001b[0m\n",
            "\u001b[?25hCollecting safetensors>=0.3.1 (from transformers)\n",
            "  Downloading safetensors-0.3.3-cp310-cp310-manylinux_2_17_x86_64.manylinux2014_x86_64.whl (1.3 MB)\n",
            "\u001b[2K     \u001b[90m━━━━━━━━━━━━━━━━━━━━━━━━━━━━━━━━━━━━━━━━\u001b[0m \u001b[32m1.3/1.3 MB\u001b[0m \u001b[31m61.2 MB/s\u001b[0m eta \u001b[36m0:00:00\u001b[0m\n",
            "\u001b[?25hRequirement already satisfied: tqdm>=4.27 in /usr/local/lib/python3.10/dist-packages (from transformers) (4.66.1)\n",
            "Requirement already satisfied: fsspec in /usr/local/lib/python3.10/dist-packages (from huggingface-hub<1.0,>=0.15.1->transformers) (2023.6.0)\n",
            "Requirement already satisfied: typing-extensions>=3.7.4.3 in /usr/local/lib/python3.10/dist-packages (from huggingface-hub<1.0,>=0.15.1->transformers) (4.7.1)\n",
            "Requirement already satisfied: charset-normalizer<4,>=2 in /usr/local/lib/python3.10/dist-packages (from requests->transformers) (3.2.0)\n",
            "Requirement already satisfied: idna<4,>=2.5 in /usr/local/lib/python3.10/dist-packages (from requests->transformers) (3.4)\n",
            "Requirement already satisfied: urllib3<3,>=1.21.1 in /usr/local/lib/python3.10/dist-packages (from requests->transformers) (2.0.4)\n",
            "Requirement already satisfied: certifi>=2017.4.17 in /usr/local/lib/python3.10/dist-packages (from requests->transformers) (2023.7.22)\n",
            "Installing collected packages: tokenizers, safetensors, huggingface-hub, transformers\n",
            "Successfully installed huggingface-hub-0.16.4 safetensors-0.3.3 tokenizers-0.13.3 transformers-4.32.0\n",
            "Collecting datasets\n",
            "  Downloading datasets-2.14.4-py3-none-any.whl (519 kB)\n",
            "\u001b[2K     \u001b[90m━━━━━━━━━━━━━━━━━━━━━━━━━━━━━━━━━━━━━━━\u001b[0m \u001b[32m519.3/519.3 kB\u001b[0m \u001b[31m4.5 MB/s\u001b[0m eta \u001b[36m0:00:00\u001b[0m\n",
            "\u001b[?25hRequirement already satisfied: numpy>=1.17 in /usr/local/lib/python3.10/dist-packages (from datasets) (1.23.5)\n",
            "Requirement already satisfied: pyarrow>=8.0.0 in /usr/local/lib/python3.10/dist-packages (from datasets) (9.0.0)\n",
            "Collecting dill<0.3.8,>=0.3.0 (from datasets)\n",
            "  Downloading dill-0.3.7-py3-none-any.whl (115 kB)\n",
            "\u001b[2K     \u001b[90m━━━━━━━━━━━━━━━━━━━━━━━━━━━━━━━━━━━━━━━\u001b[0m \u001b[32m115.3/115.3 kB\u001b[0m \u001b[31m6.6 MB/s\u001b[0m eta \u001b[36m0:00:00\u001b[0m\n",
            "\u001b[?25hRequirement already satisfied: pandas in /usr/local/lib/python3.10/dist-packages (from datasets) (1.5.3)\n",
            "Requirement already satisfied: requests>=2.19.0 in /usr/local/lib/python3.10/dist-packages (from datasets) (2.31.0)\n",
            "Requirement already satisfied: tqdm>=4.62.1 in /usr/local/lib/python3.10/dist-packages (from datasets) (4.66.1)\n",
            "Collecting xxhash (from datasets)\n",
            "  Downloading xxhash-3.3.0-cp310-cp310-manylinux_2_17_x86_64.manylinux2014_x86_64.whl (194 kB)\n",
            "\u001b[2K     \u001b[90m━━━━━━━━━━━━━━━━━━━━━━━━━━━━━━━━━━━━━━━\u001b[0m \u001b[32m194.1/194.1 kB\u001b[0m \u001b[31m9.0 MB/s\u001b[0m eta \u001b[36m0:00:00\u001b[0m\n",
            "\u001b[?25hCollecting multiprocess (from datasets)\n",
            "  Downloading multiprocess-0.70.15-py310-none-any.whl (134 kB)\n",
            "\u001b[2K     \u001b[90m━━━━━━━━━━━━━━━━━━━━━━━━━━━━━━━━━━━━━━━\u001b[0m \u001b[32m134.8/134.8 kB\u001b[0m \u001b[31m7.5 MB/s\u001b[0m eta \u001b[36m0:00:00\u001b[0m\n",
            "\u001b[?25hRequirement already satisfied: fsspec[http]>=2021.11.1 in /usr/local/lib/python3.10/dist-packages (from datasets) (2023.6.0)\n",
            "Requirement already satisfied: aiohttp in /usr/local/lib/python3.10/dist-packages (from datasets) (3.8.5)\n",
            "Requirement already satisfied: huggingface-hub<1.0.0,>=0.14.0 in /usr/local/lib/python3.10/dist-packages (from datasets) (0.16.4)\n",
            "Requirement already satisfied: packaging in /usr/local/lib/python3.10/dist-packages (from datasets) (23.1)\n",
            "Requirement already satisfied: pyyaml>=5.1 in /usr/local/lib/python3.10/dist-packages (from datasets) (6.0.1)\n",
            "Requirement already satisfied: attrs>=17.3.0 in /usr/local/lib/python3.10/dist-packages (from aiohttp->datasets) (23.1.0)\n",
            "Requirement already satisfied: charset-normalizer<4.0,>=2.0 in /usr/local/lib/python3.10/dist-packages (from aiohttp->datasets) (3.2.0)\n",
            "Requirement already satisfied: multidict<7.0,>=4.5 in /usr/local/lib/python3.10/dist-packages (from aiohttp->datasets) (6.0.4)\n",
            "Requirement already satisfied: async-timeout<5.0,>=4.0.0a3 in /usr/local/lib/python3.10/dist-packages (from aiohttp->datasets) (4.0.3)\n",
            "Requirement already satisfied: yarl<2.0,>=1.0 in /usr/local/lib/python3.10/dist-packages (from aiohttp->datasets) (1.9.2)\n",
            "Requirement already satisfied: frozenlist>=1.1.1 in /usr/local/lib/python3.10/dist-packages (from aiohttp->datasets) (1.4.0)\n",
            "Requirement already satisfied: aiosignal>=1.1.2 in /usr/local/lib/python3.10/dist-packages (from aiohttp->datasets) (1.3.1)\n",
            "Requirement already satisfied: filelock in /usr/local/lib/python3.10/dist-packages (from huggingface-hub<1.0.0,>=0.14.0->datasets) (3.12.2)\n",
            "Requirement already satisfied: typing-extensions>=3.7.4.3 in /usr/local/lib/python3.10/dist-packages (from huggingface-hub<1.0.0,>=0.14.0->datasets) (4.7.1)\n",
            "Requirement already satisfied: idna<4,>=2.5 in /usr/local/lib/python3.10/dist-packages (from requests>=2.19.0->datasets) (3.4)\n",
            "Requirement already satisfied: urllib3<3,>=1.21.1 in /usr/local/lib/python3.10/dist-packages (from requests>=2.19.0->datasets) (2.0.4)\n",
            "Requirement already satisfied: certifi>=2017.4.17 in /usr/local/lib/python3.10/dist-packages (from requests>=2.19.0->datasets) (2023.7.22)\n",
            "Requirement already satisfied: python-dateutil>=2.8.1 in /usr/local/lib/python3.10/dist-packages (from pandas->datasets) (2.8.2)\n",
            "Requirement already satisfied: pytz>=2020.1 in /usr/local/lib/python3.10/dist-packages (from pandas->datasets) (2023.3)\n",
            "Requirement already satisfied: six>=1.5 in /usr/local/lib/python3.10/dist-packages (from python-dateutil>=2.8.1->pandas->datasets) (1.16.0)\n",
            "Installing collected packages: xxhash, dill, multiprocess, datasets\n",
            "Successfully installed datasets-2.14.4 dill-0.3.7 multiprocess-0.70.15 xxhash-3.3.0\n"
          ]
        }
      ]
    },
    {
      "cell_type": "markdown",
      "source": [
        "#### <b>필요한 라이브러리 불러오기</b>"
      ],
      "metadata": {
        "id": "9z-vERIKbQiT"
      }
    },
    {
      "cell_type": "code",
      "source": [
        "import copy # 특정한 파이썬 객체를 통째로 메모리에 copy할 때\n",
        "import json # json 형식으로 데이터를 표현할 때\n",
        "import logging # 학습 과정 등 전반적인 프로그램의 진행 상황을 로깅할 때\n",
        "import os # 파일 입출력 등 현재 컴퓨터에 대한 기능 수행할 때\n",
        "\n",
        "# 경고(warning) 메시지가 너무 많이 나오는 것을 대비하여 무시 처리\n",
        "import warnings\n",
        "warnings.filterwarnings(\"ignore\")\n",
        "\n",
        "# 로깅할 때 기본적으로 오류(error) 사항으로 로그 메시지를 남기겠다는 의미\n",
        "import logging\n",
        "logging.basicConfig(level=logging.ERROR)\n",
        "\n",
        "# 벡터, 행렬 등의 처리를 위한 NumPy, 테이블(엑셀) 형식의 데이터 처리할 때 Pandas\n",
        "import numpy as np\n",
        "import pandas as pd\n",
        "\n",
        "from datasets import load_dataset\n",
        "# train_test_split: 별도로 구분된 validation 세트가 없을 때\n",
        "# 학습 데이터 세트에서 일부를 train과 validation으로 나눌 때 자주 사용 (8:2 정도로 나눔)\n",
        "from sklearn.model_selection import train_test_split\n",
        "from tqdm import tqdm\n",
        "\n",
        "import torch"
      ],
      "metadata": {
        "id": "LH2ySA1QbQzw"
      },
      "execution_count": 1,
      "outputs": []
    },
    {
      "cell_type": "markdown",
      "source": [
        "#### <b>학습할 모델 관련 라이브러리 불러오기</b>"
      ],
      "metadata": {
        "id": "4vCdR9qwGjei"
      }
    },
    {
      "cell_type": "markdown",
      "metadata": {
        "id": "47pPgdFPaJK6"
      },
      "source": [
        "* <b>Hugging Face Auto Class</b>\n",
        "  * <b>Auto 키워드</b>: 사전 학습된(pre-trained) 모델을 이용해 원하는 작업을 수행한다.\n",
        "    * → 최대한 자동화할 수 있게 만들어진 라이브러리\n",
        "    * <b>AutoTokenizer</b>: 입력을 토큰(token)으로 바꾸는 기능을 수행한다.\n",
        "사전 학습된 tokenizer를 불러올 수 있다.\n",
        "    * <b>AutoModelForSequenceClassification</b>: 문장 분류(classification)을 위한 자동화된 모델을 제공한다.\n",
        "      * forward() 함수 자체가 사전에 설정한 num_classes와 일치\n",
        "      * 만약 우리가 multi-task learning을 한다면, 이걸 그대로 사용하기는 어렵다.\n",
        "    * 만약 multi-task learning을 하는 상황에서는 대신에 <b>AutoModel</b>을 이용해서 직접 수정하는 것이 효과적\n",
        "    * <b>AutoModel</b>: 꼭 텍스트 분류 목적이 아니라, BERT 등의 모델을 불러올 수 있도록\n",
        "  * 사전 학습된 BERT 모델을 불러올 수 있다.\n",
        "    * 예시) bert-base-multilingual-sentiment\n",
        "  * from_pretrained() 함수를 이용해 특정한 경로에서 모델을 불러올 수 있다.\n",
        "  * PyTorch 혹은 TensorFlow 상관없이 사용할 수 있다."
      ]
    },
    {
      "cell_type": "code",
      "execution_count": 2,
      "metadata": {
        "id": "plGoHyuyZ79h"
      },
      "outputs": [],
      "source": [
        "import transformers\n",
        "# Auto Model For Sequence Classification: 텍스트 분류를 위한 모델 → Cross-Entropy loss 사용\n",
        "from transformers import AutoConfig, AutoModel, AutoModelForSequenceClassification, AutoTokenizer\n",
        "# linear_schedule_with_warmup: 단계적으로 learning rate 줄여나가는 방법\n",
        "# AdamW: SGD와 같이 optimization 방법 중 하나\n",
        "from transformers import AdamW, get_linear_schedule_with_warmup"
      ]
    },
    {
      "cell_type": "markdown",
      "source": [
        "#### <b>본 실습에서 어떤 모델을 쓸 것인가?</b>\n",
        "\n",
        "* KoBigBird를 사용하고, 다음과 같은 형태로 사용 가능\n",
        "  * KoBigBird: BigBird 특유의 sparse attention 사용 (default)\n",
        "\n",
        "<pre>\n",
        "from transformers import AutoModel, AutoTokenizer\n",
        "\n",
        "# by default its in `block_sparse` mode with num_random_blocks=3, block_size=64\n",
        "model = AutoModel.from_pretrained(\"monologg/kobigbird-bert-base\")\n",
        "\n",
        "# you can change `attention_type` to full attention like this:\n",
        "model = AutoModel.from_pretrained(\"monologg/kobigbird-bert-base\", attention_type=\"original_full\")\n",
        "\n",
        "# you can change `block_size` & `num_random_blocks` like this:\n",
        "model = AutoModel.from_pretrained(\"monologg/kobigbird-bert-base\", block_size=16, num_random_blocks=2)\n",
        "\n",
        "tokenizer = AutoTokenizer.from_pretrained(\"monologg/kobigbird-bert-base\")\n",
        "text = \"한국어 BigBird 모델을 공개합니다!\"\n",
        "encoded_input = tokenizer(text, return_tensors='pt')\n",
        "output = model(**encoded_input)\n",
        "</pre>"
      ],
      "metadata": {
        "id": "ryHwwch2R0ET"
      }
    },
    {
      "cell_type": "code",
      "source": [
        "from transformers import AutoModel, AutoTokenizer\n",
        "\n",
        "# by default its in `block_sparse` mode with num_random_blocks=3, block_size=64\n",
        "# 이름에서부터 알 수 있듯이 KoBigBird는 BERT 기반의 모델\n",
        "model = AutoModel.from_pretrained(\"monologg/kobigbird-bert-base\")\n",
        "\n",
        "# Tokenizer도 마찬가지로 BERT 기반에서 가져온 것을 확인\n",
        "tokenizer = AutoTokenizer.from_pretrained(\"monologg/kobigbird-bert-base\")\n",
        "text = \"한국어 BigBird 모델을 공개합니다!\"\n",
        "encoded_input = tokenizer(text, return_tensors='pt')\n",
        "output = model(**encoded_input)"
      ],
      "metadata": {
        "colab": {
          "base_uri": "https://localhost:8080/"
        },
        "id": "XwuHa80eR3dC",
        "outputId": "b0ed45fe-25f7-4f6f-b4e6-7a4b842fcd90"
      },
      "execution_count": 3,
      "outputs": [
        {
          "output_type": "stream",
          "name": "stderr",
          "text": [
            "Attention type 'block_sparse' is not possible if sequence_length: 12 <= num global tokens: 2 * config.block_size + min. num sliding tokens: 3 * config.block_size + config.num_random_blocks * config.block_size + additional buffer: config.num_random_blocks * config.block_size = 704 with config.block_size = 64, config.num_random_blocks = 3. Changing attention type to 'original_full'...\n"
          ]
        }
      ]
    },
    {
      "cell_type": "code",
      "source": [
        "# KoBigBird에 들어가는 입력 형태를 보니까 다음과 같은 형식을 지키면 된다.\n",
        "# {\"input_ids\": 값, \"token_type_ids\": 값, \"attention_mask\": 값}\n",
        "print(encoded_input)\n",
        "\n",
        "# input_ids: [[CLS], x_1, x_2, ..., x_9, x_10 [SEP]]\n",
        "# token_type_ids: 전부 [MASK] 토큰이 아니므로, 0의 값을 채워 넣은 것으로 보임 (지금 inference 하는 상황이므로 당연)\n",
        "# attention_mask: 학습할 때 cheating 방지하려고 0을 가끔 채워 넣음 (지금은 inference 하는 상황이므로 1이 당연)"
      ],
      "metadata": {
        "colab": {
          "base_uri": "https://localhost:8080/"
        },
        "id": "q-9g7WVzSTTH",
        "outputId": "cfc97743-12a9-461c-ee38-337ba832ae47"
      },
      "execution_count": 4,
      "outputs": [
        {
          "output_type": "stream",
          "name": "stdout",
          "text": [
            "{'input_ids': tensor([[    2, 11802, 32418,  4616,  9101,  4565,  7498,  4604,  7220, 15763,\n",
            "           505,     3]]), 'token_type_ids': tensor([[0, 0, 0, 0, 0, 0, 0, 0, 0, 0, 0, 0]]), 'attention_mask': tensor([[1, 1, 1, 1, 1, 1, 1, 1, 1, 1, 1, 1]])}\n"
          ]
        }
      ]
    },
    {
      "cell_type": "code",
      "source": [
        "# output의 형태는 \"BaseModelOutputWithPoolingAndCrossAttentions\" 객체\n",
        "# 그 중 첫 번째 속성은 last_hidden_state\n",
        "# 형태는 다음과 같음 → [batch_size (1개 문장이니까), seq_len (토큰의 길이), hidden_size (임베딩 차원)]\n",
        "# → BERT와 정확히 동일\n",
        "print(output.last_hidden_state.shape)\n",
        "\n",
        "# [[CLS], x_1, x_2, ..., x_9, x_10 [SEP]] => 총 길이가 12개\n",
        "# [ 768차원, 768차원, ..., 768차원]\n",
        "# 보통 첫 번째 토큰인 [CLS] 토큰의 임베딩 값인 768차원의 벡터만 사용\n",
        "\n",
        "# 각 데이터마다 [CLS] 토큰만 가져오기\n",
        "print(output.last_hidden_state[:,0,:].shape)"
      ],
      "metadata": {
        "colab": {
          "base_uri": "https://localhost:8080/"
        },
        "id": "8CWGvFUCS2Hn",
        "outputId": "4f533384-af51-4d67-d5a1-940bf42786bd"
      },
      "execution_count": 5,
      "outputs": [
        {
          "output_type": "stream",
          "name": "stdout",
          "text": [
            "torch.Size([1, 12, 768])\n",
            "torch.Size([1, 768])\n"
          ]
        }
      ]
    },
    {
      "cell_type": "code",
      "source": [
        "# 기초 설정상 last_hidden_state와 pooler_output만 출력\n",
        "print(output.last_hidden_state[0][0][:10]) # 마지막 레이어 hidden_states에서 [CLS] 토큰 임베딩\n",
        "# pre-training task에 사용된 결과\n",
        "print(output.pooler_output[0][:10]) # 마지막 레이어 hidden_states에서 [CLS] 토큰 임베딩에 추가적인 처리를 거친 결과"
      ],
      "metadata": {
        "colab": {
          "base_uri": "https://localhost:8080/"
        },
        "id": "MLROHQzlUmxK",
        "outputId": "75cffbe7-f9ad-4647-8275-3769a42856b4"
      },
      "execution_count": 6,
      "outputs": [
        {
          "output_type": "stream",
          "name": "stdout",
          "text": [
            "tensor([ 0.0744,  0.1033, -0.4811,  0.0936, -0.2172, -0.2245, -0.3635, -0.5025,\n",
            "         0.3230,  0.1951], grad_fn=<SliceBackward0>)\n",
            "tensor([ 0.4389, -0.4116, -0.1959, -0.0865, -0.2311,  0.3522, -0.1873, -0.1011,\n",
            "         0.3908, -0.4379], grad_fn=<SliceBackward0>)\n"
          ]
        }
      ]
    },
    {
      "cell_type": "markdown",
      "source": [
        "#### <b>실험을 위한 하이퍼 파라미터 설정</b>"
      ],
      "metadata": {
        "id": "OBlLlRQJHx1m"
      }
    },
    {
      "cell_type": "code",
      "source": [
        "# SimpleNamespace는 온점(.)으로 속성의 값을 정의할 수 있도록 해주는 라이브러리\n",
        "# config.task = \"cls\"라고 하면, 나중에 print(config.task)했을 때 \"cls\"라고 출력\n",
        "from types import SimpleNamespace\n",
        "\n",
        "config = SimpleNamespace()\n",
        "\n",
        "config.task = \"cls\"\n",
        "config.dataset = \"comment\"\n",
        "\n",
        "config.cache_dir = \"cache\" # 현재 데이터 세트에 대한 단어집 등 현재 task를 위한 임시적인 폴더\n",
        "config.output_dir = \"output\" # 최종적인 모델이 저장되고, 결과가 저장되는 폴더\n",
        "\n",
        "config.use_tpu = False\n",
        "config.model_name_or_path = \"monologg/kobigbird-bert-base\" # Model name or path (HuggingFace에서 불러와 사용할 모델 이름)\n",
        "config.data_dir = \"./\" # The input data dir (\"10000_labeled.csv\"가 있는 경로)\n",
        "\n",
        "# 실질적으로 학습을 위해서는 tokenizing이 수행된 train file과 predict file을 만들어야 한다.\n",
        "config.train_file = \"10000_labeled.csv\" # 미리 준비된 학습 데이터 세트 경로\n",
        "# 어차피 10000_labeled.csv를 (1) training 목적, (2) validatoin 목적으로 쪼개니까 평가는 validation으로 결과가 나올 것임\n",
        "config.predict_file = \"10000_labeled.csv\" # 미리 준비된 평가 데이터 세트 경로\n",
        "# → 이거 일단 없으면, 지금처럼 train_file로 넣으시되, 나중에 생기시면 갈아끼우기\n",
        "\n",
        "config.max_seq_length = 1024 # The maximum total input sequence length after tokenization. (최대 토큰 길이)\n",
        "config.train_batch_size = 4 # Batch size for training. (학습할 때 batch_size)\n",
        "config.eval_batch_size = 2 # Batch size for evaluation. (평가할 때 batch_size)\n",
        "\n",
        "config.learning_rate = 3e-5 # The initial learning rate for Adam. (Adam optimizer에서 쓸 learning rate)\n",
        "config.num_train_epochs = 10 # Total number of training epochs to perform. (전체 학습 epoch 수)\n",
        "\n",
        "config.num_labels = 5 # 현재 task에서 선호도(0: hate, 1: dislike, 2: neutral, 3: like, 4: love)의 개수는 5개이므로\n",
        "# 5 classes multi-class classification 문제로 이해 할 수 있음\n",
        "config.gradient_accumulation_steps = 2 # Number of updates steps to accumulate before performing a backward/update pass.\n",
        "# batch_size가 큰 것처럼 처리하기 위해서, backward()를 매 번 수행하지 않고, gradient를 누적(acculmulation)하는 것\n",
        "\n",
        "config.threads = 4\n",
        "config.seed = 42 # random seed for initialization\n",
        "\n",
        "config.do_train = True # Whether to run training.\n",
        "config.do_eval_during_train = True\n",
        "config.do_eval = True # Whether to run prediction.\n",
        "\n",
        "config.do_lower_case = False\n",
        "config.weight_decay = 0.0 # Weight decay if we apply some.\n",
        "config.adam_epsilon = 1e-8 # Epsilon for Adam optimizer.\n",
        "config.max_grad_norm = 1.0 # Max gradient norm.\n",
        "config.warmup_proportion = 0.0 # Warmup proportion for linear warmup\n",
        "# BigBird에서는 full attention을 하면, 메모리는 조금 더 소모되지만, 더 정확도가 향상\n",
        "# config.attention_type = \"original_full\""
      ],
      "metadata": {
        "id": "-OAqKcbuH1Tm"
      },
      "execution_count": 7,
      "outputs": []
    },
    {
      "cell_type": "markdown",
      "source": [
        "#### <b>학습 데이터 전처리</b>\n",
        "\n",
        "* 학습 텍스트를 매번 tokenizing을 하지 않고, <b>모델 학습 시작 전에 미리 모든 텍스트를 tokenizing</b> 한 결과를 저장한다.\n",
        "  * 이렇게 했을 때, 결과적인 속도는 훨씬 빠르기 때문이다."
      ],
      "metadata": {
        "id": "2SPm2YU_Lq2n"
      }
    },
    {
      "cell_type": "code",
      "source": [
        "# 본 실습에서 사용할 tokenizer 객체 초기화\n",
        "tokenizer = AutoTokenizer.from_pretrained(config.model_name_or_path, cache_dir=config.cache_dir)"
      ],
      "metadata": {
        "id": "2gJGxD9bYBTK"
      },
      "execution_count": 8,
      "outputs": []
    },
    {
      "cell_type": "code",
      "source": [
        "def train_split(config, texts, labels, is_train):\n",
        "    # 바로 여기에서 train 데이터 세트가 8:2로 training과 validation이 나누어 진다.\n",
        "    # 지금 평가 결과는 validation에 대한 결과\n",
        "    # [오류] stratify가 labels면, test_dataset에 특정 레이블이 아예 등장하지 않으면 오류 발생\n",
        "    \"\"\"\n",
        "    x_train, y_train, x_label, y_label = train_test_split(\n",
        "        texts, labels, test_size=0.2, random_state=config.seed, stratify=labels\n",
        "    )\n",
        "    \"\"\"\n",
        "    x_train, y_train, x_label, y_label = train_test_split(\n",
        "        texts, labels, test_size=0.2, random_state=config.seed, stratify=None\n",
        "    )\n",
        "    if is_train:\n",
        "        texts, labels = x_train, x_label\n",
        "    else:\n",
        "        texts, labels = y_train, y_label\n",
        "    return texts, labels\n",
        "\n",
        "# 댓글(comment)이 담긴 .csv 파일이 있을 때, 여기에서 텍스트와 레이블 추출\n",
        "def process_comment_cls(config, data_file, is_train):\n",
        "    df = pd.read_csv(data_file)\n",
        "    df = df.fillna(0)  # nan값 0으로 채우기\n",
        "    df = df[df[\"선호도\"]!= -1] # 선호도 -1 인 문장 학습에서 배제\n",
        "    # 매 줄에서 \"선호도\", \"비속어\", \"comment\" 열 추출\n",
        "    preferences = df[\"선호도\"].astype(str).values.tolist()\n",
        "    slangs = df[\"비속어\"].astype(str).values.tolist()\n",
        "    politics = df[\"정치\"].astype(str).values.tolist()\n",
        "    labels = []\n",
        "    # 한 줄씩 데이터를 확인하며\n",
        "    for i in range(len(preferences)):\n",
        "        preference = preferences[i] # 선호도\n",
        "        slang = slangs[i] # 비속어\n",
        "        politic = politics[i] # 정치\n",
        "        labels.append([preference, slang, politic])\n",
        "    print(len(labels))\n",
        "    texts = df[\"comment\"].astype(str).values.tolist()\n",
        "    texts, labels = train_split(config, texts, labels, is_train)\n",
        "    return texts, labels"
      ],
      "metadata": {
        "id": "7QpRhocwKqhl"
      },
      "execution_count": 9,
      "outputs": []
    },
    {
      "cell_type": "code",
      "source": [
        "import torch.utils.data as torch_data\n",
        "\n",
        "\n",
        "def data_pretokenizing(config, tokenizer, is_train=True):\n",
        "    if is_train:\n",
        "        data_file = config.train_file\n",
        "    else:\n",
        "        data_file = config.predict_file\n",
        "\n",
        "    data_path = config.data_dir\n",
        "    if data_file is not None:\n",
        "        data_path = os.path.join(data_path, data_file)\n",
        "    else:\n",
        "        data_path += \"/\"\n",
        "\n",
        "    # 실제로 tokenizer를  저장될 데이터 세트의 파일 이름이 바로 dataset_file\n",
        "    comps = [\n",
        "        data_path,\n",
        "        config.dataset,\n",
        "        config.model_name_or_path.replace(\"/\", \"_\"),\n",
        "        config.max_seq_length,\n",
        "        \"train\" if is_train else \"dev\",\n",
        "        \"dataset.txt\",\n",
        "    ]\n",
        "    dataset_file = \"_\".join([str(comp) for comp in comps])\n",
        "    print(\"dataset_file:\", dataset_file)\n",
        "\n",
        "    # 기존에 write_samples() 함수가 하는 역할: 텍스트 문장을 읽어와서 token 값만 저장\n",
        "    # 멀티 쓰레드 방식으로 구현되어 있어서, 더 (비효율적이지만) 이해하기 쉬운 코드로 돌려 놓음\n",
        "    with open(dataset_file, \"w\", encoding=\"utf-8\") as writer_file:\n",
        "        # data: \"10000_labeled.csv\" 파일에서 읽어와 (텍스트, 선호도 레이블)만 남긴 .csv 파일\n",
        "        cnt = 0\n",
        "        total_data = process_comment_cls(config, data_path, is_train)\n",
        "        # 학습 데이터 세트를 하나씩 확인하며\n",
        "        for text, label in zip(total_data[0], total_data[1]):\n",
        "            # 여기에서 data는 하나의 (텍스트, 레이블) 쌍\n",
        "            # feature는 해당 텍스트를 tokenizer에 넣어서 나온 결과\n",
        "            feature = tokenizer(text, max_length=config.max_seq_length, padding=\"max_length\", truncation=True, add_special_tokens=True)\n",
        "            # 실제로 학습을 위해서는 (각 토큰의 index, 정답 레이블)로 학습을 진행\n",
        "            writed_data = {\n",
        "                \"input_ids\": feature[\"input_ids\"],\n",
        "                \"attention_mask\": feature[\"attention_mask\"],\n",
        "                \"preference\": int(float(label[0])), # \"2.0\" → 2.0 → 2\n",
        "                \"slang\": int(float(label[1])), # \"2.0\" → 2.0 → 2\n",
        "                \"politic\": int(float(label[2])), # \"2.0\" → 2.0 → 2\n",
        "            }\n",
        "            # JSON은 쉽게 말하면 Python에서 dictionary와 같음 → 이를 file로 저장하는 것\n",
        "            writer_file.write(json.dumps(writed_data) + \"\\n\")\n",
        "            cnt += 1\n",
        "        print(f\"{cnt} features processed from {data_path}\")\n",
        "\n",
        "    return dataset_file"
      ],
      "metadata": {
        "id": "tAq-i9SuLta-"
      },
      "execution_count": 10,
      "outputs": []
    },
    {
      "cell_type": "code",
      "source": [
        "# 본 코드에서 학습을 수행하려는 경우\n",
        "if config.do_train:\n",
        "    # 학습 데이터 세트 전처리\n",
        "    train_dataset_file = data_pretokenizing(config, tokenizer=tokenizer)\n",
        "\n",
        "# 평가 데이터 세트 전처리(validation = dev 같은 의미)\n",
        "predict_dataset_file = data_pretokenizing(config, tokenizer=tokenizer, is_train=False)\n",
        "\n",
        "# 결과적으로 만들어진 \"./10000_labeled.csv_comment_monologg_kobigbird-bert-base_1024_train_dataset.txt\"\n",
        "# 내용을 확인해 보면, 약 8,000개의 각 학습 데이터에 대하여\n",
        "#   → 하나씩 {\"input_ids\", \"attention_mask\", \"preference\", \"slang\"}으로 구성"
      ],
      "metadata": {
        "colab": {
          "base_uri": "https://localhost:8080/"
        },
        "id": "WYuakKfzXid0",
        "outputId": "8a212719-1cd8-4ee7-f479-ca0eda77f16a"
      },
      "execution_count": 11,
      "outputs": [
        {
          "output_type": "stream",
          "name": "stdout",
          "text": [
            "dataset_file: ./10000_labeled.csv_comment_monologg_kobigbird-bert-base_1024_train_dataset.txt\n",
            "10015\n",
            "8012 features processed from ./10000_labeled.csv\n",
            "dataset_file: ./10000_labeled.csv_comment_monologg_kobigbird-bert-base_1024_dev_dataset.txt\n",
            "10015\n",
            "2003 features processed from ./10000_labeled.csv\n"
          ]
        }
      ]
    },
    {
      "cell_type": "markdown",
      "source": [
        "#### <b>데이터 로더 초기화</b>"
      ],
      "metadata": {
        "id": "dH-Uc4zFaZg9"
      }
    },
    {
      "cell_type": "code",
      "source": [
        "class IterableDatasetPad(torch.utils.data.IterableDataset):\n",
        "    def __init__(\n",
        "        self,\n",
        "        dataset: torch.utils.data.IterableDataset,\n",
        "        batch_size: int = 1,\n",
        "        num_devices: int = 1,\n",
        "        seed: int = 0,\n",
        "    ):\n",
        "        self.dataset = dataset\n",
        "        self.batch_size = batch_size\n",
        "        self.seed = seed\n",
        "        self.num_examples = 0\n",
        "\n",
        "        chunk_size = self.batch_size * num_devices\n",
        "        length = len(dataset)\n",
        "        self.length = length + (chunk_size - length % chunk_size)\n",
        "\n",
        "    def __len__(self):\n",
        "        return self.length\n",
        "\n",
        "    def __iter__(self):\n",
        "        self.num_examples = 0\n",
        "        if (\n",
        "            not hasattr(self.dataset, \"set_epoch\")\n",
        "            and hasattr(self.dataset, \"generator\")\n",
        "            and isinstance(self.dataset.generator, torch.Generator)\n",
        "        ):\n",
        "            self.dataset.generator.manual_seed(self.seed + self.epoch)\n",
        "\n",
        "        first_batch = None\n",
        "        current_batch = []\n",
        "        for element in self.dataset:\n",
        "            self.num_examples += 1\n",
        "            current_batch.append(element)\n",
        "            # Wait to have a full batch before yielding elements.\n",
        "            if len(current_batch) == self.batch_size:\n",
        "                for batch in current_batch:\n",
        "                    yield batch\n",
        "                    if first_batch is None:\n",
        "                        first_batch = batch.copy()\n",
        "                current_batch = []\n",
        "\n",
        "        while self.num_examples < self.length:\n",
        "            add_num = self.batch_size - len(current_batch)\n",
        "            self.num_examples += add_num\n",
        "            current_batch += [first_batch] * add_num\n",
        "            for batch in current_batch:\n",
        "                yield batch\n",
        "            current_batch = []"
      ],
      "metadata": {
        "id": "9T_kyo4kV_Cr"
      },
      "execution_count": 12,
      "outputs": []
    },
    {
      "cell_type": "code",
      "source": [
        "# 전처리된 데이터는 하나하나 {\"input_ids\", \"attention_mask\", \"labels\", ...} 형태를 가짐\n",
        "# PyTorch가 하나의 배치를 처리할 때는 PyTorch Tensor 형태여야 함\n",
        "# <데이터 로더에서 불러오는 \"Tensor\"를 정의하는 함수>\n",
        "def collate_fn(features):\n",
        "    input_ids = [sample[\"input_ids\"] for sample in features]\n",
        "    attention_mask = [sample[\"attention_mask\"] for sample in features]\n",
        "    preference = [sample[\"preference\"] for sample in features]\n",
        "    slang = [sample[\"slang\"] for sample in features]\n",
        "    politic = [sample[\"politic\"] for sample in features]\n",
        "\n",
        "    input_ids = torch.tensor(np.array(input_ids).astype(np.int64), dtype=torch.long)\n",
        "    attention_mask = torch.tensor(np.array(attention_mask).astype(np.int8), dtype=torch.long)\n",
        "    preference = torch.tensor(np.array(preference).astype(np.int64), dtype=torch.long)\n",
        "    slang = torch.tensor(np.array(slang).astype(np.int64), dtype=torch.float)\n",
        "    politic = torch.tensor(np.array(slang).astype(np.int64), dtype=torch.float)\n",
        "    inputs = {\n",
        "        \"input_ids\": input_ids,\n",
        "        \"attention_mask\": attention_mask,\n",
        "    }\n",
        "    labels = {\n",
        "        \"preference\": preference,\n",
        "        \"slang\": slang,\n",
        "        \"politic\": politic\n",
        "    }\n",
        "    return inputs, labels\n",
        "\n",
        "# 본 코드에서 학습을 수행하려는 경우\n",
        "if config.do_train:\n",
        "    # 학습 데이터 로더 초기화\n",
        "    train_dataset = load_dataset(\"text\", data_files=train_dataset_file, download_mode=\"force_redownload\")[\"train\"]\n",
        "    train_dataset = train_dataset.map(lambda x: json.loads(x[\"text\"]), batched=False)\n",
        "\n",
        "    train_dataloader = torch_data.DataLoader(\n",
        "        train_dataset,\n",
        "        sampler=torch_data.RandomSampler(train_dataset),\n",
        "        drop_last=False,\n",
        "        batch_size=config.train_batch_size,\n",
        "        collate_fn=(collate_fn),\n",
        "    )\n",
        "\n",
        "# 평가 데이터 세트 전처리(validation = dev 같은 의미)\n",
        "predict_dataset = load_dataset(\"text\", data_files=predict_dataset_file, download_mode=\"force_redownload\")[\"train\"]\n",
        "predict_dataset = predict_dataset.map(lambda x: json.loads(x[\"text\"]), batched=False)\n",
        "predict_dataset = IterableDatasetPad(\n",
        "    dataset=predict_dataset,\n",
        "    batch_size=config.eval_batch_size,\n",
        "    num_devices=1,\n",
        "    seed=config.seed,\n",
        ")\n",
        "\n",
        "predict_dataloader = torch_data.DataLoader(\n",
        "    predict_dataset,\n",
        "    sampler=None,\n",
        "    drop_last=False,\n",
        "    batch_size=config.eval_batch_size,\n",
        "    collate_fn=(collate_fn),\n",
        ")"
      ],
      "metadata": {
        "colab": {
          "base_uri": "https://localhost:8080/",
          "height": 273,
          "referenced_widgets": [
            "575e332e868e4292aad70aa04b30ec5b",
            "a2ec9ea3f4924c54a6b167a4fafcf288",
            "64241c09d71f42f6ab427ab9900b8531",
            "977a80e15798477984daf223c85bcdf1",
            "0510894fcdeb486ab6a9f7f146b88521",
            "e87aef0d9cf94c5b9d5b7963e80b8846",
            "6ab6525394144b39848c6edacc146d0a",
            "9c7439319afc47a7b97013d2c7c76cbd",
            "c6d8cd363c7d4d00a4276c67480b95a2",
            "c305b20c02f5470189cd75eb4137be33",
            "0d6224bebcb3414096ea7d9651dad0ad",
            "d606cfba1c03417a9e1561b9903ef340",
            "8ffc1885b7774ba38ce0922ee934378c",
            "130d804471c04d0daedd9ab138e89b4b",
            "0a83c125beea4abfb7d4e95f08137770",
            "c4729b82b2684fb8817534149a15287d",
            "fc855b723ce046849a55e114208fdbc1",
            "48fea61ddf56480781b5ae93030ea989",
            "41c3de44960749a88ee4fbcf92ce46f6",
            "ec682955f90c46eb8074dd52f07f3ab0",
            "be7502a56cd240b09db0bd85b8a75be4",
            "c50dae8769df4184bb7055ec07488ed6",
            "b4d7cd7687f047e7b3b2c4172be0fb30",
            "5b6167a3185b4ca281edf383a82c06a0",
            "fd9bdd02c3264e2ea66e44b453442b75",
            "26fadfeece1c4d7691a49cc751b539c8",
            "1eec423b6bcc4769b1e52d41570bed58",
            "3e7b671c88d74ad2bce7623c461df5e5",
            "633599fa3ab245aabe08aedfe311521c",
            "5daa6938da8e40829e670d0c1cda45d7",
            "b35bfe1b49b046f4b6d8530e37ecdb80",
            "ad08df5242e24d2d86f2f4e5867cbdbd",
            "b159f0a44d844fc1b6febb9af93ad362",
            "cc68dd67492048fd905253d4b9963ec6",
            "3571d077964e4767bc60a1bf1228179c",
            "5ac480a101744bdcaff69695afaa0c54",
            "8c2682eb0ddb49cfa39242f4d4c6464d",
            "a1f0ec27b05647f38e4c01328b387346",
            "5cd2d15c41ea4b05ad5e58e843c9a141",
            "18a3e2c2d28f4fcdbdfd92978c31ed93",
            "ad02ec77c74d4a929b9a848fcd55e6a5",
            "525f459e51d54d2a83e3c001eb157de1",
            "3d46724068074285b1954a172a1fc2f1",
            "6e69c77a9c414258bd5de8e23898021c",
            "adc0a7d5322a4a7da85a9fea51943f11",
            "3c215647d2c34a7fac0b86f8b257ec68",
            "ef31045db2d94ccf99ac71ede24439b5",
            "90dd439d491f4f92b93f7385d1992ddf",
            "3157f8a62b494d729e54fb5b7e50a6cc",
            "3aedaebbd7b342efaf071680d6c96959",
            "5ceef0d402b24e389105ad26cd82f8c8",
            "b0a165488fcc4702b8ca82da5e188506",
            "d406a6a3fe604d9785042e2b06bdf1e7",
            "03a5382399d247df97546b40953e83d8",
            "372c8e33ba2f45f1994be885f1b7699d",
            "5f4ce39ce9d642cc9d12117a82e1b379",
            "aa5aa8c0a71848b5b34b987bcd1cebb5",
            "8248e0d560994b929ec3b61071d08e8e",
            "d33510db3d6f4cde9b7cfdc4bbf46633",
            "7a56fb7e02fb48809c7705a64636ea34",
            "50d5d8ef64fd46ea86f77f107c67bbb8",
            "bbea36799dd74a9989bd5c03ccc6eebd",
            "674c903a206347a39022b483a88eed4f",
            "9ee9d5232e4b4c7f86fd197f41e08d5c",
            "366db5f01aba4d629ebfd9394e6567d5",
            "662a615d57c54cfa82cd1d7c808fb58e",
            "6cd29352cecc49d88fcfef1607e791e2",
            "8924cbbf41364ee1b57363f74d7b45bc",
            "ce024d3db229456892a8b12bcdaa5c51",
            "8bdd39db060445c8ab94a55edcaf592a",
            "4590b0e30fd44335bd6a9b1bd817ef7a",
            "b8207ac43f1448a8916882a828debbe6",
            "004a2114194f462d9b65e76d92e0b0f3",
            "051603c85059426db931e5912b1b3eed",
            "44a51f0467994802a0e2a89ab2d9609f",
            "4144340f2817457484d7a655746223ea",
            "18fc7777e040404095515c7908ae88a7",
            "6142ada01d1c42e7bfb247c0a1667dab",
            "f0a5d222482c4f099ccef515252a49cf",
            "7d5a6dba3f9d4cbba7db85b9d2517542",
            "7e801c9f1bd345afa0265398b9b001ad",
            "bfec76fdb8b2439b98649673ef3ba7b7",
            "2b4902e9b0a745ae91d1fc9c41f3b907",
            "c7e06e9305b045d0a94baadee4afe97c",
            "d29cefa4abd14bb196a9c128ee9bd555",
            "375fec6920b6432586c76a711b7e989a",
            "cd8118d33b5d4bb89e94d9bd893a86c3",
            "276e2f032cb848e794a5bd0f82f7a791"
          ]
        },
        "id": "ICk8UkNtUT6L",
        "outputId": "659c2c15-4976-4bbf-dae1-d9caacb691cb"
      },
      "execution_count": 13,
      "outputs": [
        {
          "output_type": "display_data",
          "data": {
            "text/plain": [
              "Downloading data files:   0%|          | 0/1 [00:00<?, ?it/s]"
            ],
            "application/vnd.jupyter.widget-view+json": {
              "version_major": 2,
              "version_minor": 0,
              "model_id": "575e332e868e4292aad70aa04b30ec5b"
            }
          },
          "metadata": {}
        },
        {
          "output_type": "display_data",
          "data": {
            "text/plain": [
              "Extracting data files:   0%|          | 0/1 [00:00<?, ?it/s]"
            ],
            "application/vnd.jupyter.widget-view+json": {
              "version_major": 2,
              "version_minor": 0,
              "model_id": "d606cfba1c03417a9e1561b9903ef340"
            }
          },
          "metadata": {}
        },
        {
          "output_type": "display_data",
          "data": {
            "text/plain": [
              "Generating train split: 0 examples [00:00, ? examples/s]"
            ],
            "application/vnd.jupyter.widget-view+json": {
              "version_major": 2,
              "version_minor": 0,
              "model_id": "b4d7cd7687f047e7b3b2c4172be0fb30"
            }
          },
          "metadata": {}
        },
        {
          "output_type": "display_data",
          "data": {
            "text/plain": [
              "Map:   0%|          | 0/8012 [00:00<?, ? examples/s]"
            ],
            "application/vnd.jupyter.widget-view+json": {
              "version_major": 2,
              "version_minor": 0,
              "model_id": "cc68dd67492048fd905253d4b9963ec6"
            }
          },
          "metadata": {}
        },
        {
          "output_type": "display_data",
          "data": {
            "text/plain": [
              "Downloading data files:   0%|          | 0/1 [00:00<?, ?it/s]"
            ],
            "application/vnd.jupyter.widget-view+json": {
              "version_major": 2,
              "version_minor": 0,
              "model_id": "adc0a7d5322a4a7da85a9fea51943f11"
            }
          },
          "metadata": {}
        },
        {
          "output_type": "display_data",
          "data": {
            "text/plain": [
              "Extracting data files:   0%|          | 0/1 [00:00<?, ?it/s]"
            ],
            "application/vnd.jupyter.widget-view+json": {
              "version_major": 2,
              "version_minor": 0,
              "model_id": "5f4ce39ce9d642cc9d12117a82e1b379"
            }
          },
          "metadata": {}
        },
        {
          "output_type": "display_data",
          "data": {
            "text/plain": [
              "Generating train split: 0 examples [00:00, ? examples/s]"
            ],
            "application/vnd.jupyter.widget-view+json": {
              "version_major": 2,
              "version_minor": 0,
              "model_id": "6cd29352cecc49d88fcfef1607e791e2"
            }
          },
          "metadata": {}
        },
        {
          "output_type": "display_data",
          "data": {
            "text/plain": [
              "Map:   0%|          | 0/2003 [00:00<?, ? examples/s]"
            ],
            "application/vnd.jupyter.widget-view+json": {
              "version_major": 2,
              "version_minor": 0,
              "model_id": "6142ada01d1c42e7bfb247c0a1667dab"
            }
          },
          "metadata": {}
        }
      ]
    },
    {
      "cell_type": "markdown",
      "metadata": {
        "id": "fLK23Y3wauv5"
      },
      "source": [
        "#### <b>텍스트 분류 모델 정의</b>"
      ]
    },
    {
      "cell_type": "code",
      "execution_count": 14,
      "metadata": {
        "id": "EzordVjHE52u"
      },
      "outputs": [],
      "source": [
        "from transformers import AutoModel\n",
        "import torch.nn as nn\n",
        "\n",
        "# 텍스트 분류 모델 정의\n",
        "class ClsModel(torch.nn.Module):\n",
        "    def __init__(self):\n",
        "        super().__init__()\n",
        "        # (전처리된) 학습할 데이터 세트의 경로 설정\n",
        "        data_file = os.path.join(config.data_dir, str(config.train_file))\n",
        "        # 사전 학습된 모델 가중치 불러오기\n",
        "        model_config = AutoConfig.from_pretrained(config.model_name_or_path, num_labels=config.num_labels)\n",
        "        self.model = AutoModel.from_pretrained(\n",
        "            config.model_name_or_path, config=model_config, cache_dir=config.cache_dir\n",
        "        )\n",
        "        self.classifier1 = nn.Linear(768, 5) # 선호도 분류기\n",
        "        self.classifier2 = nn.Linear(768, 1) # 비속어 분류기\n",
        "        self.classifier3 = nn.Linear(768, 1) # 정치 편향 분류기\n",
        "\n",
        "        # BERT model과 별개로, 입력 문자열을 토큰의 index로 바꾸어주는 tokenizer가 사용됨\n",
        "        self.tokenizer = tokenizer\n",
        "\n",
        "    # \"학습된 모델\"을 save_dir에 저장하는 함수\n",
        "    def save_pretrained(self, save_dir):\n",
        "        self.model.save_pretrained(save_dir)\n",
        "        # Tokenizer는 기본적으로 \"special_tokens_map_file\", \"tokenizer_file\"을 가질 수 있음\n",
        "        # 이러한 값을 제거한 뒤에 save_dir에 저장하겠다는 의미\n",
        "        for key in [\"special_tokens_map_file\", \"tokenizer_file\"]:\n",
        "            self.tokenizer.init_kwargs.pop(key, None)\n",
        "        self.tokenizer.save_pretrained(save_dir)\n",
        "\n",
        "    def get_optimizer(self): # 현재 모델을 학습하기 위한 최적화 방법(AdamW) 객체를 불러오는 함수\n",
        "        # bias랑 LayerNorm에는 decay 적용하지 않겠다는 의미\n",
        "        no_decay = [\"bias\", \"LayerNorm.weight\"]\n",
        "        optimizer_grouped_parameters = [\n",
        "            {\n",
        "                \"params\": [p for n, p in self.model.named_parameters() if not any(nd in n for nd in no_decay)],\n",
        "                \"weight_decay\": config.weight_decay,\n",
        "            },\n",
        "            {\n",
        "                \"params\": [p for n, p in self.model.named_parameters() if any(nd in n for nd in no_decay)],\n",
        "                \"weight_decay\": config.weight_decay,\n",
        "            },\n",
        "        ]\n",
        "        # AdamW의 첫 번째 인자(params)는 \"학습할 가중치\", weight_decay는 가중치에 적용되는 regularization 기법\n",
        "        optimizer = AdamW(optimizer_grouped_parameters, lr=config.learning_rate, eps=config.adam_epsilon)\n",
        "        return optimizer\n",
        "\n",
        "    def get_scheduler(self, batch_num, optimizer): # AdamW로 학습할 때, learning rate을 단계적으로 줄이기 위한 함수\n",
        "        if config.warmup_proportion == 0.0:\n",
        "            return None\n",
        "\n",
        "        t_total = batch_num // config.gradient_accumulation_steps * config.num_train_epochs\n",
        "\n",
        "        scheduler = get_linear_schedule_with_warmup(\n",
        "            optimizer,\n",
        "            num_warmup_steps=int(t_total * config.warmup_proportion),\n",
        "            num_training_steps=t_total,\n",
        "        )\n",
        "\n",
        "        return scheduler\n",
        "\n",
        "    def forward(self, inputs):\n",
        "        # print(inputs) => {\"input_ids\", \"attention_mask\"}\n",
        "        # https://huggingface.co/docs/transformers/model_doc/big_bird\n",
        "        # BigBirdModel의 입력 양식에 맞게 넣어주어야 오류가 없음\n",
        "        # BigBirdModel로 \"input_ids\", \"attention_mask\" 등 \"미리 정해진\" 규격에 맞는 입력만\n",
        "        # 들어가야 오류가 없다는 의미 => 그러므로, preference, slang 등은 들어가면 X\n",
        "        hidden = self.model(**inputs)\n",
        "        # print(hidden.last_hidden_state.shape) # torch.Size([4 (batch_size), 1024 (seq_len), 768 (embedding_size)])\n",
        "        # 마지막 레이어의 [CLS] 토큰만 가져오기\n",
        "        cls_token_embeddings = hidden.last_hidden_state[:,0,:] # [batch_size, 768]\n",
        "        # print(cls_token_embeddings.shape)\n",
        "        output_1 = self.classifier1(cls_token_embeddings) # 768 → 5\n",
        "        output_2 = self.classifier2(cls_token_embeddings) # 768 → 1\n",
        "        output_3 = self.classifier3(cls_token_embeddings) # 768 → 1\n",
        "        # print(output_1.shape) # [batch_size, 5]\n",
        "        # print(output_2.shape) # [batch_size, 1]\n",
        "        # print(output_3.shape) # [batch_size, 1]\n",
        "        return output_1, output_2, output_3\n",
        "\n",
        "    def eval_step(self, inputs, outputs):\n",
        "        logits = outputs.logits.detach().cpu()\n",
        "        predictions = self.tensor_to_list(torch.argmax(logits, dim=-1))\n",
        "        labels = self.tensor_to_list(inputs[\"labels\"])\n",
        "        results = [{\"prediction\": prediction, \"label\": label} for prediction, label in zip(predictions, labels)]\n",
        "        return results\n",
        "\n",
        "    # PyTorch의 Tensor 객체를 NumPy 객체로 변환\n",
        "    def tensor_to_array(self, tensor):\n",
        "        return tensor.detach().cpu().numpy()\n",
        "\n",
        "    # PyTorch의 Tensor 객체를 Python의 리스트(list) 자료형으로 변환\n",
        "    def tensor_to_list(self, tensor):\n",
        "        return self.tensor_to_array(tensor).tolist()"
      ]
    },
    {
      "cell_type": "code",
      "execution_count": 15,
      "metadata": {
        "id": "WNc_ouz_c2oK"
      },
      "outputs": [],
      "source": [
        "def set_seed(seed):\n",
        "    np.random.seed(seed)\n",
        "    torch.manual_seed(seed)\n",
        "    torch.cuda.manual_seed_all(seed)\n",
        "    torch.backends.cudnn.deterministic = True\n",
        "    torch.backends.cudnn.benchmark = True\n",
        "\n",
        "def cal_running_avg_loss(loss, running_avg_loss, decay=0.99):\n",
        "    if running_avg_loss == 0:\n",
        "        return loss\n",
        "    running_avg_loss = running_avg_loss * decay + (1 - decay) * loss\n",
        "    return running_avg_loss"
      ]
    },
    {
      "cell_type": "markdown",
      "metadata": {
        "id": "9ZKdxuz1fT_C"
      },
      "source": [
        "#### <b>모델 학습 및 평가 라이브러리</b>"
      ]
    },
    {
      "cell_type": "code",
      "execution_count": 16,
      "metadata": {
        "id": "Dt87LWjVfR4q"
      },
      "outputs": [],
      "source": [
        "from functools import partial\n",
        "import sklearn.metrics as sklearn_metrics\n",
        "\n",
        "binary_metrics = {\n",
        "    \"accuracy\": sklearn_metrics.accuracy_score,\n",
        "    \"precision\": sklearn_metrics.precision_score, # TP / (TP + FP)\n",
        "    \"recall\": sklearn_metrics.recall_score, # recall = sensitivity (민감도)\n",
        "    \"f1\": sklearn_metrics.f1_score,\n",
        "    \"matthews_corrcoef\": sklearn_metrics.matthews_corrcoef,\n",
        "    \"roc_auc\": sklearn_metrics.roc_auc_score,\n",
        "}\n",
        "\n",
        "metrics = {\n",
        "    \"accuracy\": sklearn_metrics.accuracy_score,\n",
        "    \"f1-macro\": partial(sklearn_metrics.f1_score, average=\"macro\"),\n",
        "}\n",
        "\n",
        "\n",
        "def eval_cls(results, **kwargs):\n",
        "    predictions = np.array([result[\"prediction\"] for result in results])\n",
        "    labels = np.array([result[\"label\"] for result in results])\n",
        "    is_binary = len(set(labels.tolist())) < 3\n",
        "    results = {\n",
        "        metric: round(f(labels, predictions) * 100, 2)\n",
        "        for metric, f in (binary_metrics.items() if is_binary else metrics.items())\n",
        "    }\n",
        "    return {\n",
        "        \"results\": results,\n",
        "        \"best_score\": results[\"f1\" if is_binary else \"f1-macro\"],\n",
        "    }"
      ]
    },
    {
      "cell_type": "code",
      "execution_count": 17,
      "metadata": {
        "id": "orQFvXpcfVop"
      },
      "outputs": [],
      "source": [
        "# _run_epoch() 함수는, 우리가 흔히 알고있는 학습 함수와 동일\n",
        "def _run_epoch(model, loader, device=None, context=None, **kwargs):\n",
        "    config = kwargs[\"config\"]\n",
        "    is_train = kwargs[\"is_train\"]\n",
        "\n",
        "    avg_loss = 0\n",
        "    results = []\n",
        "    batch_num = len(loader)\n",
        "\n",
        "    if is_train:\n",
        "        model.train()\n",
        "        if config.use_tpu:\n",
        "            optimizer = context.getattr_or(\n",
        "                \"optimizer\",\n",
        "                lambda: model.get_optimizer(),\n",
        "            )\n",
        "            scheduler = context.getattr_or(\n",
        "                \"scheduler\",\n",
        "                lambda: model.get_scheduler(batch_num, optimizer),\n",
        "            )\n",
        "        else:\n",
        "            optimizer = kwargs[\"optimizer\"]\n",
        "            scheduler = kwargs[\"scheduler\"]\n",
        "    else:\n",
        "        model.eval()\n",
        "\n",
        "    is_master = True\n",
        "\n",
        "    pbar = tqdm(enumerate(loader), total=batch_num, disable=not is_master, dynamic_ncols=True, position=0, leave=True)\n",
        "\n",
        "    corrected_1 = 0\n",
        "    corrected_2 = 0\n",
        "    corrected_3 = 0\n",
        "    total = 0\n",
        "    total_hate = 0\n",
        "\n",
        "    for i, (inputs, labels) in pbar:\n",
        "        # inputs: {\"input_ids\": [batch_size(4), seq_len, 768], \"attention_mask\": [batch_size(4), seq_len, 768]}\n",
        "        # labels: {\"preference\": [batch_size(4), 1], \"slang\": [batch_size(4), 1], \"politic\": [batch_size(4), 1]}\n",
        "        if not config.use_tpu:\n",
        "            # (k, v) => (\"input_ids\", value)\n",
        "            # (k, v) => (\"attention_mask\", value)\n",
        "            for k, v in inputs.items():\n",
        "                if isinstance(v, torch.Tensor):\n",
        "                    inputs[k] = v.to(device)\n",
        "            for k, v in labels.items():\n",
        "                if isinstance(v, torch.Tensor):\n",
        "                    labels[k] = v.to(device)\n",
        "\n",
        "        outputs = model(inputs)\n",
        "\n",
        "        # 첫 번째는 preference 예측 결과 [batch_size, 5] (cuda)\n",
        "        outputs_1 = outputs[0]\n",
        "        # print(outputs_1)\n",
        "        # 두 번째는 slang 예측 결과 [batch_size, 1] (cuda)\n",
        "        outputs_2 = outputs[1]\n",
        "        # print(outputs_2)\n",
        "        # 세 번째는 politic 예측 결과 [batch_size, 1] (cuda)\n",
        "        outputs_3 = outputs[2]\n",
        "        # print(outputs_3)\n",
        "\n",
        "        # 첫 번째 정답 레이블은 preference 정답 [batch_size] => 스칼라 (cuda)\n",
        "        labels_1 = labels[\"preference\"]\n",
        "        # print(labels_1)\n",
        "\n",
        "        # 두 번째 정답 레이블은 slang 정답 [batch_size] => 스칼라 (cuda)\n",
        "        labels_2 = labels[\"slang\"]\n",
        "        # print(labels_2)\n",
        "\n",
        "        # 세 번째 정답 레이블은 politic 정답 [batch_size] => 스칼라 (cuda)\n",
        "        labels_3 = labels[\"politic\"]\n",
        "        # print(labels_3)\n",
        "\n",
        "        # Cross-Entropy는 기본적으로 [batch_size, 클래수 개수]랑 [batch_size, 정답 레이블 int 자료형]\n",
        "        loss_function_1 = nn.CrossEntropyLoss()\n",
        "        loss_1 = loss_function_1(outputs_1, labels_1) # 말 그대로 scalr (cuda)\n",
        "        # print(loss_1)\n",
        "\n",
        "        total += outputs_1.shape[0] # batch_size만큼 더해주기\n",
        "\n",
        "        _, predicted = outputs_1.max(1)\n",
        "        corrected_1 += predicted.eq(labels_1).sum().item() # 선호도 예측을 얼마나 맞혔는가?\n",
        "        print(predicted)\n",
        "\n",
        "        # BCE Loss는 기본적으로 [batch_size(sigmoid 거친 결과)]랑 [batch_size]를 비교\n",
        "        sigmoid = nn.Sigmoid()\n",
        "        loss_function_2 = nn.BCELoss()\n",
        "        sigmoid_output = sigmoid(outputs_2)\n",
        "        loss_2 = loss_function_2(sigmoid_output.squeeze(1), labels_2)  # 말 그대로 scalr (cuda)\n",
        "        threshold = 0.5\n",
        "        predicted = sigmoid_output.squeeze(1) >= threshold\n",
        "        corrected_2 += predicted.eq(labels_2).sum().item()\n",
        "        print(predicted)\n",
        "\n",
        "        # loss_2: [1]\n",
        "        # print(loss_2)\n",
        "\n",
        "        # 선호도 값이 0 혹은 1일 때만 특정 loss 값에 gradient가 흐르도록\n",
        "        loss_mask = torch.ones_like(labels_1).to(device) # [batch_size]로 동일하게 만들고\n",
        "        loss_mask[labels_1 >= 2] = 0 # preference의 값이 2 이상인 경우, 동일한 위치에 0이 들어감\n",
        "        total_hate += torch.sum(labels_1 <= 1) # hate speech의 개수 카운트\n",
        "\n",
        "        loss_function_3 = nn.BCELoss(reduction=\"none\") # 마스크를 씌우기 위해 reduction 값으로 \"none\"\n",
        "        # reduction이란? loss 값을 스칼라 값으로 만들기 위해, batch 안의 데이터에 대하여 loss 평균 혹은 합계 구하는 등\n",
        "        sigmoid_output = sigmoid(outputs_3)\n",
        "        loss_3 = loss_function_3(sigmoid_output.squeeze(1), labels_3)\n",
        "\n",
        "        threshold = 0.5\n",
        "        predicted = sigmoid_output.squeeze(1) >= threshold\n",
        "        # 선호도가 1 이하인 데이터에 한해서만 예측 결과(predicted)와 정답(labels)가 일치하는 개수를 센다.\n",
        "        corrected_3 += predicted[labels_1 <= 1].eq(labels_3[labels_1 <= 1]).sum().item()\n",
        "        print(predicted[labels_1 <= 1])\n",
        "\n",
        "        # loss_3: [batch_size]\n",
        "        loss_3 = torch.mean(loss_3 * loss_mask)\n",
        "        # 예시) [0.8, 0.2, 0.5, 0.9] * [0, 0, 0, 1] = [0, 0, 0, 0.9]\n",
        "        # print(loss_3)\n",
        "\n",
        "        print(f\"선호도 예측 학습 정확도: {corrected_1 / total}, 비속어 예측 학습 정확도: {corrected_2 / total}, 정치 예측 학습 정확도: {corrected_3 / total_hate}\")\n",
        "\n",
        "        w_1 = 1\n",
        "        w_2 = 1\n",
        "        w_3 = 1\n",
        "        loss = w_1 * loss_1 + w_2 * loss_2 + w_3 * loss_3\n",
        "\n",
        "        # AutoClass는 loss가 내부적으로 사용됨 => cross entropy 쓰임.\n",
        "        avg_loss = cal_running_avg_loss(loss.item(), avg_loss)\n",
        "        loss /= config.gradient_accumulation_steps\n",
        "\n",
        "        if is_train:\n",
        "            loss.backward()\n",
        "            if i % config.gradient_accumulation_steps == 0 or i == batch_num - 1:\n",
        "                if config.max_grad_norm > 0:\n",
        "                    torch.nn.utils.clip_grad_norm_(model.parameters(), config.max_grad_norm)\n",
        "\n",
        "                optimizer.step()\n",
        "                optimizer.zero_grad()\n",
        "\n",
        "                if scheduler is not None:\n",
        "                    scheduler.step()\n",
        "        # 평가 모드일 때 호출되는 부분\n",
        "        else:\n",
        "            result = (model.module if hasattr(model, \"module\") else model).eval_step(inputs, outputs)\n",
        "            results.extend(result)\n",
        "\n",
        "        if is_master:\n",
        "            pbar.set_description(\n",
        "                f\"epoch: {kwargs['epoch'] + 1}, {('train' if is_train else 'valid')} loss: {min(100, round(avg_loss, 4))}\"\n",
        "            )\n",
        "\n",
        "    # 현재 epoch에 대해서 학습이 끝나고 나면 (loss, result)를 반환\n",
        "    return {\n",
        "        \"loss\": avg_loss,\n",
        "        \"result\": results,\n",
        "    }\n",
        "\n",
        "# 학습 코드에서 호출하는 함수\n",
        "def run_epoch(**kwargs):\n",
        "    model = kwargs.pop(\"model\")\n",
        "    if kwargs[\"config\"].use_tpu:\n",
        "        results = model(_run_epoch, **kwargs)\n",
        "    else:\n",
        "        results = _run_epoch(model, **kwargs)\n",
        "\n",
        "    if isinstance(results, list):\n",
        "        loss = sum([result[\"loss\"] for result in results]) / len(results)\n",
        "        result = []\n",
        "        for res in results:\n",
        "            result.extend(res[\"result\"])\n",
        "        results = {\"loss\": loss, \"result\": result}\n",
        "\n",
        "    return results"
      ]
    },
    {
      "cell_type": "code",
      "source": [
        "\"\"\"\n",
        "labels_1 = torch.Tensor([1, 2, 3, 4])\n",
        "loss_mask = torch.ones_like(labels_1) # [batch_size]로 동일하게 만들고\n",
        "loss_mask[labels_1 >= 2] = 0 # preference의 값이 2 이상인 경우, 동일한 위치에 0이 들어감\n",
        "print(loss_mask)\n",
        "\"\"\""
      ],
      "metadata": {
        "colab": {
          "base_uri": "https://localhost:8080/",
          "height": 55
        },
        "id": "9V5JGSztlqK0",
        "outputId": "c5a87c59-667f-4bb4-af44-5ca5523cbc83"
      },
      "execution_count": 18,
      "outputs": [
        {
          "output_type": "execute_result",
          "data": {
            "text/plain": [
              "'\\nlabels_1 = torch.Tensor([1, 2, 3, 4])\\nloss_mask = torch.ones_like(labels_1) # [batch_size]로 동일하게 만들고\\nloss_mask[labels_1 >= 2] = 0 # preference의 값이 2 이상인 경우, 동일한 위치에 0이 들어감\\nprint(loss_mask)\\n'"
            ],
            "application/vnd.google.colaboratory.intrinsic+json": {
              "type": "string"
            }
          },
          "metadata": {},
          "execution_count": 18
        }
      ]
    },
    {
      "cell_type": "markdown",
      "metadata": {
        "id": "Fc_gQCjxffEY"
      },
      "source": [
        "#### <b>딥러닝 모델 초기화 및 설정</b>"
      ]
    },
    {
      "cell_type": "code",
      "execution_count": 19,
      "metadata": {
        "colab": {
          "base_uri": "https://localhost:8080/"
        },
        "id": "ZOns-W1GfemT",
        "outputId": "5acc4dd2-2f77-43ed-db0a-fb88df3c9a49"
      },
      "outputs": [
        {
          "output_type": "stream",
          "name": "stdout",
          "text": [
            "configuration: namespace(task='cls', dataset='comment', cache_dir='cache', output_dir='output', use_tpu=False, model_name_or_path='monologg/kobigbird-bert-base', data_dir='./', train_file='10000_labeled.csv', predict_file='10000_labeled.csv', max_seq_length=1024, train_batch_size=4, eval_batch_size=2, learning_rate=3e-05, num_train_epochs=10, num_labels=5, gradient_accumulation_steps=2, threads=4, seed=42, do_train=True, do_eval_during_train=True, do_eval=True, do_lower_case=False, weight_decay=0.0, adam_epsilon=1e-08, max_grad_norm=1.0, warmup_proportion=0.0)\n",
            "1 GPU device detected\n",
            "Output directory: output/cls/comment\n"
          ]
        }
      ],
      "source": [
        "# 현재 모델 이름이 \"monologg/kobigbird-bert-base\" 이므로, Hugging Face에서 찾아서 불러옴\n",
        "set_seed(config.seed)\n",
        "\n",
        "# 딥러닝 모델 초기화\n",
        "model = ClsModel()\n",
        "\n",
        "print(f\"configuration: {str(config)}\")\n",
        "\n",
        "if torch.cuda.is_available(): # GPU를 사용할 수 있다면\n",
        "    gpu_count = torch.cuda.device_count()\n",
        "    print(f\"{gpu_count} GPU device detected\")\n",
        "    devices = [\"cuda:{}\".format(i) for i in range(gpu_count)]\n",
        "    model_dp = torch.nn.DataParallel(model, device_ids=devices)\n",
        "    model.to(devices[0])\n",
        "else: # GPU를 사용할 수 없다면 CPU로 구동\n",
        "    devices = [\"cpu\"]\n",
        "    model_dp = model\n",
        "\n",
        "# 학습 결과를 저장하기 위한 폴더 만들기\n",
        "if not os.path.exists(config.cache_dir):\n",
        "    os.makedirs(config.cache_dir)\n",
        "\n",
        "output_dir = os.path.join(config.output_dir, config.task, config.dataset)\n",
        "print(\"Output directory:\", output_dir)\n",
        "if not os.path.exists(output_dir):\n",
        "    os.makedirs(output_dir)\n",
        "\n",
        "# 실제 학습을 위해 optimizer 및 scheduler 초기화\n",
        "optimizer = None\n",
        "scheduler = None\n",
        "if config.do_train: # 학습 모드(train mode)인 경우\n",
        "    optimizer = model.get_optimizer()\n",
        "    scheduler = model.get_scheduler(len(train_dataloader), optimizer)\n",
        "\n",
        "params = {\n",
        "    \"config\": config,\n",
        "    \"model\": model_dp,\n",
        "    \"optimizer\": optimizer,\n",
        "    \"scheduler\": scheduler,\n",
        "}\n",
        "if not config.use_tpu:\n",
        "    params[\"device\"] = devices[0]"
      ]
    },
    {
      "cell_type": "markdown",
      "metadata": {
        "id": "iziDJg23gorw"
      },
      "source": [
        "#### 모델 학습하기"
      ]
    },
    {
      "cell_type": "code",
      "source": [
        "def do_eval(epoch):\n",
        "    with torch.no_grad():\n",
        "        results = run_epoch(loader=predict_dataloader, epoch=epoch, is_train=False, **params)[\"result\"]\n",
        "        results = eval_cls(\n",
        "            config=config,\n",
        "            model=model,\n",
        "            loader=predict_dataloader,\n",
        "            tokenizer=model.tokenizer,\n",
        "            results=results,\n",
        "        )\n",
        "\n",
        "    print(\"Eval results.\")\n",
        "    for k, v in results[\"results\"].items():\n",
        "        print(f\"{k} : {v}\")\n",
        "\n",
        "    return results[\"best_score\"]\n",
        "\n",
        "# [학습 성공] 비속어 분류: 실제 학습 데이터 비율상, \"비속어\"의 비율이 약 37% => 지금 결과가 70% 이상이므로 정상적으로 분류 중\n",
        "#\n",
        "train_losses = []\n",
        "val_accuracies = []\n",
        "if config.do_train:\n",
        "    best_score = 0\n",
        "    for epoch in range(config.num_train_epochs):\n",
        "        # run_epoch으로 학습 진행 => train_loader를 이용해 학습\n",
        "        train_results = run_epoch(loader=train_dataloader, epoch=epoch, is_train=True, **params)\n",
        "        train_loss = train_results['loss']\n",
        "        train_losses.append(train_loss)\n",
        "\n",
        "        score = 0\n",
        "        if config.do_eval_during_train:\n",
        "            score = do_eval(epoch)\n",
        "            val_accuracies.append(score)\n",
        "\n",
        "        if score >= best_score:\n",
        "            best_score = score\n",
        "            output_dir = os.path.join(config.output_dir, config.task, config.dataset, f\"{epoch}-{best_score}-ckpt\")\n",
        "            copy.deepcopy(\n",
        "                model_dp.module\n",
        "                if hasattr(model_dp, \"module\")\n",
        "                else model_dp._models[0]\n",
        "                if hasattr(model_dp, \"_models\")\n",
        "                else model_dp\n",
        "            ).cpu().save_pretrained(output_dir)\n",
        "            with open(os.path.join(output_dir, \"finetune_config.json\"), \"w\") as save_config:\n",
        "                json.dump(vars(config), save_config, sort_keys=True, indent=4)\n",
        "            print(f\"Checkpoint {output_dir} saved.\")"
      ],
      "metadata": {
        "colab": {
          "base_uri": "https://localhost:8080/"
        },
        "id": "ibdTiq1Ue2D8",
        "outputId": "53383735-c930-44c2-93c4-2e6ff330e766"
      },
      "execution_count": null,
      "outputs": [
        {
          "output_type": "stream",
          "name": "stderr",
          "text": [
            "\r  0%|          | 0/2003 [00:00<?, ?it/s]"
          ]
        },
        {
          "output_type": "stream",
          "name": "stdout",
          "text": [
            "tensor([4, 4, 4, 4], device='cuda:0')\n",
            "tensor([False, False, False, False], device='cuda:0')\n",
            "tensor([False], device='cuda:0')\n",
            "선호도 예측 학습 정확도: 0.0, 비속어 예측 학습 정확도: 0.5, 정치 예측 학습 정확도: 0.0\n"
          ]
        },
        {
          "output_type": "stream",
          "name": "stderr",
          "text": [
            "epoch: 1, train loss: 2.5584:   0%|          | 1/2003 [00:03<2:03:36,  3.70s/it]"
          ]
        },
        {
          "output_type": "stream",
          "name": "stdout",
          "text": [
            "tensor([4, 2, 2, 4], device='cuda:0')\n",
            "tensor([False, False, False, False], device='cuda:0')\n",
            "tensor([False], device='cuda:0')\n",
            "선호도 예측 학습 정확도: 0.125, 비속어 예측 학습 정확도: 0.75, 정치 예측 학습 정확도: 0.5\n"
          ]
        },
        {
          "output_type": "stream",
          "name": "stderr",
          "text": [
            "epoch: 1, train loss: 2.5558:   0%|          | 2/2003 [00:05<1:19:12,  2.38s/it]"
          ]
        },
        {
          "output_type": "stream",
          "name": "stdout",
          "text": [
            "tensor([4, 4, 4, 4], device='cuda:0')\n",
            "tensor([False, False, False, False], device='cuda:0')\n",
            "tensor([False], device='cuda:0')\n",
            "선호도 예측 학습 정확도: 0.08333333333333333, 비속어 예측 학습 정확도: 0.75, 정치 예측 학습 정확도: 0.3333333432674408\n"
          ]
        },
        {
          "output_type": "stream",
          "name": "stderr",
          "text": [
            "epoch: 1, train loss: 2.5556:   0%|          | 3/2003 [00:06<1:06:07,  1.98s/it]"
          ]
        },
        {
          "output_type": "stream",
          "name": "stdout",
          "text": [
            "tensor([2, 2, 3, 2], device='cuda:0')\n",
            "tensor([False, False, False, False], device='cuda:0')\n",
            "tensor([False], device='cuda:0')\n",
            "선호도 예측 학습 정확도: 0.1875, 비속어 예측 학습 정확도: 0.75, 정치 예측 학습 정확도: 0.25\n"
          ]
        },
        {
          "output_type": "stream",
          "name": "stderr",
          "text": [
            "epoch: 1, train loss: 2.5527:   0%|          | 4/2003 [00:08<59:33,  1.79s/it]  "
          ]
        },
        {
          "output_type": "stream",
          "name": "stdout",
          "text": [
            "tensor([2, 2, 2, 2], device='cuda:0')\n",
            "tensor([False, False, False, False], device='cuda:0')\n",
            "tensor([False], device='cuda:0')\n",
            "선호도 예측 학습 정확도: 0.3, 비속어 예측 학습 정확도: 0.8, 정치 예측 학습 정확도: 0.4000000059604645\n"
          ]
        },
        {
          "output_type": "stream",
          "name": "stderr",
          "text": [
            "epoch: 1, train loss: 2.5477:   0%|          | 5/2003 [00:09<56:01,  1.68s/it]"
          ]
        },
        {
          "output_type": "stream",
          "name": "stdout",
          "text": [
            "tensor([2, 2, 2, 2], device='cuda:0')\n",
            "tensor([False, False, False, False], device='cuda:0')\n",
            "tensor([False], device='cuda:0')\n",
            "선호도 예측 학습 정확도: 0.375, 비속어 예측 학습 정확도: 0.8333333333333334, 정치 예측 학습 정확도: 0.5\n"
          ]
        },
        {
          "output_type": "stream",
          "name": "stderr",
          "text": [
            "epoch: 1, train loss: 2.5396:   0%|          | 6/2003 [00:11<52:56,  1.59s/it]"
          ]
        },
        {
          "output_type": "stream",
          "name": "stdout",
          "text": [
            "tensor([2, 2, 2, 2], device='cuda:0')\n",
            "tensor([False, False, False, False], device='cuda:0')\n",
            "tensor([False, False], device='cuda:0')\n",
            "선호도 예측 학습 정확도: 0.39285714285714285, 비속어 예측 학습 정확도: 0.75, 정치 예측 학습 정확도: 0.375\n"
          ]
        },
        {
          "output_type": "stream",
          "name": "stderr",
          "text": [
            "epoch: 1, train loss: 2.5392:   0%|          | 7/2003 [00:12<51:37,  1.55s/it]"
          ]
        },
        {
          "output_type": "stream",
          "name": "stdout",
          "text": [
            "tensor([2, 2, 2, 2], device='cuda:0')\n",
            "tensor([False, False, False, False], device='cuda:0')\n",
            "tensor([False,  True], device='cuda:0')\n",
            "선호도 예측 학습 정확도: 0.40625, 비속어 예측 학습 정확도: 0.71875, 정치 예측 학습 정확도: 0.30000001192092896\n"
          ]
        },
        {
          "output_type": "stream",
          "name": "stderr",
          "text": [
            "epoch: 1, train loss: 2.5388:   0%|          | 8/2003 [00:14<50:59,  1.53s/it]"
          ]
        },
        {
          "output_type": "stream",
          "name": "stdout",
          "text": [
            "tensor([2, 2, 2, 2], device='cuda:0')\n",
            "tensor([False, False, False,  True], device='cuda:0')\n",
            "tensor([False, False], device='cuda:0')\n",
            "선호도 예측 학습 정확도: 0.4166666666666667, 비속어 예측 학습 정확도: 0.6944444444444444, 정치 예측 학습 정확도: 0.25\n"
          ]
        },
        {
          "output_type": "stream",
          "name": "stderr",
          "text": [
            "epoch: 1, train loss: 2.5387:   0%|          | 9/2003 [00:15<50:30,  1.52s/it]"
          ]
        },
        {
          "output_type": "stream",
          "name": "stdout",
          "text": [
            "tensor([2, 2, 2, 2], device='cuda:0')\n",
            "tensor([False, False, False, False], device='cuda:0')\n",
            "tensor([False, False], device='cuda:0')\n",
            "선호도 예측 학습 정확도: 0.425, 비속어 예측 학습 정확도: 0.675, 정치 예측 학습 정확도: 0.2142857313156128\n"
          ]
        },
        {
          "output_type": "stream",
          "name": "stderr",
          "text": [
            "epoch: 1, train loss: 2.5392:   0%|          | 10/2003 [00:16<48:48,  1.47s/it]"
          ]
        },
        {
          "output_type": "stream",
          "name": "stdout",
          "text": [
            "tensor([2, 2, 2, 2], device='cuda:0')\n",
            "tensor([False, False, False, False], device='cuda:0')\n",
            "tensor([False], device='cuda:0')\n",
            "선호도 예측 학습 정확도: 0.45454545454545453, 비속어 예측 학습 정확도: 0.6590909090909091, 정치 예측 학습 정확도: 0.20000001788139343\n"
          ]
        },
        {
          "output_type": "stream",
          "name": "stderr",
          "text": [
            "epoch: 1, train loss: 2.5327:   1%|          | 11/2003 [00:18<48:01,  1.45s/it]"
          ]
        },
        {
          "output_type": "stream",
          "name": "stdout",
          "text": [
            "tensor([2, 2, 2, 2], device='cuda:0')\n",
            "tensor([False, False, False, False], device='cuda:0')\n",
            "tensor([True], device='cuda:0')\n",
            "선호도 예측 학습 정확도: 0.4583333333333333, 비속어 예측 학습 정확도: 0.6666666666666666, 정치 예측 학습 정확도: 0.25\n"
          ]
        },
        {
          "output_type": "stream",
          "name": "stderr",
          "text": [
            "epoch: 1, train loss: 2.5273:   1%|          | 12/2003 [00:19<47:21,  1.43s/it]"
          ]
        },
        {
          "output_type": "stream",
          "name": "stdout",
          "text": [
            "tensor([2, 2, 2, 2], device='cuda:0')\n",
            "tensor([False, False, False, False], device='cuda:0')\n",
            "tensor([], device='cuda:0', dtype=torch.bool)\n",
            "선호도 예측 학습 정확도: 0.4807692307692308, 비속어 예측 학습 정확도: 0.6730769230769231, 정치 예측 학습 정확도: 0.25\n"
          ]
        },
        {
          "output_type": "stream",
          "name": "stderr",
          "text": [
            "epoch: 1, train loss: 2.5182:   1%|          | 13/2003 [00:21<47:13,  1.42s/it]"
          ]
        },
        {
          "output_type": "stream",
          "name": "stdout",
          "text": [
            "tensor([2, 2, 2, 2], device='cuda:0')\n",
            "tensor([False, False, False, False], device='cuda:0')\n",
            "tensor([True, True], device='cuda:0')\n",
            "선호도 예측 학습 정확도: 0.48214285714285715, 비속어 예측 학습 정확도: 0.6785714285714286, 정치 예측 학습 정확도: 0.2777777910232544\n"
          ]
        },
        {
          "output_type": "stream",
          "name": "stderr",
          "text": [
            "epoch: 1, train loss: 2.5157:   1%|          | 14/2003 [00:22<46:43,  1.41s/it]"
          ]
        },
        {
          "output_type": "stream",
          "name": "stdout",
          "text": [
            "tensor([2, 2, 2, 2], device='cuda:0')\n",
            "tensor([False, False, False, False], device='cuda:0')\n",
            "tensor([], device='cuda:0', dtype=torch.bool)\n",
            "선호도 예측 학습 정확도: 0.5166666666666667, 비속어 예측 학습 정확도: 0.6833333333333333, 정치 예측 학습 정확도: 0.2777777910232544\n"
          ]
        },
        {
          "output_type": "stream",
          "name": "stderr",
          "text": [
            "epoch: 1, train loss: 2.5014:   1%|          | 15/2003 [00:23<46:34,  1.41s/it]"
          ]
        },
        {
          "output_type": "stream",
          "name": "stdout",
          "text": [
            "tensor([2, 2, 2, 2], device='cuda:0')\n",
            "tensor([False, False, False, False], device='cuda:0')\n",
            "tensor([], device='cuda:0', dtype=torch.bool)\n",
            "선호도 예측 학습 정확도: 0.546875, 비속어 예측 학습 정확도: 0.703125, 정치 예측 학습 정확도: 0.2777777910232544\n"
          ]
        },
        {
          "output_type": "stream",
          "name": "stderr",
          "text": [
            "epoch: 1, train loss: 2.4862:   1%|          | 16/2003 [00:25<46:08,  1.39s/it]"
          ]
        },
        {
          "output_type": "stream",
          "name": "stdout",
          "text": [
            "tensor([2, 2, 2, 2], device='cuda:0')\n",
            "tensor([False, False, False, False], device='cuda:0')\n",
            "tensor([], device='cuda:0', dtype=torch.bool)\n",
            "선호도 예측 학습 정확도: 0.5588235294117647, 비속어 예측 학습 정확도: 0.7058823529411765, 정치 예측 학습 정확도: 0.2777777910232544\n"
          ]
        },
        {
          "output_type": "stream",
          "name": "stderr",
          "text": [
            "epoch: 1, train loss: 2.4786:   1%|          | 17/2003 [00:26<46:10,  1.40s/it]"
          ]
        },
        {
          "output_type": "stream",
          "name": "stdout",
          "text": [
            "tensor([2, 2, 2, 2], device='cuda:0')\n",
            "tensor([False, False, False, False], device='cuda:0')\n",
            "tensor([False,  True], device='cuda:0')\n",
            "선호도 예측 학습 정확도: 0.5416666666666666, 비속어 예측 학습 정확도: 0.6944444444444444, 정치 예측 학습 정확도: 0.30000001192092896\n"
          ]
        },
        {
          "output_type": "stream",
          "name": "stderr",
          "text": [
            "epoch: 1, train loss: 2.4822:   1%|          | 18/2003 [00:27<45:52,  1.39s/it]"
          ]
        },
        {
          "output_type": "stream",
          "name": "stdout",
          "text": [
            "tensor([2, 2, 2, 2], device='cuda:0')\n",
            "tensor([False, False, False, False], device='cuda:0')\n",
            "tensor([True], device='cuda:0')\n",
            "선호도 예측 학습 정확도: 0.5526315789473685, 비속어 예측 학습 정확도: 0.6842105263157895, 정치 예측 학습 정확도: 0.3333333432674408\n"
          ]
        },
        {
          "output_type": "stream",
          "name": "stderr",
          "text": [
            "epoch: 1, train loss: 2.4741:   1%|          | 19/2003 [00:29<46:01,  1.39s/it]"
          ]
        },
        {
          "output_type": "stream",
          "name": "stdout",
          "text": [
            "tensor([2, 2, 2, 2], device='cuda:0')\n",
            "tensor([False, False, False, False], device='cuda:0')\n",
            "tensor([True], device='cuda:0')\n",
            "선호도 예측 학습 정확도: 0.5625, 비속어 예측 학습 정확도: 0.6875, 정치 예측 학습 정확도: 0.3181818127632141\n"
          ]
        },
        {
          "output_type": "stream",
          "name": "stderr",
          "text": [
            "epoch: 1, train loss: 2.4647:   1%|          | 20/2003 [00:30<45:44,  1.38s/it]"
          ]
        },
        {
          "output_type": "stream",
          "name": "stdout",
          "text": [
            "tensor([2, 2, 2, 2], device='cuda:0')\n",
            "tensor([False, False, False, False], device='cuda:0')\n",
            "tensor([], device='cuda:0', dtype=torch.bool)\n",
            "선호도 예측 학습 정확도: 0.5833333333333334, 비속어 예측 학습 정확도: 0.6785714285714286, 정치 예측 학습 정확도: 0.3181818127632141\n"
          ]
        },
        {
          "output_type": "stream",
          "name": "stderr",
          "text": [
            "epoch: 1, train loss: 2.4507:   1%|          | 21/2003 [00:32<46:03,  1.39s/it]"
          ]
        },
        {
          "output_type": "stream",
          "name": "stdout",
          "text": [
            "tensor([2, 2, 2, 2], device='cuda:0')\n",
            "tensor([False, False, False, False], device='cuda:0')\n",
            "tensor([True], device='cuda:0')\n",
            "선호도 예측 학습 정확도: 0.5909090909090909, 비속어 예측 학습 정확도: 0.6704545454545454, 정치 예측 학습 정확도: 0.3478260934352875\n"
          ]
        },
        {
          "output_type": "stream",
          "name": "stderr",
          "text": [
            "epoch: 1, train loss: 2.4448:   1%|          | 22/2003 [00:33<45:55,  1.39s/it]"
          ]
        },
        {
          "output_type": "stream",
          "name": "stdout",
          "text": [
            "tensor([2, 2, 2, 2], device='cuda:0')\n",
            "tensor([False, False, False, False], device='cuda:0')\n",
            "tensor([True, True], device='cuda:0')\n",
            "선호도 예측 학습 정확도: 0.5869565217391305, 비속어 예측 학습 정확도: 0.6739130434782609, 정치 예측 학습 정확도: 0.35999998450279236\n"
          ]
        },
        {
          "output_type": "stream",
          "name": "stderr",
          "text": [
            "epoch: 1, train loss: 2.4397:   1%|          | 23/2003 [00:34<46:11,  1.40s/it]"
          ]
        },
        {
          "output_type": "stream",
          "name": "stdout",
          "text": [
            "tensor([2, 2, 2, 2], device='cuda:0')\n",
            "tensor([False, False, False, False], device='cuda:0')\n",
            "tensor([True], device='cuda:0')\n",
            "선호도 예측 학습 정확도: 0.59375, 비속어 예측 학습 정확도: 0.6666666666666666, 정치 예측 학습 정확도: 0.38461539149284363\n"
          ]
        },
        {
          "output_type": "stream",
          "name": "stderr",
          "text": [
            "epoch: 1, train loss: 2.4343:   1%|          | 24/2003 [00:36<46:00,  1.39s/it]"
          ]
        },
        {
          "output_type": "stream",
          "name": "stdout",
          "text": [
            "tensor([2, 2, 2, 2], device='cuda:0')\n",
            "tensor([False, False, False, False], device='cuda:0')\n",
            "tensor([], device='cuda:0', dtype=torch.bool)\n",
            "선호도 예측 학습 정확도: 0.6, 비속어 예측 학습 정확도: 0.67, 정치 예측 학습 정확도: 0.38461539149284363\n"
          ]
        },
        {
          "output_type": "stream",
          "name": "stderr",
          "text": [
            "epoch: 1, train loss: 2.4243:   1%|          | 25/2003 [00:37<46:11,  1.40s/it]"
          ]
        },
        {
          "output_type": "stream",
          "name": "stdout",
          "text": [
            "tensor([2, 2, 2, 2], device='cuda:0')\n",
            "tensor([False, False, False, False], device='cuda:0')\n",
            "tensor([True], device='cuda:0')\n",
            "선호도 예측 학습 정확도: 0.6057692307692307, 비속어 예측 학습 정확도: 0.6730769230769231, 정치 예측 학습 정확도: 0.40740740299224854\n"
          ]
        },
        {
          "output_type": "stream",
          "name": "stderr",
          "text": [
            "epoch: 1, train loss: 2.414:   1%|▏         | 26/2003 [00:39<45:55,  1.39s/it]"
          ]
        },
        {
          "output_type": "stream",
          "name": "stdout",
          "text": [
            "tensor([2, 2, 2, 2], device='cuda:0')\n",
            "tensor([False, False, False, False], device='cuda:0')\n",
            "tensor([False], device='cuda:0')\n",
            "선호도 예측 학습 정확도: 0.6111111111111112, 비속어 예측 학습 정확도: 0.6574074074074074, 정치 예측 학습 정확도: 0.392857164144516\n"
          ]
        },
        {
          "output_type": "stream",
          "name": "stderr",
          "text": [
            "epoch: 1, train loss: 2.4088:   1%|▏         | 27/2003 [00:40<46:06,  1.40s/it]"
          ]
        },
        {
          "output_type": "stream",
          "name": "stdout",
          "text": [
            "tensor([2, 2, 2, 2], device='cuda:0')\n",
            "tensor([False, False, False, False], device='cuda:0')\n",
            "tensor([True], device='cuda:0')\n",
            "선호도 예측 학습 정확도: 0.6160714285714286, 비속어 예측 학습 정확도: 0.6696428571428571, 정치 예측 학습 정확도: 0.37931033968925476\n"
          ]
        },
        {
          "output_type": "stream",
          "name": "stderr",
          "text": [
            "epoch: 1, train loss: 2.4009:   1%|▏         | 28/2003 [00:41<45:50,  1.39s/it]"
          ]
        },
        {
          "output_type": "stream",
          "name": "stdout",
          "text": [
            "tensor([2, 2, 2, 2], device='cuda:0')\n",
            "tensor([False, False, False, False], device='cuda:0')\n",
            "tensor([], device='cuda:0', dtype=torch.bool)\n",
            "선호도 예측 학습 정확도: 0.6293103448275862, 비속어 예측 학습 정확도: 0.6724137931034483, 정치 예측 학습 정확도: 0.37931033968925476\n"
          ]
        },
        {
          "output_type": "stream",
          "name": "stderr",
          "text": [
            "epoch: 1, train loss: 2.3851:   1%|▏         | 29/2003 [00:43<46:03,  1.40s/it]"
          ]
        },
        {
          "output_type": "stream",
          "name": "stdout",
          "text": [
            "tensor([2, 2, 2, 2], device='cuda:0')\n",
            "tensor([False, False, False, False], device='cuda:0')\n",
            "tensor([], device='cuda:0', dtype=torch.bool)\n",
            "선호도 예측 학습 정확도: 0.6333333333333333, 비속어 예측 학습 정확도: 0.6833333333333333, 정치 예측 학습 정확도: 0.37931033968925476\n"
          ]
        },
        {
          "output_type": "stream",
          "name": "stderr",
          "text": [
            "epoch: 1, train loss: 2.3758:   1%|▏         | 30/2003 [00:44<45:49,  1.39s/it]"
          ]
        },
        {
          "output_type": "stream",
          "name": "stdout",
          "text": [
            "tensor([2, 2, 2, 2], device='cuda:0')\n",
            "tensor([False, False, False, False], device='cuda:0')\n",
            "tensor([True, True], device='cuda:0')\n",
            "선호도 예측 학습 정확도: 0.6290322580645161, 비속어 예측 학습 정확도: 0.6693548387096774, 정치 예측 학습 정확도: 0.4193548262119293\n"
          ]
        },
        {
          "output_type": "stream",
          "name": "stderr",
          "text": [
            "epoch: 1, train loss: 2.3754:   2%|▏         | 31/2003 [00:46<46:04,  1.40s/it]"
          ]
        },
        {
          "output_type": "stream",
          "name": "stdout",
          "text": [
            "tensor([2, 2, 2, 2], device='cuda:0')\n",
            "tensor([False, False, False, False], device='cuda:0')\n",
            "tensor([], device='cuda:0', dtype=torch.bool)\n",
            "선호도 예측 학습 정확도: 0.640625, 비속어 예측 학습 정확도: 0.6796875, 정치 예측 학습 정확도: 0.4193548262119293\n"
          ]
        },
        {
          "output_type": "stream",
          "name": "stderr",
          "text": [
            "epoch: 1, train loss: 2.3578:   2%|▏         | 32/2003 [00:47<45:57,  1.40s/it]"
          ]
        },
        {
          "output_type": "stream",
          "name": "stdout",
          "text": [
            "tensor([2, 2, 2, 2], device='cuda:0')\n",
            "tensor([False, False, False, False], device='cuda:0')\n",
            "tensor([True], device='cuda:0')\n",
            "선호도 예측 학습 정확도: 0.6439393939393939, 비속어 예측 학습 정확도: 0.6818181818181818, 정치 예측 학습 정확도: 0.40625\n"
          ]
        },
        {
          "output_type": "stream",
          "name": "stderr",
          "text": [
            "epoch: 1, train loss: 2.3509:   2%|▏         | 33/2003 [00:48<46:21,  1.41s/it]"
          ]
        },
        {
          "output_type": "stream",
          "name": "stdout",
          "text": [
            "tensor([2, 2, 2, 2], device='cuda:0')\n",
            "tensor([False, False, False, False], device='cuda:0')\n",
            "tensor([], device='cuda:0', dtype=torch.bool)\n",
            "선호도 예측 학습 정확도: 0.6544117647058824, 비속어 예측 학습 정확도: 0.6838235294117647, 정치 예측 학습 정확도: 0.40625\n"
          ]
        },
        {
          "output_type": "stream",
          "name": "stderr",
          "text": [
            "epoch: 1, train loss: 2.3353:   2%|▏         | 34/2003 [00:50<46:09,  1.41s/it]"
          ]
        },
        {
          "output_type": "stream",
          "name": "stdout",
          "text": [
            "tensor([2, 2, 2, 2], device='cuda:0')\n",
            "tensor([False, False, False, False], device='cuda:0')\n",
            "tensor([True, True], device='cuda:0')\n",
            "선호도 예측 학습 정확도: 0.65, 비속어 예측 학습 정확도: 0.6714285714285714, 정치 예측 학습 정확도: 0.44117647409439087\n"
          ]
        },
        {
          "output_type": "stream",
          "name": "stderr",
          "text": [
            "epoch: 1, train loss: 2.3344:   2%|▏         | 35/2003 [00:51<46:20,  1.41s/it]"
          ]
        },
        {
          "output_type": "stream",
          "name": "stdout",
          "text": [
            "tensor([2, 2, 2, 2], device='cuda:0')\n",
            "tensor([False, False, False, False], device='cuda:0')\n",
            "tensor([], device='cuda:0', dtype=torch.bool)\n",
            "선호도 예측 학습 정확도: 0.6597222222222222, 비속어 예측 학습 정확도: 0.6736111111111112, 정치 예측 학습 정확도: 0.44117647409439087\n"
          ]
        },
        {
          "output_type": "stream",
          "name": "stderr",
          "text": [
            "epoch: 1, train loss: 2.3199:   2%|▏         | 36/2003 [00:53<46:05,  1.41s/it]"
          ]
        },
        {
          "output_type": "stream",
          "name": "stdout",
          "text": [
            "tensor([2, 2, 2, 2], device='cuda:0')\n",
            "tensor([False, False, False, False], device='cuda:0')\n",
            "tensor([True, True], device='cuda:0')\n",
            "선호도 예측 학습 정확도: 0.6554054054054054, 비속어 예측 학습 정확도: 0.6756756756756757, 정치 예측 학습 정확도: 0.4444444477558136\n"
          ]
        },
        {
          "output_type": "stream",
          "name": "stderr",
          "text": [
            "epoch: 1, train loss: 2.3212:   2%|▏         | 37/2003 [00:54<46:14,  1.41s/it]"
          ]
        },
        {
          "output_type": "stream",
          "name": "stdout",
          "text": [
            "tensor([2, 2, 2, 2], device='cuda:0')\n",
            "tensor([False, False, False, False], device='cuda:0')\n",
            "tensor([True, True], device='cuda:0')\n",
            "선호도 예측 학습 정확도: 0.6513157894736842, 비속어 예측 학습 정확도: 0.6710526315789473, 정치 예측 학습 정확도: 0.4736842215061188\n"
          ]
        },
        {
          "output_type": "stream",
          "name": "stderr",
          "text": [
            "epoch: 1, train loss: 2.3246:   2%|▏         | 38/2003 [00:56<45:59,  1.40s/it]"
          ]
        },
        {
          "output_type": "stream",
          "name": "stdout",
          "text": [
            "tensor([2, 2, 2, 2], device='cuda:0')\n",
            "tensor([False, False, False, False], device='cuda:0')\n",
            "tensor([True], device='cuda:0')\n",
            "선호도 예측 학습 정확도: 0.6538461538461539, 비속어 예측 학습 정확도: 0.6730769230769231, 정치 예측 학습 정확도: 0.4871794879436493\n"
          ]
        },
        {
          "output_type": "stream",
          "name": "stderr",
          "text": [
            "epoch: 1, train loss: 2.317:   2%|▏         | 39/2003 [00:57<46:08,  1.41s/it]"
          ]
        },
        {
          "output_type": "stream",
          "name": "stdout",
          "text": [
            "tensor([2, 2, 2, 2], device='cuda:0')\n",
            "tensor([False, False, False, False], device='cuda:0')\n",
            "tensor([True, True], device='cuda:0')\n",
            "선호도 예측 학습 정확도: 0.64375, 비속어 예측 학습 정확도: 0.675, 정치 예측 학습 정확도: 0.4878048598766327\n"
          ]
        },
        {
          "output_type": "stream",
          "name": "stderr",
          "text": [
            "epoch: 1, train loss: 2.3227:   2%|▏         | 40/2003 [00:58<45:58,  1.41s/it]"
          ]
        },
        {
          "output_type": "stream",
          "name": "stdout",
          "text": [
            "tensor([2, 2, 2, 2], device='cuda:0')\n",
            "tensor([False, False, False, False], device='cuda:0')\n",
            "tensor([], device='cuda:0', dtype=torch.bool)\n",
            "선호도 예측 학습 정확도: 0.6524390243902439, 비속어 예측 학습 정확도: 0.6646341463414634, 정치 예측 학습 정확도: 0.4878048598766327\n"
          ]
        },
        {
          "output_type": "stream",
          "name": "stderr",
          "text": [
            "epoch: 1, train loss: 2.3112:   2%|▏         | 41/2003 [01:00<46:15,  1.41s/it]"
          ]
        },
        {
          "output_type": "stream",
          "name": "stdout",
          "text": [
            "tensor([2, 2, 2, 2], device='cuda:0')\n",
            "tensor([False, False, False, False], device='cuda:0')\n",
            "tensor([True], device='cuda:0')\n",
            "선호도 예측 학습 정확도: 0.6547619047619048, 비속어 예측 학습 정확도: 0.6607142857142857, 정치 예측 학습 정확도: 0.5\n"
          ]
        },
        {
          "output_type": "stream",
          "name": "stderr",
          "text": [
            "epoch: 1, train loss: 2.3059:   2%|▏         | 42/2003 [01:01<46:09,  1.41s/it]"
          ]
        },
        {
          "output_type": "stream",
          "name": "stdout",
          "text": [
            "tensor([2, 2, 2, 2], device='cuda:0')\n",
            "tensor([False, False, False, False], device='cuda:0')\n",
            "tensor([True, True, True], device='cuda:0')\n",
            "선호도 예측 학습 정확도: 0.6453488372093024, 비속어 예측 학습 정확도: 0.6511627906976745, 정치 예측 학습 정확도: 0.5111111402511597\n"
          ]
        },
        {
          "output_type": "stream",
          "name": "stderr",
          "text": [
            "epoch: 1, train loss: 2.3144:   2%|▏         | 43/2003 [01:03<48:01,  1.47s/it]"
          ]
        },
        {
          "output_type": "stream",
          "name": "stdout",
          "text": [
            "tensor([2, 2, 2, 2], device='cuda:0')\n",
            "tensor([False, False, False, False], device='cuda:0')\n",
            "tensor([True, True], device='cuda:0')\n",
            "선호도 예측 학습 정확도: 0.6420454545454546, 비속어 예측 학습 정확도: 0.6477272727272727, 정치 예측 학습 정확도: 0.5319148898124695\n"
          ]
        },
        {
          "output_type": "stream",
          "name": "stderr",
          "text": [
            "epoch: 1, train loss: 2.3121:   2%|▏         | 44/2003 [01:04<47:41,  1.46s/it]"
          ]
        },
        {
          "output_type": "stream",
          "name": "stdout",
          "text": [
            "tensor([2, 2, 2, 2], device='cuda:0')\n",
            "tensor([False, False, False, False], device='cuda:0')\n",
            "tensor([True, True], device='cuda:0')\n",
            "선호도 예측 학습 정확도: 0.6388888888888888, 비속어 예측 학습 정확도: 0.6444444444444445, 정치 예측 학습 정확도: 0.5306122303009033\n"
          ]
        },
        {
          "output_type": "stream",
          "name": "stderr",
          "text": [
            "epoch: 1, train loss: 2.3098:   2%|▏         | 45/2003 [01:06<47:57,  1.47s/it]"
          ]
        },
        {
          "output_type": "stream",
          "name": "stdout",
          "text": [
            "tensor([2, 2, 2, 2], device='cuda:0')\n",
            "tensor([False, False, False, False], device='cuda:0')\n",
            "tensor([], device='cuda:0', dtype=torch.bool)\n",
            "선호도 예측 학습 정확도: 0.6413043478260869, 비속어 예측 학습 정확도: 0.6358695652173914, 정치 예측 학습 정확도: 0.5306122303009033\n"
          ]
        },
        {
          "output_type": "stream",
          "name": "stderr",
          "text": [
            "epoch: 1, train loss: 2.3052:   2%|▏         | 46/2003 [01:07<47:10,  1.45s/it]"
          ]
        },
        {
          "output_type": "stream",
          "name": "stdout",
          "text": [
            "tensor([2, 2, 2, 2], device='cuda:0')\n",
            "tensor([False, False, False, False], device='cuda:0')\n",
            "tensor([True, True], device='cuda:0')\n",
            "선호도 예측 학습 정확도: 0.6382978723404256, 비속어 예측 학습 정확도: 0.6329787234042553, 정치 예측 학습 정확도: 0.5490196347236633\n"
          ]
        },
        {
          "output_type": "stream",
          "name": "stderr",
          "text": [
            "epoch: 1, train loss: 2.3031:   2%|▏         | 47/2003 [01:09<47:04,  1.44s/it]"
          ]
        },
        {
          "output_type": "stream",
          "name": "stdout",
          "text": [
            "tensor([2, 2, 2, 2], device='cuda:0')\n",
            "tensor([False, False, False, False], device='cuda:0')\n",
            "tensor([True], device='cuda:0')\n",
            "선호도 예측 학습 정확도: 0.640625, 비속어 예측 학습 정확도: 0.640625, 정치 예측 학습 정확도: 0.5384615659713745\n"
          ]
        },
        {
          "output_type": "stream",
          "name": "stderr",
          "text": [
            "epoch: 1, train loss: 2.2951:   2%|▏         | 48/2003 [01:10<46:35,  1.43s/it]"
          ]
        },
        {
          "output_type": "stream",
          "name": "stdout",
          "text": [
            "tensor([2, 2, 2, 2], device='cuda:0')\n",
            "tensor([False, False, False,  True], device='cuda:0')\n",
            "tensor([True], device='cuda:0')\n",
            "선호도 예측 학습 정확도: 0.6428571428571429, 비속어 예측 학습 정확도: 0.6428571428571429, 정치 예측 학습 정확도: 0.5471698045730591\n"
          ]
        },
        {
          "output_type": "stream",
          "name": "stderr",
          "text": [
            "epoch: 1, train loss: 2.2869:   2%|▏         | 49/2003 [01:11<46:38,  1.43s/it]"
          ]
        },
        {
          "output_type": "stream",
          "name": "stdout",
          "text": [
            "tensor([2, 2, 2, 2], device='cuda:0')\n",
            "tensor([False, False, False, False], device='cuda:0')\n",
            "tensor([True, True], device='cuda:0')\n",
            "선호도 예측 학습 정확도: 0.64, 비속어 예측 학습 정확도: 0.635, 정치 예측 학습 정확도: 0.5636363625526428\n"
          ]
        },
        {
          "output_type": "stream",
          "name": "stderr",
          "text": [
            "epoch: 1, train loss: 2.2846:   2%|▏         | 50/2003 [01:13<46:21,  1.42s/it]"
          ]
        },
        {
          "output_type": "stream",
          "name": "stdout",
          "text": [
            "tensor([2, 2, 2, 2], device='cuda:0')\n",
            "tensor([False, False, False, False], device='cuda:0')\n",
            "tensor([True, True], device='cuda:0')\n",
            "선호도 예측 학습 정확도: 0.6372549019607843, 비속어 예측 학습 정확도: 0.6372549019607843, 정치 예측 학습 정확도: 0.5614035129547119\n"
          ]
        },
        {
          "output_type": "stream",
          "name": "stderr",
          "text": [
            "epoch: 1, train loss: 2.2855:   3%|▎         | 51/2003 [01:14<46:30,  1.43s/it]"
          ]
        },
        {
          "output_type": "stream",
          "name": "stdout",
          "text": [
            "tensor([2, 2, 2, 2], device='cuda:0')\n",
            "tensor([False, False, False, False], device='cuda:0')\n",
            "tensor([True], device='cuda:0')\n",
            "선호도 예측 학습 정확도: 0.6394230769230769, 비속어 예측 학습 정확도: 0.6394230769230769, 정치 예측 학습 정확도: 0.568965494632721\n"
          ]
        },
        {
          "output_type": "stream",
          "name": "stderr",
          "text": [
            "epoch: 1, train loss: 2.2761:   3%|▎         | 52/2003 [01:16<46:27,  1.43s/it]"
          ]
        },
        {
          "output_type": "stream",
          "name": "stdout",
          "text": [
            "tensor([2, 2, 2, 2], device='cuda:0')\n",
            "tensor([False, False,  True, False], device='cuda:0')\n",
            "tensor([], device='cuda:0', dtype=torch.bool)\n",
            "선호도 예측 학습 정확도: 0.6462264150943396, 비속어 예측 학습 정확도: 0.6462264150943396, 정치 예측 학습 정확도: 0.568965494632721\n"
          ]
        },
        {
          "output_type": "stream",
          "name": "stderr",
          "text": [
            "epoch: 1, train loss: 2.2635:   3%|▎         | 53/2003 [01:17<46:41,  1.44s/it]"
          ]
        },
        {
          "output_type": "stream",
          "name": "stdout",
          "text": [
            "tensor([2, 2, 2, 2], device='cuda:0')\n",
            "tensor([False, False,  True, False], device='cuda:0')\n",
            "tensor([], device='cuda:0', dtype=torch.bool)\n",
            "선호도 예측 학습 정확도: 0.6527777777777778, 비속어 예측 학습 정확도: 0.6481481481481481, 정치 예측 학습 정확도: 0.568965494632721\n"
          ]
        },
        {
          "output_type": "stream",
          "name": "stderr",
          "text": [
            "epoch: 1, train loss: 2.2523:   3%|▎         | 54/2003 [01:19<46:33,  1.43s/it]"
          ]
        },
        {
          "output_type": "stream",
          "name": "stdout",
          "text": [
            "tensor([2, 2, 2, 2], device='cuda:0')\n",
            "tensor([False, False, False, False], device='cuda:0')\n",
            "tensor([True], device='cuda:0')\n",
            "선호도 예측 학습 정확도: 0.6545454545454545, 비속어 예측 학습 정확도: 0.6545454545454545, 정치 예측 학습 정확도: 0.5593220591545105\n"
          ]
        },
        {
          "output_type": "stream",
          "name": "stderr",
          "text": [
            "epoch: 1, train loss: 2.2467:   3%|▎         | 55/2003 [01:20<46:38,  1.44s/it]"
          ]
        },
        {
          "output_type": "stream",
          "name": "stdout",
          "text": [
            "tensor([2, 2, 2, 2], device='cuda:0')\n",
            "tensor([False, False, False, False], device='cuda:0')\n",
            "tensor([True, True], device='cuda:0')\n",
            "선호도 예측 학습 정확도: 0.6517857142857143, 비속어 예측 학습 정확도: 0.6517857142857143, 정치 예측 학습 정확도: 0.5737704634666443\n"
          ]
        },
        {
          "output_type": "stream",
          "name": "stderr",
          "text": [
            "epoch: 1, train loss: 2.2419:   3%|▎         | 56/2003 [01:21<46:21,  1.43s/it]"
          ]
        },
        {
          "output_type": "stream",
          "name": "stdout",
          "text": [
            "tensor([2, 2, 2, 2], device='cuda:0')\n",
            "tensor([False, False, False, False], device='cuda:0')\n",
            "tensor([True], device='cuda:0')\n",
            "선호도 예측 학습 정확도: 0.6535087719298246, 비속어 예측 학습 정확도: 0.6491228070175439, 정치 예측 학습 정확도: 0.5806451439857483\n"
          ]
        },
        {
          "output_type": "stream",
          "name": "stderr",
          "text": [
            "epoch: 1, train loss: 2.2357:   3%|▎         | 57/2003 [01:23<46:27,  1.43s/it]"
          ]
        },
        {
          "output_type": "stream",
          "name": "stdout",
          "text": [
            "tensor([2, 2, 2, 2], device='cuda:0')\n",
            "tensor([False, False,  True, False], device='cuda:0')\n",
            "tensor([True, True], device='cuda:0')\n",
            "선호도 예측 학습 정확도: 0.6508620689655172, 비속어 예측 학습 정확도: 0.6551724137931034, 정치 예측 학습 정확도: 0.578125\n"
          ]
        },
        {
          "output_type": "stream",
          "name": "stderr",
          "text": [
            "epoch: 1, train loss: 2.2344:   3%|▎         | 58/2003 [01:24<46:19,  1.43s/it]"
          ]
        },
        {
          "output_type": "stream",
          "name": "stdout",
          "text": [
            "tensor([2, 2, 2, 2], device='cuda:0')\n",
            "tensor([False, False, False, False], device='cuda:0')\n",
            "tensor([True], device='cuda:0')\n",
            "선호도 예측 학습 정확도: 0.6483050847457628, 비속어 예측 학습 정확도: 0.652542372881356, 정치 예측 학습 정확도: 0.5846154093742371\n"
          ]
        },
        {
          "output_type": "stream",
          "name": "stderr",
          "text": [
            "epoch: 1, train loss: 2.234:   3%|▎         | 59/2003 [01:26<46:26,  1.43s/it]"
          ]
        },
        {
          "output_type": "stream",
          "name": "stdout",
          "text": [
            "tensor([2, 2, 2, 2], device='cuda:0')\n",
            "tensor([False, False, False, False], device='cuda:0')\n",
            "tensor([], device='cuda:0', dtype=torch.bool)\n",
            "선호도 예측 학습 정확도: 0.6541666666666667, 비속어 예측 학습 정확도: 0.6541666666666667, 정치 예측 학습 정확도: 0.5846154093742371\n"
          ]
        },
        {
          "output_type": "stream",
          "name": "stderr",
          "text": [
            "epoch: 1, train loss: 2.2225:   3%|▎         | 60/2003 [01:27<46:13,  1.43s/it]"
          ]
        },
        {
          "output_type": "stream",
          "name": "stdout",
          "text": [
            "tensor([2, 2, 2, 2], device='cuda:0')\n",
            "tensor([False,  True, False, False], device='cuda:0')\n",
            "tensor([], device='cuda:0', dtype=torch.bool)\n",
            "선호도 예측 학습 정확도: 0.6598360655737705, 비속어 예측 학습 정확도: 0.6557377049180327, 정치 예측 학습 정확도: 0.5846154093742371\n"
          ]
        },
        {
          "output_type": "stream",
          "name": "stderr",
          "text": [
            "epoch: 1, train loss: 2.2113:   3%|▎         | 61/2003 [01:29<46:28,  1.44s/it]"
          ]
        },
        {
          "output_type": "stream",
          "name": "stdout",
          "text": [
            "tensor([2, 2, 2, 2], device='cuda:0')\n",
            "tensor([False, False, False, False], device='cuda:0')\n",
            "tensor([True], device='cuda:0')\n",
            "선호도 예측 학습 정확도: 0.6612903225806451, 비속어 예측 학습 정확도: 0.657258064516129, 정치 예측 학습 정확도: 0.5909091234207153\n"
          ]
        },
        {
          "output_type": "stream",
          "name": "stderr",
          "text": [
            "epoch: 1, train loss: 2.2036:   3%|▎         | 62/2003 [01:30<46:17,  1.43s/it]"
          ]
        },
        {
          "output_type": "stream",
          "name": "stdout",
          "text": [
            "tensor([2, 2, 2, 2], device='cuda:0')\n",
            "tensor([False, False, False,  True], device='cuda:0')\n",
            "tensor([True], device='cuda:0')\n",
            "선호도 예측 학습 정확도: 0.6626984126984127, 비속어 예측 학습 정확도: 0.6547619047619048, 정치 예측 학습 정확도: 0.5970149040222168\n"
          ]
        },
        {
          "output_type": "stream",
          "name": "stderr",
          "text": [
            "epoch: 1, train loss: 2.1973:   3%|▎         | 63/2003 [01:31<46:34,  1.44s/it]"
          ]
        },
        {
          "output_type": "stream",
          "name": "stdout",
          "text": [
            "tensor([2, 2, 2, 2], device='cuda:0')\n",
            "tensor([False, False, False, False], device='cuda:0')\n",
            "tensor([True, True], device='cuda:0')\n",
            "선호도 예측 학습 정확도: 0.65625, 비속어 예측 학습 정확도: 0.65234375, 정치 예측 학습 정확도: 0.6086956858634949\n"
          ]
        },
        {
          "output_type": "stream",
          "name": "stderr",
          "text": [
            "epoch: 1, train loss: 2.2029:   3%|▎         | 64/2003 [01:33<46:15,  1.43s/it]"
          ]
        },
        {
          "output_type": "stream",
          "name": "stdout",
          "text": [
            "tensor([2, 2, 2, 2], device='cuda:0')\n",
            "tensor([ True, False, False, False], device='cuda:0')\n",
            "tensor([True, True], device='cuda:0')\n",
            "선호도 예측 학습 정확도: 0.6538461538461539, 비속어 예측 학습 정확도: 0.6538461538461539, 정치 예측 학습 정확도: 0.6197183132171631\n"
          ]
        },
        {
          "output_type": "stream",
          "name": "stderr",
          "text": [
            "epoch: 1, train loss: 2.1997:   3%|▎         | 65/2003 [01:34<46:18,  1.43s/it]"
          ]
        },
        {
          "output_type": "stream",
          "name": "stdout",
          "text": [
            "tensor([2, 2, 2, 2], device='cuda:0')\n",
            "tensor([False, False, False, False], device='cuda:0')\n",
            "tensor([True, True], device='cuda:0')\n",
            "선호도 예측 학습 정확도: 0.6515151515151515, 비속어 예측 학습 정확도: 0.6515151515151515, 정치 예측 학습 정확도: 0.6164383292198181\n"
          ]
        },
        {
          "output_type": "stream",
          "name": "stderr",
          "text": [
            "epoch: 1, train loss: 2.2002:   3%|▎         | 66/2003 [01:36<45:58,  1.42s/it]"
          ]
        },
        {
          "output_type": "stream",
          "name": "stdout",
          "text": [
            "tensor([2, 2, 2, 2], device='cuda:0')\n",
            "tensor([False, False, False, False], device='cuda:0')\n",
            "tensor([True], device='cuda:0')\n",
            "선호도 예측 학습 정확도: 0.6529850746268657, 비속어 예측 학습 정확도: 0.6567164179104478, 정치 예측 학습 정확도: 0.6081081032752991\n"
          ]
        },
        {
          "output_type": "stream",
          "name": "stderr",
          "text": [
            "epoch: 1, train loss: 2.1936:   3%|▎         | 67/2003 [01:37<46:04,  1.43s/it]"
          ]
        },
        {
          "output_type": "stream",
          "name": "stdout",
          "text": [
            "tensor([2, 2, 2, 2], device='cuda:0')\n",
            "tensor([False, False, False, False], device='cuda:0')\n",
            "tensor([True, True], device='cuda:0')\n",
            "선호도 예측 학습 정확도: 0.6507352941176471, 비속어 예측 학습 정확도: 0.6544117647058824, 정치 예측 학습 정확도: 0.6184210777282715\n"
          ]
        },
        {
          "output_type": "stream",
          "name": "stderr",
          "text": [
            "epoch: 1, train loss: 2.19:   3%|▎         | 68/2003 [01:39<45:46,  1.42s/it]"
          ]
        },
        {
          "output_type": "stream",
          "name": "stdout",
          "text": [
            "tensor([2, 2, 2, 2], device='cuda:0')\n",
            "tensor([False, False, False, False], device='cuda:0')\n",
            "tensor([True, True], device='cuda:0')\n",
            "선호도 예측 학습 정확도: 0.6485507246376812, 비속어 예측 학습 정확도: 0.6485507246376812, 정치 예측 학습 정확도: 0.6282051205635071\n"
          ]
        },
        {
          "output_type": "stream",
          "name": "stderr",
          "text": [
            "epoch: 1, train loss: 2.1866:   3%|▎         | 69/2003 [01:40<45:54,  1.42s/it]"
          ]
        },
        {
          "output_type": "stream",
          "name": "stdout",
          "text": [
            "tensor([2, 2, 2, 2], device='cuda:0')\n",
            "tensor([False, False, False, False], device='cuda:0')\n",
            "tensor([True], device='cuda:0')\n",
            "선호도 예측 학습 정확도: 0.65, 비속어 예측 학습 정확도: 0.6464285714285715, 정치 예측 학습 정확도: 0.6329113841056824\n"
          ]
        },
        {
          "output_type": "stream",
          "name": "stderr",
          "text": [
            "epoch: 1, train loss: 2.1789:   3%|▎         | 70/2003 [01:41<45:40,  1.42s/it]"
          ]
        },
        {
          "output_type": "stream",
          "name": "stdout",
          "text": [
            "tensor([2, 2, 2, 2], device='cuda:0')\n",
            "tensor([ True,  True, False, False], device='cuda:0')\n",
            "tensor([True, True], device='cuda:0')\n",
            "선호도 예측 학습 정확도: 0.647887323943662, 비속어 예측 학습 정확도: 0.647887323943662, 정치 예측 학습 정확도: 0.6419752836227417\n"
          ]
        },
        {
          "output_type": "stream",
          "name": "stderr",
          "text": [
            "epoch: 1, train loss: 2.1757:   4%|▎         | 71/2003 [01:43<45:52,  1.42s/it]"
          ]
        },
        {
          "output_type": "stream",
          "name": "stdout",
          "text": [
            "tensor([2, 2, 2, 2], device='cuda:0')\n",
            "tensor([ True,  True, False, False], device='cuda:0')\n",
            "tensor([True], device='cuda:0')\n",
            "선호도 예측 학습 정확도: 0.6493055555555556, 비속어 예측 학습 정확도: 0.6527777777777778, 정치 예측 학습 정확도: 0.6463414430618286\n"
          ]
        },
        {
          "output_type": "stream",
          "name": "stderr",
          "text": [
            "epoch: 1, train loss: 2.1667:   4%|▎         | 72/2003 [01:44<45:42,  1.42s/it]"
          ]
        },
        {
          "output_type": "stream",
          "name": "stdout",
          "text": [
            "tensor([2, 2, 2, 2], device='cuda:0')\n",
            "tensor([ True, False, False, False], device='cuda:0')\n",
            "tensor([True], device='cuda:0')\n",
            "선호도 예측 학습 정확도: 0.6472602739726028, 비속어 예측 학습 정확도: 0.6541095890410958, 정치 예측 학습 정확도: 0.650602400302887\n"
          ]
        },
        {
          "output_type": "stream",
          "name": "stderr",
          "text": [
            "epoch: 1, train loss: 2.1668:   4%|▎         | 73/2003 [01:46<46:35,  1.45s/it]"
          ]
        },
        {
          "output_type": "stream",
          "name": "stdout",
          "text": [
            "tensor([2, 2, 2, 2], device='cuda:0')\n",
            "tensor([ True,  True, False, False], device='cuda:0')\n",
            "tensor([], device='cuda:0', dtype=torch.bool)\n",
            "선호도 예측 학습 정확도: 0.652027027027027, 비속어 예측 학습 정확도: 0.6554054054054054, 정치 예측 학습 정확도: 0.650602400302887\n"
          ]
        },
        {
          "output_type": "stream",
          "name": "stderr",
          "text": [
            "epoch: 1, train loss: 2.158:   4%|▎         | 74/2003 [01:47<46:10,  1.44s/it]"
          ]
        },
        {
          "output_type": "stream",
          "name": "stdout",
          "text": [
            "tensor([2, 2, 2, 2], device='cuda:0')\n",
            "tensor([False, False, False, False], device='cuda:0')\n",
            "tensor([True], device='cuda:0')\n",
            "선호도 예측 학습 정확도: 0.6533333333333333, 비속어 예측 학습 정확도: 0.6566666666666666, 정치 예측 학습 정확도: 0.6428571343421936\n"
          ]
        },
        {
          "output_type": "stream",
          "name": "stderr",
          "text": [
            "epoch: 1, train loss: 2.1535:   4%|▎         | 75/2003 [01:49<46:02,  1.43s/it]"
          ]
        },
        {
          "output_type": "stream",
          "name": "stdout",
          "text": [
            "tensor([2, 2, 2, 2], device='cuda:0')\n",
            "tensor([False, False, False,  True], device='cuda:0')\n",
            "tensor([], device='cuda:0', dtype=torch.bool)\n",
            "선호도 예측 학습 정확도: 0.6578947368421053, 비속어 예측 학습 정확도: 0.6578947368421053, 정치 예측 학습 정확도: 0.6428571343421936\n"
          ]
        },
        {
          "output_type": "stream",
          "name": "stderr",
          "text": [
            "epoch: 1, train loss: 2.1431:   4%|▍         | 76/2003 [01:50<45:38,  1.42s/it]"
          ]
        },
        {
          "output_type": "stream",
          "name": "stdout",
          "text": [
            "tensor([2, 2, 2, 2], device='cuda:0')\n",
            "tensor([ True, False, False, False], device='cuda:0')\n",
            "tensor([], device='cuda:0', dtype=torch.bool)\n",
            "선호도 예측 학습 정확도: 0.6623376623376623, 비속어 예측 학습 정확도: 0.6590909090909091, 정치 예측 학습 정확도: 0.6428571343421936\n"
          ]
        },
        {
          "output_type": "stream",
          "name": "stderr",
          "text": [
            "epoch: 1, train loss: 2.1324:   4%|▍         | 77/2003 [01:51<45:43,  1.42s/it]"
          ]
        },
        {
          "output_type": "stream",
          "name": "stdout",
          "text": [
            "tensor([2, 2, 2, 2], device='cuda:0')\n",
            "tensor([False, False,  True, False], device='cuda:0')\n",
            "tensor([True, True], device='cuda:0')\n",
            "선호도 예측 학습 정확도: 0.6602564102564102, 비속어 예측 학습 정확도: 0.6602564102564102, 정치 예측 학습 정확도: 0.6279069781303406\n"
          ]
        },
        {
          "output_type": "stream",
          "name": "stderr",
          "text": [
            "epoch: 1, train loss: 2.1337:   4%|▍         | 78/2003 [01:53<45:23,  1.41s/it]"
          ]
        },
        {
          "output_type": "stream",
          "name": "stdout",
          "text": [
            "tensor([2, 2, 2, 2], device='cuda:0')\n",
            "tensor([False, False, False,  True], device='cuda:0')\n",
            "tensor([True], device='cuda:0')\n",
            "선호도 예측 학습 정확도: 0.6613924050632911, 비속어 예측 학습 정확도: 0.6645569620253164, 정치 예측 학습 정확도: 0.6321839094161987\n"
          ]
        },
        {
          "output_type": "stream",
          "name": "stderr",
          "text": [
            "epoch: 1, train loss: 2.1249:   4%|▍         | 79/2003 [01:54<45:29,  1.42s/it]"
          ]
        },
        {
          "output_type": "stream",
          "name": "stdout",
          "text": [
            "tensor([2, 2, 2, 2], device='cuda:0')\n",
            "tensor([False, False,  True, False], device='cuda:0')\n",
            "tensor([True], device='cuda:0')\n",
            "선호도 예측 학습 정확도: 0.6625, 비속어 예측 학습 정확도: 0.665625, 정치 예측 학습 정확도: 0.625\n"
          ]
        },
        {
          "output_type": "stream",
          "name": "stderr",
          "text": [
            "epoch: 1, train loss: 2.119:   4%|▍         | 80/2003 [01:56<45:12,  1.41s/it]"
          ]
        },
        {
          "output_type": "stream",
          "name": "stdout",
          "text": [
            "tensor([2, 2, 2, 2], device='cuda:0')\n",
            "tensor([False, False, False, False], device='cuda:0')\n",
            "tensor([], device='cuda:0', dtype=torch.bool)\n",
            "선호도 예측 학습 정확도: 0.6666666666666666, 비속어 예측 학습 정확도: 0.6697530864197531, 정치 예측 학습 정확도: 0.625\n"
          ]
        },
        {
          "output_type": "stream",
          "name": "stderr",
          "text": [
            "epoch: 1, train loss: 2.1072:   4%|▍         | 81/2003 [01:57<45:27,  1.42s/it]"
          ]
        },
        {
          "output_type": "stream",
          "name": "stdout",
          "text": [
            "tensor([2, 2, 2, 2], device='cuda:0')\n",
            "tensor([ True, False, False, False], device='cuda:0')\n",
            "tensor([True], device='cuda:0')\n",
            "선호도 예측 학습 정확도: 0.6646341463414634, 비속어 예측 학습 정확도: 0.6737804878048781, 정치 예측 학습 정확도: 0.6292135119438171\n"
          ]
        },
        {
          "output_type": "stream",
          "name": "stderr",
          "text": [
            "epoch: 1, train loss: 2.104:   4%|▍         | 82/2003 [01:58<45:16,  1.41s/it]"
          ]
        },
        {
          "output_type": "stream",
          "name": "stdout",
          "text": [
            "tensor([2, 2, 2, 2], device='cuda:0')\n",
            "tensor([False,  True, False, False], device='cuda:0')\n",
            "tensor([True, True], device='cuda:0')\n",
            "선호도 예측 학습 정확도: 0.6626506024096386, 비속어 예측 학습 정확도: 0.6746987951807228, 정치 예측 학습 정확도: 0.6263736486434937\n"
          ]
        },
        {
          "output_type": "stream",
          "name": "stderr",
          "text": [
            "epoch: 1, train loss: 2.108:   4%|▍         | 83/2003 [02:00<45:28,  1.42s/it]"
          ]
        },
        {
          "output_type": "stream",
          "name": "stdout",
          "text": [
            "tensor([2, 2, 2, 2], device='cuda:0')\n",
            "tensor([ True, False, False, False], device='cuda:0')\n",
            "tensor([True, True], device='cuda:0')\n",
            "선호도 예측 학습 정확도: 0.6607142857142857, 비속어 예측 학습 정확도: 0.6726190476190477, 정치 예측 학습 정확도: 0.6344085931777954\n"
          ]
        },
        {
          "output_type": "stream",
          "name": "stderr",
          "text": [
            "epoch: 1, train loss: 2.1059:   4%|▍         | 84/2003 [02:01<45:15,  1.42s/it]"
          ]
        },
        {
          "output_type": "stream",
          "name": "stdout",
          "text": [
            "tensor([2, 2, 2, 2], device='cuda:0')\n",
            "tensor([False, False, False, False], device='cuda:0')\n",
            "tensor([True, True], device='cuda:0')\n",
            "선호도 예측 학습 정확도: 0.6588235294117647, 비속어 예측 학습 정확도: 0.6764705882352942, 정치 예측 학습 정확도: 0.6210526823997498\n"
          ]
        },
        {
          "output_type": "stream",
          "name": "stderr",
          "text": [
            "epoch: 1, train loss: 2.1061:   4%|▍         | 85/2003 [02:03<45:17,  1.42s/it]"
          ]
        },
        {
          "output_type": "stream",
          "name": "stdout",
          "text": [
            "tensor([2, 2, 2, 2], device='cuda:0')\n",
            "tensor([False, False, False, False], device='cuda:0')\n",
            "tensor([], device='cuda:0', dtype=torch.bool)\n",
            "선호도 예측 학습 정확도: 0.6627906976744186, 비속어 예측 학습 정확도: 0.6744186046511628, 정치 예측 학습 정확도: 0.6210526823997498\n"
          ]
        },
        {
          "output_type": "stream",
          "name": "stderr",
          "text": [
            "epoch: 1, train loss: 2.097:   4%|▍         | 86/2003 [02:04<44:58,  1.41s/it]"
          ]
        },
        {
          "output_type": "stream",
          "name": "stdout",
          "text": [
            "tensor([2, 2, 2, 2], device='cuda:0')\n",
            "tensor([False, False, False,  True], device='cuda:0')\n",
            "tensor([True, True, True], device='cuda:0')\n",
            "선호도 예측 학습 정확도: 0.6580459770114943, 비속어 예측 학습 정확도: 0.6724137931034483, 정치 예측 학습 정확도: 0.6326530575752258\n"
          ]
        },
        {
          "output_type": "stream",
          "name": "stderr",
          "text": [
            "epoch: 1, train loss: 2.0979:   4%|▍         | 87/2003 [02:06<45:06,  1.41s/it]"
          ]
        },
        {
          "output_type": "stream",
          "name": "stdout",
          "text": [
            "tensor([2, 2, 2, 2], device='cuda:0')\n",
            "tensor([False, False, False, False], device='cuda:0')\n",
            "tensor([], device='cuda:0', dtype=torch.bool)\n",
            "선호도 예측 학습 정확도: 0.6590909090909091, 비속어 예측 학습 정확도: 0.6761363636363636, 정치 예측 학습 정확도: 0.6326530575752258\n"
          ]
        },
        {
          "output_type": "stream",
          "name": "stderr",
          "text": [
            "epoch: 1, train loss: 2.0901:   4%|▍         | 88/2003 [02:07<44:48,  1.40s/it]"
          ]
        },
        {
          "output_type": "stream",
          "name": "stdout",
          "text": [
            "tensor([2, 2, 2, 2], device='cuda:0')\n",
            "tensor([False, False,  True, False], device='cuda:0')\n",
            "tensor([True], device='cuda:0')\n",
            "선호도 예측 학습 정확도: 0.6601123595505618, 비속어 예측 학습 정확도: 0.6741573033707865, 정치 예측 학습 정확도: 0.6363636255264282\n"
          ]
        },
        {
          "output_type": "stream",
          "name": "stderr",
          "text": [
            "epoch: 1, train loss: 2.0844:   4%|▍         | 89/2003 [02:08<44:59,  1.41s/it]"
          ]
        },
        {
          "output_type": "stream",
          "name": "stdout",
          "text": [
            "tensor([2, 2, 2, 2], device='cuda:0')\n",
            "tensor([False, False, False, False], device='cuda:0')\n",
            "tensor([True], device='cuda:0')\n",
            "선호도 예측 학습 정확도: 0.6611111111111111, 비속어 예측 학습 정확도: 0.6777777777777778, 정치 예측 학습 정확도: 0.6299999952316284\n"
          ]
        },
        {
          "output_type": "stream",
          "name": "stderr",
          "text": [
            "epoch: 1, train loss: 2.0749:   4%|▍         | 90/2003 [02:10<44:43,  1.40s/it]"
          ]
        },
        {
          "output_type": "stream",
          "name": "stdout",
          "text": [
            "tensor([2, 2, 2, 2], device='cuda:0')\n",
            "tensor([False, False, False, False], device='cuda:0')\n",
            "tensor([True], device='cuda:0')\n",
            "선호도 예측 학습 정확도: 0.6620879120879121, 비속어 예측 학습 정확도: 0.6785714285714286, 정치 예측 학습 정확도: 0.6336633563041687\n"
          ]
        },
        {
          "output_type": "stream",
          "name": "stderr",
          "text": [
            "epoch: 1, train loss: 2.0652:   5%|▍         | 91/2003 [02:11<44:54,  1.41s/it]"
          ]
        },
        {
          "output_type": "stream",
          "name": "stdout",
          "text": [
            "tensor([2, 2, 2, 2], device='cuda:0')\n",
            "tensor([False, False,  True, False], device='cuda:0')\n",
            "tensor([], device='cuda:0', dtype=torch.bool)\n",
            "선호도 예측 학습 정확도: 0.6657608695652174, 비속어 예측 학습 정확도: 0.6793478260869565, 정치 예측 학습 정확도: 0.6336633563041687\n"
          ]
        },
        {
          "output_type": "stream",
          "name": "stderr",
          "text": [
            "epoch: 1, train loss: 2.0546:   5%|▍         | 92/2003 [02:13<44:50,  1.41s/it]"
          ]
        },
        {
          "output_type": "stream",
          "name": "stdout",
          "text": [
            "tensor([2, 2, 2, 2], device='cuda:0')\n",
            "tensor([False, False, False, False], device='cuda:0')\n",
            "tensor([True], device='cuda:0')\n",
            "선호도 예측 학습 정확도: 0.6639784946236559, 비속어 예측 학습 정확도: 0.6774193548387096, 정치 예측 학습 정확도: 0.6372549533843994\n"
          ]
        },
        {
          "output_type": "stream",
          "name": "stderr",
          "text": [
            "epoch: 1, train loss: 2.0625:   5%|▍         | 93/2003 [02:14<45:06,  1.42s/it]"
          ]
        },
        {
          "output_type": "stream",
          "name": "stdout",
          "text": [
            "tensor([2, 2, 2, 2], device='cuda:0')\n",
            "tensor([ True, False, False, False], device='cuda:0')\n",
            "tensor([True], device='cuda:0')\n",
            "선호도 예측 학습 정확도: 0.6648936170212766, 비속어 예측 학습 정확도: 0.6808510638297872, 정치 예측 학습 정확도: 0.6407766938209534\n"
          ]
        },
        {
          "output_type": "stream",
          "name": "stderr",
          "text": [
            "epoch: 1, train loss: 2.0511:   5%|▍         | 94/2003 [02:15<44:55,  1.41s/it]"
          ]
        },
        {
          "output_type": "stream",
          "name": "stdout",
          "text": [
            "tensor([2, 2, 2, 2], device='cuda:0')\n",
            "tensor([False, False, False,  True], device='cuda:0')\n",
            "tensor([True], device='cuda:0')\n",
            "선호도 예측 학습 정확도: 0.6631578947368421, 비속어 예측 학습 정확도: 0.6842105263157895, 정치 예측 학습 정확도: 0.6442307829856873\n"
          ]
        },
        {
          "output_type": "stream",
          "name": "stderr",
          "text": [
            "epoch: 1, train loss: 2.0473:   5%|▍         | 95/2003 [02:17<44:58,  1.41s/it]"
          ]
        },
        {
          "output_type": "stream",
          "name": "stdout",
          "text": [
            "tensor([2, 2, 2, 2], device='cuda:0')\n",
            "tensor([False,  True, False, False], device='cuda:0')\n",
            "tensor([True, True, True], device='cuda:0')\n",
            "선호도 예측 학습 정확도: 0.6588541666666666, 비속어 예측 학습 정확도: 0.6848958333333334, 정치 예측 학습 정확도: 0.644859790802002\n"
          ]
        },
        {
          "output_type": "stream",
          "name": "stderr",
          "text": [
            "epoch: 1, train loss: 2.0562:   5%|▍         | 96/2003 [02:18<44:39,  1.40s/it]"
          ]
        },
        {
          "output_type": "stream",
          "name": "stdout",
          "text": [
            "tensor([2, 2, 2, 2], device='cuda:0')\n",
            "tensor([False, False, False, False], device='cuda:0')\n",
            "tensor([True, True], device='cuda:0')\n",
            "선호도 예측 학습 정확도: 0.6572164948453608, 비속어 예측 학습 정확도: 0.6829896907216495, 정치 예측 학습 정확도: 0.6513761281967163\n"
          ]
        },
        {
          "output_type": "stream",
          "name": "stderr",
          "text": [
            "epoch: 1, train loss: 2.0551:   5%|▍         | 97/2003 [02:20<44:53,  1.41s/it]"
          ]
        },
        {
          "output_type": "stream",
          "name": "stdout",
          "text": [
            "tensor([2, 2, 2, 2], device='cuda:0')\n",
            "tensor([False,  True, False, False], device='cuda:0')\n",
            "tensor([True], device='cuda:0')\n",
            "선호도 예측 학습 정확도: 0.6556122448979592, 비속어 예측 학습 정확도: 0.6811224489795918, 정치 예측 학습 정확도: 0.6545454263687134\n"
          ]
        },
        {
          "output_type": "stream",
          "name": "stderr",
          "text": [
            "epoch: 1, train loss: 2.0577:   5%|▍         | 98/2003 [02:21<44:42,  1.41s/it]"
          ]
        },
        {
          "output_type": "stream",
          "name": "stdout",
          "text": [
            "tensor([2, 2, 2, 2], device='cuda:0')\n",
            "tensor([False, False, False, False], device='cuda:0')\n",
            "tensor([True, True], device='cuda:0')\n",
            "선호도 예측 학습 정확도: 0.6540404040404041, 비속어 예측 학습 정확도: 0.6792929292929293, 정치 예측 학습 정확도: 0.660714328289032\n"
          ]
        },
        {
          "output_type": "stream",
          "name": "stderr",
          "text": [
            "epoch: 1, train loss: 2.0535:   5%|▍         | 99/2003 [02:22<44:47,  1.41s/it]"
          ]
        },
        {
          "output_type": "stream",
          "name": "stdout",
          "text": [
            "tensor([2, 2, 2, 2], device='cuda:0')\n",
            "tensor([ True,  True,  True, False], device='cuda:0')\n",
            "tensor([True, True, True], device='cuda:0')\n",
            "선호도 예측 학습 정확도: 0.65, 비속어 예측 학습 정확도: 0.6825, 정치 예측 학습 정확도: 0.6695652008056641\n"
          ]
        },
        {
          "output_type": "stream",
          "name": "stderr",
          "text": [
            "epoch: 1, train loss: 2.0492:   5%|▍         | 100/2003 [02:24<44:34,  1.41s/it]"
          ]
        },
        {
          "output_type": "stream",
          "name": "stdout",
          "text": [
            "tensor([2, 2, 2, 2], device='cuda:0')\n",
            "tensor([False,  True,  True,  True], device='cuda:0')\n",
            "tensor([True, True], device='cuda:0')\n",
            "선호도 예측 학습 정확도: 0.6460396039603961, 비속어 예측 학습 정확도: 0.6831683168316832, 정치 예측 학습 정확도: 0.6752136945724487\n"
          ]
        },
        {
          "output_type": "stream",
          "name": "stderr",
          "text": [
            "epoch: 1, train loss: 2.0525:   5%|▌         | 101/2003 [02:25<44:43,  1.41s/it]"
          ]
        },
        {
          "output_type": "stream",
          "name": "stdout",
          "text": [
            "tensor([2, 2, 2, 2], device='cuda:0')\n",
            "tensor([ True, False,  True,  True], device='cuda:0')\n",
            "tensor([True], device='cuda:0')\n",
            "선호도 예측 학습 정확도: 0.6470588235294118, 비속어 예측 학습 정확도: 0.6838235294117647, 정치 예측 학습 정확도: 0.6779661178588867\n"
          ]
        },
        {
          "output_type": "stream",
          "name": "stderr",
          "text": [
            "epoch: 1, train loss: 2.0448:   5%|▌         | 102/2003 [02:27<44:39,  1.41s/it]"
          ]
        },
        {
          "output_type": "stream",
          "name": "stdout",
          "text": [
            "tensor([2, 2, 2, 2], device='cuda:0')\n",
            "tensor([False, False, False, False], device='cuda:0')\n",
            "tensor([True], device='cuda:0')\n",
            "선호도 예측 학습 정확도: 0.6480582524271845, 비속어 예측 학습 정확도: 0.6844660194174758, 정치 예측 학습 정확도: 0.6722689270973206\n"
          ]
        },
        {
          "output_type": "stream",
          "name": "stderr",
          "text": [
            "epoch: 1, train loss: 2.0414:   5%|▌         | 103/2003 [02:28<44:52,  1.42s/it]"
          ]
        },
        {
          "output_type": "stream",
          "name": "stdout",
          "text": [
            "tensor([2, 2, 2, 2], device='cuda:0')\n",
            "tensor([ True,  True, False, False], device='cuda:0')\n",
            "tensor([True, True], device='cuda:0')\n",
            "선호도 예측 학습 정확도: 0.6466346153846154, 비속어 예측 학습 정확도: 0.6850961538461539, 정치 예측 학습 정확도: 0.6776859164237976\n"
          ]
        },
        {
          "output_type": "stream",
          "name": "stderr",
          "text": [
            "epoch: 1, train loss: 2.0366:   5%|▌         | 104/2003 [02:29<44:45,  1.41s/it]"
          ]
        },
        {
          "output_type": "stream",
          "name": "stdout",
          "text": [
            "tensor([2, 2, 2, 2], device='cuda:0')\n",
            "tensor([ True, False, False, False], device='cuda:0')\n",
            "tensor([True], device='cuda:0')\n",
            "선호도 예측 학습 정확도: 0.6476190476190476, 비속어 예측 학습 정확도: 0.6880952380952381, 정치 예측 학습 정확도: 0.680327832698822\n"
          ]
        },
        {
          "output_type": "stream",
          "name": "stderr",
          "text": [
            "epoch: 1, train loss: 2.0296:   5%|▌         | 105/2003 [02:31<44:52,  1.42s/it]"
          ]
        },
        {
          "output_type": "stream",
          "name": "stdout",
          "text": [
            "tensor([0, 0, 0, 2], device='cuda:0')\n",
            "tensor([ True,  True,  True, False], device='cuda:0')\n",
            "tensor([True, True], device='cuda:0')\n",
            "선호도 예측 학습 정확도: 0.6462264150943396, 비속어 예측 학습 정확도: 0.6910377358490566, 정치 예측 학습 정확도: 0.6854838728904724\n"
          ]
        },
        {
          "output_type": "stream",
          "name": "stderr",
          "text": [
            "epoch: 1, train loss: 2.0242:   5%|▌         | 106/2003 [02:32<44:40,  1.41s/it]"
          ]
        },
        {
          "output_type": "stream",
          "name": "stdout",
          "text": [
            "tensor([0, 2, 2, 2], device='cuda:0')\n",
            "tensor([ True, False, False, False], device='cuda:0')\n",
            "tensor([True], device='cuda:0')\n",
            "선호도 예측 학습 정확도: 0.6495327102803738, 비속어 예측 학습 정확도: 0.6939252336448598, 정치 예측 학습 정확도: 0.6880000233650208\n"
          ]
        },
        {
          "output_type": "stream",
          "name": "stderr",
          "text": [
            "epoch: 1, train loss: 2.0133:   5%|▌         | 107/2003 [02:34<44:46,  1.42s/it]"
          ]
        },
        {
          "output_type": "stream",
          "name": "stdout",
          "text": [
            "tensor([2, 0, 2, 2], device='cuda:0')\n",
            "tensor([True, True, True, True], device='cuda:0')\n",
            "tensor([True, True], device='cuda:0')\n",
            "선호도 예측 학습 정확도: 0.6481481481481481, 비속어 예측 학습 정확도: 0.6944444444444444, 정치 예측 학습 정확도: 0.6929134130477905\n"
          ]
        },
        {
          "output_type": "stream",
          "name": "stderr",
          "text": [
            "epoch: 1, train loss: 2.0086:   5%|▌         | 108/2003 [02:35<44:32,  1.41s/it]"
          ]
        },
        {
          "output_type": "stream",
          "name": "stdout",
          "text": [
            "tensor([2, 2, 0, 2], device='cuda:0')\n",
            "tensor([ True, False,  True,  True], device='cuda:0')\n",
            "tensor([True], device='cuda:0')\n",
            "선호도 예측 학습 정확도: 0.6490825688073395, 비속어 예측 학습 정확도: 0.6926605504587156, 정치 예측 학습 정확도: 0.6953125\n"
          ]
        },
        {
          "output_type": "stream",
          "name": "stderr",
          "text": [
            "epoch: 1, train loss: 2.0042:   5%|▌         | 109/2003 [02:37<44:43,  1.42s/it]"
          ]
        },
        {
          "output_type": "stream",
          "name": "stdout",
          "text": [
            "tensor([2, 2, 2, 2], device='cuda:0')\n",
            "tensor([False, False, False, False], device='cuda:0')\n",
            "tensor([True, True], device='cuda:0')\n",
            "선호도 예측 학습 정확도: 0.6454545454545455, 비속어 예측 학습 정확도: 0.6931818181818182, 정치 예측 학습 정확도: 0.692307710647583\n"
          ]
        },
        {
          "output_type": "stream",
          "name": "stderr",
          "text": [
            "epoch: 1, train loss: 2.0108:   5%|▌         | 110/2003 [02:38<44:30,  1.41s/it]"
          ]
        },
        {
          "output_type": "stream",
          "name": "stdout",
          "text": [
            "tensor([0, 2, 2, 0], device='cuda:0')\n",
            "tensor([ True, False, False,  True], device='cuda:0')\n",
            "tensor([True, True], device='cuda:0')\n",
            "선호도 예측 학습 정확도: 0.6463963963963963, 비속어 예측 학습 정확도: 0.6914414414414415, 정치 예측 학습 정확도: 0.689393937587738\n"
          ]
        },
        {
          "output_type": "stream",
          "name": "stderr",
          "text": [
            "epoch: 1, train loss: 2.0112:   6%|▌         | 111/2003 [02:39<44:43,  1.42s/it]"
          ]
        },
        {
          "output_type": "stream",
          "name": "stdout",
          "text": [
            "tensor([2, 2, 2, 0], device='cuda:0')\n",
            "tensor([False, False, False,  True], device='cuda:0')\n",
            "tensor([True], device='cuda:0')\n",
            "선호도 예측 학습 정확도: 0.6473214285714286, 비속어 예측 학습 정확도: 0.6941964285714286, 정치 예측 학습 정확도: 0.6917293667793274\n"
          ]
        },
        {
          "output_type": "stream",
          "name": "stderr",
          "text": [
            "epoch: 1, train loss: 2.0007:   6%|▌         | 112/2003 [02:41<44:40,  1.42s/it]"
          ]
        },
        {
          "output_type": "stream",
          "name": "stdout",
          "text": [
            "tensor([2, 2, 0, 2], device='cuda:0')\n",
            "tensor([ True,  True,  True, False], device='cuda:0')\n",
            "tensor([True], device='cuda:0')\n",
            "선호도 예측 학습 정확도: 0.6460176991150443, 비속어 예측 학습 정확도: 0.6946902654867256, 정치 예측 학습 정확도: 0.6940298080444336\n"
          ]
        },
        {
          "output_type": "stream",
          "name": "stderr",
          "text": [
            "epoch: 1, train loss: 1.9961:   6%|▌         | 113/2003 [02:42<44:56,  1.43s/it]"
          ]
        },
        {
          "output_type": "stream",
          "name": "stdout",
          "text": [
            "tensor([0, 2, 2, 0], device='cuda:0')\n",
            "tensor([ True, False, False,  True], device='cuda:0')\n",
            "tensor([True, True], device='cuda:0')\n",
            "선호도 예측 학습 정확도: 0.6469298245614035, 비속어 예측 학습 정확도: 0.6973684210526315, 정치 예측 학습 정확도: 0.6985294222831726\n"
          ]
        },
        {
          "output_type": "stream",
          "name": "stderr",
          "text": [
            "epoch: 1, train loss: 1.9871:   6%|▌         | 114/2003 [02:44<44:43,  1.42s/it]"
          ]
        },
        {
          "output_type": "stream",
          "name": "stdout",
          "text": [
            "tensor([0, 0, 2, 2], device='cuda:0')\n",
            "tensor([ True,  True,  True, False], device='cuda:0')\n",
            "tensor([True, True], device='cuda:0')\n",
            "선호도 예측 학습 정확도: 0.6456521739130435, 비속어 예측 학습 정확도: 0.7, 정치 예측 학습 정확도: 0.7028985619544983\n"
          ]
        },
        {
          "output_type": "stream",
          "name": "stderr",
          "text": [
            "epoch: 1, train loss: 1.9819:   6%|▌         | 115/2003 [02:45<44:49,  1.42s/it]"
          ]
        },
        {
          "output_type": "stream",
          "name": "stdout",
          "text": [
            "tensor([2, 2, 2, 2], device='cuda:0')\n",
            "tensor([ True,  True, False, False], device='cuda:0')\n",
            "tensor([True], device='cuda:0')\n",
            "선호도 예측 학습 정확도: 0.646551724137931, 비속어 예측 학습 정확도: 0.6982758620689655, 정치 예측 학습 정확도: 0.6978417634963989\n"
          ]
        },
        {
          "output_type": "stream",
          "name": "stderr",
          "text": [
            "epoch: 1, train loss: 1.9803:   6%|▌         | 116/2003 [02:46<44:34,  1.42s/it]"
          ]
        },
        {
          "output_type": "stream",
          "name": "stdout",
          "text": [
            "tensor([2, 2, 2, 2], device='cuda:0')\n",
            "tensor([False, False,  True, False], device='cuda:0')\n",
            "tensor([], device='cuda:0', dtype=torch.bool)\n",
            "선호도 예측 학습 정확도: 0.6495726495726496, 비속어 예측 학습 정확도: 0.6987179487179487, 정치 예측 학습 정확도: 0.6978417634963989\n"
          ]
        },
        {
          "output_type": "stream",
          "name": "stderr",
          "text": [
            "epoch: 1, train loss: 1.9674:   6%|▌         | 117/2003 [02:48<44:41,  1.42s/it]"
          ]
        },
        {
          "output_type": "stream",
          "name": "stdout",
          "text": [
            "tensor([0, 2, 2, 0], device='cuda:0')\n",
            "tensor([ True, False, False,  True], device='cuda:0')\n",
            "tensor([True, True, True], device='cuda:0')\n",
            "선호도 예측 학습 정확도: 0.6483050847457628, 비속어 예측 학습 정확도: 0.701271186440678, 정치 예측 학습 정확도: 0.6971830725669861\n"
          ]
        },
        {
          "output_type": "stream",
          "name": "stderr",
          "text": [
            "epoch: 1, train loss: 1.9654:   6%|▌         | 118/2003 [02:49<44:25,  1.41s/it]"
          ]
        },
        {
          "output_type": "stream",
          "name": "stdout",
          "text": [
            "tensor([2, 2, 2, 2], device='cuda:0')\n",
            "tensor([False, False,  True,  True], device='cuda:0')\n",
            "tensor([True, True], device='cuda:0')\n",
            "선호도 예측 학습 정확도: 0.6449579831932774, 비속어 예측 학습 정확도: 0.6995798319327731, 정치 예측 학습 정확도: 0.7013888955116272\n"
          ]
        },
        {
          "output_type": "stream",
          "name": "stderr",
          "text": [
            "epoch: 1, train loss: 1.9709:   6%|▌         | 119/2003 [02:51<45:33,  1.45s/it]"
          ]
        },
        {
          "output_type": "stream",
          "name": "stdout",
          "text": [
            "tensor([2, 2, 2, 2], device='cuda:0')\n",
            "tensor([False,  True,  True,  True], device='cuda:0')\n",
            "tensor([], device='cuda:0', dtype=torch.bool)\n",
            "선호도 예측 학습 정확도: 0.6479166666666667, 비속어 예측 학습 정확도: 0.7, 정치 예측 학습 정확도: 0.7013888955116272\n"
          ]
        },
        {
          "output_type": "stream",
          "name": "stderr",
          "text": [
            "epoch: 1, train loss: 1.9635:   6%|▌         | 120/2003 [02:52<45:47,  1.46s/it]"
          ]
        },
        {
          "output_type": "stream",
          "name": "stdout",
          "text": [
            "tensor([0, 2, 2, 2], device='cuda:0')\n",
            "tensor([ True, False, False,  True], device='cuda:0')\n",
            "tensor([True], device='cuda:0')\n",
            "선호도 예측 학습 정확도: 0.6487603305785123, 비속어 예측 학습 정확도: 0.7024793388429752, 정치 예측 학습 정확도: 0.7034482955932617\n"
          ]
        },
        {
          "output_type": "stream",
          "name": "stderr",
          "text": [
            "epoch: 1, train loss: 1.9618:   6%|▌         | 121/2003 [02:54<45:38,  1.46s/it]"
          ]
        },
        {
          "output_type": "stream",
          "name": "stdout",
          "text": [
            "tensor([2, 2, 1, 2], device='cuda:0')\n",
            "tensor([False, False,  True, False], device='cuda:0')\n",
            "tensor([True], device='cuda:0')\n",
            "선호도 예측 학습 정확도: 0.6516393442622951, 비속어 예측 학습 정확도: 0.7049180327868853, 정치 예측 학습 정확도: 0.7054794430732727\n"
          ]
        },
        {
          "output_type": "stream",
          "name": "stderr",
          "text": [
            "epoch: 1, train loss: 1.9481:   6%|▌         | 122/2003 [02:55<45:07,  1.44s/it]"
          ]
        },
        {
          "output_type": "stream",
          "name": "stdout",
          "text": [
            "tensor([2, 2, 2, 2], device='cuda:0')\n",
            "tensor([False, False, False, False], device='cuda:0')\n",
            "tensor([ True, False,  True,  True], device='cuda:0')\n",
            "선호도 예측 학습 정확도: 0.6463414634146342, 비속어 예측 학습 정확도: 0.7032520325203252, 정치 예측 학습 정확도: 0.7066667079925537\n"
          ]
        },
        {
          "output_type": "stream",
          "name": "stderr",
          "text": [
            "epoch: 1, train loss: 1.9687:   6%|▌         | 123/2003 [02:57<45:06,  1.44s/it]"
          ]
        },
        {
          "output_type": "stream",
          "name": "stdout",
          "text": [
            "tensor([2, 2, 1, 2], device='cuda:0')\n",
            "tensor([False,  True,  True, False], device='cuda:0')\n",
            "tensor([True, True], device='cuda:0')\n",
            "선호도 예측 학습 정확도: 0.6471774193548387, 비속어 예측 학습 정확도: 0.7056451612903226, 정치 예측 학습 정확도: 0.7105263471603394\n"
          ]
        },
        {
          "output_type": "stream",
          "name": "stderr",
          "text": [
            "epoch: 1, train loss: 1.9606:   6%|▌         | 124/2003 [02:58<44:39,  1.43s/it]"
          ]
        },
        {
          "output_type": "stream",
          "name": "stdout",
          "text": [
            "tensor([2, 2, 2, 2], device='cuda:0')\n",
            "tensor([False, False, False,  True], device='cuda:0')\n",
            "tensor([True], device='cuda:0')\n",
            "선호도 예측 학습 정확도: 0.648, 비속어 예측 학습 정확도: 0.708, 정치 예측 학습 정확도: 0.7124183177947998\n"
          ]
        },
        {
          "output_type": "stream",
          "name": "stderr",
          "text": [
            "epoch: 1, train loss: 1.9486:   6%|▌         | 125/2003 [02:59<44:39,  1.43s/it]"
          ]
        },
        {
          "output_type": "stream",
          "name": "stdout",
          "text": [
            "tensor([2, 1, 2, 1], device='cuda:0')\n",
            "tensor([False,  True, False,  True], device='cuda:0')\n",
            "tensor([True, True, True, True], device='cuda:0')\n",
            "선호도 예측 학습 정확도: 0.6468253968253969, 비속어 예측 학습 정확도: 0.7063492063492064, 정치 예측 학습 정확도: 0.7197452187538147\n"
          ]
        },
        {
          "output_type": "stream",
          "name": "stderr",
          "text": [
            "epoch: 1, train loss: 1.9623:   6%|▋         | 126/2003 [03:01<44:23,  1.42s/it]"
          ]
        },
        {
          "output_type": "stream",
          "name": "stdout",
          "text": [
            "tensor([2, 2, 2, 2], device='cuda:0')\n",
            "tensor([False, False, False, False], device='cuda:0')\n",
            "tensor([], device='cuda:0', dtype=torch.bool)\n",
            "선호도 예측 학습 정확도: 0.6496062992125984, 비속어 예측 학습 정확도: 0.702755905511811, 정치 예측 학습 정확도: 0.7197452187538147\n"
          ]
        },
        {
          "output_type": "stream",
          "name": "stderr",
          "text": [
            "epoch: 1, train loss: 1.9582:   6%|▋         | 127/2003 [03:02<44:31,  1.42s/it]"
          ]
        },
        {
          "output_type": "stream",
          "name": "stdout",
          "text": [
            "tensor([2, 1, 2, 2], device='cuda:0')\n",
            "tensor([False,  True, False, False], device='cuda:0')\n",
            "tensor([True, True], device='cuda:0')\n",
            "선호도 예측 학습 정확도: 0.650390625, 비속어 예측 학습 정확도: 0.703125, 정치 예측 학습 정확도: 0.7232704162597656\n"
          ]
        },
        {
          "output_type": "stream",
          "name": "stderr",
          "text": [
            "epoch: 1, train loss: 1.9572:   6%|▋         | 128/2003 [03:04<44:12,  1.41s/it]"
          ]
        },
        {
          "output_type": "stream",
          "name": "stdout",
          "text": [
            "tensor([2, 2, 2, 2], device='cuda:0')\n",
            "tensor([False, False, False, False], device='cuda:0')\n",
            "tensor([True, True, True], device='cuda:0')\n",
            "선호도 예측 학습 정확도: 0.6472868217054264, 비속어 예측 학습 정확도: 0.6996124031007752, 정치 예측 학습 정확도: 0.7283950448036194\n"
          ]
        },
        {
          "output_type": "stream",
          "name": "stderr",
          "text": [
            "epoch: 1, train loss: 1.9654:   6%|▋         | 129/2003 [03:05<44:17,  1.42s/it]"
          ]
        },
        {
          "output_type": "stream",
          "name": "stdout",
          "text": [
            "tensor([2, 2, 2, 2], device='cuda:0')\n",
            "tensor([False, False, False, False], device='cuda:0')\n",
            "tensor([True], device='cuda:0')\n",
            "선호도 예측 학습 정확도: 0.6461538461538462, 비속어 예측 학습 정확도: 0.698076923076923, 정치 예측 학습 정확도: 0.7300613522529602\n"
          ]
        },
        {
          "output_type": "stream",
          "name": "stderr",
          "text": [
            "epoch: 1, train loss: 1.9736:   6%|▋         | 130/2003 [03:07<44:02,  1.41s/it]"
          ]
        },
        {
          "output_type": "stream",
          "name": "stdout",
          "text": [
            "tensor([2, 2, 2, 2], device='cuda:0')\n",
            "tensor([False, False,  True, False], device='cuda:0')\n",
            "tensor([True, True], device='cuda:0')\n",
            "선호도 예측 학습 정확도: 0.6450381679389313, 비속어 예측 학습 정확도: 0.700381679389313, 정치 예측 학습 정확도: 0.7272726893424988\n"
          ]
        },
        {
          "output_type": "stream",
          "name": "stderr",
          "text": [
            "epoch: 1, train loss: 1.9703:   7%|▋         | 131/2003 [03:08<44:16,  1.42s/it]"
          ]
        },
        {
          "output_type": "stream",
          "name": "stdout",
          "text": [
            "tensor([2, 1, 2, 2], device='cuda:0')\n",
            "tensor([False,  True, False, False], device='cuda:0')\n",
            "tensor([True, True, True, True], device='cuda:0')\n",
            "선호도 예측 학습 정확도: 0.6401515151515151, 비속어 예측 학습 정확도: 0.6988636363636364, 정치 예측 학습 정확도: 0.7278106808662415\n"
          ]
        },
        {
          "output_type": "stream",
          "name": "stderr",
          "text": [
            "epoch: 1, train loss: 1.985:   7%|▋         | 132/2003 [03:09<44:04,  1.41s/it]"
          ]
        },
        {
          "output_type": "stream",
          "name": "stdout",
          "text": [
            "tensor([2, 2, 2, 2], device='cuda:0')\n",
            "tensor([False,  True, False, False], device='cuda:0')\n",
            "tensor([], device='cuda:0', dtype=torch.bool)\n",
            "선호도 예측 학습 정확도: 0.6428571428571429, 비속어 예측 학습 정확도: 0.7011278195488722, 정치 예측 학습 정확도: 0.7278106808662415\n"
          ]
        },
        {
          "output_type": "stream",
          "name": "stderr",
          "text": [
            "epoch: 1, train loss: 1.9707:   7%|▋         | 133/2003 [03:11<44:15,  1.42s/it]"
          ]
        },
        {
          "output_type": "stream",
          "name": "stdout",
          "text": [
            "tensor([2, 2, 1, 2], device='cuda:0')\n",
            "tensor([False, False,  True, False], device='cuda:0')\n",
            "tensor([True], device='cuda:0')\n",
            "선호도 예측 학습 정확도: 0.6455223880597015, 비속어 예측 학습 정확도: 0.7014925373134329, 정치 예측 학습 정확도: 0.729411780834198\n"
          ]
        },
        {
          "output_type": "stream",
          "name": "stderr",
          "text": [
            "epoch: 1, train loss: 1.9609:   7%|▋         | 134/2003 [03:12<43:59,  1.41s/it]"
          ]
        },
        {
          "output_type": "stream",
          "name": "stdout",
          "text": [
            "tensor([1, 2, 2, 2], device='cuda:0')\n",
            "tensor([ True,  True, False,  True], device='cuda:0')\n",
            "tensor([True, True, True], device='cuda:0')\n",
            "선호도 예측 학습 정확도: 0.6425925925925926, 비속어 예측 학습 정확도: 0.7037037037037037, 정치 예측 학습 정확도: 0.7341040372848511\n"
          ]
        },
        {
          "output_type": "stream",
          "name": "stderr",
          "text": [
            "epoch: 1, train loss: 1.9568:   7%|▋         | 135/2003 [03:14<44:09,  1.42s/it]"
          ]
        },
        {
          "output_type": "stream",
          "name": "stdout",
          "text": [
            "tensor([1, 1, 2, 2], device='cuda:0')\n",
            "tensor([ True,  True, False,  True], device='cuda:0')\n",
            "tensor([True, True], device='cuda:0')\n",
            "선호도 예측 학습 정확도: 0.6452205882352942, 비속어 예측 학습 정확도: 0.7022058823529411, 정치 예측 학습 정확도: 0.7371428608894348\n"
          ]
        },
        {
          "output_type": "stream",
          "name": "stderr",
          "text": [
            "epoch: 1, train loss: 1.95:   7%|▋         | 136/2003 [03:15<43:56,  1.41s/it]"
          ]
        },
        {
          "output_type": "stream",
          "name": "stdout",
          "text": [
            "tensor([2, 2, 1, 2], device='cuda:0')\n",
            "tensor([False,  True,  True, False], device='cuda:0')\n",
            "tensor([True, True], device='cuda:0')\n",
            "선호도 예측 학습 정확도: 0.6459854014598541, 비속어 예측 학습 정확도: 0.7025547445255474, 정치 예측 학습 정확도: 0.7344632744789124\n"
          ]
        },
        {
          "output_type": "stream",
          "name": "stderr",
          "text": [
            "epoch: 1, train loss: 1.9469:   7%|▋         | 137/2003 [03:16<44:01,  1.42s/it]"
          ]
        },
        {
          "output_type": "stream",
          "name": "stdout",
          "text": [
            "tensor([2, 2, 2, 2], device='cuda:0')\n",
            "tensor([False, False, False,  True], device='cuda:0')\n",
            "tensor([], device='cuda:0', dtype=torch.bool)\n",
            "선호도 예측 학습 정확도: 0.6485507246376812, 비속어 예측 학습 정확도: 0.7047101449275363, 정치 예측 학습 정확도: 0.7344632744789124\n"
          ]
        },
        {
          "output_type": "stream",
          "name": "stderr",
          "text": [
            "epoch: 1, train loss: 1.9342:   7%|▋         | 138/2003 [03:18<43:48,  1.41s/it]"
          ]
        },
        {
          "output_type": "stream",
          "name": "stdout",
          "text": [
            "tensor([2, 2, 2, 2], device='cuda:0')\n",
            "tensor([False, False, False, False], device='cuda:0')\n",
            "tensor([True], device='cuda:0')\n",
            "선호도 예측 학습 정확도: 0.6492805755395683, 비속어 예측 학습 정확도: 0.7068345323741008, 정치 예측 학습 정확도: 0.7303370833396912\n"
          ]
        },
        {
          "output_type": "stream",
          "name": "stderr",
          "text": [
            "epoch: 1, train loss: 1.9274:   7%|▋         | 139/2003 [03:19<43:54,  1.41s/it]"
          ]
        },
        {
          "output_type": "stream",
          "name": "stdout",
          "text": [
            "tensor([2, 2, 2, 2], device='cuda:0')\n",
            "tensor([False, False, False, False], device='cuda:0')\n",
            "tensor([True], device='cuda:0')\n",
            "선호도 예측 학습 정확도: 0.65, 비속어 예측 학습 정확도: 0.7071428571428572, 정치 예측 학습 정확도: 0.7318435311317444\n"
          ]
        },
        {
          "output_type": "stream",
          "name": "stderr",
          "text": [
            "epoch: 1, train loss: 1.9168:   7%|▋         | 140/2003 [03:21<43:43,  1.41s/it]"
          ]
        },
        {
          "output_type": "stream",
          "name": "stdout",
          "text": [
            "tensor([2, 1, 1, 2], device='cuda:0')\n",
            "tensor([False,  True,  True, False], device='cuda:0')\n",
            "tensor([True, True], device='cuda:0')\n",
            "선호도 예측 학습 정확도: 0.6453900709219859, 비속어 예측 학습 정확도: 0.7092198581560284, 정치 예측 학습 정확도: 0.7292817831039429\n"
          ]
        },
        {
          "output_type": "stream",
          "name": "stderr",
          "text": [
            "epoch: 1, train loss: 1.9223:   7%|▋         | 141/2003 [03:22<44:05,  1.42s/it]"
          ]
        },
        {
          "output_type": "stream",
          "name": "stdout",
          "text": [
            "tensor([2, 2, 2, 2], device='cuda:0')\n",
            "tensor([False,  True,  True, False], device='cuda:0')\n",
            "tensor([True, True, True], device='cuda:0')\n",
            "선호도 예측 학습 정확도: 0.6426056338028169, 비속어 예측 학습 정확도: 0.7112676056338029, 정치 예측 학습 정확도: 0.72826087474823\n"
          ]
        },
        {
          "output_type": "stream",
          "name": "stderr",
          "text": [
            "epoch: 1, train loss: 1.9211:   7%|▋         | 142/2003 [03:23<43:51,  1.41s/it]"
          ]
        },
        {
          "output_type": "stream",
          "name": "stdout",
          "text": [
            "tensor([2, 1, 2, 2], device='cuda:0')\n",
            "tensor([False,  True,  True, False], device='cuda:0')\n",
            "tensor([True], device='cuda:0')\n",
            "선호도 예측 학습 정확도: 0.6451048951048951, 비속어 예측 학습 정확도: 0.7132867132867133, 정치 예측 학습 정확도: 0.7297297716140747\n"
          ]
        },
        {
          "output_type": "stream",
          "name": "stderr",
          "text": [
            "epoch: 1, train loss: 1.9099:   7%|▋         | 143/2003 [03:25<44:02,  1.42s/it]"
          ]
        },
        {
          "output_type": "stream",
          "name": "stdout",
          "text": [
            "tensor([1, 2, 2, 2], device='cuda:0')\n",
            "tensor([ True, False, False, False], device='cuda:0')\n",
            "tensor([], device='cuda:0', dtype=torch.bool)\n",
            "선호도 예측 학습 정확도: 0.6458333333333334, 비속어 예측 학습 정확도: 0.7135416666666666, 정치 예측 학습 정확도: 0.7297297716140747\n"
          ]
        },
        {
          "output_type": "stream",
          "name": "stderr",
          "text": [
            "epoch: 1, train loss: 1.9003:   7%|▋         | 144/2003 [03:26<43:46,  1.41s/it]"
          ]
        },
        {
          "output_type": "stream",
          "name": "stdout",
          "text": [
            "tensor([1, 1, 2, 2], device='cuda:0')\n",
            "tensor([ True,  True,  True, False], device='cuda:0')\n",
            "tensor([], device='cuda:0', dtype=torch.bool)\n",
            "선호도 예측 학습 정확도: 0.6431034482758621, 비속어 예측 학습 정확도: 0.7120689655172414, 정치 예측 학습 정확도: 0.7297297716140747\n"
          ]
        },
        {
          "output_type": "stream",
          "name": "stderr",
          "text": [
            "epoch: 1, train loss: 1.9046:   7%|▋         | 145/2003 [03:28<43:52,  1.42s/it]"
          ]
        },
        {
          "output_type": "stream",
          "name": "stdout",
          "text": [
            "tensor([2, 2, 2, 2], device='cuda:0')\n",
            "tensor([False, False, False, False], device='cuda:0')\n",
            "tensor([], device='cuda:0', dtype=torch.bool)\n",
            "선호도 예측 학습 정확도: 0.6455479452054794, 비속어 예측 학습 정확도: 0.714041095890411, 정치 예측 학습 정확도: 0.7297297716140747\n"
          ]
        },
        {
          "output_type": "stream",
          "name": "stderr",
          "text": [
            "epoch: 1, train loss: 1.8909:   7%|▋         | 146/2003 [03:29<43:40,  1.41s/it]"
          ]
        },
        {
          "output_type": "stream",
          "name": "stdout",
          "text": [
            "tensor([2, 2, 2, 2], device='cuda:0')\n",
            "tensor([False, False, False, False], device='cuda:0')\n",
            "tensor([], device='cuda:0', dtype=torch.bool)\n",
            "선호도 예측 학습 정확도: 0.6479591836734694, 비속어 예측 학습 정확도: 0.7142857142857143, 정치 예측 학습 정확도: 0.7297297716140747\n"
          ]
        },
        {
          "output_type": "stream",
          "name": "stderr",
          "text": [
            "epoch: 1, train loss: 1.8804:   7%|▋         | 147/2003 [03:31<43:47,  1.42s/it]"
          ]
        },
        {
          "output_type": "stream",
          "name": "stdout",
          "text": [
            "tensor([1, 2, 1, 2], device='cuda:0')\n",
            "tensor([ True, False,  True, False], device='cuda:0')\n",
            "tensor([True], device='cuda:0')\n",
            "선호도 예측 학습 정확도: 0.6486486486486487, 비속어 예측 학습 정확도: 0.7162162162162162, 정치 예측 학습 정확도: 0.7311828136444092\n"
          ]
        },
        {
          "output_type": "stream",
          "name": "stderr",
          "text": [
            "epoch: 1, train loss: 1.8716:   7%|▋         | 148/2003 [03:32<43:37,  1.41s/it]"
          ]
        },
        {
          "output_type": "stream",
          "name": "stdout",
          "text": [
            "tensor([2, 2, 2, 2], device='cuda:0')\n",
            "tensor([ True, False, False, False], device='cuda:0')\n",
            "tensor([True, True], device='cuda:0')\n",
            "선호도 예측 학습 정확도: 0.6476510067114094, 비속어 예측 학습 정확도: 0.7181208053691275, 정치 예측 학습 정확도: 0.728723406791687\n"
          ]
        },
        {
          "output_type": "stream",
          "name": "stderr",
          "text": [
            "epoch: 1, train loss: 1.8675:   7%|▋         | 149/2003 [03:33<43:44,  1.42s/it]"
          ]
        },
        {
          "output_type": "stream",
          "name": "stdout",
          "text": [
            "tensor([2, 1, 1, 2], device='cuda:0')\n",
            "tensor([ True,  True,  True, False], device='cuda:0')\n",
            "tensor([True, True, True], device='cuda:0')\n",
            "선호도 예측 학습 정확도: 0.645, 비속어 예측 학습 정확도: 0.72, 정치 예측 학습 정확도: 0.727748692035675\n"
          ]
        },
        {
          "output_type": "stream",
          "name": "stderr",
          "text": [
            "epoch: 1, train loss: 1.8715:   7%|▋         | 150/2003 [03:35<43:31,  1.41s/it]"
          ]
        },
        {
          "output_type": "stream",
          "name": "stdout",
          "text": [
            "tensor([2, 2, 2, 2], device='cuda:0')\n",
            "tensor([ True, False, False, False], device='cuda:0')\n",
            "tensor([True], device='cuda:0')\n",
            "선호도 예측 학습 정확도: 0.6456953642384106, 비속어 예측 학습 정확도: 0.7201986754966887, 정치 예측 학습 정확도: 0.7239583730697632\n"
          ]
        },
        {
          "output_type": "stream",
          "name": "stderr",
          "text": [
            "epoch: 1, train loss: 1.8665:   8%|▊         | 151/2003 [03:36<43:50,  1.42s/it]"
          ]
        },
        {
          "output_type": "stream",
          "name": "stdout",
          "text": [
            "tensor([2, 2, 2, 2], device='cuda:0')\n",
            "tensor([False, False, False, False], device='cuda:0')\n",
            "tensor([True], device='cuda:0')\n",
            "선호도 예측 학습 정확도: 0.6463815789473685, 비속어 예측 학습 정확도: 0.7220394736842105, 정치 예측 학습 정확도: 0.7202072143554688\n"
          ]
        },
        {
          "output_type": "stream",
          "name": "stderr",
          "text": [
            "epoch: 1, train loss: 1.859:   8%|▊         | 152/2003 [03:38<43:42,  1.42s/it]"
          ]
        },
        {
          "output_type": "stream",
          "name": "stdout",
          "text": [
            "tensor([2, 2, 1, 2], device='cuda:0')\n",
            "tensor([False, False,  True, False], device='cuda:0')\n",
            "tensor([True], device='cuda:0')\n",
            "선호도 예측 학습 정확도: 0.6486928104575164, 비속어 예측 학습 정확도: 0.7238562091503268, 정치 예측 학습 정확도: 0.7216494679450989\n"
          ]
        },
        {
          "output_type": "stream",
          "name": "stderr",
          "text": [
            "epoch: 1, train loss: 1.8462:   8%|▊         | 153/2003 [03:39<43:55,  1.42s/it]"
          ]
        },
        {
          "output_type": "stream",
          "name": "stdout",
          "text": [
            "tensor([2, 1, 2, 2], device='cuda:0')\n",
            "tensor([False,  True, False, False], device='cuda:0')\n",
            "tensor([True, True], device='cuda:0')\n",
            "선호도 예측 학습 정확도: 0.6493506493506493, 비속어 예측 학습 정확도: 0.7256493506493507, 정치 예측 학습 정확도: 0.7193877696990967\n"
          ]
        },
        {
          "output_type": "stream",
          "name": "stderr",
          "text": [
            "epoch: 1, train loss: 1.8395:   8%|▊         | 154/2003 [03:40<43:39,  1.42s/it]"
          ]
        },
        {
          "output_type": "stream",
          "name": "stdout",
          "text": [
            "tensor([2, 2, 1, 2], device='cuda:0')\n",
            "tensor([False, False,  True, False], device='cuda:0')\n",
            "tensor([True], device='cuda:0')\n",
            "선호도 예측 학습 정확도: 0.6516129032258065, 비속어 예측 학습 정확도: 0.7274193548387097, 정치 예측 학습 정확도: 0.7208121418952942\n"
          ]
        },
        {
          "output_type": "stream",
          "name": "stderr",
          "text": [
            "epoch: 1, train loss: 1.8274:   8%|▊         | 155/2003 [03:42<43:50,  1.42s/it]"
          ]
        },
        {
          "output_type": "stream",
          "name": "stdout",
          "text": [
            "tensor([2, 1, 1, 2], device='cuda:0')\n",
            "tensor([False,  True,  True, False], device='cuda:0')\n",
            "tensor([True, True], device='cuda:0')\n",
            "선호도 예측 학습 정확도: 0.6538461538461539, 비속어 예측 학습 정확도: 0.7291666666666666, 정치 예측 학습 정확도: 0.7236180901527405\n"
          ]
        },
        {
          "output_type": "stream",
          "name": "stderr",
          "text": [
            "epoch: 1, train loss: 1.8155:   8%|▊         | 156/2003 [03:43<43:40,  1.42s/it]"
          ]
        },
        {
          "output_type": "stream",
          "name": "stdout",
          "text": [
            "tensor([2, 2, 2, 1], device='cuda:0')\n",
            "tensor([False, False, False,  True], device='cuda:0')\n",
            "tensor([True, True], device='cuda:0')\n",
            "선호도 예측 학습 정확도: 0.6544585987261147, 비속어 예측 학습 정확도: 0.7277070063694268, 정치 예측 학습 정확도: 0.7263681292533875\n"
          ]
        },
        {
          "output_type": "stream",
          "name": "stderr",
          "text": [
            "epoch: 1, train loss: 1.8194:   8%|▊         | 157/2003 [03:45<43:49,  1.42s/it]"
          ]
        },
        {
          "output_type": "stream",
          "name": "stdout",
          "text": [
            "tensor([1, 2, 2, 2], device='cuda:0')\n",
            "tensor([ True, False, False,  True], device='cuda:0')\n",
            "tensor([True], device='cuda:0')\n",
            "선호도 예측 학습 정확도: 0.6566455696202531, 비속어 예측 학습 정확도: 0.7278481012658228, 정치 예측 학습 정확도: 0.7277227640151978\n"
          ]
        },
        {
          "output_type": "stream",
          "name": "stderr",
          "text": [
            "epoch: 1, train loss: 1.8112:   8%|▊         | 158/2003 [03:46<43:36,  1.42s/it]"
          ]
        },
        {
          "output_type": "stream",
          "name": "stdout",
          "text": [
            "tensor([2, 2, 1, 2], device='cuda:0')\n",
            "tensor([False, False,  True, False], device='cuda:0')\n",
            "tensor([False], device='cuda:0')\n",
            "선호도 예측 학습 정확도: 0.6556603773584906, 비속어 예측 학습 정확도: 0.7264150943396226, 정치 예측 학습 정확도: 0.7290640473365784\n"
          ]
        },
        {
          "output_type": "stream",
          "name": "stderr",
          "text": [
            "epoch: 1, train loss: 1.8159:   8%|▊         | 159/2003 [03:48<43:51,  1.43s/it]"
          ]
        },
        {
          "output_type": "stream",
          "name": "stdout",
          "text": [
            "tensor([2, 1, 1, 2], device='cuda:0')\n",
            "tensor([False,  True,  True, False], device='cuda:0')\n",
            "tensor([True, True], device='cuda:0')\n",
            "선호도 예측 학습 정확도: 0.6578125, 비속어 예측 학습 정확도: 0.7265625, 정치 예측 학습 정확도: 0.7317073345184326\n"
          ]
        },
        {
          "output_type": "stream",
          "name": "stderr",
          "text": [
            "epoch: 1, train loss: 1.8092:   8%|▊         | 160/2003 [03:49<43:36,  1.42s/it]"
          ]
        },
        {
          "output_type": "stream",
          "name": "stdout",
          "text": [
            "tensor([2, 2, 2, 1], device='cuda:0')\n",
            "tensor([False, False, False,  True], device='cuda:0')\n",
            "tensor([False,  True], device='cuda:0')\n",
            "선호도 예측 학습 정확도: 0.65527950310559, 비속어 예측 학습 정확도: 0.7267080745341615, 정치 예측 학습 정확도: 0.7246376872062683\n"
          ]
        },
        {
          "output_type": "stream",
          "name": "stderr",
          "text": [
            "epoch: 1, train loss: 1.8208:   8%|▊         | 161/2003 [03:50<43:54,  1.43s/it]"
          ]
        },
        {
          "output_type": "stream",
          "name": "stdout",
          "text": [
            "tensor([2, 2, 2, 2], device='cuda:0')\n",
            "tensor([False, False, False, False], device='cuda:0')\n",
            "tensor([], device='cuda:0', dtype=torch.bool)\n",
            "선호도 예측 학습 정확도: 0.6558641975308642, 비속어 예측 학습 정확도: 0.7268518518518519, 정치 예측 학습 정확도: 0.7246376872062683\n"
          ]
        },
        {
          "output_type": "stream",
          "name": "stderr",
          "text": [
            "epoch: 1, train loss: 1.8179:   8%|▊         | 162/2003 [03:52<43:45,  1.43s/it]"
          ]
        },
        {
          "output_type": "stream",
          "name": "stdout",
          "text": [
            "tensor([2, 2, 2, 1], device='cuda:0')\n",
            "tensor([False, False, False,  True], device='cuda:0')\n",
            "tensor([True], device='cuda:0')\n",
            "선호도 예측 학습 정확도: 0.6579754601226994, 비속어 예측 학습 정확도: 0.7269938650306749, 정치 예측 학습 정확도: 0.7259615659713745\n"
          ]
        },
        {
          "output_type": "stream",
          "name": "stderr",
          "text": [
            "epoch: 1, train loss: 1.8087:   8%|▊         | 163/2003 [03:53<43:57,  1.43s/it]"
          ]
        },
        {
          "output_type": "stream",
          "name": "stdout",
          "text": [
            "tensor([2, 2, 2, 2], device='cuda:0')\n",
            "tensor([False, False, False, False], device='cuda:0')\n",
            "tensor([False], device='cuda:0')\n",
            "선호도 예측 학습 정확도: 0.6570121951219512, 비속어 예측 학습 정확도: 0.7240853658536586, 정치 예측 학습 정확도: 0.7224879860877991\n"
          ]
        },
        {
          "output_type": "stream",
          "name": "stderr",
          "text": [
            "epoch: 1, train loss: 1.821:   8%|▊         | 164/2003 [03:55<43:40,  1.43s/it]"
          ]
        },
        {
          "output_type": "stream",
          "name": "stdout",
          "text": [
            "tensor([2, 2, 1, 2], device='cuda:0')\n",
            "tensor([False, False,  True, False], device='cuda:0')\n",
            "tensor([False, False], device='cuda:0')\n",
            "선호도 예측 학습 정확도: 0.6545454545454545, 비속어 예측 학습 정확도: 0.7257575757575757, 정치 예측 학습 정확도: 0.7251185178756714\n"
          ]
        },
        {
          "output_type": "stream",
          "name": "stderr",
          "text": [
            "epoch: 1, train loss: 1.8217:   8%|▊         | 165/2003 [03:56<43:49,  1.43s/it]"
          ]
        },
        {
          "output_type": "stream",
          "name": "stdout",
          "text": [
            "tensor([2, 2, 2, 2], device='cuda:0')\n",
            "tensor([ True, False, False, False], device='cuda:0')\n",
            "tensor([True], device='cuda:0')\n",
            "선호도 예측 학습 정확도: 0.6551204819277109, 비속어 예측 학습 정확도: 0.7243975903614458, 정치 예측 학습 정확도: 0.7264150977134705\n"
          ]
        },
        {
          "output_type": "stream",
          "name": "stderr",
          "text": [
            "epoch: 1, train loss: 1.8156:   8%|▊         | 166/2003 [03:58<43:34,  1.42s/it]"
          ]
        },
        {
          "output_type": "stream",
          "name": "stdout",
          "text": [
            "tensor([2, 2, 1, 2], device='cuda:0')\n",
            "tensor([False, False,  True, False], device='cuda:0')\n",
            "tensor([False, False,  True, False], device='cuda:0')\n",
            "선호도 예측 학습 정확도: 0.6526946107784432, 비속어 예측 학습 정확도: 0.7245508982035929, 정치 예측 학습 정확도: 0.7268518805503845\n"
          ]
        },
        {
          "output_type": "stream",
          "name": "stderr",
          "text": [
            "epoch: 1, train loss: 1.8315:   8%|▊         | 167/2003 [03:59<44:15,  1.45s/it]"
          ]
        },
        {
          "output_type": "stream",
          "name": "stdout",
          "text": [
            "tensor([1, 2, 2, 1], device='cuda:0')\n",
            "tensor([ True, False, False,  True], device='cuda:0')\n",
            "tensor([True, True], device='cuda:0')\n",
            "선호도 예측 학습 정확도: 0.6532738095238095, 비속어 예측 학습 정확도: 0.7261904761904762, 정치 예측 학습 정확도: 0.7293577790260315\n"
          ]
        },
        {
          "output_type": "stream",
          "name": "stderr",
          "text": [
            "epoch: 1, train loss: 1.8249:   8%|▊         | 168/2003 [04:01<43:52,  1.43s/it]"
          ]
        },
        {
          "output_type": "stream",
          "name": "stdout",
          "text": [
            "tensor([2, 2, 1, 2], device='cuda:0')\n",
            "tensor([False, False,  True, False], device='cuda:0')\n",
            "tensor([True], device='cuda:0')\n",
            "선호도 예측 학습 정확도: 0.650887573964497, 비속어 예측 학습 정확도: 0.727810650887574, 정치 예측 학습 정확도: 0.7305935621261597\n"
          ]
        },
        {
          "output_type": "stream",
          "name": "stderr",
          "text": [
            "epoch: 1, train loss: 1.8306:   8%|▊         | 169/2003 [04:02<44:15,  1.45s/it]"
          ]
        },
        {
          "output_type": "stream",
          "name": "stdout",
          "text": [
            "tensor([2, 2, 2, 2], device='cuda:0')\n",
            "tensor([False, False, False, False], device='cuda:0')\n",
            "tensor([], device='cuda:0', dtype=torch.bool)\n",
            "선호도 예측 학습 정확도: 0.6529411764705882, 비속어 예측 학습 정확도: 0.7279411764705882, 정치 예측 학습 정확도: 0.7305935621261597\n"
          ]
        },
        {
          "output_type": "stream",
          "name": "stderr",
          "text": [
            "epoch: 1, train loss: 1.8178:   8%|▊         | 170/2003 [04:03<43:54,  1.44s/it]"
          ]
        },
        {
          "output_type": "stream",
          "name": "stdout",
          "text": [
            "tensor([2, 1, 2, 2], device='cuda:0')\n",
            "tensor([False,  True,  True, False], device='cuda:0')\n",
            "tensor([True, True], device='cuda:0')\n",
            "선호도 예측 학습 정확도: 0.6535087719298246, 비속어 예측 학습 정확도: 0.7280701754385965, 정치 예측 학습 정확도: 0.733031690120697\n"
          ]
        },
        {
          "output_type": "stream",
          "name": "stderr",
          "text": [
            "epoch: 1, train loss: 1.8176:   9%|▊         | 171/2003 [04:05<45:45,  1.50s/it]"
          ]
        },
        {
          "output_type": "stream",
          "name": "stdout",
          "text": [
            "tensor([1, 1, 2, 2], device='cuda:0')\n",
            "tensor([ True,  True, False, False], device='cuda:0')\n",
            "tensor([True], device='cuda:0')\n",
            "선호도 예측 학습 정확도: 0.6540697674418605, 비속어 예측 학습 정확도: 0.7281976744186046, 정치 예측 학습 정확도: 0.7342342734336853\n"
          ]
        },
        {
          "output_type": "stream",
          "name": "stderr",
          "text": [
            "epoch: 1, train loss: 1.8076:   9%|▊         | 172/2003 [04:07<50:05,  1.64s/it]"
          ]
        },
        {
          "output_type": "stream",
          "name": "stdout",
          "text": [
            "tensor([2, 2, 1, 1], device='cuda:0')\n",
            "tensor([False, False,  True,  True], device='cuda:0')\n",
            "tensor([True, True], device='cuda:0')\n",
            "선호도 예측 학습 정확도: 0.6560693641618497, 비속어 예측 학습 정확도: 0.7297687861271677, 정치 예측 학습 정확도: 0.7366071939468384\n"
          ]
        },
        {
          "output_type": "stream",
          "name": "stderr",
          "text": [
            "epoch: 1, train loss: 1.7965:   9%|▊         | 173/2003 [04:09<48:51,  1.60s/it]"
          ]
        },
        {
          "output_type": "stream",
          "name": "stdout",
          "text": [
            "tensor([1, 2, 1, 1], device='cuda:0')\n",
            "tensor([ True, False,  True,  True], device='cuda:0')\n",
            "tensor([True, True, True, True], device='cuda:0')\n",
            "선호도 예측 학습 정확도: 0.6537356321839081, 비속어 예측 학습 정확도: 0.728448275862069, 정치 예측 학습 정확도: 0.7368420958518982\n"
          ]
        },
        {
          "output_type": "stream",
          "name": "stderr",
          "text": [
            "epoch: 1, train loss: 1.8139:   9%|▊         | 174/2003 [04:10<47:14,  1.55s/it]"
          ]
        },
        {
          "output_type": "stream",
          "name": "stdout",
          "text": [
            "tensor([2, 1, 2, 2], device='cuda:0')\n",
            "tensor([False,  True, False, False], device='cuda:0')\n",
            "tensor([True], device='cuda:0')\n",
            "선호도 예측 학습 정확도: 0.6528571428571428, 비속어 예측 학습 정확도: 0.7285714285714285, 정치 예측 학습 정확도: 0.7379912734031677\n"
          ]
        },
        {
          "output_type": "stream",
          "name": "stderr",
          "text": [
            "epoch: 1, train loss: 1.8111:   9%|▊         | 175/2003 [04:11<46:44,  1.53s/it]"
          ]
        },
        {
          "output_type": "stream",
          "name": "stdout",
          "text": [
            "tensor([1, 1, 2, 2], device='cuda:0')\n",
            "tensor([ True,  True, False, False], device='cuda:0')\n",
            "tensor([True], device='cuda:0')\n",
            "선호도 예측 학습 정확도: 0.6534090909090909, 비속어 예측 학습 정확도: 0.7286931818181818, 정치 예측 학습 정확도: 0.7391303777694702\n"
          ]
        },
        {
          "output_type": "stream",
          "name": "stderr",
          "text": [
            "epoch: 1, train loss: 1.8033:   9%|▉         | 176/2003 [04:13<46:06,  1.51s/it]"
          ]
        },
        {
          "output_type": "stream",
          "name": "stdout",
          "text": [
            "tensor([1, 2, 2, 2], device='cuda:0')\n",
            "tensor([ True, False, False, False], device='cuda:0')\n",
            "tensor([True, True], device='cuda:0')\n",
            "선호도 예측 학습 정확도: 0.652542372881356, 비속어 예측 학습 정확도: 0.730225988700565, 정치 예측 학습 정확도: 0.7370689511299133\n"
          ]
        },
        {
          "output_type": "stream",
          "name": "stderr",
          "text": [
            "epoch: 1, train loss: 1.807:   9%|▉         | 177/2003 [04:15<46:45,  1.54s/it]"
          ]
        },
        {
          "output_type": "stream",
          "name": "stdout",
          "text": [
            "tensor([2, 2, 2, 2], device='cuda:0')\n",
            "tensor([False, False, False, False], device='cuda:0')\n",
            "tensor([False, False], device='cuda:0')\n",
            "선호도 예측 학습 정확도: 0.651685393258427, 비속어 예측 학습 정확도: 0.7317415730337079, 정치 예측 학습 정확도: 0.7393162846565247\n"
          ]
        },
        {
          "output_type": "stream",
          "name": "stderr",
          "text": [
            "epoch: 1, train loss: 1.8036:   9%|▉         | 178/2003 [04:16<46:23,  1.53s/it]"
          ]
        },
        {
          "output_type": "stream",
          "name": "stdout",
          "text": [
            "tensor([2, 2, 2, 2], device='cuda:0')\n",
            "tensor([False, False, False, False], device='cuda:0')\n",
            "tensor([True], device='cuda:0')\n",
            "선호도 예측 학습 정확도: 0.6508379888268156, 비속어 예측 학습 정확도: 0.7318435754189944, 정치 예측 학습 정확도: 0.7404255270957947\n"
          ]
        },
        {
          "output_type": "stream",
          "name": "stderr",
          "text": [
            "epoch: 1, train loss: 1.8019:   9%|▉         | 179/2003 [04:17<45:37,  1.50s/it]"
          ]
        },
        {
          "output_type": "stream",
          "name": "stdout",
          "text": [
            "tensor([2, 2, 2, 2], device='cuda:0')\n",
            "tensor([False, False, False, False], device='cuda:0')\n",
            "tensor([], device='cuda:0', dtype=torch.bool)\n",
            "선호도 예측 학습 정확도: 0.6513888888888889, 비속어 예측 학습 정확도: 0.7333333333333333, 정치 예측 학습 정확도: 0.7404255270957947\n"
          ]
        },
        {
          "output_type": "stream",
          "name": "stderr",
          "text": [
            "epoch: 1, train loss: 1.7961:   9%|▉         | 180/2003 [04:19<45:00,  1.48s/it]"
          ]
        },
        {
          "output_type": "stream",
          "name": "stdout",
          "text": [
            "tensor([1, 1, 1, 2], device='cuda:0')\n",
            "tensor([ True,  True,  True, False], device='cuda:0')\n",
            "tensor([True, True, True], device='cuda:0')\n",
            "선호도 예측 학습 정확도: 0.6505524861878453, 비속어 예측 학습 정확도: 0.7320441988950276, 정치 예측 학습 정확도: 0.7352941632270813\n"
          ]
        },
        {
          "output_type": "stream",
          "name": "stderr",
          "text": [
            "epoch: 1, train loss: 1.8064:   9%|▉         | 181/2003 [04:20<46:01,  1.52s/it]"
          ]
        },
        {
          "output_type": "stream",
          "name": "stdout",
          "text": [
            "tensor([2, 2, 2, 1], device='cuda:0')\n",
            "tensor([False, False, False,  True], device='cuda:0')\n",
            "tensor([True], device='cuda:0')\n",
            "선호도 예측 학습 정확도: 0.6510989010989011, 비속어 예측 학습 정확도: 0.7335164835164835, 정치 예측 학습 정확도: 0.7364016771316528\n"
          ]
        },
        {
          "output_type": "stream",
          "name": "stderr",
          "text": [
            "epoch: 1, train loss: 1.8035:   9%|▉         | 182/2003 [04:22<46:01,  1.52s/it]"
          ]
        },
        {
          "output_type": "stream",
          "name": "stdout",
          "text": [
            "tensor([1, 1, 2, 1], device='cuda:0')\n",
            "tensor([ True,  True, False,  True], device='cuda:0')\n",
            "tensor([True, True], device='cuda:0')\n",
            "선호도 예측 학습 정확도: 0.6475409836065574, 비속어 예측 학습 정확도: 0.7336065573770492, 정치 예측 학습 정확도: 0.7385892271995544\n"
          ]
        },
        {
          "output_type": "stream",
          "name": "stderr",
          "text": [
            "epoch: 1, train loss: 1.8164:   9%|▉         | 183/2003 [04:24<45:51,  1.51s/it]"
          ]
        },
        {
          "output_type": "stream",
          "name": "stdout",
          "text": [
            "tensor([1, 2, 2, 1], device='cuda:0')\n",
            "tensor([ True, False,  True,  True], device='cuda:0')\n",
            "tensor([True, True], device='cuda:0')\n",
            "선호도 예측 학습 정확도: 0.6480978260869565, 비속어 예측 학습 정확도: 0.7336956521739131, 정치 예측 학습 정확도: 0.7366254925727844\n"
          ]
        },
        {
          "output_type": "stream",
          "name": "stderr",
          "text": [
            "epoch: 1, train loss: 1.8192:   9%|▉         | 184/2003 [04:25<44:53,  1.48s/it]"
          ]
        },
        {
          "output_type": "stream",
          "name": "stdout",
          "text": [
            "tensor([2, 1, 1, 1], device='cuda:0')\n",
            "tensor([True, True, True, True], device='cuda:0')\n",
            "tensor([True, True, True], device='cuda:0')\n",
            "선호도 예측 학습 정확도: 0.65, 비속어 예측 학습 정확도: 0.7337837837837838, 정치 예측 학습 정확도: 0.7398373484611511\n"
          ]
        },
        {
          "output_type": "stream",
          "name": "stderr",
          "text": [
            "epoch: 1, train loss: 1.8109:   9%|▉         | 185/2003 [04:26<44:34,  1.47s/it]"
          ]
        },
        {
          "output_type": "stream",
          "name": "stdout",
          "text": [
            "tensor([2, 1, 1, 2], device='cuda:0')\n",
            "tensor([False,  True,  True, False], device='cuda:0')\n",
            "tensor([True, True], device='cuda:0')\n",
            "선호도 예측 학습 정확도: 0.6518817204301075, 비속어 예측 학습 정확도: 0.7352150537634409, 정치 예측 학습 정확도: 0.7419354915618896\n"
          ]
        },
        {
          "output_type": "stream",
          "name": "stderr",
          "text": [
            "epoch: 1, train loss: 1.8:   9%|▉         | 186/2003 [04:28<44:02,  1.45s/it]"
          ]
        },
        {
          "output_type": "stream",
          "name": "stdout",
          "text": [
            "tensor([1, 1, 1, 1], device='cuda:0')\n",
            "tensor([True, True, True, True], device='cuda:0')\n",
            "tensor([True, True], device='cuda:0')\n",
            "선호도 예측 학습 정확도: 0.6483957219251337, 비속어 예측 학습 정확도: 0.7366310160427807, 정치 예측 학습 정확도: 0.7440000176429749\n"
          ]
        },
        {
          "output_type": "stream",
          "name": "stderr",
          "text": [
            "epoch: 1, train loss: 1.8049:   9%|▉         | 187/2003 [04:29<43:58,  1.45s/it]"
          ]
        },
        {
          "output_type": "stream",
          "name": "stdout",
          "text": [
            "tensor([2, 1, 2, 1], device='cuda:0')\n",
            "tensor([False,  True, False,  True], device='cuda:0')\n",
            "tensor([True], device='cuda:0')\n",
            "선호도 예측 학습 정확도: 0.6476063829787234, 비속어 예측 학습 정확도: 0.738031914893617, 정치 예측 학습 정확도: 0.7450199127197266\n"
          ]
        },
        {
          "output_type": "stream",
          "name": "stderr",
          "text": [
            "epoch: 1, train loss: 1.8017:   9%|▉         | 188/2003 [04:31<43:41,  1.44s/it]"
          ]
        },
        {
          "output_type": "stream",
          "name": "stdout",
          "text": [
            "tensor([2, 2, 2, 2], device='cuda:0')\n",
            "tensor([False, False, False, False], device='cuda:0')\n",
            "tensor([False,  True], device='cuda:0')\n",
            "선호도 예측 학습 정확도: 0.6468253968253969, 비속어 예측 학습 정확도: 0.7380952380952381, 정치 예측 학습 정확도: 0.739130437374115\n"
          ]
        },
        {
          "output_type": "stream",
          "name": "stderr",
          "text": [
            "epoch: 1, train loss: 1.8078:   9%|▉         | 189/2003 [04:32<44:04,  1.46s/it]"
          ]
        },
        {
          "output_type": "stream",
          "name": "stdout",
          "text": [
            "tensor([2, 1, 1, 1], device='cuda:0')\n",
            "tensor([False,  True,  True,  True], device='cuda:0')\n",
            "tensor([True], device='cuda:0')\n",
            "선호도 예측 학습 정확도: 0.6447368421052632, 비속어 예측 학습 정확도: 0.7394736842105263, 정치 예측 학습 정확도: 0.7401574850082397\n"
          ]
        },
        {
          "output_type": "stream",
          "name": "stderr",
          "text": [
            "epoch: 1, train loss: 1.805:   9%|▉         | 190/2003 [04:34<44:22,  1.47s/it]"
          ]
        },
        {
          "output_type": "stream",
          "name": "stdout",
          "text": [
            "tensor([2, 1, 2, 1], device='cuda:0')\n",
            "tensor([False,  True, False,  True], device='cuda:0')\n",
            "tensor([True, True], device='cuda:0')\n",
            "선호도 예측 학습 정확도: 0.6452879581151832, 비속어 예측 학습 정확도: 0.7408376963350786, 정치 예측 학습 정확도: 0.7421875\n"
          ]
        },
        {
          "output_type": "stream",
          "name": "stderr",
          "text": [
            "epoch: 1, train loss: 1.7971:  10%|▉         | 191/2003 [04:35<46:15,  1.53s/it]"
          ]
        },
        {
          "output_type": "stream",
          "name": "stdout",
          "text": [
            "tensor([2, 1, 2, 2], device='cuda:0')\n",
            "tensor([ True,  True, False, False], device='cuda:0')\n",
            "tensor([], device='cuda:0', dtype=torch.bool)\n",
            "선호도 예측 학습 정확도: 0.6458333333333334, 비속어 예측 학습 정확도: 0.7421875, 정치 예측 학습 정확도: 0.7421875\n"
          ]
        },
        {
          "output_type": "stream",
          "name": "stderr",
          "text": [
            "epoch: 1, train loss: 1.7884:  10%|▉         | 192/2003 [04:37<45:51,  1.52s/it]"
          ]
        },
        {
          "output_type": "stream",
          "name": "stdout",
          "text": [
            "tensor([1, 2, 2, 2], device='cuda:0')\n",
            "tensor([ True,  True, False, False], device='cuda:0')\n",
            "tensor([True], device='cuda:0')\n",
            "선호도 예측 학습 정확도: 0.6476683937823834, 비속어 예측 학습 정확도: 0.7422279792746114, 정치 예측 학습 정확도: 0.7431906461715698\n"
          ]
        },
        {
          "output_type": "stream",
          "name": "stderr",
          "text": [
            "epoch: 1, train loss: 1.781:  10%|▉         | 193/2003 [04:38<45:59,  1.52s/it]"
          ]
        },
        {
          "output_type": "stream",
          "name": "stdout",
          "text": [
            "tensor([2, 2, 1, 2], device='cuda:0')\n",
            "tensor([False, False,  True, False], device='cuda:0')\n",
            "tensor([ True, False], device='cuda:0')\n",
            "선호도 예측 학습 정확도: 0.6469072164948454, 비속어 예측 학습 정확도: 0.7435567010309279, 정치 예측 학습 정확도: 0.7451737523078918\n"
          ]
        },
        {
          "output_type": "stream",
          "name": "stderr",
          "text": [
            "epoch: 1, train loss: 1.7758:  10%|▉         | 194/2003 [04:40<44:48,  1.49s/it]"
          ]
        },
        {
          "output_type": "stream",
          "name": "stdout",
          "text": [
            "tensor([1, 1, 2, 2], device='cuda:0')\n",
            "tensor([ True,  True, False, False], device='cuda:0')\n",
            "tensor([ True,  True, False], device='cuda:0')\n",
            "선호도 예측 학습 정확도: 0.6474358974358975, 비속어 예측 학습 정확도: 0.7435897435897436, 정치 예측 학습 정확도: 0.7442747950553894\n"
          ]
        },
        {
          "output_type": "stream",
          "name": "stderr",
          "text": [
            "epoch: 1, train loss: 1.7755:  10%|▉         | 195/2003 [04:41<44:20,  1.47s/it]"
          ]
        },
        {
          "output_type": "stream",
          "name": "stdout",
          "text": [
            "tensor([2, 2, 2, 2], device='cuda:0')\n",
            "tensor([False, False,  True, False], device='cuda:0')\n",
            "tensor([True, True, True], device='cuda:0')\n",
            "선호도 예측 학습 정확도: 0.6454081632653061, 비속어 예측 학습 정확도: 0.7423469387755102, 정치 예측 학습 정확도: 0.7471698522567749\n"
          ]
        },
        {
          "output_type": "stream",
          "name": "stderr",
          "text": [
            "epoch: 1, train loss: 1.7832:  10%|▉         | 196/2003 [04:43<43:36,  1.45s/it]"
          ]
        },
        {
          "output_type": "stream",
          "name": "stdout",
          "text": [
            "tensor([1, 2, 1, 2], device='cuda:0')\n",
            "tensor([ True, False,  True, False], device='cuda:0')\n",
            "tensor([True, True], device='cuda:0')\n",
            "선호도 예측 학습 정확도: 0.6459390862944162, 비속어 예측 학습 정확도: 0.7436548223350253, 정치 예측 학습 정확도: 0.7490636706352234\n"
          ]
        },
        {
          "output_type": "stream",
          "name": "stderr",
          "text": [
            "epoch: 1, train loss: 1.774:  10%|▉         | 197/2003 [04:44<43:27,  1.44s/it]"
          ]
        },
        {
          "output_type": "stream",
          "name": "stdout",
          "text": [
            "tensor([2, 1, 2, 2], device='cuda:0')\n",
            "tensor([False,  True,  True, False], device='cuda:0')\n",
            "tensor([True, True, True], device='cuda:0')\n",
            "선호도 예측 학습 정확도: 0.6452020202020202, 비속어 예측 학습 정확도: 0.7436868686868687, 정치 예측 학습 정확도: 0.7518518567085266\n"
          ]
        },
        {
          "output_type": "stream",
          "name": "stderr",
          "text": [
            "epoch: 1, train loss: 1.7736:  10%|▉         | 198/2003 [04:45<43:02,  1.43s/it]"
          ]
        },
        {
          "output_type": "stream",
          "name": "stdout",
          "text": [
            "tensor([2, 2, 2, 2], device='cuda:0')\n",
            "tensor([False, False, False, False], device='cuda:0')\n",
            "tensor([], device='cuda:0', dtype=torch.bool)\n",
            "선호도 예측 학습 정확도: 0.6469849246231156, 비속어 예측 학습 정확도: 0.7437185929648241, 정치 예측 학습 정확도: 0.7518518567085266\n"
          ]
        },
        {
          "output_type": "stream",
          "name": "stderr",
          "text": [
            "epoch: 1, train loss: 1.7632:  10%|▉         | 199/2003 [04:47<43:03,  1.43s/it]"
          ]
        },
        {
          "output_type": "stream",
          "name": "stdout",
          "text": [
            "tensor([1, 2, 2, 2], device='cuda:0')\n",
            "tensor([ True, False, False, False], device='cuda:0')\n",
            "tensor([True, True], device='cuda:0')\n",
            "선호도 예측 학습 정확도: 0.6475, 비속어 예측 학습 정확도: 0.74375, 정치 예측 학습 정확도: 0.7536764740943909\n"
          ]
        },
        {
          "output_type": "stream",
          "name": "stderr",
          "text": [
            "epoch: 1, train loss: 1.7636:  10%|▉         | 200/2003 [04:48<42:40,  1.42s/it]"
          ]
        },
        {
          "output_type": "stream",
          "name": "stdout",
          "text": [
            "tensor([2, 2, 2, 2], device='cuda:0')\n",
            "tensor([False, False, False, False], device='cuda:0')\n",
            "tensor([ True, False], device='cuda:0')\n",
            "선호도 예측 학습 정확도: 0.6467661691542289, 비속어 예측 학습 정확도: 0.7437810945273632, 정치 예측 학습 정확도: 0.7481752038002014\n"
          ]
        },
        {
          "output_type": "stream",
          "name": "stderr",
          "text": [
            "epoch: 1, train loss: 1.771:  10%|█         | 201/2003 [04:50<42:50,  1.43s/it]"
          ]
        },
        {
          "output_type": "stream",
          "name": "stdout",
          "text": [
            "tensor([2, 2, 2, 2], device='cuda:0')\n",
            "tensor([False, False, False, False], device='cuda:0')\n",
            "tensor([], device='cuda:0', dtype=torch.bool)\n",
            "선호도 예측 학습 정확도: 0.6472772277227723, 비속어 예측 학습 정확도: 0.745049504950495, 정치 예측 학습 정확도: 0.7481752038002014\n"
          ]
        },
        {
          "output_type": "stream",
          "name": "stderr",
          "text": [
            "epoch: 1, train loss: 1.765:  10%|█         | 202/2003 [04:51<42:38,  1.42s/it]"
          ]
        },
        {
          "output_type": "stream",
          "name": "stdout",
          "text": [
            "tensor([2, 2, 1, 2], device='cuda:0')\n",
            "tensor([False,  True,  True, False], device='cuda:0')\n",
            "tensor([True], device='cuda:0')\n",
            "선호도 예측 학습 정확도: 0.6490147783251231, 비속어 예측 학습 정확도: 0.7463054187192119, 정치 예측 학습 정확도: 0.7490909099578857\n"
          ]
        },
        {
          "output_type": "stream",
          "name": "stderr",
          "text": [
            "epoch: 1, train loss: 1.7544:  10%|█         | 203/2003 [04:53<42:50,  1.43s/it]"
          ]
        },
        {
          "output_type": "stream",
          "name": "stdout",
          "text": [
            "tensor([2, 2, 1, 2], device='cuda:0')\n",
            "tensor([False, False,  True, False], device='cuda:0')\n",
            "tensor([True], device='cuda:0')\n",
            "선호도 예측 학습 정확도: 0.6507352941176471, 비속어 예측 학습 정확도: 0.7475490196078431, 정치 예측 학습 정확도: 0.75\n"
          ]
        },
        {
          "output_type": "stream",
          "name": "stderr",
          "text": [
            "epoch: 1, train loss: 1.7425:  10%|█         | 204/2003 [04:54<42:32,  1.42s/it]"
          ]
        },
        {
          "output_type": "stream",
          "name": "stdout",
          "text": [
            "tensor([2, 2, 1, 1], device='cuda:0')\n",
            "tensor([False, False,  True,  True], device='cuda:0')\n",
            "tensor([True, True], device='cuda:0')\n",
            "선호도 예측 학습 정확도: 0.6524390243902439, 비속어 예측 학습 정확도: 0.748780487804878, 정치 예측 학습 정확도: 0.7517985701560974\n"
          ]
        },
        {
          "output_type": "stream",
          "name": "stderr",
          "text": [
            "epoch: 1, train loss: 1.7327:  10%|█         | 205/2003 [04:55<42:39,  1.42s/it]"
          ]
        },
        {
          "output_type": "stream",
          "name": "stdout",
          "text": [
            "tensor([2, 2, 2, 2], device='cuda:0')\n",
            "tensor([False, False, False, False], device='cuda:0')\n",
            "tensor([], device='cuda:0', dtype=torch.bool)\n",
            "선호도 예측 학습 정확도: 0.654126213592233, 비속어 예측 학습 정확도: 0.75, 정치 예측 학습 정확도: 0.7517985701560974\n"
          ]
        },
        {
          "output_type": "stream",
          "name": "stderr",
          "text": [
            "epoch: 1, train loss: 1.7205:  10%|█         | 206/2003 [04:57<42:29,  1.42s/it]"
          ]
        },
        {
          "output_type": "stream",
          "name": "stdout",
          "text": [
            "tensor([2, 2, 2, 2], device='cuda:0')\n",
            "tensor([False, False, False, False], device='cuda:0')\n",
            "tensor([True], device='cuda:0')\n",
            "선호도 예측 학습 정확도: 0.6545893719806763, 비속어 예측 학습 정확도: 0.751207729468599, 정치 예측 학습 정확도: 0.7491039633750916\n"
          ]
        },
        {
          "output_type": "stream",
          "name": "stderr",
          "text": [
            "epoch: 1, train loss: 1.7142:  10%|█         | 207/2003 [04:58<42:39,  1.42s/it]"
          ]
        },
        {
          "output_type": "stream",
          "name": "stdout",
          "text": [
            "tensor([1, 1, 2, 2], device='cuda:0')\n",
            "tensor([True, True, True, True], device='cuda:0')\n",
            "tensor([True, True], device='cuda:0')\n",
            "선호도 예측 학습 정확도: 0.6538461538461539, 비속어 예측 학습 정확도: 0.7512019230769231, 정치 예측 학습 정확도: 0.7473309636116028\n"
          ]
        },
        {
          "output_type": "stream",
          "name": "stderr",
          "text": [
            "epoch: 1, train loss: 1.7171:  10%|█         | 208/2003 [05:00<42:23,  1.42s/it]"
          ]
        },
        {
          "output_type": "stream",
          "name": "stdout",
          "text": [
            "tensor([1, 2, 1, 2], device='cuda:0')\n",
            "tensor([ True, False,  True, False], device='cuda:0')\n",
            "tensor([True, True, True], device='cuda:0')\n",
            "선호도 예측 학습 정확도: 0.6543062200956937, 비속어 예측 학습 정확도: 0.7523923444976076, 정치 예측 학습 정확도: 0.7464788556098938\n"
          ]
        },
        {
          "output_type": "stream",
          "name": "stderr",
          "text": [
            "epoch: 1, train loss: 1.7131:  10%|█         | 209/2003 [05:01<42:31,  1.42s/it]"
          ]
        },
        {
          "output_type": "stream",
          "name": "stdout",
          "text": [
            "tensor([2, 2, 1, 2], device='cuda:0')\n",
            "tensor([ True, False,  True, False], device='cuda:0')\n",
            "tensor([True], device='cuda:0')\n",
            "선호도 예측 학습 정확도: 0.655952380952381, 비속어 예측 학습 정확도: 0.7523809523809524, 정치 예측 학습 정확도: 0.7438596487045288\n"
          ]
        },
        {
          "output_type": "stream",
          "name": "stderr",
          "text": [
            "epoch: 1, train loss: 1.7115:  10%|█         | 210/2003 [05:02<42:23,  1.42s/it]"
          ]
        },
        {
          "output_type": "stream",
          "name": "stdout",
          "text": [
            "tensor([2, 2, 2, 2], device='cuda:0')\n",
            "tensor([False, False, False, False], device='cuda:0')\n",
            "tensor([], device='cuda:0', dtype=torch.bool)\n",
            "선호도 예측 학습 정확도: 0.6575829383886256, 비속어 예측 학습 정확도: 0.7535545023696683, 정치 예측 학습 정확도: 0.7438596487045288\n"
          ]
        },
        {
          "output_type": "stream",
          "name": "stderr",
          "text": [
            "epoch: 1, train loss: 1.7002:  11%|█         | 211/2003 [05:04<42:35,  1.43s/it]"
          ]
        },
        {
          "output_type": "stream",
          "name": "stdout",
          "text": [
            "tensor([2, 1, 2, 1], device='cuda:0')\n",
            "tensor([False,  True,  True,  True], device='cuda:0')\n",
            "tensor([True], device='cuda:0')\n",
            "선호도 예측 학습 정확도: 0.6568396226415094, 비속어 예측 학습 정확도: 0.7535377358490566, 정치 예측 학습 정확도: 0.7412587404251099\n"
          ]
        },
        {
          "output_type": "stream",
          "name": "stderr",
          "text": [
            "epoch: 1, train loss: 1.7083:  11%|█         | 212/2003 [05:05<42:27,  1.42s/it]"
          ]
        },
        {
          "output_type": "stream",
          "name": "stdout",
          "text": [
            "tensor([1, 2, 2, 2], device='cuda:0')\n",
            "tensor([ True, False,  True, False], device='cuda:0')\n",
            "tensor([True], device='cuda:0')\n",
            "선호도 예측 학습 정확도: 0.6584507042253521, 비속어 예측 학습 정확도: 0.7546948356807511, 정치 예측 학습 정확도: 0.7421602606773376\n"
          ]
        },
        {
          "output_type": "stream",
          "name": "stderr",
          "text": [
            "epoch: 1, train loss: 1.6991:  11%|█         | 213/2003 [05:07<42:38,  1.43s/it]"
          ]
        },
        {
          "output_type": "stream",
          "name": "stdout",
          "text": [
            "tensor([2, 1, 2, 2], device='cuda:0')\n",
            "tensor([False,  True, False, False], device='cuda:0')\n",
            "tensor([True], device='cuda:0')\n",
            "선호도 예측 학습 정확도: 0.6600467289719626, 비속어 예측 학습 정확도: 0.7558411214953271, 정치 예측 학습 정확도: 0.7430555820465088\n"
          ]
        },
        {
          "output_type": "stream",
          "name": "stderr",
          "text": [
            "epoch: 1, train loss: 1.6868:  11%|█         | 214/2003 [05:08<42:22,  1.42s/it]"
          ]
        },
        {
          "output_type": "stream",
          "name": "stdout",
          "text": [
            "tensor([2, 2, 1, 1], device='cuda:0')\n",
            "tensor([False,  True,  True,  True], device='cuda:0')\n",
            "tensor([True], device='cuda:0')\n",
            "선호도 예측 학습 정확도: 0.6593023255813953, 비속어 예측 학습 정확도: 0.7569767441860465, 정치 예측 학습 정확도: 0.7439446449279785\n"
          ]
        },
        {
          "output_type": "stream",
          "name": "stderr",
          "text": [
            "epoch: 1, train loss: 1.6812:  11%|█         | 215/2003 [05:10<42:29,  1.43s/it]"
          ]
        },
        {
          "output_type": "stream",
          "name": "stdout",
          "text": [
            "tensor([2, 2, 2, 2], device='cuda:0')\n",
            "tensor([ True, False, False, False], device='cuda:0')\n",
            "tensor([True], device='cuda:0')\n",
            "선호도 예측 학습 정확도: 0.6597222222222222, 비속어 예측 학습 정확도: 0.7581018518518519, 정치 예측 학습 정확도: 0.7448275685310364\n"
          ]
        },
        {
          "output_type": "stream",
          "name": "stderr",
          "text": [
            "epoch: 1, train loss: 1.6707:  11%|█         | 216/2003 [05:11<42:13,  1.42s/it]"
          ]
        },
        {
          "output_type": "stream",
          "name": "stdout",
          "text": [
            "tensor([2, 2, 2, 2], device='cuda:0')\n",
            "tensor([False, False, False, False], device='cuda:0')\n",
            "tensor([], device='cuda:0', dtype=torch.bool)\n",
            "선호도 예측 학습 정확도: 0.6612903225806451, 비속어 예측 학습 정확도: 0.7580645161290323, 정치 예측 학습 정확도: 0.7448275685310364\n"
          ]
        },
        {
          "output_type": "stream",
          "name": "stderr",
          "text": [
            "epoch: 1, train loss: 1.66:  11%|█         | 217/2003 [05:12<42:21,  1.42s/it]"
          ]
        },
        {
          "output_type": "stream",
          "name": "stdout",
          "text": [
            "tensor([2, 1, 2, 2], device='cuda:0')\n",
            "tensor([ True,  True, False, False], device='cuda:0')\n",
            "tensor([ True, False], device='cuda:0')\n",
            "선호도 예측 학습 정확도: 0.661697247706422, 비속어 예측 학습 정확도: 0.7591743119266054, 정치 예측 학습 정확도: 0.7465753555297852\n"
          ]
        },
        {
          "output_type": "stream",
          "name": "stderr",
          "text": [
            "epoch: 1, train loss: 1.6588:  11%|█         | 218/2003 [05:14<42:06,  1.42s/it]"
          ]
        },
        {
          "output_type": "stream",
          "name": "stdout",
          "text": [
            "tensor([2, 2, 2, 2], device='cuda:0')\n",
            "tensor([False,  True, False, False], device='cuda:0')\n",
            "tensor([True], device='cuda:0')\n",
            "선호도 예측 학습 정확도: 0.6621004566210046, 비속어 예측 학습 정확도: 0.7602739726027398, 정치 예측 학습 정확도: 0.7474402785301208\n"
          ]
        },
        {
          "output_type": "stream",
          "name": "stderr",
          "text": [
            "epoch: 1, train loss: 1.6492:  11%|█         | 219/2003 [05:15<42:16,  1.42s/it]"
          ]
        },
        {
          "output_type": "stream",
          "name": "stdout",
          "text": [
            "tensor([2, 2, 1, 2], device='cuda:0')\n",
            "tensor([False, False,  True, False], device='cuda:0')\n",
            "tensor([ True, False], device='cuda:0')\n",
            "선호도 예측 학습 정확도: 0.6613636363636364, 비속어 예측 학습 정확도: 0.7613636363636364, 정치 예측 학습 정확도: 0.7491525411605835\n"
          ]
        },
        {
          "output_type": "stream",
          "name": "stderr",
          "text": [
            "epoch: 1, train loss: 1.647:  11%|█         | 220/2003 [05:17<42:05,  1.42s/it]"
          ]
        },
        {
          "output_type": "stream",
          "name": "stdout",
          "text": [
            "tensor([2, 1, 2, 2], device='cuda:0')\n",
            "tensor([False,  True, False, False], device='cuda:0')\n",
            "tensor([True, True], device='cuda:0')\n",
            "선호도 예측 학습 정확도: 0.6606334841628959, 비속어 예측 학습 정확도: 0.7601809954751131, 정치 예측 학습 정확도: 0.7508417367935181\n"
          ]
        },
        {
          "output_type": "stream",
          "name": "stderr",
          "text": [
            "epoch: 1, train loss: 1.6538:  11%|█         | 221/2003 [05:18<42:21,  1.43s/it]"
          ]
        },
        {
          "output_type": "stream",
          "name": "stdout",
          "text": [
            "tensor([2, 2, 2, 2], device='cuda:0')\n",
            "tensor([False, False, False, False], device='cuda:0')\n",
            "tensor([False], device='cuda:0')\n",
            "선호도 예측 학습 정확도: 0.661036036036036, 비속어 예측 학습 정확도: 0.7612612612612613, 정치 예측 학습 정확도: 0.7516778707504272\n"
          ]
        },
        {
          "output_type": "stream",
          "name": "stderr",
          "text": [
            "epoch: 1, train loss: 1.6481:  11%|█         | 222/2003 [05:20<42:11,  1.42s/it]"
          ]
        },
        {
          "output_type": "stream",
          "name": "stdout",
          "text": [
            "tensor([2, 1, 2, 2], device='cuda:0')\n",
            "tensor([False,  True, False, False], device='cuda:0')\n",
            "tensor([True], device='cuda:0')\n",
            "선호도 예측 학습 정확도: 0.6591928251121076, 비속어 예측 학습 정확도: 0.7600896860986547, 정치 예측 학습 정확도: 0.7525083422660828\n"
          ]
        },
        {
          "output_type": "stream",
          "name": "stderr",
          "text": [
            "epoch: 1, train loss: 1.6587:  11%|█         | 223/2003 [05:21<42:22,  1.43s/it]"
          ]
        },
        {
          "output_type": "stream",
          "name": "stdout",
          "text": [
            "tensor([1, 1, 2, 2], device='cuda:0')\n",
            "tensor([ True,  True, False, False], device='cuda:0')\n",
            "tensor([True, True, True], device='cuda:0')\n",
            "선호도 예측 학습 정확도: 0.6584821428571429, 비속어 예측 학습 정확도: 0.7611607142857143, 정치 예측 학습 정확도: 0.751655638217926\n"
          ]
        },
        {
          "output_type": "stream",
          "name": "stderr",
          "text": [
            "epoch: 1, train loss: 1.6605:  11%|█         | 224/2003 [05:22<42:08,  1.42s/it]"
          ]
        },
        {
          "output_type": "stream",
          "name": "stdout",
          "text": [
            "tensor([1, 1, 2, 2], device='cuda:0')\n",
            "tensor([ True,  True, False, False], device='cuda:0')\n",
            "tensor([True], device='cuda:0')\n",
            "선호도 예측 학습 정확도: 0.6577777777777778, 비속어 예측 학습 정확도: 0.7622222222222222, 정치 예측 학습 정확도: 0.7524752616882324\n"
          ]
        },
        {
          "output_type": "stream",
          "name": "stderr",
          "text": [
            "epoch: 1, train loss: 1.6528:  11%|█         | 225/2003 [05:24<42:13,  1.43s/it]"
          ]
        },
        {
          "output_type": "stream",
          "name": "stdout",
          "text": [
            "tensor([2, 1, 1, 1], device='cuda:0')\n",
            "tensor([False,  True,  True,  True], device='cuda:0')\n",
            "tensor([True, True], device='cuda:0')\n",
            "선호도 예측 학습 정확도: 0.6581858407079646, 비속어 예측 학습 정확도: 0.7632743362831859, 정치 예측 학습 정확도: 0.7540983557701111\n"
          ]
        },
        {
          "output_type": "stream",
          "name": "stderr",
          "text": [
            "epoch: 1, train loss: 1.6436:  11%|█▏        | 226/2003 [05:25<42:00,  1.42s/it]"
          ]
        },
        {
          "output_type": "stream",
          "name": "stdout",
          "text": [
            "tensor([2, 1, 2, 1], device='cuda:0')\n",
            "tensor([False,  True, False,  True], device='cuda:0')\n",
            "tensor([True], device='cuda:0')\n",
            "선호도 예측 학습 정확도: 0.6574889867841409, 비속어 예측 학습 정확도: 0.76431718061674, 정치 예측 학습 정확도: 0.7549019455909729\n"
          ]
        },
        {
          "output_type": "stream",
          "name": "stderr",
          "text": [
            "epoch: 1, train loss: 1.636:  11%|█▏        | 227/2003 [05:27<42:07,  1.42s/it]"
          ]
        },
        {
          "output_type": "stream",
          "name": "stdout",
          "text": [
            "tensor([2, 2, 2, 2], device='cuda:0')\n",
            "tensor([False, False, False,  True], device='cuda:0')\n",
            "tensor([True], device='cuda:0')\n",
            "선호도 예측 학습 정확도: 0.6578947368421053, 비속어 예측 학습 정확도: 0.7642543859649122, 정치 예측 학습 정확도: 0.7524429559707642\n"
          ]
        },
        {
          "output_type": "stream",
          "name": "stderr",
          "text": [
            "epoch: 1, train loss: 1.6303:  11%|█▏        | 228/2003 [05:28<41:55,  1.42s/it]"
          ]
        },
        {
          "output_type": "stream",
          "name": "stdout",
          "text": [
            "tensor([1, 2, 2, 2], device='cuda:0')\n",
            "tensor([ True, False, False, False], device='cuda:0')\n",
            "tensor([], device='cuda:0', dtype=torch.bool)\n",
            "선호도 예측 학습 정확도: 0.6572052401746725, 비속어 예측 학습 정확도: 0.7652838427947598, 정치 예측 학습 정확도: 0.7524429559707642\n"
          ]
        },
        {
          "output_type": "stream",
          "name": "stderr",
          "text": [
            "epoch: 1, train loss: 1.6332:  11%|█▏        | 229/2003 [05:29<42:03,  1.42s/it]"
          ]
        },
        {
          "output_type": "stream",
          "name": "stdout",
          "text": [
            "tensor([2, 1, 1, 2], device='cuda:0')\n",
            "tensor([False,  True,  True, False], device='cuda:0')\n",
            "tensor([False,  True], device='cuda:0')\n",
            "선호도 예측 학습 정확도: 0.6554347826086957, 비속어 예측 학습 정확도: 0.7652173913043478, 정치 예측 학습 정확도: 0.7508090734481812\n"
          ]
        },
        {
          "output_type": "stream",
          "name": "stderr",
          "text": [
            "epoch: 1, train loss: 1.6441:  11%|█▏        | 230/2003 [05:31<41:53,  1.42s/it]"
          ]
        },
        {
          "output_type": "stream",
          "name": "stdout",
          "text": [
            "tensor([2, 1, 2, 2], device='cuda:0')\n",
            "tensor([False,  True, False, False], device='cuda:0')\n",
            "tensor([True], device='cuda:0')\n",
            "선호도 예측 학습 정확도: 0.6558441558441559, 비속어 예측 학습 정확도: 0.7662337662337663, 정치 예측 학습 정확도: 0.7516129016876221\n"
          ]
        },
        {
          "output_type": "stream",
          "name": "stderr",
          "text": [
            "epoch: 1, train loss: 1.6336:  12%|█▏        | 231/2003 [05:32<42:07,  1.43s/it]"
          ]
        },
        {
          "output_type": "stream",
          "name": "stdout",
          "text": [
            "tensor([2, 2, 1, 1], device='cuda:0')\n",
            "tensor([False, False,  True,  True], device='cuda:0')\n",
            "tensor([True], device='cuda:0')\n",
            "선호도 예측 학습 정확도: 0.65625, 비속어 예측 학습 정확도: 0.7661637931034483, 정치 예측 학습 정확도: 0.7524115443229675\n"
          ]
        },
        {
          "output_type": "stream",
          "name": "stderr",
          "text": [
            "epoch: 1, train loss: 1.6268:  12%|█▏        | 232/2003 [05:34<41:58,  1.42s/it]"
          ]
        },
        {
          "output_type": "stream",
          "name": "stdout",
          "text": [
            "tensor([1, 1, 2, 1], device='cuda:0')\n",
            "tensor([ True,  True, False,  True], device='cuda:0')\n",
            "tensor([True, True], device='cuda:0')\n",
            "선호도 예측 학습 정확도: 0.6545064377682404, 비속어 예측 학습 정확도: 0.7660944206008584, 정치 예측 학습 정확도: 0.753993570804596\n"
          ]
        },
        {
          "output_type": "stream",
          "name": "stderr",
          "text": [
            "epoch: 1, train loss: 1.6279:  12%|█▏        | 233/2003 [05:35<42:12,  1.43s/it]"
          ]
        },
        {
          "output_type": "stream",
          "name": "stdout",
          "text": [
            "tensor([2, 1, 2, 2], device='cuda:0')\n",
            "tensor([False,  True, False, False], device='cuda:0')\n",
            "tensor([True], device='cuda:0')\n",
            "선호도 예측 학습 정확도: 0.6549145299145299, 비속어 예측 학습 정확도: 0.7670940170940171, 정치 예측 학습 정확도: 0.7547770738601685\n"
          ]
        },
        {
          "output_type": "stream",
          "name": "stderr",
          "text": [
            "epoch: 1, train loss: 1.623:  12%|█▏        | 234/2003 [05:37<41:49,  1.42s/it]"
          ]
        },
        {
          "output_type": "stream",
          "name": "stdout",
          "text": [
            "tensor([1, 2, 2, 2], device='cuda:0')\n",
            "tensor([ True, False, False, False], device='cuda:0')\n",
            "tensor([True], device='cuda:0')\n",
            "선호도 예측 학습 정확도: 0.6553191489361702, 비속어 예측 학습 정확도: 0.7680851063829788, 정치 예측 학습 정확도: 0.7555555701255798\n"
          ]
        },
        {
          "output_type": "stream",
          "name": "stderr",
          "text": [
            "epoch: 1, train loss: 1.6133:  12%|█▏        | 235/2003 [05:38<41:57,  1.42s/it]"
          ]
        },
        {
          "output_type": "stream",
          "name": "stdout",
          "text": [
            "tensor([2, 2, 2, 2], device='cuda:0')\n",
            "tensor([False, False, False, False], device='cuda:0')\n",
            "tensor([True], device='cuda:0')\n",
            "선호도 예측 학습 정확도: 0.6557203389830508, 비속어 예측 학습 정확도: 0.7680084745762712, 정치 예측 학습 정확도: 0.7563291192054749\n"
          ]
        },
        {
          "output_type": "stream",
          "name": "stderr",
          "text": [
            "epoch: 1, train loss: 1.6127:  12%|█▏        | 236/2003 [05:39<41:43,  1.42s/it]"
          ]
        },
        {
          "output_type": "stream",
          "name": "stdout",
          "text": [
            "tensor([1, 2, 2, 1], device='cuda:0')\n",
            "tensor([ True, False, False,  True], device='cuda:0')\n",
            "tensor([ True, False,  True], device='cuda:0')\n",
            "선호도 예측 학습 정확도: 0.6550632911392406, 비속어 예측 학습 정확도: 0.7689873417721519, 정치 예측 학습 정확도: 0.7586206793785095\n"
          ]
        },
        {
          "output_type": "stream",
          "name": "stderr",
          "text": [
            "epoch: 1, train loss: 1.6111:  12%|█▏        | 237/2003 [05:41<41:53,  1.42s/it]"
          ]
        },
        {
          "output_type": "stream",
          "name": "stdout",
          "text": [
            "tensor([1, 2, 2, 2], device='cuda:0')\n",
            "tensor([ True, False, False, False], device='cuda:0')\n",
            "tensor([ True, False], device='cuda:0')\n",
            "선호도 예측 학습 정확도: 0.6544117647058824, 비속어 예측 학습 정확도: 0.7678571428571429, 정치 예측 학습 정확도: 0.7570093274116516\n"
          ]
        },
        {
          "output_type": "stream",
          "name": "stderr",
          "text": [
            "epoch: 1, train loss: 1.6151:  12%|█▏        | 238/2003 [05:42<41:39,  1.42s/it]"
          ]
        },
        {
          "output_type": "stream",
          "name": "stdout",
          "text": [
            "tensor([1, 2, 2, 1], device='cuda:0')\n",
            "tensor([ True, False, False,  True], device='cuda:0')\n",
            "tensor([True, True], device='cuda:0')\n",
            "선호도 예측 학습 정확도: 0.6548117154811716, 비속어 예측 학습 정확도: 0.7677824267782427, 정치 예측 학습 정확도: 0.7554179430007935\n"
          ]
        },
        {
          "output_type": "stream",
          "name": "stderr",
          "text": [
            "epoch: 1, train loss: 1.6145:  12%|█▏        | 239/2003 [05:44<41:49,  1.42s/it]"
          ]
        },
        {
          "output_type": "stream",
          "name": "stdout",
          "text": [
            "tensor([1, 2, 1, 2], device='cuda:0')\n",
            "tensor([ True, False,  True, False], device='cuda:0')\n",
            "tensor([True, True], device='cuda:0')\n",
            "선호도 예측 학습 정확도: 0.6541666666666667, 비속어 예측 학습 정확도: 0.7677083333333333, 정치 예측 학습 정확도: 0.7569230794906616\n"
          ]
        },
        {
          "output_type": "stream",
          "name": "stderr",
          "text": [
            "epoch: 1, train loss: 1.6127:  12%|█▏        | 240/2003 [05:45<41:43,  1.42s/it]"
          ]
        },
        {
          "output_type": "stream",
          "name": "stdout",
          "text": [
            "tensor([1, 2, 2, 2], device='cuda:0')\n",
            "tensor([ True, False, False, False], device='cuda:0')\n",
            "tensor([], device='cuda:0', dtype=torch.bool)\n",
            "선호도 예측 학습 정확도: 0.6545643153526971, 비속어 예측 학습 정확도: 0.7686721991701245, 정치 예측 학습 정확도: 0.7569230794906616\n"
          ]
        },
        {
          "output_type": "stream",
          "name": "stderr",
          "text": [
            "epoch: 1, train loss: 1.6016:  12%|█▏        | 241/2003 [05:47<41:54,  1.43s/it]"
          ]
        },
        {
          "output_type": "stream",
          "name": "stdout",
          "text": [
            "tensor([2, 1, 2, 1], device='cuda:0')\n",
            "tensor([False,  True, False,  True], device='cuda:0')\n",
            "tensor([True, True], device='cuda:0')\n",
            "선호도 예측 학습 정확도: 0.6539256198347108, 비속어 예측 학습 정확도: 0.7696280991735537, 정치 예측 학습 정확도: 0.7584097981452942\n"
          ]
        },
        {
          "output_type": "stream",
          "name": "stderr",
          "text": [
            "epoch: 1, train loss: 1.6022:  12%|█▏        | 242/2003 [05:48<41:40,  1.42s/it]"
          ]
        },
        {
          "output_type": "stream",
          "name": "stdout",
          "text": [
            "tensor([1, 2, 2, 2], device='cuda:0')\n",
            "tensor([ True, False, False, False], device='cuda:0')\n",
            "tensor([True], device='cuda:0')\n",
            "선호도 예측 학습 정확도: 0.6553497942386831, 비속어 예측 학습 정확도: 0.7705761316872428, 정치 예측 학습 정확도: 0.7591463327407837\n"
          ]
        },
        {
          "output_type": "stream",
          "name": "stderr",
          "text": [
            "epoch: 1, train loss: 1.5912:  12%|█▏        | 243/2003 [05:49<41:48,  1.43s/it]"
          ]
        },
        {
          "output_type": "stream",
          "name": "stdout",
          "text": [
            "tensor([2, 2, 2, 2], device='cuda:0')\n",
            "tensor([ True, False, False, False], device='cuda:0')\n",
            "tensor([], device='cuda:0', dtype=torch.bool)\n",
            "선호도 예측 학습 정확도: 0.6557377049180327, 비속어 예측 학습 정확도: 0.7715163934426229, 정치 예측 학습 정확도: 0.7591463327407837\n"
          ]
        },
        {
          "output_type": "stream",
          "name": "stderr",
          "text": [
            "epoch: 1, train loss: 1.5868:  12%|█▏        | 244/2003 [05:51<41:33,  1.42s/it]"
          ]
        },
        {
          "output_type": "stream",
          "name": "stdout",
          "text": [
            "tensor([2, 2, 2, 2], device='cuda:0')\n",
            "tensor([False, False, False, False], device='cuda:0')\n",
            "tensor([], device='cuda:0', dtype=torch.bool)\n",
            "선호도 예측 학습 정확도: 0.6571428571428571, 비속어 예측 학습 정확도: 0.7724489795918368, 정치 예측 학습 정확도: 0.7591463327407837\n"
          ]
        },
        {
          "output_type": "stream",
          "name": "stderr",
          "text": [
            "epoch: 1, train loss: 1.5737:  12%|█▏        | 245/2003 [05:52<41:44,  1.42s/it]"
          ]
        },
        {
          "output_type": "stream",
          "name": "stdout",
          "text": [
            "tensor([2, 2, 2, 2], device='cuda:0')\n",
            "tensor([False, False, False, False], device='cuda:0')\n",
            "tensor([False], device='cuda:0')\n",
            "선호도 예측 학습 정확도: 0.657520325203252, 비속어 예측 학습 정확도: 0.7733739837398373, 정치 예측 학습 정확도: 0.7598784565925598\n"
          ]
        },
        {
          "output_type": "stream",
          "name": "stderr",
          "text": [
            "epoch: 1, train loss: 1.5687:  12%|█▏        | 246/2003 [05:54<41:28,  1.42s/it]"
          ]
        },
        {
          "output_type": "stream",
          "name": "stdout",
          "text": [
            "tensor([1, 1, 2, 2], device='cuda:0')\n",
            "tensor([ True,  True, False, False], device='cuda:0')\n",
            "tensor([True], device='cuda:0')\n",
            "선호도 예측 학습 정확도: 0.6578947368421053, 비속어 예측 학습 정확도: 0.7742914979757085, 정치 예측 학습 정확도: 0.760606050491333\n"
          ]
        },
        {
          "output_type": "stream",
          "name": "stderr",
          "text": [
            "epoch: 1, train loss: 1.5604:  12%|█▏        | 247/2003 [05:55<41:37,  1.42s/it]"
          ]
        },
        {
          "output_type": "stream",
          "name": "stdout",
          "text": [
            "tensor([1, 2, 2, 1], device='cuda:0')\n",
            "tensor([ True, False, False,  True], device='cuda:0')\n",
            "tensor([ True,  True, False,  True], device='cuda:0')\n",
            "선호도 예측 학습 정확도: 0.65625, 비속어 예측 학습 정확도: 0.7752016129032258, 정치 예측 학습 정확도: 0.7604790925979614\n"
          ]
        },
        {
          "output_type": "stream",
          "name": "stderr",
          "text": [
            "epoch: 1, train loss: 1.5665:  12%|█▏        | 248/2003 [05:56<41:27,  1.42s/it]"
          ]
        },
        {
          "output_type": "stream",
          "name": "stdout",
          "text": [
            "tensor([2, 2, 1, 1], device='cuda:0')\n",
            "tensor([False, False,  True,  True], device='cuda:0')\n",
            "tensor([True, True], device='cuda:0')\n",
            "선호도 예측 학습 정확도: 0.6566265060240963, 비속어 예측 학습 정확도: 0.7761044176706827, 정치 예측 학습 정확도: 0.761904776096344\n"
          ]
        },
        {
          "output_type": "stream",
          "name": "stderr",
          "text": [
            "epoch: 1, train loss: 1.5576:  12%|█▏        | 249/2003 [05:58<41:39,  1.42s/it]"
          ]
        },
        {
          "output_type": "stream",
          "name": "stdout",
          "text": [
            "tensor([2, 1, 2, 0], device='cuda:0')\n",
            "tensor([False,  True, False,  True], device='cuda:0')\n",
            "tensor([], device='cuda:0', dtype=torch.bool)\n",
            "선호도 예측 학습 정확도: 0.656, 비속어 예측 학습 정확도: 0.777, 정치 예측 학습 정확도: 0.761904776096344\n"
          ]
        },
        {
          "output_type": "stream",
          "name": "stderr",
          "text": [
            "epoch: 1, train loss: 1.5562:  12%|█▏        | 250/2003 [05:59<41:36,  1.42s/it]"
          ]
        },
        {
          "output_type": "stream",
          "name": "stdout",
          "text": [
            "tensor([2, 2, 2, 0], device='cuda:0')\n",
            "tensor([False, False, False,  True], device='cuda:0')\n",
            "tensor([False,  True], device='cuda:0')\n",
            "선호도 예측 학습 정확도: 0.6563745019920318, 비속어 예측 학습 정확도: 0.7768924302788844, 정치 예측 학습 정확도: 0.7603550553321838\n"
          ]
        },
        {
          "output_type": "stream",
          "name": "stderr",
          "text": [
            "epoch: 1, train loss: 1.5612:  13%|█▎        | 251/2003 [06:01<41:49,  1.43s/it]"
          ]
        },
        {
          "output_type": "stream",
          "name": "stdout",
          "text": [
            "tensor([0, 1, 1, 0], device='cuda:0')\n",
            "tensor([True, True, True, True], device='cuda:0')\n",
            "tensor([True, True, True], device='cuda:0')\n",
            "선호도 예측 학습 정확도: 0.6547619047619048, 비속어 예측 학습 정확도: 0.7777777777777778, 정치 예측 학습 정확도: 0.7624633312225342\n"
          ]
        },
        {
          "output_type": "stream",
          "name": "stderr",
          "text": [
            "epoch: 1, train loss: 1.5587:  13%|█▎        | 252/2003 [06:02<41:38,  1.43s/it]"
          ]
        },
        {
          "output_type": "stream",
          "name": "stdout",
          "text": [
            "tensor([2, 2, 2, 2], device='cuda:0')\n",
            "tensor([False, False, False, False], device='cuda:0')\n",
            "tensor([False], device='cuda:0')\n",
            "선호도 예측 학습 정확도: 0.6551383399209486, 비속어 예측 학습 정확도: 0.7786561264822134, 정치 예측 학습 정확도: 0.7631579041481018\n"
          ]
        },
        {
          "output_type": "stream",
          "name": "stderr",
          "text": [
            "epoch: 1, train loss: 1.5538:  13%|█▎        | 253/2003 [06:04<41:39,  1.43s/it]"
          ]
        },
        {
          "output_type": "stream",
          "name": "stdout",
          "text": [
            "tensor([2, 2, 2, 2], device='cuda:0')\n",
            "tensor([False,  True, False, False], device='cuda:0')\n",
            "tensor([True], device='cuda:0')\n",
            "선호도 예측 학습 정확도: 0.655511811023622, 비속어 예측 학습 정확도: 0.7795275590551181, 정치 예측 학습 정확도: 0.7638484239578247\n"
          ]
        },
        {
          "output_type": "stream",
          "name": "stderr",
          "text": [
            "epoch: 1, train loss: 1.5435:  13%|█▎        | 254/2003 [06:05<41:22,  1.42s/it]"
          ]
        },
        {
          "output_type": "stream",
          "name": "stdout",
          "text": [
            "tensor([2, 2, 2, 2], device='cuda:0')\n",
            "tensor([False, False, False, False], device='cuda:0')\n",
            "tensor([], device='cuda:0', dtype=torch.bool)\n",
            "선호도 예측 학습 정확도: 0.6568627450980392, 비속어 예측 학습 정확도: 0.7794117647058824, 정치 예측 학습 정확도: 0.7638484239578247\n"
          ]
        },
        {
          "output_type": "stream",
          "name": "stderr",
          "text": [
            "epoch: 1, train loss: 1.5376:  13%|█▎        | 255/2003 [06:06<41:29,  1.42s/it]"
          ]
        },
        {
          "output_type": "stream",
          "name": "stdout",
          "text": [
            "tensor([2, 2, 1, 2], device='cuda:0')\n",
            "tensor([False, False,  True, False], device='cuda:0')\n",
            "tensor([False], device='cuda:0')\n",
            "선호도 예측 학습 정확도: 0.65625, 비속어 예측 학습 정확도: 0.779296875, 정치 예측 학습 정확도: 0.7645348906517029\n"
          ]
        },
        {
          "output_type": "stream",
          "name": "stderr",
          "text": [
            "epoch: 1, train loss: 1.5389:  13%|█▎        | 256/2003 [06:08<41:14,  1.42s/it]"
          ]
        },
        {
          "output_type": "stream",
          "name": "stdout",
          "text": [
            "tensor([2, 2, 2, 2], device='cuda:0')\n",
            "tensor([False, False,  True, False], device='cuda:0')\n",
            "tensor([], device='cuda:0', dtype=torch.bool)\n",
            "선호도 예측 학습 정확도: 0.6575875486381323, 비속어 예측 학습 정확도: 0.7782101167315175, 정치 예측 학습 정확도: 0.7645348906517029\n"
          ]
        },
        {
          "output_type": "stream",
          "name": "stderr",
          "text": [
            "epoch: 1, train loss: 1.5321:  13%|█▎        | 257/2003 [06:09<41:21,  1.42s/it]"
          ]
        },
        {
          "output_type": "stream",
          "name": "stdout",
          "text": [
            "tensor([2, 2, 2, 2], device='cuda:0')\n",
            "tensor([False, False, False, False], device='cuda:0')\n",
            "tensor([False], device='cuda:0')\n",
            "선호도 예측 학습 정확도: 0.6579457364341085, 비속어 예측 학습 정확도: 0.7771317829457365, 정치 예측 학습 정확도: 0.7623188495635986\n"
          ]
        },
        {
          "output_type": "stream",
          "name": "stderr",
          "text": [
            "epoch: 1, train loss: 1.5402:  13%|█▎        | 258/2003 [06:11<41:11,  1.42s/it]"
          ]
        },
        {
          "output_type": "stream",
          "name": "stdout",
          "text": [
            "tensor([2, 2, 2, 2], device='cuda:0')\n",
            "tensor([False, False, False,  True], device='cuda:0')\n",
            "tensor([False,  True], device='cuda:0')\n",
            "선호도 예측 학습 정확도: 0.6573359073359073, 비속어 예측 학습 정확도: 0.777027027027027, 정치 예측 학습 정확도: 0.7636887431144714\n"
          ]
        },
        {
          "output_type": "stream",
          "name": "stderr",
          "text": [
            "epoch: 1, train loss: 1.5405:  13%|█▎        | 259/2003 [06:12<41:24,  1.42s/it]"
          ]
        },
        {
          "output_type": "stream",
          "name": "stdout",
          "text": [
            "tensor([2, 2, 2, 1], device='cuda:0')\n",
            "tensor([False, False, False,  True], device='cuda:0')\n",
            "tensor([True], device='cuda:0')\n",
            "선호도 예측 학습 정확도: 0.6576923076923077, 비속어 예측 학습 정확도: 0.7759615384615385, 정치 예측 학습 정확도: 0.7643678188323975\n"
          ]
        },
        {
          "output_type": "stream",
          "name": "stderr",
          "text": [
            "epoch: 1, train loss: 1.5402:  13%|█▎        | 260/2003 [06:14<41:12,  1.42s/it]"
          ]
        },
        {
          "output_type": "stream",
          "name": "stdout",
          "text": [
            "tensor([2, 2, 1, 2], device='cuda:0')\n",
            "tensor([False,  True,  True, False], device='cuda:0')\n",
            "tensor([True], device='cuda:0')\n",
            "선호도 예측 학습 정확도: 0.6580459770114943, 비속어 예측 학습 정확도: 0.7758620689655172, 정치 예측 학습 정확도: 0.7650430202484131\n"
          ]
        },
        {
          "output_type": "stream",
          "name": "stderr",
          "text": [
            "epoch: 1, train loss: 1.5401:  13%|█▎        | 261/2003 [06:15<41:24,  1.43s/it]"
          ]
        },
        {
          "output_type": "stream",
          "name": "stdout",
          "text": [
            "tensor([2, 2, 2, 2], device='cuda:0')\n",
            "tensor([False, False, False, False], device='cuda:0')\n",
            "tensor([False, False], device='cuda:0')\n",
            "선호도 예측 학습 정확도: 0.6564885496183206, 비속어 예측 학습 정확도: 0.7767175572519084, 정치 예측 학습 정확도: 0.7663817405700684\n"
          ]
        },
        {
          "output_type": "stream",
          "name": "stderr",
          "text": [
            "epoch: 1, train loss: 1.5488:  13%|█▎        | 262/2003 [06:16<41:14,  1.42s/it]"
          ]
        },
        {
          "output_type": "stream",
          "name": "stdout",
          "text": [
            "tensor([2, 2, 2, 2], device='cuda:0')\n",
            "tensor([False, False, False, False], device='cuda:0')\n",
            "tensor([True], device='cuda:0')\n",
            "선호도 예측 학습 정확도: 0.6568441064638784, 비속어 예측 학습 정확도: 0.776615969581749, 정치 예측 학습 정확도: 0.7670454978942871\n"
          ]
        },
        {
          "output_type": "stream",
          "name": "stderr",
          "text": [
            "epoch: 1, train loss: 1.5461:  13%|█▎        | 263/2003 [06:18<41:18,  1.42s/it]"
          ]
        },
        {
          "output_type": "stream",
          "name": "stdout",
          "text": [
            "tensor([2, 2, 2, 2], device='cuda:0')\n",
            "tensor([ True, False, False, False], device='cuda:0')\n",
            "tensor([ True, False,  True], device='cuda:0')\n",
            "선호도 예측 학습 정확도: 0.6553030303030303, 비속어 예측 학습 정확도: 0.7765151515151515, 정치 예측 학습 정확도: 0.763380229473114\n"
          ]
        },
        {
          "output_type": "stream",
          "name": "stderr",
          "text": [
            "epoch: 1, train loss: 1.5624:  13%|█▎        | 264/2003 [06:19<41:05,  1.42s/it]"
          ]
        },
        {
          "output_type": "stream",
          "name": "stdout",
          "text": [
            "tensor([2, 2, 2, 2], device='cuda:0')\n",
            "tensor([False, False, False, False], device='cuda:0')\n",
            "tensor([False], device='cuda:0')\n",
            "선호도 예측 학습 정확도: 0.6556603773584906, 비속어 예측 학습 정확도: 0.7764150943396226, 정치 예측 학습 정확도: 0.7612359523773193\n"
          ]
        },
        {
          "output_type": "stream",
          "name": "stderr",
          "text": [
            "epoch: 1, train loss: 1.5618:  13%|█▎        | 265/2003 [06:21<41:13,  1.42s/it]"
          ]
        },
        {
          "output_type": "stream",
          "name": "stdout",
          "text": [
            "tensor([2, 2, 2, 2], device='cuda:0')\n",
            "tensor([False, False, False, False], device='cuda:0')\n",
            "tensor([False], device='cuda:0')\n",
            "선호도 예측 학습 정확도: 0.6560150375939849, 비속어 예측 학습 정확도: 0.7763157894736842, 정치 예측 학습 정확도: 0.7591036558151245\n"
          ]
        },
        {
          "output_type": "stream",
          "name": "stderr",
          "text": [
            "epoch: 1, train loss: 1.5632:  13%|█▎        | 266/2003 [06:22<41:02,  1.42s/it]"
          ]
        },
        {
          "output_type": "stream",
          "name": "stdout",
          "text": [
            "tensor([2, 2, 2, 2], device='cuda:0')\n",
            "tensor([False, False, False, False], device='cuda:0')\n",
            "tensor([True], device='cuda:0')\n",
            "선호도 예측 학습 정확도: 0.6563670411985019, 비속어 예측 학습 정확도: 0.7762172284644194, 정치 예측 학습 정확도: 0.7597765326499939\n"
          ]
        },
        {
          "output_type": "stream",
          "name": "stderr",
          "text": [
            "epoch: 1, train loss: 1.5608:  13%|█▎        | 267/2003 [06:24<41:09,  1.42s/it]"
          ]
        },
        {
          "output_type": "stream",
          "name": "stdout",
          "text": [
            "tensor([2, 2, 2, 2], device='cuda:0')\n",
            "tensor([False, False, False, False], device='cuda:0')\n",
            "tensor([ True, False], device='cuda:0')\n",
            "선호도 예측 학습 정확도: 0.6557835820895522, 비속어 예측 학습 정확도: 0.7761194029850746, 정치 예측 학습 정확도: 0.7611111402511597\n"
          ]
        },
        {
          "output_type": "stream",
          "name": "stderr",
          "text": [
            "epoch: 1, train loss: 1.5657:  13%|█▎        | 268/2003 [06:25<40:57,  1.42s/it]"
          ]
        },
        {
          "output_type": "stream",
          "name": "stdout",
          "text": [
            "tensor([2, 2, 2, 2], device='cuda:0')\n",
            "tensor([False, False, False, False], device='cuda:0')\n",
            "tensor([False,  True], device='cuda:0')\n",
            "선호도 예측 학습 정확도: 0.6552044609665427, 비속어 예측 학습 정확도: 0.775092936802974, 정치 예측 학습 정확도: 0.7569060921669006\n"
          ]
        },
        {
          "output_type": "stream",
          "name": "stderr",
          "text": [
            "epoch: 1, train loss: 1.5793:  13%|█▎        | 269/2003 [06:26<41:09,  1.42s/it]"
          ]
        },
        {
          "output_type": "stream",
          "name": "stdout",
          "text": [
            "tensor([2, 2, 2, 2], device='cuda:0')\n",
            "tensor([False, False, False, False], device='cuda:0')\n",
            "tensor([False], device='cuda:0')\n",
            "선호도 예측 학습 정확도: 0.6555555555555556, 비속어 예측 학습 정확도: 0.774074074074074, 정치 예측 학습 정확도: 0.7548209428787231\n"
          ]
        },
        {
          "output_type": "stream",
          "name": "stderr",
          "text": [
            "epoch: 1, train loss: 1.583:  13%|█▎        | 270/2003 [06:28<41:05,  1.42s/it]"
          ]
        },
        {
          "output_type": "stream",
          "name": "stdout",
          "text": [
            "tensor([2, 2, 2, 2], device='cuda:0')\n",
            "tensor([False, False, False, False], device='cuda:0')\n",
            "tensor([False, False, False], device='cuda:0')\n",
            "선호도 예측 학습 정확도: 0.6540590405904059, 비속어 예측 학습 정확도: 0.7712177121771218, 정치 예측 학습 정확도: 0.748633861541748\n"
          ]
        },
        {
          "output_type": "stream",
          "name": "stderr",
          "text": [
            "epoch: 1, train loss: 1.6152:  14%|█▎        | 271/2003 [06:29<41:15,  1.43s/it]"
          ]
        },
        {
          "output_type": "stream",
          "name": "stdout",
          "text": [
            "tensor([2, 2, 2, 2], device='cuda:0')\n",
            "tensor([False, False, False, False], device='cuda:0')\n",
            "tensor([False, False], device='cuda:0')\n",
            "선호도 예측 학습 정확도: 0.6534926470588235, 비속어 예측 학습 정확도: 0.7702205882352942, 정치 예측 학습 정확도: 0.7445652484893799\n"
          ]
        },
        {
          "output_type": "stream",
          "name": "stderr",
          "text": [
            "epoch: 1, train loss: 1.6264:  14%|█▎        | 272/2003 [06:31<41:06,  1.42s/it]"
          ]
        },
        {
          "output_type": "stream",
          "name": "stdout",
          "text": [
            "tensor([2, 2, 2, 2], device='cuda:0')\n",
            "tensor([False, False, False, False], device='cuda:0')\n",
            "tensor([False, False], device='cuda:0')\n",
            "선호도 예측 학습 정확도: 0.6529304029304029, 비속어 예측 학습 정확도: 0.7692307692307693, 정치 예측 학습 정확도: 0.7405405640602112\n"
          ]
        },
        {
          "output_type": "stream",
          "name": "stderr",
          "text": [
            "epoch: 1, train loss: 1.6397:  14%|█▎        | 273/2003 [06:32<41:11,  1.43s/it]"
          ]
        },
        {
          "output_type": "stream",
          "name": "stdout",
          "text": [
            "tensor([2, 2, 2, 2], device='cuda:0')\n",
            "tensor([False, False, False, False], device='cuda:0')\n",
            "tensor([False], device='cuda:0')\n",
            "선호도 예측 학습 정확도: 0.6532846715328468, 비속어 예측 학습 정확도: 0.7682481751824818, 정치 예측 학습 정확도: 0.7385444641113281\n"
          ]
        },
        {
          "output_type": "stream",
          "name": "stderr",
          "text": [
            "epoch: 1, train loss: 1.6445:  14%|█▎        | 274/2003 [06:33<40:56,  1.42s/it]"
          ]
        },
        {
          "output_type": "stream",
          "name": "stdout",
          "text": [
            "tensor([2, 2, 2, 2], device='cuda:0')\n",
            "tensor([False, False, False, False], device='cuda:0')\n",
            "tensor([False], device='cuda:0')\n",
            "선호도 예측 학습 정확도: 0.6536363636363637, 비속어 예측 학습 정확도: 0.7672727272727272, 정치 예측 학습 정확도: 0.7365591526031494\n"
          ]
        },
        {
          "output_type": "stream",
          "name": "stderr",
          "text": [
            "epoch: 1, train loss: 1.6471:  14%|█▎        | 275/2003 [06:35<41:03,  1.43s/it]"
          ]
        },
        {
          "output_type": "stream",
          "name": "stdout",
          "text": [
            "tensor([2, 2, 2, 2], device='cuda:0')\n",
            "tensor([False, False, False, False], device='cuda:0')\n",
            "tensor([False, False], device='cuda:0')\n",
            "선호도 예측 학습 정확도: 0.6530797101449275, 비속어 예측 학습 정확도: 0.7653985507246377, 정치 예측 학습 정확도: 0.732620358467102\n"
          ]
        },
        {
          "output_type": "stream",
          "name": "stderr",
          "text": [
            "epoch: 1, train loss: 1.6603:  14%|█▍        | 276/2003 [06:36<40:48,  1.42s/it]"
          ]
        },
        {
          "output_type": "stream",
          "name": "stdout",
          "text": [
            "tensor([2, 2, 2, 2], device='cuda:0')\n",
            "tensor([False, False, False, False], device='cuda:0')\n",
            "tensor([], device='cuda:0', dtype=torch.bool)\n",
            "선호도 예측 학습 정확도: 0.6543321299638989, 비속어 예측 학습 정확도: 0.7653429602888087, 정치 예측 학습 정확도: 0.732620358467102\n"
          ]
        },
        {
          "output_type": "stream",
          "name": "stderr",
          "text": [
            "epoch: 1, train loss: 1.6512:  14%|█▍        | 277/2003 [06:38<40:56,  1.42s/it]"
          ]
        },
        {
          "output_type": "stream",
          "name": "stdout",
          "text": [
            "tensor([2, 2, 2, 2], device='cuda:0')\n",
            "tensor([False, False, False, False], device='cuda:0')\n",
            "tensor([False,  True], device='cuda:0')\n",
            "선호도 예측 학습 정확도: 0.6528776978417267, 비속어 예측 학습 정확도: 0.7643884892086331, 정치 예측 학습 정확도: 0.7313829660415649\n"
          ]
        },
        {
          "output_type": "stream",
          "name": "stderr",
          "text": [
            "epoch: 1, train loss: 1.6638:  14%|█▍        | 278/2003 [06:39<40:44,  1.42s/it]"
          ]
        },
        {
          "output_type": "stream",
          "name": "stdout",
          "text": [
            "tensor([2, 2, 2, 2], device='cuda:0')\n",
            "tensor([False, False, False, False], device='cuda:0')\n",
            "tensor([True], device='cuda:0')\n",
            "선호도 예측 학습 정확도: 0.6532258064516129, 비속어 예측 학습 정확도: 0.764336917562724, 정치 예측 학습 정확도: 0.73209547996521\n"
          ]
        },
        {
          "output_type": "stream",
          "name": "stderr",
          "text": [
            "epoch: 1, train loss: 1.6595:  14%|█▍        | 279/2003 [06:41<40:54,  1.42s/it]"
          ]
        },
        {
          "output_type": "stream",
          "name": "stdout",
          "text": [
            "tensor([2, 2, 2, 2], device='cuda:0')\n",
            "tensor([False, False, False, False], device='cuda:0')\n",
            "tensor([True], device='cuda:0')\n",
            "선호도 예측 학습 정확도: 0.6526785714285714, 비속어 예측 학습 정확도: 0.7642857142857142, 정치 예측 학습 정확도: 0.7328042387962341\n"
          ]
        },
        {
          "output_type": "stream",
          "name": "stderr",
          "text": [
            "epoch: 1, train loss: 1.663:  14%|█▍        | 280/2003 [06:42<40:42,  1.42s/it]"
          ]
        },
        {
          "output_type": "stream",
          "name": "stdout",
          "text": [
            "tensor([2, 2, 2, 2], device='cuda:0')\n",
            "tensor([False, False, False, False], device='cuda:0')\n",
            "tensor([True], device='cuda:0')\n",
            "선호도 예측 학습 정확도: 0.6530249110320284, 비속어 예측 학습 정확도: 0.7624555160142349, 정치 예측 학습 정확도: 0.7335092425346375\n"
          ]
        },
        {
          "output_type": "stream",
          "name": "stderr",
          "text": [
            "epoch: 1, train loss: 1.6653:  14%|█▍        | 281/2003 [06:43<41:01,  1.43s/it]"
          ]
        },
        {
          "output_type": "stream",
          "name": "stdout",
          "text": [
            "tensor([2, 2, 2, 2], device='cuda:0')\n",
            "tensor([False, False, False, False], device='cuda:0')\n",
            "tensor([], device='cuda:0', dtype=torch.bool)\n",
            "선호도 예측 학습 정확도: 0.6542553191489362, 비속어 예측 학습 정확도: 0.7632978723404256, 정치 예측 학습 정확도: 0.7335092425346375\n"
          ]
        },
        {
          "output_type": "stream",
          "name": "stderr",
          "text": [
            "epoch: 1, train loss: 1.6533:  14%|█▍        | 282/2003 [06:45<40:49,  1.42s/it]"
          ]
        },
        {
          "output_type": "stream",
          "name": "stdout",
          "text": [
            "tensor([2, 2, 2, 2], device='cuda:0')\n",
            "tensor([False, False, False, False], device='cuda:0')\n",
            "tensor([ True, False,  True], device='cuda:0')\n",
            "선호도 예측 학습 정확도: 0.6528268551236749, 비속어 예측 학습 정확도: 0.7614840989399293, 정치 예측 학습 정확도: 0.7329843044281006\n"
          ]
        },
        {
          "output_type": "stream",
          "name": "stderr",
          "text": [
            "epoch: 1, train loss: 1.6652:  14%|█▍        | 283/2003 [06:46<40:54,  1.43s/it]"
          ]
        },
        {
          "output_type": "stream",
          "name": "stdout",
          "text": [
            "tensor([1, 2, 2, 2], device='cuda:0')\n",
            "tensor([ True, False, False, False], device='cuda:0')\n",
            "tensor([True], device='cuda:0')\n",
            "선호도 예측 학습 정확도: 0.6522887323943662, 비속어 예측 학습 정확도: 0.7596830985915493, 정치 예측 학습 정확도: 0.7336814999580383\n"
          ]
        },
        {
          "output_type": "stream",
          "name": "stderr",
          "text": [
            "\repoch: 1, train loss: 1.6718:  14%|█▍        | 283/2003 [06:48<40:54,  1.43s/it]"
          ]
        }
      ]
    },
    {
      "cell_type": "code",
      "execution_count": null,
      "metadata": {
        "id": "diUuK0FrE52z"
      },
      "outputs": [],
      "source": [
        "import matplotlib.pyplot as plt\n",
        "\n",
        "# 그래프 출력\n",
        "plt.figure(figsize=(12, 6))\n",
        "plt.subplot(1, 2, 1)\n",
        "plt.plot(range(1, config.num_train_epochs + 1), train_losses, label=\"Train Loss\")\n",
        "plt.xlabel(\"Epoch\")\n",
        "plt.ylabel(\"Loss\")\n",
        "plt.title(\"Train Loss Over Epochs\")\n",
        "plt.legend()\n",
        "\n",
        "plt.subplot(1, 2, 2)\n",
        "plt.plot(range(1, config.num_train_epochs + 1), val_accuracies, label=\"Validation Accuracy\")\n",
        "plt.xlabel(\"Epoch\")\n",
        "plt.ylabel(\"Accuracy\")\n",
        "plt.title(\"Validation Accuracy Over Epochs\")\n",
        "plt.legend()\n",
        "\n",
        "plt.tight_layout()\n",
        "plt.show()"
      ]
    },
    {
      "cell_type": "markdown",
      "metadata": {
        "id": "U1FpAhsqE520"
      },
      "source": [
        "#### Test Dataset Inference"
      ]
    },
    {
      "cell_type": "code",
      "execution_count": null,
      "metadata": {
        "id": "nI_5VcALE520"
      },
      "outputs": [],
      "source": [
        "def inference(model, tokenizer, sentences, device):\n",
        "    inference_results = []\n",
        "\n",
        "    model.eval()\n",
        "    with torch.no_grad():\n",
        "        for sentence in sentences:\n",
        "            inputs = tokenizer.encode_plus(\n",
        "                sentence, return_tensors=\"pt\", padding=\"max_length\", truncation=True, max_length=config.max_seq_length\n",
        "            )\n",
        "            inputs = {key: value.to(device) for key, value in inputs.items()}  # 입력을 GPU로 이동\n",
        "            outputs = model(inputs)  # 모델 추론 수행\n",
        "            predictions = torch.argmax(outputs.logits, dim=-1)  # 예측된 클래스 인덱스 추출\n",
        "            inference_results.append(predictions.item())  # 결과 리스트에 추가\n",
        "\n",
        "    return inference_results"
      ]
    },
    {
      "cell_type": "code",
      "execution_count": null,
      "metadata": {
        "id": "BQdhWXTkE520"
      },
      "outputs": [],
      "source": [
        "test_df = pd.read_csv(\"test_comment.csv\")\n",
        "sentences_to_infer = test_df[\"comment\"].tolist()"
      ]
    },
    {
      "cell_type": "code",
      "execution_count": null,
      "metadata": {
        "id": "Pi28ohuCE520"
      },
      "outputs": [],
      "source": [
        "device = torch.device(\"cuda\" if torch.cuda.is_available() else \"cpu\")\n",
        "inference_results = inference(model, model.tokenizer, sentences_to_infer, device)\n",
        "test_df[\"선호도\"] = inference_results"
      ]
    },
    {
      "cell_type": "code",
      "execution_count": null,
      "metadata": {
        "id": "D0yTq9MdE520"
      },
      "outputs": [],
      "source": [
        "output_csv_path = \"inference_results2.csv\"\n",
        "test_df.to_csv(output_csv_path, index=False)"
      ]
    },
    {
      "cell_type": "code",
      "execution_count": null,
      "metadata": {
        "id": "9TyyQZguE520"
      },
      "outputs": [],
      "source": [
        "test_df"
      ]
    },
    {
      "cell_type": "code",
      "execution_count": null,
      "metadata": {
        "scrolled": true,
        "id": "nN_xw2DgE53G"
      },
      "outputs": [],
      "source": [
        "from transformers import AutoModelForSequenceClassification\n",
        "\n",
        "best_model = AutoModelForSequenceClassification.from_pretrained(output_dir)\n",
        "best_model.to(device)\n",
        "best_model.eval()"
      ]
    },
    {
      "cell_type": "code",
      "execution_count": null,
      "metadata": {
        "id": "ktB5lfoPE53G",
        "outputId": "80023596-1042-4a08-e519-ad364289642d"
      },
      "outputs": [
        {
          "name": "stderr",
          "output_type": "stream",
          "text": [
            "epoch: 0, valid loss: 1.9356: 100%|█████████| 1004/1004 [01:31<00:00, 11.00it/s]\n"
          ]
        }
      ],
      "source": [
        "with torch.no_grad():\n",
        "    val_results = run_epoch(loader=valid_loader, epoch=-1, is_train=False, **params)[\"result\"]\n",
        "    val_results = eval_cls(\n",
        "        config=config,\n",
        "        model=best_model,\n",
        "        loader=valid_loader,\n",
        "        tokenizer=model.tokenizer,\n",
        "        results=val_results,\n",
        "    )"
      ]
    },
    {
      "cell_type": "code",
      "execution_count": null,
      "metadata": {
        "id": "lYqd1yXUE53H",
        "outputId": "679c9503-62d3-4ef3-9421-9784c36343e6"
      },
      "outputs": [
        {
          "data": {
            "text/plain": [
              "{'results': {'accuracy': 74.25, 'f1-macro': 52.72}, 'best_score': 52.72}"
            ]
          },
          "execution_count": 164,
          "metadata": {},
          "output_type": "execute_result"
        }
      ],
      "source": [
        "val_results"
      ]
    },
    {
      "cell_type": "code",
      "execution_count": null,
      "metadata": {
        "id": "12exRg2pE53H"
      },
      "outputs": [],
      "source": []
    }
  ],
  "metadata": {
    "accelerator": "GPU",
    "colab": {
      "gpuType": "T4",
      "provenance": []
    },
    "kernelspec": {
      "display_name": "Python 3",
      "name": "python3"
    },
    "language_info": {
      "codemirror_mode": {
        "name": "ipython",
        "version": 3
      },
      "file_extension": ".py",
      "mimetype": "text/x-python",
      "name": "python",
      "nbconvert_exporter": "python",
      "pygments_lexer": "ipython3",
      "version": "3.9.13"
    },
    "widgets": {
      "application/vnd.jupyter.widget-state+json": {
        "575e332e868e4292aad70aa04b30ec5b": {
          "model_module": "@jupyter-widgets/controls",
          "model_name": "HBoxModel",
          "model_module_version": "1.5.0",
          "state": {
            "_dom_classes": [],
            "_model_module": "@jupyter-widgets/controls",
            "_model_module_version": "1.5.0",
            "_model_name": "HBoxModel",
            "_view_count": null,
            "_view_module": "@jupyter-widgets/controls",
            "_view_module_version": "1.5.0",
            "_view_name": "HBoxView",
            "box_style": "",
            "children": [
              "IPY_MODEL_a2ec9ea3f4924c54a6b167a4fafcf288",
              "IPY_MODEL_64241c09d71f42f6ab427ab9900b8531",
              "IPY_MODEL_977a80e15798477984daf223c85bcdf1"
            ],
            "layout": "IPY_MODEL_0510894fcdeb486ab6a9f7f146b88521"
          }
        },
        "a2ec9ea3f4924c54a6b167a4fafcf288": {
          "model_module": "@jupyter-widgets/controls",
          "model_name": "HTMLModel",
          "model_module_version": "1.5.0",
          "state": {
            "_dom_classes": [],
            "_model_module": "@jupyter-widgets/controls",
            "_model_module_version": "1.5.0",
            "_model_name": "HTMLModel",
            "_view_count": null,
            "_view_module": "@jupyter-widgets/controls",
            "_view_module_version": "1.5.0",
            "_view_name": "HTMLView",
            "description": "",
            "description_tooltip": null,
            "layout": "IPY_MODEL_e87aef0d9cf94c5b9d5b7963e80b8846",
            "placeholder": "​",
            "style": "IPY_MODEL_6ab6525394144b39848c6edacc146d0a",
            "value": "Downloading data files: 100%"
          }
        },
        "64241c09d71f42f6ab427ab9900b8531": {
          "model_module": "@jupyter-widgets/controls",
          "model_name": "FloatProgressModel",
          "model_module_version": "1.5.0",
          "state": {
            "_dom_classes": [],
            "_model_module": "@jupyter-widgets/controls",
            "_model_module_version": "1.5.0",
            "_model_name": "FloatProgressModel",
            "_view_count": null,
            "_view_module": "@jupyter-widgets/controls",
            "_view_module_version": "1.5.0",
            "_view_name": "ProgressView",
            "bar_style": "success",
            "description": "",
            "description_tooltip": null,
            "layout": "IPY_MODEL_9c7439319afc47a7b97013d2c7c76cbd",
            "max": 1,
            "min": 0,
            "orientation": "horizontal",
            "style": "IPY_MODEL_c6d8cd363c7d4d00a4276c67480b95a2",
            "value": 1
          }
        },
        "977a80e15798477984daf223c85bcdf1": {
          "model_module": "@jupyter-widgets/controls",
          "model_name": "HTMLModel",
          "model_module_version": "1.5.0",
          "state": {
            "_dom_classes": [],
            "_model_module": "@jupyter-widgets/controls",
            "_model_module_version": "1.5.0",
            "_model_name": "HTMLModel",
            "_view_count": null,
            "_view_module": "@jupyter-widgets/controls",
            "_view_module_version": "1.5.0",
            "_view_name": "HTMLView",
            "description": "",
            "description_tooltip": null,
            "layout": "IPY_MODEL_c305b20c02f5470189cd75eb4137be33",
            "placeholder": "​",
            "style": "IPY_MODEL_0d6224bebcb3414096ea7d9651dad0ad",
            "value": " 1/1 [00:00&lt;00:00, 12.38it/s]"
          }
        },
        "0510894fcdeb486ab6a9f7f146b88521": {
          "model_module": "@jupyter-widgets/base",
          "model_name": "LayoutModel",
          "model_module_version": "1.2.0",
          "state": {
            "_model_module": "@jupyter-widgets/base",
            "_model_module_version": "1.2.0",
            "_model_name": "LayoutModel",
            "_view_count": null,
            "_view_module": "@jupyter-widgets/base",
            "_view_module_version": "1.2.0",
            "_view_name": "LayoutView",
            "align_content": null,
            "align_items": null,
            "align_self": null,
            "border": null,
            "bottom": null,
            "display": null,
            "flex": null,
            "flex_flow": null,
            "grid_area": null,
            "grid_auto_columns": null,
            "grid_auto_flow": null,
            "grid_auto_rows": null,
            "grid_column": null,
            "grid_gap": null,
            "grid_row": null,
            "grid_template_areas": null,
            "grid_template_columns": null,
            "grid_template_rows": null,
            "height": null,
            "justify_content": null,
            "justify_items": null,
            "left": null,
            "margin": null,
            "max_height": null,
            "max_width": null,
            "min_height": null,
            "min_width": null,
            "object_fit": null,
            "object_position": null,
            "order": null,
            "overflow": null,
            "overflow_x": null,
            "overflow_y": null,
            "padding": null,
            "right": null,
            "top": null,
            "visibility": null,
            "width": null
          }
        },
        "e87aef0d9cf94c5b9d5b7963e80b8846": {
          "model_module": "@jupyter-widgets/base",
          "model_name": "LayoutModel",
          "model_module_version": "1.2.0",
          "state": {
            "_model_module": "@jupyter-widgets/base",
            "_model_module_version": "1.2.0",
            "_model_name": "LayoutModel",
            "_view_count": null,
            "_view_module": "@jupyter-widgets/base",
            "_view_module_version": "1.2.0",
            "_view_name": "LayoutView",
            "align_content": null,
            "align_items": null,
            "align_self": null,
            "border": null,
            "bottom": null,
            "display": null,
            "flex": null,
            "flex_flow": null,
            "grid_area": null,
            "grid_auto_columns": null,
            "grid_auto_flow": null,
            "grid_auto_rows": null,
            "grid_column": null,
            "grid_gap": null,
            "grid_row": null,
            "grid_template_areas": null,
            "grid_template_columns": null,
            "grid_template_rows": null,
            "height": null,
            "justify_content": null,
            "justify_items": null,
            "left": null,
            "margin": null,
            "max_height": null,
            "max_width": null,
            "min_height": null,
            "min_width": null,
            "object_fit": null,
            "object_position": null,
            "order": null,
            "overflow": null,
            "overflow_x": null,
            "overflow_y": null,
            "padding": null,
            "right": null,
            "top": null,
            "visibility": null,
            "width": null
          }
        },
        "6ab6525394144b39848c6edacc146d0a": {
          "model_module": "@jupyter-widgets/controls",
          "model_name": "DescriptionStyleModel",
          "model_module_version": "1.5.0",
          "state": {
            "_model_module": "@jupyter-widgets/controls",
            "_model_module_version": "1.5.0",
            "_model_name": "DescriptionStyleModel",
            "_view_count": null,
            "_view_module": "@jupyter-widgets/base",
            "_view_module_version": "1.2.0",
            "_view_name": "StyleView",
            "description_width": ""
          }
        },
        "9c7439319afc47a7b97013d2c7c76cbd": {
          "model_module": "@jupyter-widgets/base",
          "model_name": "LayoutModel",
          "model_module_version": "1.2.0",
          "state": {
            "_model_module": "@jupyter-widgets/base",
            "_model_module_version": "1.2.0",
            "_model_name": "LayoutModel",
            "_view_count": null,
            "_view_module": "@jupyter-widgets/base",
            "_view_module_version": "1.2.0",
            "_view_name": "LayoutView",
            "align_content": null,
            "align_items": null,
            "align_self": null,
            "border": null,
            "bottom": null,
            "display": null,
            "flex": null,
            "flex_flow": null,
            "grid_area": null,
            "grid_auto_columns": null,
            "grid_auto_flow": null,
            "grid_auto_rows": null,
            "grid_column": null,
            "grid_gap": null,
            "grid_row": null,
            "grid_template_areas": null,
            "grid_template_columns": null,
            "grid_template_rows": null,
            "height": null,
            "justify_content": null,
            "justify_items": null,
            "left": null,
            "margin": null,
            "max_height": null,
            "max_width": null,
            "min_height": null,
            "min_width": null,
            "object_fit": null,
            "object_position": null,
            "order": null,
            "overflow": null,
            "overflow_x": null,
            "overflow_y": null,
            "padding": null,
            "right": null,
            "top": null,
            "visibility": null,
            "width": null
          }
        },
        "c6d8cd363c7d4d00a4276c67480b95a2": {
          "model_module": "@jupyter-widgets/controls",
          "model_name": "ProgressStyleModel",
          "model_module_version": "1.5.0",
          "state": {
            "_model_module": "@jupyter-widgets/controls",
            "_model_module_version": "1.5.0",
            "_model_name": "ProgressStyleModel",
            "_view_count": null,
            "_view_module": "@jupyter-widgets/base",
            "_view_module_version": "1.2.0",
            "_view_name": "StyleView",
            "bar_color": null,
            "description_width": ""
          }
        },
        "c305b20c02f5470189cd75eb4137be33": {
          "model_module": "@jupyter-widgets/base",
          "model_name": "LayoutModel",
          "model_module_version": "1.2.0",
          "state": {
            "_model_module": "@jupyter-widgets/base",
            "_model_module_version": "1.2.0",
            "_model_name": "LayoutModel",
            "_view_count": null,
            "_view_module": "@jupyter-widgets/base",
            "_view_module_version": "1.2.0",
            "_view_name": "LayoutView",
            "align_content": null,
            "align_items": null,
            "align_self": null,
            "border": null,
            "bottom": null,
            "display": null,
            "flex": null,
            "flex_flow": null,
            "grid_area": null,
            "grid_auto_columns": null,
            "grid_auto_flow": null,
            "grid_auto_rows": null,
            "grid_column": null,
            "grid_gap": null,
            "grid_row": null,
            "grid_template_areas": null,
            "grid_template_columns": null,
            "grid_template_rows": null,
            "height": null,
            "justify_content": null,
            "justify_items": null,
            "left": null,
            "margin": null,
            "max_height": null,
            "max_width": null,
            "min_height": null,
            "min_width": null,
            "object_fit": null,
            "object_position": null,
            "order": null,
            "overflow": null,
            "overflow_x": null,
            "overflow_y": null,
            "padding": null,
            "right": null,
            "top": null,
            "visibility": null,
            "width": null
          }
        },
        "0d6224bebcb3414096ea7d9651dad0ad": {
          "model_module": "@jupyter-widgets/controls",
          "model_name": "DescriptionStyleModel",
          "model_module_version": "1.5.0",
          "state": {
            "_model_module": "@jupyter-widgets/controls",
            "_model_module_version": "1.5.0",
            "_model_name": "DescriptionStyleModel",
            "_view_count": null,
            "_view_module": "@jupyter-widgets/base",
            "_view_module_version": "1.2.0",
            "_view_name": "StyleView",
            "description_width": ""
          }
        },
        "d606cfba1c03417a9e1561b9903ef340": {
          "model_module": "@jupyter-widgets/controls",
          "model_name": "HBoxModel",
          "model_module_version": "1.5.0",
          "state": {
            "_dom_classes": [],
            "_model_module": "@jupyter-widgets/controls",
            "_model_module_version": "1.5.0",
            "_model_name": "HBoxModel",
            "_view_count": null,
            "_view_module": "@jupyter-widgets/controls",
            "_view_module_version": "1.5.0",
            "_view_name": "HBoxView",
            "box_style": "",
            "children": [
              "IPY_MODEL_8ffc1885b7774ba38ce0922ee934378c",
              "IPY_MODEL_130d804471c04d0daedd9ab138e89b4b",
              "IPY_MODEL_0a83c125beea4abfb7d4e95f08137770"
            ],
            "layout": "IPY_MODEL_c4729b82b2684fb8817534149a15287d"
          }
        },
        "8ffc1885b7774ba38ce0922ee934378c": {
          "model_module": "@jupyter-widgets/controls",
          "model_name": "HTMLModel",
          "model_module_version": "1.5.0",
          "state": {
            "_dom_classes": [],
            "_model_module": "@jupyter-widgets/controls",
            "_model_module_version": "1.5.0",
            "_model_name": "HTMLModel",
            "_view_count": null,
            "_view_module": "@jupyter-widgets/controls",
            "_view_module_version": "1.5.0",
            "_view_name": "HTMLView",
            "description": "",
            "description_tooltip": null,
            "layout": "IPY_MODEL_fc855b723ce046849a55e114208fdbc1",
            "placeholder": "​",
            "style": "IPY_MODEL_48fea61ddf56480781b5ae93030ea989",
            "value": "Extracting data files: 100%"
          }
        },
        "130d804471c04d0daedd9ab138e89b4b": {
          "model_module": "@jupyter-widgets/controls",
          "model_name": "FloatProgressModel",
          "model_module_version": "1.5.0",
          "state": {
            "_dom_classes": [],
            "_model_module": "@jupyter-widgets/controls",
            "_model_module_version": "1.5.0",
            "_model_name": "FloatProgressModel",
            "_view_count": null,
            "_view_module": "@jupyter-widgets/controls",
            "_view_module_version": "1.5.0",
            "_view_name": "ProgressView",
            "bar_style": "success",
            "description": "",
            "description_tooltip": null,
            "layout": "IPY_MODEL_41c3de44960749a88ee4fbcf92ce46f6",
            "max": 1,
            "min": 0,
            "orientation": "horizontal",
            "style": "IPY_MODEL_ec682955f90c46eb8074dd52f07f3ab0",
            "value": 1
          }
        },
        "0a83c125beea4abfb7d4e95f08137770": {
          "model_module": "@jupyter-widgets/controls",
          "model_name": "HTMLModel",
          "model_module_version": "1.5.0",
          "state": {
            "_dom_classes": [],
            "_model_module": "@jupyter-widgets/controls",
            "_model_module_version": "1.5.0",
            "_model_name": "HTMLModel",
            "_view_count": null,
            "_view_module": "@jupyter-widgets/controls",
            "_view_module_version": "1.5.0",
            "_view_name": "HTMLView",
            "description": "",
            "description_tooltip": null,
            "layout": "IPY_MODEL_be7502a56cd240b09db0bd85b8a75be4",
            "placeholder": "​",
            "style": "IPY_MODEL_c50dae8769df4184bb7055ec07488ed6",
            "value": " 1/1 [00:00&lt;00:00, 20.31it/s]"
          }
        },
        "c4729b82b2684fb8817534149a15287d": {
          "model_module": "@jupyter-widgets/base",
          "model_name": "LayoutModel",
          "model_module_version": "1.2.0",
          "state": {
            "_model_module": "@jupyter-widgets/base",
            "_model_module_version": "1.2.0",
            "_model_name": "LayoutModel",
            "_view_count": null,
            "_view_module": "@jupyter-widgets/base",
            "_view_module_version": "1.2.0",
            "_view_name": "LayoutView",
            "align_content": null,
            "align_items": null,
            "align_self": null,
            "border": null,
            "bottom": null,
            "display": null,
            "flex": null,
            "flex_flow": null,
            "grid_area": null,
            "grid_auto_columns": null,
            "grid_auto_flow": null,
            "grid_auto_rows": null,
            "grid_column": null,
            "grid_gap": null,
            "grid_row": null,
            "grid_template_areas": null,
            "grid_template_columns": null,
            "grid_template_rows": null,
            "height": null,
            "justify_content": null,
            "justify_items": null,
            "left": null,
            "margin": null,
            "max_height": null,
            "max_width": null,
            "min_height": null,
            "min_width": null,
            "object_fit": null,
            "object_position": null,
            "order": null,
            "overflow": null,
            "overflow_x": null,
            "overflow_y": null,
            "padding": null,
            "right": null,
            "top": null,
            "visibility": null,
            "width": null
          }
        },
        "fc855b723ce046849a55e114208fdbc1": {
          "model_module": "@jupyter-widgets/base",
          "model_name": "LayoutModel",
          "model_module_version": "1.2.0",
          "state": {
            "_model_module": "@jupyter-widgets/base",
            "_model_module_version": "1.2.0",
            "_model_name": "LayoutModel",
            "_view_count": null,
            "_view_module": "@jupyter-widgets/base",
            "_view_module_version": "1.2.0",
            "_view_name": "LayoutView",
            "align_content": null,
            "align_items": null,
            "align_self": null,
            "border": null,
            "bottom": null,
            "display": null,
            "flex": null,
            "flex_flow": null,
            "grid_area": null,
            "grid_auto_columns": null,
            "grid_auto_flow": null,
            "grid_auto_rows": null,
            "grid_column": null,
            "grid_gap": null,
            "grid_row": null,
            "grid_template_areas": null,
            "grid_template_columns": null,
            "grid_template_rows": null,
            "height": null,
            "justify_content": null,
            "justify_items": null,
            "left": null,
            "margin": null,
            "max_height": null,
            "max_width": null,
            "min_height": null,
            "min_width": null,
            "object_fit": null,
            "object_position": null,
            "order": null,
            "overflow": null,
            "overflow_x": null,
            "overflow_y": null,
            "padding": null,
            "right": null,
            "top": null,
            "visibility": null,
            "width": null
          }
        },
        "48fea61ddf56480781b5ae93030ea989": {
          "model_module": "@jupyter-widgets/controls",
          "model_name": "DescriptionStyleModel",
          "model_module_version": "1.5.0",
          "state": {
            "_model_module": "@jupyter-widgets/controls",
            "_model_module_version": "1.5.0",
            "_model_name": "DescriptionStyleModel",
            "_view_count": null,
            "_view_module": "@jupyter-widgets/base",
            "_view_module_version": "1.2.0",
            "_view_name": "StyleView",
            "description_width": ""
          }
        },
        "41c3de44960749a88ee4fbcf92ce46f6": {
          "model_module": "@jupyter-widgets/base",
          "model_name": "LayoutModel",
          "model_module_version": "1.2.0",
          "state": {
            "_model_module": "@jupyter-widgets/base",
            "_model_module_version": "1.2.0",
            "_model_name": "LayoutModel",
            "_view_count": null,
            "_view_module": "@jupyter-widgets/base",
            "_view_module_version": "1.2.0",
            "_view_name": "LayoutView",
            "align_content": null,
            "align_items": null,
            "align_self": null,
            "border": null,
            "bottom": null,
            "display": null,
            "flex": null,
            "flex_flow": null,
            "grid_area": null,
            "grid_auto_columns": null,
            "grid_auto_flow": null,
            "grid_auto_rows": null,
            "grid_column": null,
            "grid_gap": null,
            "grid_row": null,
            "grid_template_areas": null,
            "grid_template_columns": null,
            "grid_template_rows": null,
            "height": null,
            "justify_content": null,
            "justify_items": null,
            "left": null,
            "margin": null,
            "max_height": null,
            "max_width": null,
            "min_height": null,
            "min_width": null,
            "object_fit": null,
            "object_position": null,
            "order": null,
            "overflow": null,
            "overflow_x": null,
            "overflow_y": null,
            "padding": null,
            "right": null,
            "top": null,
            "visibility": null,
            "width": null
          }
        },
        "ec682955f90c46eb8074dd52f07f3ab0": {
          "model_module": "@jupyter-widgets/controls",
          "model_name": "ProgressStyleModel",
          "model_module_version": "1.5.0",
          "state": {
            "_model_module": "@jupyter-widgets/controls",
            "_model_module_version": "1.5.0",
            "_model_name": "ProgressStyleModel",
            "_view_count": null,
            "_view_module": "@jupyter-widgets/base",
            "_view_module_version": "1.2.0",
            "_view_name": "StyleView",
            "bar_color": null,
            "description_width": ""
          }
        },
        "be7502a56cd240b09db0bd85b8a75be4": {
          "model_module": "@jupyter-widgets/base",
          "model_name": "LayoutModel",
          "model_module_version": "1.2.0",
          "state": {
            "_model_module": "@jupyter-widgets/base",
            "_model_module_version": "1.2.0",
            "_model_name": "LayoutModel",
            "_view_count": null,
            "_view_module": "@jupyter-widgets/base",
            "_view_module_version": "1.2.0",
            "_view_name": "LayoutView",
            "align_content": null,
            "align_items": null,
            "align_self": null,
            "border": null,
            "bottom": null,
            "display": null,
            "flex": null,
            "flex_flow": null,
            "grid_area": null,
            "grid_auto_columns": null,
            "grid_auto_flow": null,
            "grid_auto_rows": null,
            "grid_column": null,
            "grid_gap": null,
            "grid_row": null,
            "grid_template_areas": null,
            "grid_template_columns": null,
            "grid_template_rows": null,
            "height": null,
            "justify_content": null,
            "justify_items": null,
            "left": null,
            "margin": null,
            "max_height": null,
            "max_width": null,
            "min_height": null,
            "min_width": null,
            "object_fit": null,
            "object_position": null,
            "order": null,
            "overflow": null,
            "overflow_x": null,
            "overflow_y": null,
            "padding": null,
            "right": null,
            "top": null,
            "visibility": null,
            "width": null
          }
        },
        "c50dae8769df4184bb7055ec07488ed6": {
          "model_module": "@jupyter-widgets/controls",
          "model_name": "DescriptionStyleModel",
          "model_module_version": "1.5.0",
          "state": {
            "_model_module": "@jupyter-widgets/controls",
            "_model_module_version": "1.5.0",
            "_model_name": "DescriptionStyleModel",
            "_view_count": null,
            "_view_module": "@jupyter-widgets/base",
            "_view_module_version": "1.2.0",
            "_view_name": "StyleView",
            "description_width": ""
          }
        },
        "b4d7cd7687f047e7b3b2c4172be0fb30": {
          "model_module": "@jupyter-widgets/controls",
          "model_name": "HBoxModel",
          "model_module_version": "1.5.0",
          "state": {
            "_dom_classes": [],
            "_model_module": "@jupyter-widgets/controls",
            "_model_module_version": "1.5.0",
            "_model_name": "HBoxModel",
            "_view_count": null,
            "_view_module": "@jupyter-widgets/controls",
            "_view_module_version": "1.5.0",
            "_view_name": "HBoxView",
            "box_style": "",
            "children": [
              "IPY_MODEL_5b6167a3185b4ca281edf383a82c06a0",
              "IPY_MODEL_fd9bdd02c3264e2ea66e44b453442b75",
              "IPY_MODEL_26fadfeece1c4d7691a49cc751b539c8"
            ],
            "layout": "IPY_MODEL_1eec423b6bcc4769b1e52d41570bed58"
          }
        },
        "5b6167a3185b4ca281edf383a82c06a0": {
          "model_module": "@jupyter-widgets/controls",
          "model_name": "HTMLModel",
          "model_module_version": "1.5.0",
          "state": {
            "_dom_classes": [],
            "_model_module": "@jupyter-widgets/controls",
            "_model_module_version": "1.5.0",
            "_model_name": "HTMLModel",
            "_view_count": null,
            "_view_module": "@jupyter-widgets/controls",
            "_view_module_version": "1.5.0",
            "_view_name": "HTMLView",
            "description": "",
            "description_tooltip": null,
            "layout": "IPY_MODEL_3e7b671c88d74ad2bce7623c461df5e5",
            "placeholder": "​",
            "style": "IPY_MODEL_633599fa3ab245aabe08aedfe311521c",
            "value": "Generating train split: "
          }
        },
        "fd9bdd02c3264e2ea66e44b453442b75": {
          "model_module": "@jupyter-widgets/controls",
          "model_name": "FloatProgressModel",
          "model_module_version": "1.5.0",
          "state": {
            "_dom_classes": [],
            "_model_module": "@jupyter-widgets/controls",
            "_model_module_version": "1.5.0",
            "_model_name": "FloatProgressModel",
            "_view_count": null,
            "_view_module": "@jupyter-widgets/controls",
            "_view_module_version": "1.5.0",
            "_view_name": "ProgressView",
            "bar_style": "success",
            "description": "",
            "description_tooltip": null,
            "layout": "IPY_MODEL_5daa6938da8e40829e670d0c1cda45d7",
            "max": 1,
            "min": 0,
            "orientation": "horizontal",
            "style": "IPY_MODEL_b35bfe1b49b046f4b6d8530e37ecdb80",
            "value": 1
          }
        },
        "26fadfeece1c4d7691a49cc751b539c8": {
          "model_module": "@jupyter-widgets/controls",
          "model_name": "HTMLModel",
          "model_module_version": "1.5.0",
          "state": {
            "_dom_classes": [],
            "_model_module": "@jupyter-widgets/controls",
            "_model_module_version": "1.5.0",
            "_model_name": "HTMLModel",
            "_view_count": null,
            "_view_module": "@jupyter-widgets/controls",
            "_view_module_version": "1.5.0",
            "_view_name": "HTMLView",
            "description": "",
            "description_tooltip": null,
            "layout": "IPY_MODEL_ad08df5242e24d2d86f2f4e5867cbdbd",
            "placeholder": "​",
            "style": "IPY_MODEL_b159f0a44d844fc1b6febb9af93ad362",
            "value": " 8012/0 [00:01&lt;00:00, 8100.87 examples/s]"
          }
        },
        "1eec423b6bcc4769b1e52d41570bed58": {
          "model_module": "@jupyter-widgets/base",
          "model_name": "LayoutModel",
          "model_module_version": "1.2.0",
          "state": {
            "_model_module": "@jupyter-widgets/base",
            "_model_module_version": "1.2.0",
            "_model_name": "LayoutModel",
            "_view_count": null,
            "_view_module": "@jupyter-widgets/base",
            "_view_module_version": "1.2.0",
            "_view_name": "LayoutView",
            "align_content": null,
            "align_items": null,
            "align_self": null,
            "border": null,
            "bottom": null,
            "display": null,
            "flex": null,
            "flex_flow": null,
            "grid_area": null,
            "grid_auto_columns": null,
            "grid_auto_flow": null,
            "grid_auto_rows": null,
            "grid_column": null,
            "grid_gap": null,
            "grid_row": null,
            "grid_template_areas": null,
            "grid_template_columns": null,
            "grid_template_rows": null,
            "height": null,
            "justify_content": null,
            "justify_items": null,
            "left": null,
            "margin": null,
            "max_height": null,
            "max_width": null,
            "min_height": null,
            "min_width": null,
            "object_fit": null,
            "object_position": null,
            "order": null,
            "overflow": null,
            "overflow_x": null,
            "overflow_y": null,
            "padding": null,
            "right": null,
            "top": null,
            "visibility": null,
            "width": null
          }
        },
        "3e7b671c88d74ad2bce7623c461df5e5": {
          "model_module": "@jupyter-widgets/base",
          "model_name": "LayoutModel",
          "model_module_version": "1.2.0",
          "state": {
            "_model_module": "@jupyter-widgets/base",
            "_model_module_version": "1.2.0",
            "_model_name": "LayoutModel",
            "_view_count": null,
            "_view_module": "@jupyter-widgets/base",
            "_view_module_version": "1.2.0",
            "_view_name": "LayoutView",
            "align_content": null,
            "align_items": null,
            "align_self": null,
            "border": null,
            "bottom": null,
            "display": null,
            "flex": null,
            "flex_flow": null,
            "grid_area": null,
            "grid_auto_columns": null,
            "grid_auto_flow": null,
            "grid_auto_rows": null,
            "grid_column": null,
            "grid_gap": null,
            "grid_row": null,
            "grid_template_areas": null,
            "grid_template_columns": null,
            "grid_template_rows": null,
            "height": null,
            "justify_content": null,
            "justify_items": null,
            "left": null,
            "margin": null,
            "max_height": null,
            "max_width": null,
            "min_height": null,
            "min_width": null,
            "object_fit": null,
            "object_position": null,
            "order": null,
            "overflow": null,
            "overflow_x": null,
            "overflow_y": null,
            "padding": null,
            "right": null,
            "top": null,
            "visibility": null,
            "width": null
          }
        },
        "633599fa3ab245aabe08aedfe311521c": {
          "model_module": "@jupyter-widgets/controls",
          "model_name": "DescriptionStyleModel",
          "model_module_version": "1.5.0",
          "state": {
            "_model_module": "@jupyter-widgets/controls",
            "_model_module_version": "1.5.0",
            "_model_name": "DescriptionStyleModel",
            "_view_count": null,
            "_view_module": "@jupyter-widgets/base",
            "_view_module_version": "1.2.0",
            "_view_name": "StyleView",
            "description_width": ""
          }
        },
        "5daa6938da8e40829e670d0c1cda45d7": {
          "model_module": "@jupyter-widgets/base",
          "model_name": "LayoutModel",
          "model_module_version": "1.2.0",
          "state": {
            "_model_module": "@jupyter-widgets/base",
            "_model_module_version": "1.2.0",
            "_model_name": "LayoutModel",
            "_view_count": null,
            "_view_module": "@jupyter-widgets/base",
            "_view_module_version": "1.2.0",
            "_view_name": "LayoutView",
            "align_content": null,
            "align_items": null,
            "align_self": null,
            "border": null,
            "bottom": null,
            "display": null,
            "flex": null,
            "flex_flow": null,
            "grid_area": null,
            "grid_auto_columns": null,
            "grid_auto_flow": null,
            "grid_auto_rows": null,
            "grid_column": null,
            "grid_gap": null,
            "grid_row": null,
            "grid_template_areas": null,
            "grid_template_columns": null,
            "grid_template_rows": null,
            "height": null,
            "justify_content": null,
            "justify_items": null,
            "left": null,
            "margin": null,
            "max_height": null,
            "max_width": null,
            "min_height": null,
            "min_width": null,
            "object_fit": null,
            "object_position": null,
            "order": null,
            "overflow": null,
            "overflow_x": null,
            "overflow_y": null,
            "padding": null,
            "right": null,
            "top": null,
            "visibility": null,
            "width": "20px"
          }
        },
        "b35bfe1b49b046f4b6d8530e37ecdb80": {
          "model_module": "@jupyter-widgets/controls",
          "model_name": "ProgressStyleModel",
          "model_module_version": "1.5.0",
          "state": {
            "_model_module": "@jupyter-widgets/controls",
            "_model_module_version": "1.5.0",
            "_model_name": "ProgressStyleModel",
            "_view_count": null,
            "_view_module": "@jupyter-widgets/base",
            "_view_module_version": "1.2.0",
            "_view_name": "StyleView",
            "bar_color": null,
            "description_width": ""
          }
        },
        "ad08df5242e24d2d86f2f4e5867cbdbd": {
          "model_module": "@jupyter-widgets/base",
          "model_name": "LayoutModel",
          "model_module_version": "1.2.0",
          "state": {
            "_model_module": "@jupyter-widgets/base",
            "_model_module_version": "1.2.0",
            "_model_name": "LayoutModel",
            "_view_count": null,
            "_view_module": "@jupyter-widgets/base",
            "_view_module_version": "1.2.0",
            "_view_name": "LayoutView",
            "align_content": null,
            "align_items": null,
            "align_self": null,
            "border": null,
            "bottom": null,
            "display": null,
            "flex": null,
            "flex_flow": null,
            "grid_area": null,
            "grid_auto_columns": null,
            "grid_auto_flow": null,
            "grid_auto_rows": null,
            "grid_column": null,
            "grid_gap": null,
            "grid_row": null,
            "grid_template_areas": null,
            "grid_template_columns": null,
            "grid_template_rows": null,
            "height": null,
            "justify_content": null,
            "justify_items": null,
            "left": null,
            "margin": null,
            "max_height": null,
            "max_width": null,
            "min_height": null,
            "min_width": null,
            "object_fit": null,
            "object_position": null,
            "order": null,
            "overflow": null,
            "overflow_x": null,
            "overflow_y": null,
            "padding": null,
            "right": null,
            "top": null,
            "visibility": null,
            "width": null
          }
        },
        "b159f0a44d844fc1b6febb9af93ad362": {
          "model_module": "@jupyter-widgets/controls",
          "model_name": "DescriptionStyleModel",
          "model_module_version": "1.5.0",
          "state": {
            "_model_module": "@jupyter-widgets/controls",
            "_model_module_version": "1.5.0",
            "_model_name": "DescriptionStyleModel",
            "_view_count": null,
            "_view_module": "@jupyter-widgets/base",
            "_view_module_version": "1.2.0",
            "_view_name": "StyleView",
            "description_width": ""
          }
        },
        "cc68dd67492048fd905253d4b9963ec6": {
          "model_module": "@jupyter-widgets/controls",
          "model_name": "HBoxModel",
          "model_module_version": "1.5.0",
          "state": {
            "_dom_classes": [],
            "_model_module": "@jupyter-widgets/controls",
            "_model_module_version": "1.5.0",
            "_model_name": "HBoxModel",
            "_view_count": null,
            "_view_module": "@jupyter-widgets/controls",
            "_view_module_version": "1.5.0",
            "_view_name": "HBoxView",
            "box_style": "",
            "children": [
              "IPY_MODEL_3571d077964e4767bc60a1bf1228179c",
              "IPY_MODEL_5ac480a101744bdcaff69695afaa0c54",
              "IPY_MODEL_8c2682eb0ddb49cfa39242f4d4c6464d"
            ],
            "layout": "IPY_MODEL_a1f0ec27b05647f38e4c01328b387346"
          }
        },
        "3571d077964e4767bc60a1bf1228179c": {
          "model_module": "@jupyter-widgets/controls",
          "model_name": "HTMLModel",
          "model_module_version": "1.5.0",
          "state": {
            "_dom_classes": [],
            "_model_module": "@jupyter-widgets/controls",
            "_model_module_version": "1.5.0",
            "_model_name": "HTMLModel",
            "_view_count": null,
            "_view_module": "@jupyter-widgets/controls",
            "_view_module_version": "1.5.0",
            "_view_name": "HTMLView",
            "description": "",
            "description_tooltip": null,
            "layout": "IPY_MODEL_5cd2d15c41ea4b05ad5e58e843c9a141",
            "placeholder": "​",
            "style": "IPY_MODEL_18a3e2c2d28f4fcdbdfd92978c31ed93",
            "value": "Map: 100%"
          }
        },
        "5ac480a101744bdcaff69695afaa0c54": {
          "model_module": "@jupyter-widgets/controls",
          "model_name": "FloatProgressModel",
          "model_module_version": "1.5.0",
          "state": {
            "_dom_classes": [],
            "_model_module": "@jupyter-widgets/controls",
            "_model_module_version": "1.5.0",
            "_model_name": "FloatProgressModel",
            "_view_count": null,
            "_view_module": "@jupyter-widgets/controls",
            "_view_module_version": "1.5.0",
            "_view_name": "ProgressView",
            "bar_style": "success",
            "description": "",
            "description_tooltip": null,
            "layout": "IPY_MODEL_ad02ec77c74d4a929b9a848fcd55e6a5",
            "max": 8012,
            "min": 0,
            "orientation": "horizontal",
            "style": "IPY_MODEL_525f459e51d54d2a83e3c001eb157de1",
            "value": 8012
          }
        },
        "8c2682eb0ddb49cfa39242f4d4c6464d": {
          "model_module": "@jupyter-widgets/controls",
          "model_name": "HTMLModel",
          "model_module_version": "1.5.0",
          "state": {
            "_dom_classes": [],
            "_model_module": "@jupyter-widgets/controls",
            "_model_module_version": "1.5.0",
            "_model_name": "HTMLModel",
            "_view_count": null,
            "_view_module": "@jupyter-widgets/controls",
            "_view_module_version": "1.5.0",
            "_view_name": "HTMLView",
            "description": "",
            "description_tooltip": null,
            "layout": "IPY_MODEL_3d46724068074285b1954a172a1fc2f1",
            "placeholder": "​",
            "style": "IPY_MODEL_6e69c77a9c414258bd5de8e23898021c",
            "value": " 8012/8012 [00:07&lt;00:00, 2260.02 examples/s]"
          }
        },
        "a1f0ec27b05647f38e4c01328b387346": {
          "model_module": "@jupyter-widgets/base",
          "model_name": "LayoutModel",
          "model_module_version": "1.2.0",
          "state": {
            "_model_module": "@jupyter-widgets/base",
            "_model_module_version": "1.2.0",
            "_model_name": "LayoutModel",
            "_view_count": null,
            "_view_module": "@jupyter-widgets/base",
            "_view_module_version": "1.2.0",
            "_view_name": "LayoutView",
            "align_content": null,
            "align_items": null,
            "align_self": null,
            "border": null,
            "bottom": null,
            "display": null,
            "flex": null,
            "flex_flow": null,
            "grid_area": null,
            "grid_auto_columns": null,
            "grid_auto_flow": null,
            "grid_auto_rows": null,
            "grid_column": null,
            "grid_gap": null,
            "grid_row": null,
            "grid_template_areas": null,
            "grid_template_columns": null,
            "grid_template_rows": null,
            "height": null,
            "justify_content": null,
            "justify_items": null,
            "left": null,
            "margin": null,
            "max_height": null,
            "max_width": null,
            "min_height": null,
            "min_width": null,
            "object_fit": null,
            "object_position": null,
            "order": null,
            "overflow": null,
            "overflow_x": null,
            "overflow_y": null,
            "padding": null,
            "right": null,
            "top": null,
            "visibility": null,
            "width": null
          }
        },
        "5cd2d15c41ea4b05ad5e58e843c9a141": {
          "model_module": "@jupyter-widgets/base",
          "model_name": "LayoutModel",
          "model_module_version": "1.2.0",
          "state": {
            "_model_module": "@jupyter-widgets/base",
            "_model_module_version": "1.2.0",
            "_model_name": "LayoutModel",
            "_view_count": null,
            "_view_module": "@jupyter-widgets/base",
            "_view_module_version": "1.2.0",
            "_view_name": "LayoutView",
            "align_content": null,
            "align_items": null,
            "align_self": null,
            "border": null,
            "bottom": null,
            "display": null,
            "flex": null,
            "flex_flow": null,
            "grid_area": null,
            "grid_auto_columns": null,
            "grid_auto_flow": null,
            "grid_auto_rows": null,
            "grid_column": null,
            "grid_gap": null,
            "grid_row": null,
            "grid_template_areas": null,
            "grid_template_columns": null,
            "grid_template_rows": null,
            "height": null,
            "justify_content": null,
            "justify_items": null,
            "left": null,
            "margin": null,
            "max_height": null,
            "max_width": null,
            "min_height": null,
            "min_width": null,
            "object_fit": null,
            "object_position": null,
            "order": null,
            "overflow": null,
            "overflow_x": null,
            "overflow_y": null,
            "padding": null,
            "right": null,
            "top": null,
            "visibility": null,
            "width": null
          }
        },
        "18a3e2c2d28f4fcdbdfd92978c31ed93": {
          "model_module": "@jupyter-widgets/controls",
          "model_name": "DescriptionStyleModel",
          "model_module_version": "1.5.0",
          "state": {
            "_model_module": "@jupyter-widgets/controls",
            "_model_module_version": "1.5.0",
            "_model_name": "DescriptionStyleModel",
            "_view_count": null,
            "_view_module": "@jupyter-widgets/base",
            "_view_module_version": "1.2.0",
            "_view_name": "StyleView",
            "description_width": ""
          }
        },
        "ad02ec77c74d4a929b9a848fcd55e6a5": {
          "model_module": "@jupyter-widgets/base",
          "model_name": "LayoutModel",
          "model_module_version": "1.2.0",
          "state": {
            "_model_module": "@jupyter-widgets/base",
            "_model_module_version": "1.2.0",
            "_model_name": "LayoutModel",
            "_view_count": null,
            "_view_module": "@jupyter-widgets/base",
            "_view_module_version": "1.2.0",
            "_view_name": "LayoutView",
            "align_content": null,
            "align_items": null,
            "align_self": null,
            "border": null,
            "bottom": null,
            "display": null,
            "flex": null,
            "flex_flow": null,
            "grid_area": null,
            "grid_auto_columns": null,
            "grid_auto_flow": null,
            "grid_auto_rows": null,
            "grid_column": null,
            "grid_gap": null,
            "grid_row": null,
            "grid_template_areas": null,
            "grid_template_columns": null,
            "grid_template_rows": null,
            "height": null,
            "justify_content": null,
            "justify_items": null,
            "left": null,
            "margin": null,
            "max_height": null,
            "max_width": null,
            "min_height": null,
            "min_width": null,
            "object_fit": null,
            "object_position": null,
            "order": null,
            "overflow": null,
            "overflow_x": null,
            "overflow_y": null,
            "padding": null,
            "right": null,
            "top": null,
            "visibility": null,
            "width": null
          }
        },
        "525f459e51d54d2a83e3c001eb157de1": {
          "model_module": "@jupyter-widgets/controls",
          "model_name": "ProgressStyleModel",
          "model_module_version": "1.5.0",
          "state": {
            "_model_module": "@jupyter-widgets/controls",
            "_model_module_version": "1.5.0",
            "_model_name": "ProgressStyleModel",
            "_view_count": null,
            "_view_module": "@jupyter-widgets/base",
            "_view_module_version": "1.2.0",
            "_view_name": "StyleView",
            "bar_color": null,
            "description_width": ""
          }
        },
        "3d46724068074285b1954a172a1fc2f1": {
          "model_module": "@jupyter-widgets/base",
          "model_name": "LayoutModel",
          "model_module_version": "1.2.0",
          "state": {
            "_model_module": "@jupyter-widgets/base",
            "_model_module_version": "1.2.0",
            "_model_name": "LayoutModel",
            "_view_count": null,
            "_view_module": "@jupyter-widgets/base",
            "_view_module_version": "1.2.0",
            "_view_name": "LayoutView",
            "align_content": null,
            "align_items": null,
            "align_self": null,
            "border": null,
            "bottom": null,
            "display": null,
            "flex": null,
            "flex_flow": null,
            "grid_area": null,
            "grid_auto_columns": null,
            "grid_auto_flow": null,
            "grid_auto_rows": null,
            "grid_column": null,
            "grid_gap": null,
            "grid_row": null,
            "grid_template_areas": null,
            "grid_template_columns": null,
            "grid_template_rows": null,
            "height": null,
            "justify_content": null,
            "justify_items": null,
            "left": null,
            "margin": null,
            "max_height": null,
            "max_width": null,
            "min_height": null,
            "min_width": null,
            "object_fit": null,
            "object_position": null,
            "order": null,
            "overflow": null,
            "overflow_x": null,
            "overflow_y": null,
            "padding": null,
            "right": null,
            "top": null,
            "visibility": null,
            "width": null
          }
        },
        "6e69c77a9c414258bd5de8e23898021c": {
          "model_module": "@jupyter-widgets/controls",
          "model_name": "DescriptionStyleModel",
          "model_module_version": "1.5.0",
          "state": {
            "_model_module": "@jupyter-widgets/controls",
            "_model_module_version": "1.5.0",
            "_model_name": "DescriptionStyleModel",
            "_view_count": null,
            "_view_module": "@jupyter-widgets/base",
            "_view_module_version": "1.2.0",
            "_view_name": "StyleView",
            "description_width": ""
          }
        },
        "adc0a7d5322a4a7da85a9fea51943f11": {
          "model_module": "@jupyter-widgets/controls",
          "model_name": "HBoxModel",
          "model_module_version": "1.5.0",
          "state": {
            "_dom_classes": [],
            "_model_module": "@jupyter-widgets/controls",
            "_model_module_version": "1.5.0",
            "_model_name": "HBoxModel",
            "_view_count": null,
            "_view_module": "@jupyter-widgets/controls",
            "_view_module_version": "1.5.0",
            "_view_name": "HBoxView",
            "box_style": "",
            "children": [
              "IPY_MODEL_3c215647d2c34a7fac0b86f8b257ec68",
              "IPY_MODEL_ef31045db2d94ccf99ac71ede24439b5",
              "IPY_MODEL_90dd439d491f4f92b93f7385d1992ddf"
            ],
            "layout": "IPY_MODEL_3157f8a62b494d729e54fb5b7e50a6cc"
          }
        },
        "3c215647d2c34a7fac0b86f8b257ec68": {
          "model_module": "@jupyter-widgets/controls",
          "model_name": "HTMLModel",
          "model_module_version": "1.5.0",
          "state": {
            "_dom_classes": [],
            "_model_module": "@jupyter-widgets/controls",
            "_model_module_version": "1.5.0",
            "_model_name": "HTMLModel",
            "_view_count": null,
            "_view_module": "@jupyter-widgets/controls",
            "_view_module_version": "1.5.0",
            "_view_name": "HTMLView",
            "description": "",
            "description_tooltip": null,
            "layout": "IPY_MODEL_3aedaebbd7b342efaf071680d6c96959",
            "placeholder": "​",
            "style": "IPY_MODEL_5ceef0d402b24e389105ad26cd82f8c8",
            "value": "Downloading data files: 100%"
          }
        },
        "ef31045db2d94ccf99ac71ede24439b5": {
          "model_module": "@jupyter-widgets/controls",
          "model_name": "FloatProgressModel",
          "model_module_version": "1.5.0",
          "state": {
            "_dom_classes": [],
            "_model_module": "@jupyter-widgets/controls",
            "_model_module_version": "1.5.0",
            "_model_name": "FloatProgressModel",
            "_view_count": null,
            "_view_module": "@jupyter-widgets/controls",
            "_view_module_version": "1.5.0",
            "_view_name": "ProgressView",
            "bar_style": "success",
            "description": "",
            "description_tooltip": null,
            "layout": "IPY_MODEL_b0a165488fcc4702b8ca82da5e188506",
            "max": 1,
            "min": 0,
            "orientation": "horizontal",
            "style": "IPY_MODEL_d406a6a3fe604d9785042e2b06bdf1e7",
            "value": 1
          }
        },
        "90dd439d491f4f92b93f7385d1992ddf": {
          "model_module": "@jupyter-widgets/controls",
          "model_name": "HTMLModel",
          "model_module_version": "1.5.0",
          "state": {
            "_dom_classes": [],
            "_model_module": "@jupyter-widgets/controls",
            "_model_module_version": "1.5.0",
            "_model_name": "HTMLModel",
            "_view_count": null,
            "_view_module": "@jupyter-widgets/controls",
            "_view_module_version": "1.5.0",
            "_view_name": "HTMLView",
            "description": "",
            "description_tooltip": null,
            "layout": "IPY_MODEL_03a5382399d247df97546b40953e83d8",
            "placeholder": "​",
            "style": "IPY_MODEL_372c8e33ba2f45f1994be885f1b7699d",
            "value": " 1/1 [00:00&lt;00:00, 61.71it/s]"
          }
        },
        "3157f8a62b494d729e54fb5b7e50a6cc": {
          "model_module": "@jupyter-widgets/base",
          "model_name": "LayoutModel",
          "model_module_version": "1.2.0",
          "state": {
            "_model_module": "@jupyter-widgets/base",
            "_model_module_version": "1.2.0",
            "_model_name": "LayoutModel",
            "_view_count": null,
            "_view_module": "@jupyter-widgets/base",
            "_view_module_version": "1.2.0",
            "_view_name": "LayoutView",
            "align_content": null,
            "align_items": null,
            "align_self": null,
            "border": null,
            "bottom": null,
            "display": null,
            "flex": null,
            "flex_flow": null,
            "grid_area": null,
            "grid_auto_columns": null,
            "grid_auto_flow": null,
            "grid_auto_rows": null,
            "grid_column": null,
            "grid_gap": null,
            "grid_row": null,
            "grid_template_areas": null,
            "grid_template_columns": null,
            "grid_template_rows": null,
            "height": null,
            "justify_content": null,
            "justify_items": null,
            "left": null,
            "margin": null,
            "max_height": null,
            "max_width": null,
            "min_height": null,
            "min_width": null,
            "object_fit": null,
            "object_position": null,
            "order": null,
            "overflow": null,
            "overflow_x": null,
            "overflow_y": null,
            "padding": null,
            "right": null,
            "top": null,
            "visibility": null,
            "width": null
          }
        },
        "3aedaebbd7b342efaf071680d6c96959": {
          "model_module": "@jupyter-widgets/base",
          "model_name": "LayoutModel",
          "model_module_version": "1.2.0",
          "state": {
            "_model_module": "@jupyter-widgets/base",
            "_model_module_version": "1.2.0",
            "_model_name": "LayoutModel",
            "_view_count": null,
            "_view_module": "@jupyter-widgets/base",
            "_view_module_version": "1.2.0",
            "_view_name": "LayoutView",
            "align_content": null,
            "align_items": null,
            "align_self": null,
            "border": null,
            "bottom": null,
            "display": null,
            "flex": null,
            "flex_flow": null,
            "grid_area": null,
            "grid_auto_columns": null,
            "grid_auto_flow": null,
            "grid_auto_rows": null,
            "grid_column": null,
            "grid_gap": null,
            "grid_row": null,
            "grid_template_areas": null,
            "grid_template_columns": null,
            "grid_template_rows": null,
            "height": null,
            "justify_content": null,
            "justify_items": null,
            "left": null,
            "margin": null,
            "max_height": null,
            "max_width": null,
            "min_height": null,
            "min_width": null,
            "object_fit": null,
            "object_position": null,
            "order": null,
            "overflow": null,
            "overflow_x": null,
            "overflow_y": null,
            "padding": null,
            "right": null,
            "top": null,
            "visibility": null,
            "width": null
          }
        },
        "5ceef0d402b24e389105ad26cd82f8c8": {
          "model_module": "@jupyter-widgets/controls",
          "model_name": "DescriptionStyleModel",
          "model_module_version": "1.5.0",
          "state": {
            "_model_module": "@jupyter-widgets/controls",
            "_model_module_version": "1.5.0",
            "_model_name": "DescriptionStyleModel",
            "_view_count": null,
            "_view_module": "@jupyter-widgets/base",
            "_view_module_version": "1.2.0",
            "_view_name": "StyleView",
            "description_width": ""
          }
        },
        "b0a165488fcc4702b8ca82da5e188506": {
          "model_module": "@jupyter-widgets/base",
          "model_name": "LayoutModel",
          "model_module_version": "1.2.0",
          "state": {
            "_model_module": "@jupyter-widgets/base",
            "_model_module_version": "1.2.0",
            "_model_name": "LayoutModel",
            "_view_count": null,
            "_view_module": "@jupyter-widgets/base",
            "_view_module_version": "1.2.0",
            "_view_name": "LayoutView",
            "align_content": null,
            "align_items": null,
            "align_self": null,
            "border": null,
            "bottom": null,
            "display": null,
            "flex": null,
            "flex_flow": null,
            "grid_area": null,
            "grid_auto_columns": null,
            "grid_auto_flow": null,
            "grid_auto_rows": null,
            "grid_column": null,
            "grid_gap": null,
            "grid_row": null,
            "grid_template_areas": null,
            "grid_template_columns": null,
            "grid_template_rows": null,
            "height": null,
            "justify_content": null,
            "justify_items": null,
            "left": null,
            "margin": null,
            "max_height": null,
            "max_width": null,
            "min_height": null,
            "min_width": null,
            "object_fit": null,
            "object_position": null,
            "order": null,
            "overflow": null,
            "overflow_x": null,
            "overflow_y": null,
            "padding": null,
            "right": null,
            "top": null,
            "visibility": null,
            "width": null
          }
        },
        "d406a6a3fe604d9785042e2b06bdf1e7": {
          "model_module": "@jupyter-widgets/controls",
          "model_name": "ProgressStyleModel",
          "model_module_version": "1.5.0",
          "state": {
            "_model_module": "@jupyter-widgets/controls",
            "_model_module_version": "1.5.0",
            "_model_name": "ProgressStyleModel",
            "_view_count": null,
            "_view_module": "@jupyter-widgets/base",
            "_view_module_version": "1.2.0",
            "_view_name": "StyleView",
            "bar_color": null,
            "description_width": ""
          }
        },
        "03a5382399d247df97546b40953e83d8": {
          "model_module": "@jupyter-widgets/base",
          "model_name": "LayoutModel",
          "model_module_version": "1.2.0",
          "state": {
            "_model_module": "@jupyter-widgets/base",
            "_model_module_version": "1.2.0",
            "_model_name": "LayoutModel",
            "_view_count": null,
            "_view_module": "@jupyter-widgets/base",
            "_view_module_version": "1.2.0",
            "_view_name": "LayoutView",
            "align_content": null,
            "align_items": null,
            "align_self": null,
            "border": null,
            "bottom": null,
            "display": null,
            "flex": null,
            "flex_flow": null,
            "grid_area": null,
            "grid_auto_columns": null,
            "grid_auto_flow": null,
            "grid_auto_rows": null,
            "grid_column": null,
            "grid_gap": null,
            "grid_row": null,
            "grid_template_areas": null,
            "grid_template_columns": null,
            "grid_template_rows": null,
            "height": null,
            "justify_content": null,
            "justify_items": null,
            "left": null,
            "margin": null,
            "max_height": null,
            "max_width": null,
            "min_height": null,
            "min_width": null,
            "object_fit": null,
            "object_position": null,
            "order": null,
            "overflow": null,
            "overflow_x": null,
            "overflow_y": null,
            "padding": null,
            "right": null,
            "top": null,
            "visibility": null,
            "width": null
          }
        },
        "372c8e33ba2f45f1994be885f1b7699d": {
          "model_module": "@jupyter-widgets/controls",
          "model_name": "DescriptionStyleModel",
          "model_module_version": "1.5.0",
          "state": {
            "_model_module": "@jupyter-widgets/controls",
            "_model_module_version": "1.5.0",
            "_model_name": "DescriptionStyleModel",
            "_view_count": null,
            "_view_module": "@jupyter-widgets/base",
            "_view_module_version": "1.2.0",
            "_view_name": "StyleView",
            "description_width": ""
          }
        },
        "5f4ce39ce9d642cc9d12117a82e1b379": {
          "model_module": "@jupyter-widgets/controls",
          "model_name": "HBoxModel",
          "model_module_version": "1.5.0",
          "state": {
            "_dom_classes": [],
            "_model_module": "@jupyter-widgets/controls",
            "_model_module_version": "1.5.0",
            "_model_name": "HBoxModel",
            "_view_count": null,
            "_view_module": "@jupyter-widgets/controls",
            "_view_module_version": "1.5.0",
            "_view_name": "HBoxView",
            "box_style": "",
            "children": [
              "IPY_MODEL_aa5aa8c0a71848b5b34b987bcd1cebb5",
              "IPY_MODEL_8248e0d560994b929ec3b61071d08e8e",
              "IPY_MODEL_d33510db3d6f4cde9b7cfdc4bbf46633"
            ],
            "layout": "IPY_MODEL_7a56fb7e02fb48809c7705a64636ea34"
          }
        },
        "aa5aa8c0a71848b5b34b987bcd1cebb5": {
          "model_module": "@jupyter-widgets/controls",
          "model_name": "HTMLModel",
          "model_module_version": "1.5.0",
          "state": {
            "_dom_classes": [],
            "_model_module": "@jupyter-widgets/controls",
            "_model_module_version": "1.5.0",
            "_model_name": "HTMLModel",
            "_view_count": null,
            "_view_module": "@jupyter-widgets/controls",
            "_view_module_version": "1.5.0",
            "_view_name": "HTMLView",
            "description": "",
            "description_tooltip": null,
            "layout": "IPY_MODEL_50d5d8ef64fd46ea86f77f107c67bbb8",
            "placeholder": "​",
            "style": "IPY_MODEL_bbea36799dd74a9989bd5c03ccc6eebd",
            "value": "Extracting data files: 100%"
          }
        },
        "8248e0d560994b929ec3b61071d08e8e": {
          "model_module": "@jupyter-widgets/controls",
          "model_name": "FloatProgressModel",
          "model_module_version": "1.5.0",
          "state": {
            "_dom_classes": [],
            "_model_module": "@jupyter-widgets/controls",
            "_model_module_version": "1.5.0",
            "_model_name": "FloatProgressModel",
            "_view_count": null,
            "_view_module": "@jupyter-widgets/controls",
            "_view_module_version": "1.5.0",
            "_view_name": "ProgressView",
            "bar_style": "success",
            "description": "",
            "description_tooltip": null,
            "layout": "IPY_MODEL_674c903a206347a39022b483a88eed4f",
            "max": 1,
            "min": 0,
            "orientation": "horizontal",
            "style": "IPY_MODEL_9ee9d5232e4b4c7f86fd197f41e08d5c",
            "value": 1
          }
        },
        "d33510db3d6f4cde9b7cfdc4bbf46633": {
          "model_module": "@jupyter-widgets/controls",
          "model_name": "HTMLModel",
          "model_module_version": "1.5.0",
          "state": {
            "_dom_classes": [],
            "_model_module": "@jupyter-widgets/controls",
            "_model_module_version": "1.5.0",
            "_model_name": "HTMLModel",
            "_view_count": null,
            "_view_module": "@jupyter-widgets/controls",
            "_view_module_version": "1.5.0",
            "_view_name": "HTMLView",
            "description": "",
            "description_tooltip": null,
            "layout": "IPY_MODEL_366db5f01aba4d629ebfd9394e6567d5",
            "placeholder": "​",
            "style": "IPY_MODEL_662a615d57c54cfa82cd1d7c808fb58e",
            "value": " 1/1 [00:00&lt;00:00, 42.62it/s]"
          }
        },
        "7a56fb7e02fb48809c7705a64636ea34": {
          "model_module": "@jupyter-widgets/base",
          "model_name": "LayoutModel",
          "model_module_version": "1.2.0",
          "state": {
            "_model_module": "@jupyter-widgets/base",
            "_model_module_version": "1.2.0",
            "_model_name": "LayoutModel",
            "_view_count": null,
            "_view_module": "@jupyter-widgets/base",
            "_view_module_version": "1.2.0",
            "_view_name": "LayoutView",
            "align_content": null,
            "align_items": null,
            "align_self": null,
            "border": null,
            "bottom": null,
            "display": null,
            "flex": null,
            "flex_flow": null,
            "grid_area": null,
            "grid_auto_columns": null,
            "grid_auto_flow": null,
            "grid_auto_rows": null,
            "grid_column": null,
            "grid_gap": null,
            "grid_row": null,
            "grid_template_areas": null,
            "grid_template_columns": null,
            "grid_template_rows": null,
            "height": null,
            "justify_content": null,
            "justify_items": null,
            "left": null,
            "margin": null,
            "max_height": null,
            "max_width": null,
            "min_height": null,
            "min_width": null,
            "object_fit": null,
            "object_position": null,
            "order": null,
            "overflow": null,
            "overflow_x": null,
            "overflow_y": null,
            "padding": null,
            "right": null,
            "top": null,
            "visibility": null,
            "width": null
          }
        },
        "50d5d8ef64fd46ea86f77f107c67bbb8": {
          "model_module": "@jupyter-widgets/base",
          "model_name": "LayoutModel",
          "model_module_version": "1.2.0",
          "state": {
            "_model_module": "@jupyter-widgets/base",
            "_model_module_version": "1.2.0",
            "_model_name": "LayoutModel",
            "_view_count": null,
            "_view_module": "@jupyter-widgets/base",
            "_view_module_version": "1.2.0",
            "_view_name": "LayoutView",
            "align_content": null,
            "align_items": null,
            "align_self": null,
            "border": null,
            "bottom": null,
            "display": null,
            "flex": null,
            "flex_flow": null,
            "grid_area": null,
            "grid_auto_columns": null,
            "grid_auto_flow": null,
            "grid_auto_rows": null,
            "grid_column": null,
            "grid_gap": null,
            "grid_row": null,
            "grid_template_areas": null,
            "grid_template_columns": null,
            "grid_template_rows": null,
            "height": null,
            "justify_content": null,
            "justify_items": null,
            "left": null,
            "margin": null,
            "max_height": null,
            "max_width": null,
            "min_height": null,
            "min_width": null,
            "object_fit": null,
            "object_position": null,
            "order": null,
            "overflow": null,
            "overflow_x": null,
            "overflow_y": null,
            "padding": null,
            "right": null,
            "top": null,
            "visibility": null,
            "width": null
          }
        },
        "bbea36799dd74a9989bd5c03ccc6eebd": {
          "model_module": "@jupyter-widgets/controls",
          "model_name": "DescriptionStyleModel",
          "model_module_version": "1.5.0",
          "state": {
            "_model_module": "@jupyter-widgets/controls",
            "_model_module_version": "1.5.0",
            "_model_name": "DescriptionStyleModel",
            "_view_count": null,
            "_view_module": "@jupyter-widgets/base",
            "_view_module_version": "1.2.0",
            "_view_name": "StyleView",
            "description_width": ""
          }
        },
        "674c903a206347a39022b483a88eed4f": {
          "model_module": "@jupyter-widgets/base",
          "model_name": "LayoutModel",
          "model_module_version": "1.2.0",
          "state": {
            "_model_module": "@jupyter-widgets/base",
            "_model_module_version": "1.2.0",
            "_model_name": "LayoutModel",
            "_view_count": null,
            "_view_module": "@jupyter-widgets/base",
            "_view_module_version": "1.2.0",
            "_view_name": "LayoutView",
            "align_content": null,
            "align_items": null,
            "align_self": null,
            "border": null,
            "bottom": null,
            "display": null,
            "flex": null,
            "flex_flow": null,
            "grid_area": null,
            "grid_auto_columns": null,
            "grid_auto_flow": null,
            "grid_auto_rows": null,
            "grid_column": null,
            "grid_gap": null,
            "grid_row": null,
            "grid_template_areas": null,
            "grid_template_columns": null,
            "grid_template_rows": null,
            "height": null,
            "justify_content": null,
            "justify_items": null,
            "left": null,
            "margin": null,
            "max_height": null,
            "max_width": null,
            "min_height": null,
            "min_width": null,
            "object_fit": null,
            "object_position": null,
            "order": null,
            "overflow": null,
            "overflow_x": null,
            "overflow_y": null,
            "padding": null,
            "right": null,
            "top": null,
            "visibility": null,
            "width": null
          }
        },
        "9ee9d5232e4b4c7f86fd197f41e08d5c": {
          "model_module": "@jupyter-widgets/controls",
          "model_name": "ProgressStyleModel",
          "model_module_version": "1.5.0",
          "state": {
            "_model_module": "@jupyter-widgets/controls",
            "_model_module_version": "1.5.0",
            "_model_name": "ProgressStyleModel",
            "_view_count": null,
            "_view_module": "@jupyter-widgets/base",
            "_view_module_version": "1.2.0",
            "_view_name": "StyleView",
            "bar_color": null,
            "description_width": ""
          }
        },
        "366db5f01aba4d629ebfd9394e6567d5": {
          "model_module": "@jupyter-widgets/base",
          "model_name": "LayoutModel",
          "model_module_version": "1.2.0",
          "state": {
            "_model_module": "@jupyter-widgets/base",
            "_model_module_version": "1.2.0",
            "_model_name": "LayoutModel",
            "_view_count": null,
            "_view_module": "@jupyter-widgets/base",
            "_view_module_version": "1.2.0",
            "_view_name": "LayoutView",
            "align_content": null,
            "align_items": null,
            "align_self": null,
            "border": null,
            "bottom": null,
            "display": null,
            "flex": null,
            "flex_flow": null,
            "grid_area": null,
            "grid_auto_columns": null,
            "grid_auto_flow": null,
            "grid_auto_rows": null,
            "grid_column": null,
            "grid_gap": null,
            "grid_row": null,
            "grid_template_areas": null,
            "grid_template_columns": null,
            "grid_template_rows": null,
            "height": null,
            "justify_content": null,
            "justify_items": null,
            "left": null,
            "margin": null,
            "max_height": null,
            "max_width": null,
            "min_height": null,
            "min_width": null,
            "object_fit": null,
            "object_position": null,
            "order": null,
            "overflow": null,
            "overflow_x": null,
            "overflow_y": null,
            "padding": null,
            "right": null,
            "top": null,
            "visibility": null,
            "width": null
          }
        },
        "662a615d57c54cfa82cd1d7c808fb58e": {
          "model_module": "@jupyter-widgets/controls",
          "model_name": "DescriptionStyleModel",
          "model_module_version": "1.5.0",
          "state": {
            "_model_module": "@jupyter-widgets/controls",
            "_model_module_version": "1.5.0",
            "_model_name": "DescriptionStyleModel",
            "_view_count": null,
            "_view_module": "@jupyter-widgets/base",
            "_view_module_version": "1.2.0",
            "_view_name": "StyleView",
            "description_width": ""
          }
        },
        "6cd29352cecc49d88fcfef1607e791e2": {
          "model_module": "@jupyter-widgets/controls",
          "model_name": "HBoxModel",
          "model_module_version": "1.5.0",
          "state": {
            "_dom_classes": [],
            "_model_module": "@jupyter-widgets/controls",
            "_model_module_version": "1.5.0",
            "_model_name": "HBoxModel",
            "_view_count": null,
            "_view_module": "@jupyter-widgets/controls",
            "_view_module_version": "1.5.0",
            "_view_name": "HBoxView",
            "box_style": "",
            "children": [
              "IPY_MODEL_8924cbbf41364ee1b57363f74d7b45bc",
              "IPY_MODEL_ce024d3db229456892a8b12bcdaa5c51",
              "IPY_MODEL_8bdd39db060445c8ab94a55edcaf592a"
            ],
            "layout": "IPY_MODEL_4590b0e30fd44335bd6a9b1bd817ef7a"
          }
        },
        "8924cbbf41364ee1b57363f74d7b45bc": {
          "model_module": "@jupyter-widgets/controls",
          "model_name": "HTMLModel",
          "model_module_version": "1.5.0",
          "state": {
            "_dom_classes": [],
            "_model_module": "@jupyter-widgets/controls",
            "_model_module_version": "1.5.0",
            "_model_name": "HTMLModel",
            "_view_count": null,
            "_view_module": "@jupyter-widgets/controls",
            "_view_module_version": "1.5.0",
            "_view_name": "HTMLView",
            "description": "",
            "description_tooltip": null,
            "layout": "IPY_MODEL_b8207ac43f1448a8916882a828debbe6",
            "placeholder": "​",
            "style": "IPY_MODEL_004a2114194f462d9b65e76d92e0b0f3",
            "value": "Generating train split: "
          }
        },
        "ce024d3db229456892a8b12bcdaa5c51": {
          "model_module": "@jupyter-widgets/controls",
          "model_name": "FloatProgressModel",
          "model_module_version": "1.5.0",
          "state": {
            "_dom_classes": [],
            "_model_module": "@jupyter-widgets/controls",
            "_model_module_version": "1.5.0",
            "_model_name": "FloatProgressModel",
            "_view_count": null,
            "_view_module": "@jupyter-widgets/controls",
            "_view_module_version": "1.5.0",
            "_view_name": "ProgressView",
            "bar_style": "success",
            "description": "",
            "description_tooltip": null,
            "layout": "IPY_MODEL_051603c85059426db931e5912b1b3eed",
            "max": 1,
            "min": 0,
            "orientation": "horizontal",
            "style": "IPY_MODEL_44a51f0467994802a0e2a89ab2d9609f",
            "value": 1
          }
        },
        "8bdd39db060445c8ab94a55edcaf592a": {
          "model_module": "@jupyter-widgets/controls",
          "model_name": "HTMLModel",
          "model_module_version": "1.5.0",
          "state": {
            "_dom_classes": [],
            "_model_module": "@jupyter-widgets/controls",
            "_model_module_version": "1.5.0",
            "_model_name": "HTMLModel",
            "_view_count": null,
            "_view_module": "@jupyter-widgets/controls",
            "_view_module_version": "1.5.0",
            "_view_name": "HTMLView",
            "description": "",
            "description_tooltip": null,
            "layout": "IPY_MODEL_4144340f2817457484d7a655746223ea",
            "placeholder": "​",
            "style": "IPY_MODEL_18fc7777e040404095515c7908ae88a7",
            "value": " 2003/0 [00:00&lt;00:00, 11531.42 examples/s]"
          }
        },
        "4590b0e30fd44335bd6a9b1bd817ef7a": {
          "model_module": "@jupyter-widgets/base",
          "model_name": "LayoutModel",
          "model_module_version": "1.2.0",
          "state": {
            "_model_module": "@jupyter-widgets/base",
            "_model_module_version": "1.2.0",
            "_model_name": "LayoutModel",
            "_view_count": null,
            "_view_module": "@jupyter-widgets/base",
            "_view_module_version": "1.2.0",
            "_view_name": "LayoutView",
            "align_content": null,
            "align_items": null,
            "align_self": null,
            "border": null,
            "bottom": null,
            "display": null,
            "flex": null,
            "flex_flow": null,
            "grid_area": null,
            "grid_auto_columns": null,
            "grid_auto_flow": null,
            "grid_auto_rows": null,
            "grid_column": null,
            "grid_gap": null,
            "grid_row": null,
            "grid_template_areas": null,
            "grid_template_columns": null,
            "grid_template_rows": null,
            "height": null,
            "justify_content": null,
            "justify_items": null,
            "left": null,
            "margin": null,
            "max_height": null,
            "max_width": null,
            "min_height": null,
            "min_width": null,
            "object_fit": null,
            "object_position": null,
            "order": null,
            "overflow": null,
            "overflow_x": null,
            "overflow_y": null,
            "padding": null,
            "right": null,
            "top": null,
            "visibility": null,
            "width": null
          }
        },
        "b8207ac43f1448a8916882a828debbe6": {
          "model_module": "@jupyter-widgets/base",
          "model_name": "LayoutModel",
          "model_module_version": "1.2.0",
          "state": {
            "_model_module": "@jupyter-widgets/base",
            "_model_module_version": "1.2.0",
            "_model_name": "LayoutModel",
            "_view_count": null,
            "_view_module": "@jupyter-widgets/base",
            "_view_module_version": "1.2.0",
            "_view_name": "LayoutView",
            "align_content": null,
            "align_items": null,
            "align_self": null,
            "border": null,
            "bottom": null,
            "display": null,
            "flex": null,
            "flex_flow": null,
            "grid_area": null,
            "grid_auto_columns": null,
            "grid_auto_flow": null,
            "grid_auto_rows": null,
            "grid_column": null,
            "grid_gap": null,
            "grid_row": null,
            "grid_template_areas": null,
            "grid_template_columns": null,
            "grid_template_rows": null,
            "height": null,
            "justify_content": null,
            "justify_items": null,
            "left": null,
            "margin": null,
            "max_height": null,
            "max_width": null,
            "min_height": null,
            "min_width": null,
            "object_fit": null,
            "object_position": null,
            "order": null,
            "overflow": null,
            "overflow_x": null,
            "overflow_y": null,
            "padding": null,
            "right": null,
            "top": null,
            "visibility": null,
            "width": null
          }
        },
        "004a2114194f462d9b65e76d92e0b0f3": {
          "model_module": "@jupyter-widgets/controls",
          "model_name": "DescriptionStyleModel",
          "model_module_version": "1.5.0",
          "state": {
            "_model_module": "@jupyter-widgets/controls",
            "_model_module_version": "1.5.0",
            "_model_name": "DescriptionStyleModel",
            "_view_count": null,
            "_view_module": "@jupyter-widgets/base",
            "_view_module_version": "1.2.0",
            "_view_name": "StyleView",
            "description_width": ""
          }
        },
        "051603c85059426db931e5912b1b3eed": {
          "model_module": "@jupyter-widgets/base",
          "model_name": "LayoutModel",
          "model_module_version": "1.2.0",
          "state": {
            "_model_module": "@jupyter-widgets/base",
            "_model_module_version": "1.2.0",
            "_model_name": "LayoutModel",
            "_view_count": null,
            "_view_module": "@jupyter-widgets/base",
            "_view_module_version": "1.2.0",
            "_view_name": "LayoutView",
            "align_content": null,
            "align_items": null,
            "align_self": null,
            "border": null,
            "bottom": null,
            "display": null,
            "flex": null,
            "flex_flow": null,
            "grid_area": null,
            "grid_auto_columns": null,
            "grid_auto_flow": null,
            "grid_auto_rows": null,
            "grid_column": null,
            "grid_gap": null,
            "grid_row": null,
            "grid_template_areas": null,
            "grid_template_columns": null,
            "grid_template_rows": null,
            "height": null,
            "justify_content": null,
            "justify_items": null,
            "left": null,
            "margin": null,
            "max_height": null,
            "max_width": null,
            "min_height": null,
            "min_width": null,
            "object_fit": null,
            "object_position": null,
            "order": null,
            "overflow": null,
            "overflow_x": null,
            "overflow_y": null,
            "padding": null,
            "right": null,
            "top": null,
            "visibility": null,
            "width": "20px"
          }
        },
        "44a51f0467994802a0e2a89ab2d9609f": {
          "model_module": "@jupyter-widgets/controls",
          "model_name": "ProgressStyleModel",
          "model_module_version": "1.5.0",
          "state": {
            "_model_module": "@jupyter-widgets/controls",
            "_model_module_version": "1.5.0",
            "_model_name": "ProgressStyleModel",
            "_view_count": null,
            "_view_module": "@jupyter-widgets/base",
            "_view_module_version": "1.2.0",
            "_view_name": "StyleView",
            "bar_color": null,
            "description_width": ""
          }
        },
        "4144340f2817457484d7a655746223ea": {
          "model_module": "@jupyter-widgets/base",
          "model_name": "LayoutModel",
          "model_module_version": "1.2.0",
          "state": {
            "_model_module": "@jupyter-widgets/base",
            "_model_module_version": "1.2.0",
            "_model_name": "LayoutModel",
            "_view_count": null,
            "_view_module": "@jupyter-widgets/base",
            "_view_module_version": "1.2.0",
            "_view_name": "LayoutView",
            "align_content": null,
            "align_items": null,
            "align_self": null,
            "border": null,
            "bottom": null,
            "display": null,
            "flex": null,
            "flex_flow": null,
            "grid_area": null,
            "grid_auto_columns": null,
            "grid_auto_flow": null,
            "grid_auto_rows": null,
            "grid_column": null,
            "grid_gap": null,
            "grid_row": null,
            "grid_template_areas": null,
            "grid_template_columns": null,
            "grid_template_rows": null,
            "height": null,
            "justify_content": null,
            "justify_items": null,
            "left": null,
            "margin": null,
            "max_height": null,
            "max_width": null,
            "min_height": null,
            "min_width": null,
            "object_fit": null,
            "object_position": null,
            "order": null,
            "overflow": null,
            "overflow_x": null,
            "overflow_y": null,
            "padding": null,
            "right": null,
            "top": null,
            "visibility": null,
            "width": null
          }
        },
        "18fc7777e040404095515c7908ae88a7": {
          "model_module": "@jupyter-widgets/controls",
          "model_name": "DescriptionStyleModel",
          "model_module_version": "1.5.0",
          "state": {
            "_model_module": "@jupyter-widgets/controls",
            "_model_module_version": "1.5.0",
            "_model_name": "DescriptionStyleModel",
            "_view_count": null,
            "_view_module": "@jupyter-widgets/base",
            "_view_module_version": "1.2.0",
            "_view_name": "StyleView",
            "description_width": ""
          }
        },
        "6142ada01d1c42e7bfb247c0a1667dab": {
          "model_module": "@jupyter-widgets/controls",
          "model_name": "HBoxModel",
          "model_module_version": "1.5.0",
          "state": {
            "_dom_classes": [],
            "_model_module": "@jupyter-widgets/controls",
            "_model_module_version": "1.5.0",
            "_model_name": "HBoxModel",
            "_view_count": null,
            "_view_module": "@jupyter-widgets/controls",
            "_view_module_version": "1.5.0",
            "_view_name": "HBoxView",
            "box_style": "",
            "children": [
              "IPY_MODEL_f0a5d222482c4f099ccef515252a49cf",
              "IPY_MODEL_7d5a6dba3f9d4cbba7db85b9d2517542",
              "IPY_MODEL_7e801c9f1bd345afa0265398b9b001ad"
            ],
            "layout": "IPY_MODEL_bfec76fdb8b2439b98649673ef3ba7b7"
          }
        },
        "f0a5d222482c4f099ccef515252a49cf": {
          "model_module": "@jupyter-widgets/controls",
          "model_name": "HTMLModel",
          "model_module_version": "1.5.0",
          "state": {
            "_dom_classes": [],
            "_model_module": "@jupyter-widgets/controls",
            "_model_module_version": "1.5.0",
            "_model_name": "HTMLModel",
            "_view_count": null,
            "_view_module": "@jupyter-widgets/controls",
            "_view_module_version": "1.5.0",
            "_view_name": "HTMLView",
            "description": "",
            "description_tooltip": null,
            "layout": "IPY_MODEL_2b4902e9b0a745ae91d1fc9c41f3b907",
            "placeholder": "​",
            "style": "IPY_MODEL_c7e06e9305b045d0a94baadee4afe97c",
            "value": "Map: 100%"
          }
        },
        "7d5a6dba3f9d4cbba7db85b9d2517542": {
          "model_module": "@jupyter-widgets/controls",
          "model_name": "FloatProgressModel",
          "model_module_version": "1.5.0",
          "state": {
            "_dom_classes": [],
            "_model_module": "@jupyter-widgets/controls",
            "_model_module_version": "1.5.0",
            "_model_name": "FloatProgressModel",
            "_view_count": null,
            "_view_module": "@jupyter-widgets/controls",
            "_view_module_version": "1.5.0",
            "_view_name": "ProgressView",
            "bar_style": "success",
            "description": "",
            "description_tooltip": null,
            "layout": "IPY_MODEL_d29cefa4abd14bb196a9c128ee9bd555",
            "max": 2003,
            "min": 0,
            "orientation": "horizontal",
            "style": "IPY_MODEL_375fec6920b6432586c76a711b7e989a",
            "value": 2003
          }
        },
        "7e801c9f1bd345afa0265398b9b001ad": {
          "model_module": "@jupyter-widgets/controls",
          "model_name": "HTMLModel",
          "model_module_version": "1.5.0",
          "state": {
            "_dom_classes": [],
            "_model_module": "@jupyter-widgets/controls",
            "_model_module_version": "1.5.0",
            "_model_name": "HTMLModel",
            "_view_count": null,
            "_view_module": "@jupyter-widgets/controls",
            "_view_module_version": "1.5.0",
            "_view_name": "HTMLView",
            "description": "",
            "description_tooltip": null,
            "layout": "IPY_MODEL_cd8118d33b5d4bb89e94d9bd893a86c3",
            "placeholder": "​",
            "style": "IPY_MODEL_276e2f032cb848e794a5bd0f82f7a791",
            "value": " 2003/2003 [00:01&lt;00:00, 2604.21 examples/s]"
          }
        },
        "bfec76fdb8b2439b98649673ef3ba7b7": {
          "model_module": "@jupyter-widgets/base",
          "model_name": "LayoutModel",
          "model_module_version": "1.2.0",
          "state": {
            "_model_module": "@jupyter-widgets/base",
            "_model_module_version": "1.2.0",
            "_model_name": "LayoutModel",
            "_view_count": null,
            "_view_module": "@jupyter-widgets/base",
            "_view_module_version": "1.2.0",
            "_view_name": "LayoutView",
            "align_content": null,
            "align_items": null,
            "align_self": null,
            "border": null,
            "bottom": null,
            "display": null,
            "flex": null,
            "flex_flow": null,
            "grid_area": null,
            "grid_auto_columns": null,
            "grid_auto_flow": null,
            "grid_auto_rows": null,
            "grid_column": null,
            "grid_gap": null,
            "grid_row": null,
            "grid_template_areas": null,
            "grid_template_columns": null,
            "grid_template_rows": null,
            "height": null,
            "justify_content": null,
            "justify_items": null,
            "left": null,
            "margin": null,
            "max_height": null,
            "max_width": null,
            "min_height": null,
            "min_width": null,
            "object_fit": null,
            "object_position": null,
            "order": null,
            "overflow": null,
            "overflow_x": null,
            "overflow_y": null,
            "padding": null,
            "right": null,
            "top": null,
            "visibility": null,
            "width": null
          }
        },
        "2b4902e9b0a745ae91d1fc9c41f3b907": {
          "model_module": "@jupyter-widgets/base",
          "model_name": "LayoutModel",
          "model_module_version": "1.2.0",
          "state": {
            "_model_module": "@jupyter-widgets/base",
            "_model_module_version": "1.2.0",
            "_model_name": "LayoutModel",
            "_view_count": null,
            "_view_module": "@jupyter-widgets/base",
            "_view_module_version": "1.2.0",
            "_view_name": "LayoutView",
            "align_content": null,
            "align_items": null,
            "align_self": null,
            "border": null,
            "bottom": null,
            "display": null,
            "flex": null,
            "flex_flow": null,
            "grid_area": null,
            "grid_auto_columns": null,
            "grid_auto_flow": null,
            "grid_auto_rows": null,
            "grid_column": null,
            "grid_gap": null,
            "grid_row": null,
            "grid_template_areas": null,
            "grid_template_columns": null,
            "grid_template_rows": null,
            "height": null,
            "justify_content": null,
            "justify_items": null,
            "left": null,
            "margin": null,
            "max_height": null,
            "max_width": null,
            "min_height": null,
            "min_width": null,
            "object_fit": null,
            "object_position": null,
            "order": null,
            "overflow": null,
            "overflow_x": null,
            "overflow_y": null,
            "padding": null,
            "right": null,
            "top": null,
            "visibility": null,
            "width": null
          }
        },
        "c7e06e9305b045d0a94baadee4afe97c": {
          "model_module": "@jupyter-widgets/controls",
          "model_name": "DescriptionStyleModel",
          "model_module_version": "1.5.0",
          "state": {
            "_model_module": "@jupyter-widgets/controls",
            "_model_module_version": "1.5.0",
            "_model_name": "DescriptionStyleModel",
            "_view_count": null,
            "_view_module": "@jupyter-widgets/base",
            "_view_module_version": "1.2.0",
            "_view_name": "StyleView",
            "description_width": ""
          }
        },
        "d29cefa4abd14bb196a9c128ee9bd555": {
          "model_module": "@jupyter-widgets/base",
          "model_name": "LayoutModel",
          "model_module_version": "1.2.0",
          "state": {
            "_model_module": "@jupyter-widgets/base",
            "_model_module_version": "1.2.0",
            "_model_name": "LayoutModel",
            "_view_count": null,
            "_view_module": "@jupyter-widgets/base",
            "_view_module_version": "1.2.0",
            "_view_name": "LayoutView",
            "align_content": null,
            "align_items": null,
            "align_self": null,
            "border": null,
            "bottom": null,
            "display": null,
            "flex": null,
            "flex_flow": null,
            "grid_area": null,
            "grid_auto_columns": null,
            "grid_auto_flow": null,
            "grid_auto_rows": null,
            "grid_column": null,
            "grid_gap": null,
            "grid_row": null,
            "grid_template_areas": null,
            "grid_template_columns": null,
            "grid_template_rows": null,
            "height": null,
            "justify_content": null,
            "justify_items": null,
            "left": null,
            "margin": null,
            "max_height": null,
            "max_width": null,
            "min_height": null,
            "min_width": null,
            "object_fit": null,
            "object_position": null,
            "order": null,
            "overflow": null,
            "overflow_x": null,
            "overflow_y": null,
            "padding": null,
            "right": null,
            "top": null,
            "visibility": null,
            "width": null
          }
        },
        "375fec6920b6432586c76a711b7e989a": {
          "model_module": "@jupyter-widgets/controls",
          "model_name": "ProgressStyleModel",
          "model_module_version": "1.5.0",
          "state": {
            "_model_module": "@jupyter-widgets/controls",
            "_model_module_version": "1.5.0",
            "_model_name": "ProgressStyleModel",
            "_view_count": null,
            "_view_module": "@jupyter-widgets/base",
            "_view_module_version": "1.2.0",
            "_view_name": "StyleView",
            "bar_color": null,
            "description_width": ""
          }
        },
        "cd8118d33b5d4bb89e94d9bd893a86c3": {
          "model_module": "@jupyter-widgets/base",
          "model_name": "LayoutModel",
          "model_module_version": "1.2.0",
          "state": {
            "_model_module": "@jupyter-widgets/base",
            "_model_module_version": "1.2.0",
            "_model_name": "LayoutModel",
            "_view_count": null,
            "_view_module": "@jupyter-widgets/base",
            "_view_module_version": "1.2.0",
            "_view_name": "LayoutView",
            "align_content": null,
            "align_items": null,
            "align_self": null,
            "border": null,
            "bottom": null,
            "display": null,
            "flex": null,
            "flex_flow": null,
            "grid_area": null,
            "grid_auto_columns": null,
            "grid_auto_flow": null,
            "grid_auto_rows": null,
            "grid_column": null,
            "grid_gap": null,
            "grid_row": null,
            "grid_template_areas": null,
            "grid_template_columns": null,
            "grid_template_rows": null,
            "height": null,
            "justify_content": null,
            "justify_items": null,
            "left": null,
            "margin": null,
            "max_height": null,
            "max_width": null,
            "min_height": null,
            "min_width": null,
            "object_fit": null,
            "object_position": null,
            "order": null,
            "overflow": null,
            "overflow_x": null,
            "overflow_y": null,
            "padding": null,
            "right": null,
            "top": null,
            "visibility": null,
            "width": null
          }
        },
        "276e2f032cb848e794a5bd0f82f7a791": {
          "model_module": "@jupyter-widgets/controls",
          "model_name": "DescriptionStyleModel",
          "model_module_version": "1.5.0",
          "state": {
            "_model_module": "@jupyter-widgets/controls",
            "_model_module_version": "1.5.0",
            "_model_name": "DescriptionStyleModel",
            "_view_count": null,
            "_view_module": "@jupyter-widgets/base",
            "_view_module_version": "1.2.0",
            "_view_name": "StyleView",
            "description_width": ""
          }
        }
      }
    }
  },
  "nbformat": 4,
  "nbformat_minor": 0
}