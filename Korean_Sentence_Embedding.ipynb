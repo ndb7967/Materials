{
  "nbformat": 4,
  "nbformat_minor": 0,
  "metadata": {
    "colab": {
      "provenance": [],
      "gpuType": "T4"
    },
    "kernelspec": {
      "name": "python3",
      "display_name": "Python 3"
    },
    "language_info": {
      "name": "python"
    },
    "accelerator": "GPU",
    "widgets": {
      "application/vnd.jupyter.widget-state+json": {
        "1dde71bf1e724932b256b7a17ce8d78c": {
          "model_module": "@jupyter-widgets/controls",
          "model_name": "HBoxModel",
          "model_module_version": "1.5.0",
          "state": {
            "_dom_classes": [],
            "_model_module": "@jupyter-widgets/controls",
            "_model_module_version": "1.5.0",
            "_model_name": "HBoxModel",
            "_view_count": null,
            "_view_module": "@jupyter-widgets/controls",
            "_view_module_version": "1.5.0",
            "_view_name": "HBoxView",
            "box_style": "",
            "children": [
              "IPY_MODEL_27daa9c8014a4173b089b207cc144620",
              "IPY_MODEL_706a46dac8f54014866bb8ff9d8d13e6",
              "IPY_MODEL_ce40d812da964bceac00c8fb416fcdaa"
            ],
            "layout": "IPY_MODEL_8aae930b132f41e38b830f636e51d2e7"
          }
        },
        "27daa9c8014a4173b089b207cc144620": {
          "model_module": "@jupyter-widgets/controls",
          "model_name": "HTMLModel",
          "model_module_version": "1.5.0",
          "state": {
            "_dom_classes": [],
            "_model_module": "@jupyter-widgets/controls",
            "_model_module_version": "1.5.0",
            "_model_name": "HTMLModel",
            "_view_count": null,
            "_view_module": "@jupyter-widgets/controls",
            "_view_module_version": "1.5.0",
            "_view_name": "HTMLView",
            "description": "",
            "description_tooltip": null,
            "layout": "IPY_MODEL_af4e525db56c47abb835e87705093fea",
            "placeholder": "​",
            "style": "IPY_MODEL_64525604bff3480d8cf5193de3c92f1b",
            "value": "Downloading (…)solve/main/vocab.txt: 100%"
          }
        },
        "706a46dac8f54014866bb8ff9d8d13e6": {
          "model_module": "@jupyter-widgets/controls",
          "model_name": "FloatProgressModel",
          "model_module_version": "1.5.0",
          "state": {
            "_dom_classes": [],
            "_model_module": "@jupyter-widgets/controls",
            "_model_module_version": "1.5.0",
            "_model_name": "FloatProgressModel",
            "_view_count": null,
            "_view_module": "@jupyter-widgets/controls",
            "_view_module_version": "1.5.0",
            "_view_name": "ProgressView",
            "bar_style": "success",
            "description": "",
            "description_tooltip": null,
            "layout": "IPY_MODEL_ff38cedb7e784a2bbe199426f8f27310",
            "max": 995526,
            "min": 0,
            "orientation": "horizontal",
            "style": "IPY_MODEL_08fb9ec957f04319895480b9972ba1f5",
            "value": 995526
          }
        },
        "ce40d812da964bceac00c8fb416fcdaa": {
          "model_module": "@jupyter-widgets/controls",
          "model_name": "HTMLModel",
          "model_module_version": "1.5.0",
          "state": {
            "_dom_classes": [],
            "_model_module": "@jupyter-widgets/controls",
            "_model_module_version": "1.5.0",
            "_model_name": "HTMLModel",
            "_view_count": null,
            "_view_module": "@jupyter-widgets/controls",
            "_view_module_version": "1.5.0",
            "_view_name": "HTMLView",
            "description": "",
            "description_tooltip": null,
            "layout": "IPY_MODEL_412b9be910dc4175b4780725c3d5b60a",
            "placeholder": "​",
            "style": "IPY_MODEL_0cb6e1e8b6504241bd845477736a81eb",
            "value": " 996k/996k [00:00&lt;00:00, 3.07MB/s]"
          }
        },
        "8aae930b132f41e38b830f636e51d2e7": {
          "model_module": "@jupyter-widgets/base",
          "model_name": "LayoutModel",
          "model_module_version": "1.2.0",
          "state": {
            "_model_module": "@jupyter-widgets/base",
            "_model_module_version": "1.2.0",
            "_model_name": "LayoutModel",
            "_view_count": null,
            "_view_module": "@jupyter-widgets/base",
            "_view_module_version": "1.2.0",
            "_view_name": "LayoutView",
            "align_content": null,
            "align_items": null,
            "align_self": null,
            "border": null,
            "bottom": null,
            "display": null,
            "flex": null,
            "flex_flow": null,
            "grid_area": null,
            "grid_auto_columns": null,
            "grid_auto_flow": null,
            "grid_auto_rows": null,
            "grid_column": null,
            "grid_gap": null,
            "grid_row": null,
            "grid_template_areas": null,
            "grid_template_columns": null,
            "grid_template_rows": null,
            "height": null,
            "justify_content": null,
            "justify_items": null,
            "left": null,
            "margin": null,
            "max_height": null,
            "max_width": null,
            "min_height": null,
            "min_width": null,
            "object_fit": null,
            "object_position": null,
            "order": null,
            "overflow": null,
            "overflow_x": null,
            "overflow_y": null,
            "padding": null,
            "right": null,
            "top": null,
            "visibility": null,
            "width": null
          }
        },
        "af4e525db56c47abb835e87705093fea": {
          "model_module": "@jupyter-widgets/base",
          "model_name": "LayoutModel",
          "model_module_version": "1.2.0",
          "state": {
            "_model_module": "@jupyter-widgets/base",
            "_model_module_version": "1.2.0",
            "_model_name": "LayoutModel",
            "_view_count": null,
            "_view_module": "@jupyter-widgets/base",
            "_view_module_version": "1.2.0",
            "_view_name": "LayoutView",
            "align_content": null,
            "align_items": null,
            "align_self": null,
            "border": null,
            "bottom": null,
            "display": null,
            "flex": null,
            "flex_flow": null,
            "grid_area": null,
            "grid_auto_columns": null,
            "grid_auto_flow": null,
            "grid_auto_rows": null,
            "grid_column": null,
            "grid_gap": null,
            "grid_row": null,
            "grid_template_areas": null,
            "grid_template_columns": null,
            "grid_template_rows": null,
            "height": null,
            "justify_content": null,
            "justify_items": null,
            "left": null,
            "margin": null,
            "max_height": null,
            "max_width": null,
            "min_height": null,
            "min_width": null,
            "object_fit": null,
            "object_position": null,
            "order": null,
            "overflow": null,
            "overflow_x": null,
            "overflow_y": null,
            "padding": null,
            "right": null,
            "top": null,
            "visibility": null,
            "width": null
          }
        },
        "64525604bff3480d8cf5193de3c92f1b": {
          "model_module": "@jupyter-widgets/controls",
          "model_name": "DescriptionStyleModel",
          "model_module_version": "1.5.0",
          "state": {
            "_model_module": "@jupyter-widgets/controls",
            "_model_module_version": "1.5.0",
            "_model_name": "DescriptionStyleModel",
            "_view_count": null,
            "_view_module": "@jupyter-widgets/base",
            "_view_module_version": "1.2.0",
            "_view_name": "StyleView",
            "description_width": ""
          }
        },
        "ff38cedb7e784a2bbe199426f8f27310": {
          "model_module": "@jupyter-widgets/base",
          "model_name": "LayoutModel",
          "model_module_version": "1.2.0",
          "state": {
            "_model_module": "@jupyter-widgets/base",
            "_model_module_version": "1.2.0",
            "_model_name": "LayoutModel",
            "_view_count": null,
            "_view_module": "@jupyter-widgets/base",
            "_view_module_version": "1.2.0",
            "_view_name": "LayoutView",
            "align_content": null,
            "align_items": null,
            "align_self": null,
            "border": null,
            "bottom": null,
            "display": null,
            "flex": null,
            "flex_flow": null,
            "grid_area": null,
            "grid_auto_columns": null,
            "grid_auto_flow": null,
            "grid_auto_rows": null,
            "grid_column": null,
            "grid_gap": null,
            "grid_row": null,
            "grid_template_areas": null,
            "grid_template_columns": null,
            "grid_template_rows": null,
            "height": null,
            "justify_content": null,
            "justify_items": null,
            "left": null,
            "margin": null,
            "max_height": null,
            "max_width": null,
            "min_height": null,
            "min_width": null,
            "object_fit": null,
            "object_position": null,
            "order": null,
            "overflow": null,
            "overflow_x": null,
            "overflow_y": null,
            "padding": null,
            "right": null,
            "top": null,
            "visibility": null,
            "width": null
          }
        },
        "08fb9ec957f04319895480b9972ba1f5": {
          "model_module": "@jupyter-widgets/controls",
          "model_name": "ProgressStyleModel",
          "model_module_version": "1.5.0",
          "state": {
            "_model_module": "@jupyter-widgets/controls",
            "_model_module_version": "1.5.0",
            "_model_name": "ProgressStyleModel",
            "_view_count": null,
            "_view_module": "@jupyter-widgets/base",
            "_view_module_version": "1.2.0",
            "_view_name": "StyleView",
            "bar_color": null,
            "description_width": ""
          }
        },
        "412b9be910dc4175b4780725c3d5b60a": {
          "model_module": "@jupyter-widgets/base",
          "model_name": "LayoutModel",
          "model_module_version": "1.2.0",
          "state": {
            "_model_module": "@jupyter-widgets/base",
            "_model_module_version": "1.2.0",
            "_model_name": "LayoutModel",
            "_view_count": null,
            "_view_module": "@jupyter-widgets/base",
            "_view_module_version": "1.2.0",
            "_view_name": "LayoutView",
            "align_content": null,
            "align_items": null,
            "align_self": null,
            "border": null,
            "bottom": null,
            "display": null,
            "flex": null,
            "flex_flow": null,
            "grid_area": null,
            "grid_auto_columns": null,
            "grid_auto_flow": null,
            "grid_auto_rows": null,
            "grid_column": null,
            "grid_gap": null,
            "grid_row": null,
            "grid_template_areas": null,
            "grid_template_columns": null,
            "grid_template_rows": null,
            "height": null,
            "justify_content": null,
            "justify_items": null,
            "left": null,
            "margin": null,
            "max_height": null,
            "max_width": null,
            "min_height": null,
            "min_width": null,
            "object_fit": null,
            "object_position": null,
            "order": null,
            "overflow": null,
            "overflow_x": null,
            "overflow_y": null,
            "padding": null,
            "right": null,
            "top": null,
            "visibility": null,
            "width": null
          }
        },
        "0cb6e1e8b6504241bd845477736a81eb": {
          "model_module": "@jupyter-widgets/controls",
          "model_name": "DescriptionStyleModel",
          "model_module_version": "1.5.0",
          "state": {
            "_model_module": "@jupyter-widgets/controls",
            "_model_module_version": "1.5.0",
            "_model_name": "DescriptionStyleModel",
            "_view_count": null,
            "_view_module": "@jupyter-widgets/base",
            "_view_module_version": "1.2.0",
            "_view_name": "StyleView",
            "description_width": ""
          }
        },
        "7b25a531d1d04d4db0a86619231d2f43": {
          "model_module": "@jupyter-widgets/controls",
          "model_name": "HBoxModel",
          "model_module_version": "1.5.0",
          "state": {
            "_dom_classes": [],
            "_model_module": "@jupyter-widgets/controls",
            "_model_module_version": "1.5.0",
            "_model_name": "HBoxModel",
            "_view_count": null,
            "_view_module": "@jupyter-widgets/controls",
            "_view_module_version": "1.5.0",
            "_view_name": "HBoxView",
            "box_style": "",
            "children": [
              "IPY_MODEL_d9b2f082c70f44eaa4dd5a5a85179998",
              "IPY_MODEL_afc156e0be254578864db015d6d2a584",
              "IPY_MODEL_57da14e4f4c145489295c4d4e45cc451"
            ],
            "layout": "IPY_MODEL_35e26eb6974e4867aff9cc5b11b7002d"
          }
        },
        "d9b2f082c70f44eaa4dd5a5a85179998": {
          "model_module": "@jupyter-widgets/controls",
          "model_name": "HTMLModel",
          "model_module_version": "1.5.0",
          "state": {
            "_dom_classes": [],
            "_model_module": "@jupyter-widgets/controls",
            "_model_module_version": "1.5.0",
            "_model_name": "HTMLModel",
            "_view_count": null,
            "_view_module": "@jupyter-widgets/controls",
            "_view_module_version": "1.5.0",
            "_view_name": "HTMLView",
            "description": "",
            "description_tooltip": null,
            "layout": "IPY_MODEL_6f3a40f7018144b3b2aaace763d5d30c",
            "placeholder": "​",
            "style": "IPY_MODEL_4476ace7d47c403384d27b83be348738",
            "value": "Downloading (…)okenizer_config.json: 100%"
          }
        },
        "afc156e0be254578864db015d6d2a584": {
          "model_module": "@jupyter-widgets/controls",
          "model_name": "FloatProgressModel",
          "model_module_version": "1.5.0",
          "state": {
            "_dom_classes": [],
            "_model_module": "@jupyter-widgets/controls",
            "_model_module_version": "1.5.0",
            "_model_name": "FloatProgressModel",
            "_view_count": null,
            "_view_module": "@jupyter-widgets/controls",
            "_view_module_version": "1.5.0",
            "_view_name": "ProgressView",
            "bar_style": "success",
            "description": "",
            "description_tooltip": null,
            "layout": "IPY_MODEL_a2a467fa5f034c7e9f6052b60288ce92",
            "max": 29,
            "min": 0,
            "orientation": "horizontal",
            "style": "IPY_MODEL_3a002dfc9d8c46cf847902eadf7156fc",
            "value": 29
          }
        },
        "57da14e4f4c145489295c4d4e45cc451": {
          "model_module": "@jupyter-widgets/controls",
          "model_name": "HTMLModel",
          "model_module_version": "1.5.0",
          "state": {
            "_dom_classes": [],
            "_model_module": "@jupyter-widgets/controls",
            "_model_module_version": "1.5.0",
            "_model_name": "HTMLModel",
            "_view_count": null,
            "_view_module": "@jupyter-widgets/controls",
            "_view_module_version": "1.5.0",
            "_view_name": "HTMLView",
            "description": "",
            "description_tooltip": null,
            "layout": "IPY_MODEL_f910cdb875a54633ad9c3cd58f99c5fb",
            "placeholder": "​",
            "style": "IPY_MODEL_b0ac02e60c284fac9e51ea8d75f40929",
            "value": " 29.0/29.0 [00:00&lt;00:00, 606B/s]"
          }
        },
        "35e26eb6974e4867aff9cc5b11b7002d": {
          "model_module": "@jupyter-widgets/base",
          "model_name": "LayoutModel",
          "model_module_version": "1.2.0",
          "state": {
            "_model_module": "@jupyter-widgets/base",
            "_model_module_version": "1.2.0",
            "_model_name": "LayoutModel",
            "_view_count": null,
            "_view_module": "@jupyter-widgets/base",
            "_view_module_version": "1.2.0",
            "_view_name": "LayoutView",
            "align_content": null,
            "align_items": null,
            "align_self": null,
            "border": null,
            "bottom": null,
            "display": null,
            "flex": null,
            "flex_flow": null,
            "grid_area": null,
            "grid_auto_columns": null,
            "grid_auto_flow": null,
            "grid_auto_rows": null,
            "grid_column": null,
            "grid_gap": null,
            "grid_row": null,
            "grid_template_areas": null,
            "grid_template_columns": null,
            "grid_template_rows": null,
            "height": null,
            "justify_content": null,
            "justify_items": null,
            "left": null,
            "margin": null,
            "max_height": null,
            "max_width": null,
            "min_height": null,
            "min_width": null,
            "object_fit": null,
            "object_position": null,
            "order": null,
            "overflow": null,
            "overflow_x": null,
            "overflow_y": null,
            "padding": null,
            "right": null,
            "top": null,
            "visibility": null,
            "width": null
          }
        },
        "6f3a40f7018144b3b2aaace763d5d30c": {
          "model_module": "@jupyter-widgets/base",
          "model_name": "LayoutModel",
          "model_module_version": "1.2.0",
          "state": {
            "_model_module": "@jupyter-widgets/base",
            "_model_module_version": "1.2.0",
            "_model_name": "LayoutModel",
            "_view_count": null,
            "_view_module": "@jupyter-widgets/base",
            "_view_module_version": "1.2.0",
            "_view_name": "LayoutView",
            "align_content": null,
            "align_items": null,
            "align_self": null,
            "border": null,
            "bottom": null,
            "display": null,
            "flex": null,
            "flex_flow": null,
            "grid_area": null,
            "grid_auto_columns": null,
            "grid_auto_flow": null,
            "grid_auto_rows": null,
            "grid_column": null,
            "grid_gap": null,
            "grid_row": null,
            "grid_template_areas": null,
            "grid_template_columns": null,
            "grid_template_rows": null,
            "height": null,
            "justify_content": null,
            "justify_items": null,
            "left": null,
            "margin": null,
            "max_height": null,
            "max_width": null,
            "min_height": null,
            "min_width": null,
            "object_fit": null,
            "object_position": null,
            "order": null,
            "overflow": null,
            "overflow_x": null,
            "overflow_y": null,
            "padding": null,
            "right": null,
            "top": null,
            "visibility": null,
            "width": null
          }
        },
        "4476ace7d47c403384d27b83be348738": {
          "model_module": "@jupyter-widgets/controls",
          "model_name": "DescriptionStyleModel",
          "model_module_version": "1.5.0",
          "state": {
            "_model_module": "@jupyter-widgets/controls",
            "_model_module_version": "1.5.0",
            "_model_name": "DescriptionStyleModel",
            "_view_count": null,
            "_view_module": "@jupyter-widgets/base",
            "_view_module_version": "1.2.0",
            "_view_name": "StyleView",
            "description_width": ""
          }
        },
        "a2a467fa5f034c7e9f6052b60288ce92": {
          "model_module": "@jupyter-widgets/base",
          "model_name": "LayoutModel",
          "model_module_version": "1.2.0",
          "state": {
            "_model_module": "@jupyter-widgets/base",
            "_model_module_version": "1.2.0",
            "_model_name": "LayoutModel",
            "_view_count": null,
            "_view_module": "@jupyter-widgets/base",
            "_view_module_version": "1.2.0",
            "_view_name": "LayoutView",
            "align_content": null,
            "align_items": null,
            "align_self": null,
            "border": null,
            "bottom": null,
            "display": null,
            "flex": null,
            "flex_flow": null,
            "grid_area": null,
            "grid_auto_columns": null,
            "grid_auto_flow": null,
            "grid_auto_rows": null,
            "grid_column": null,
            "grid_gap": null,
            "grid_row": null,
            "grid_template_areas": null,
            "grid_template_columns": null,
            "grid_template_rows": null,
            "height": null,
            "justify_content": null,
            "justify_items": null,
            "left": null,
            "margin": null,
            "max_height": null,
            "max_width": null,
            "min_height": null,
            "min_width": null,
            "object_fit": null,
            "object_position": null,
            "order": null,
            "overflow": null,
            "overflow_x": null,
            "overflow_y": null,
            "padding": null,
            "right": null,
            "top": null,
            "visibility": null,
            "width": null
          }
        },
        "3a002dfc9d8c46cf847902eadf7156fc": {
          "model_module": "@jupyter-widgets/controls",
          "model_name": "ProgressStyleModel",
          "model_module_version": "1.5.0",
          "state": {
            "_model_module": "@jupyter-widgets/controls",
            "_model_module_version": "1.5.0",
            "_model_name": "ProgressStyleModel",
            "_view_count": null,
            "_view_module": "@jupyter-widgets/base",
            "_view_module_version": "1.2.0",
            "_view_name": "StyleView",
            "bar_color": null,
            "description_width": ""
          }
        },
        "f910cdb875a54633ad9c3cd58f99c5fb": {
          "model_module": "@jupyter-widgets/base",
          "model_name": "LayoutModel",
          "model_module_version": "1.2.0",
          "state": {
            "_model_module": "@jupyter-widgets/base",
            "_model_module_version": "1.2.0",
            "_model_name": "LayoutModel",
            "_view_count": null,
            "_view_module": "@jupyter-widgets/base",
            "_view_module_version": "1.2.0",
            "_view_name": "LayoutView",
            "align_content": null,
            "align_items": null,
            "align_self": null,
            "border": null,
            "bottom": null,
            "display": null,
            "flex": null,
            "flex_flow": null,
            "grid_area": null,
            "grid_auto_columns": null,
            "grid_auto_flow": null,
            "grid_auto_rows": null,
            "grid_column": null,
            "grid_gap": null,
            "grid_row": null,
            "grid_template_areas": null,
            "grid_template_columns": null,
            "grid_template_rows": null,
            "height": null,
            "justify_content": null,
            "justify_items": null,
            "left": null,
            "margin": null,
            "max_height": null,
            "max_width": null,
            "min_height": null,
            "min_width": null,
            "object_fit": null,
            "object_position": null,
            "order": null,
            "overflow": null,
            "overflow_x": null,
            "overflow_y": null,
            "padding": null,
            "right": null,
            "top": null,
            "visibility": null,
            "width": null
          }
        },
        "b0ac02e60c284fac9e51ea8d75f40929": {
          "model_module": "@jupyter-widgets/controls",
          "model_name": "DescriptionStyleModel",
          "model_module_version": "1.5.0",
          "state": {
            "_model_module": "@jupyter-widgets/controls",
            "_model_module_version": "1.5.0",
            "_model_name": "DescriptionStyleModel",
            "_view_count": null,
            "_view_module": "@jupyter-widgets/base",
            "_view_module_version": "1.2.0",
            "_view_name": "StyleView",
            "description_width": ""
          }
        },
        "091c5373cbb44c218a179e824c7f5169": {
          "model_module": "@jupyter-widgets/controls",
          "model_name": "HBoxModel",
          "model_module_version": "1.5.0",
          "state": {
            "_dom_classes": [],
            "_model_module": "@jupyter-widgets/controls",
            "_model_module_version": "1.5.0",
            "_model_name": "HBoxModel",
            "_view_count": null,
            "_view_module": "@jupyter-widgets/controls",
            "_view_module_version": "1.5.0",
            "_view_name": "HBoxView",
            "box_style": "",
            "children": [
              "IPY_MODEL_16e37d1398334d2595877abe760ba4cb",
              "IPY_MODEL_e1a8ffa6c6db4dd691e6cdd0d7a52733",
              "IPY_MODEL_90a6ee90d6c2495994b2468f19868be9"
            ],
            "layout": "IPY_MODEL_9d5b5720ddfa4459a30e777c23db3b5e"
          }
        },
        "16e37d1398334d2595877abe760ba4cb": {
          "model_module": "@jupyter-widgets/controls",
          "model_name": "HTMLModel",
          "model_module_version": "1.5.0",
          "state": {
            "_dom_classes": [],
            "_model_module": "@jupyter-widgets/controls",
            "_model_module_version": "1.5.0",
            "_model_name": "HTMLModel",
            "_view_count": null,
            "_view_module": "@jupyter-widgets/controls",
            "_view_module_version": "1.5.0",
            "_view_name": "HTMLView",
            "description": "",
            "description_tooltip": null,
            "layout": "IPY_MODEL_01398f5c0cac47feb335908d844187aa",
            "placeholder": "​",
            "style": "IPY_MODEL_44ad2bda8cef44ed9bd39802fadc503b",
            "value": "Downloading (…)lve/main/config.json: 100%"
          }
        },
        "e1a8ffa6c6db4dd691e6cdd0d7a52733": {
          "model_module": "@jupyter-widgets/controls",
          "model_name": "FloatProgressModel",
          "model_module_version": "1.5.0",
          "state": {
            "_dom_classes": [],
            "_model_module": "@jupyter-widgets/controls",
            "_model_module_version": "1.5.0",
            "_model_name": "FloatProgressModel",
            "_view_count": null,
            "_view_module": "@jupyter-widgets/controls",
            "_view_module_version": "1.5.0",
            "_view_name": "ProgressView",
            "bar_style": "success",
            "description": "",
            "description_tooltip": null,
            "layout": "IPY_MODEL_a400600fa1c34f18b4d1a164ef45b896",
            "max": 625,
            "min": 0,
            "orientation": "horizontal",
            "style": "IPY_MODEL_6081ef3981ef4bc38b22c126e6b0fc0c",
            "value": 625
          }
        },
        "90a6ee90d6c2495994b2468f19868be9": {
          "model_module": "@jupyter-widgets/controls",
          "model_name": "HTMLModel",
          "model_module_version": "1.5.0",
          "state": {
            "_dom_classes": [],
            "_model_module": "@jupyter-widgets/controls",
            "_model_module_version": "1.5.0",
            "_model_name": "HTMLModel",
            "_view_count": null,
            "_view_module": "@jupyter-widgets/controls",
            "_view_module_version": "1.5.0",
            "_view_name": "HTMLView",
            "description": "",
            "description_tooltip": null,
            "layout": "IPY_MODEL_32adb5219ae441828c6032caea3bfdbf",
            "placeholder": "​",
            "style": "IPY_MODEL_e3b6a2c92058408885e5b5337d50c5b0",
            "value": " 625/625 [00:00&lt;00:00, 13.3kB/s]"
          }
        },
        "9d5b5720ddfa4459a30e777c23db3b5e": {
          "model_module": "@jupyter-widgets/base",
          "model_name": "LayoutModel",
          "model_module_version": "1.2.0",
          "state": {
            "_model_module": "@jupyter-widgets/base",
            "_model_module_version": "1.2.0",
            "_model_name": "LayoutModel",
            "_view_count": null,
            "_view_module": "@jupyter-widgets/base",
            "_view_module_version": "1.2.0",
            "_view_name": "LayoutView",
            "align_content": null,
            "align_items": null,
            "align_self": null,
            "border": null,
            "bottom": null,
            "display": null,
            "flex": null,
            "flex_flow": null,
            "grid_area": null,
            "grid_auto_columns": null,
            "grid_auto_flow": null,
            "grid_auto_rows": null,
            "grid_column": null,
            "grid_gap": null,
            "grid_row": null,
            "grid_template_areas": null,
            "grid_template_columns": null,
            "grid_template_rows": null,
            "height": null,
            "justify_content": null,
            "justify_items": null,
            "left": null,
            "margin": null,
            "max_height": null,
            "max_width": null,
            "min_height": null,
            "min_width": null,
            "object_fit": null,
            "object_position": null,
            "order": null,
            "overflow": null,
            "overflow_x": null,
            "overflow_y": null,
            "padding": null,
            "right": null,
            "top": null,
            "visibility": null,
            "width": null
          }
        },
        "01398f5c0cac47feb335908d844187aa": {
          "model_module": "@jupyter-widgets/base",
          "model_name": "LayoutModel",
          "model_module_version": "1.2.0",
          "state": {
            "_model_module": "@jupyter-widgets/base",
            "_model_module_version": "1.2.0",
            "_model_name": "LayoutModel",
            "_view_count": null,
            "_view_module": "@jupyter-widgets/base",
            "_view_module_version": "1.2.0",
            "_view_name": "LayoutView",
            "align_content": null,
            "align_items": null,
            "align_self": null,
            "border": null,
            "bottom": null,
            "display": null,
            "flex": null,
            "flex_flow": null,
            "grid_area": null,
            "grid_auto_columns": null,
            "grid_auto_flow": null,
            "grid_auto_rows": null,
            "grid_column": null,
            "grid_gap": null,
            "grid_row": null,
            "grid_template_areas": null,
            "grid_template_columns": null,
            "grid_template_rows": null,
            "height": null,
            "justify_content": null,
            "justify_items": null,
            "left": null,
            "margin": null,
            "max_height": null,
            "max_width": null,
            "min_height": null,
            "min_width": null,
            "object_fit": null,
            "object_position": null,
            "order": null,
            "overflow": null,
            "overflow_x": null,
            "overflow_y": null,
            "padding": null,
            "right": null,
            "top": null,
            "visibility": null,
            "width": null
          }
        },
        "44ad2bda8cef44ed9bd39802fadc503b": {
          "model_module": "@jupyter-widgets/controls",
          "model_name": "DescriptionStyleModel",
          "model_module_version": "1.5.0",
          "state": {
            "_model_module": "@jupyter-widgets/controls",
            "_model_module_version": "1.5.0",
            "_model_name": "DescriptionStyleModel",
            "_view_count": null,
            "_view_module": "@jupyter-widgets/base",
            "_view_module_version": "1.2.0",
            "_view_name": "StyleView",
            "description_width": ""
          }
        },
        "a400600fa1c34f18b4d1a164ef45b896": {
          "model_module": "@jupyter-widgets/base",
          "model_name": "LayoutModel",
          "model_module_version": "1.2.0",
          "state": {
            "_model_module": "@jupyter-widgets/base",
            "_model_module_version": "1.2.0",
            "_model_name": "LayoutModel",
            "_view_count": null,
            "_view_module": "@jupyter-widgets/base",
            "_view_module_version": "1.2.0",
            "_view_name": "LayoutView",
            "align_content": null,
            "align_items": null,
            "align_self": null,
            "border": null,
            "bottom": null,
            "display": null,
            "flex": null,
            "flex_flow": null,
            "grid_area": null,
            "grid_auto_columns": null,
            "grid_auto_flow": null,
            "grid_auto_rows": null,
            "grid_column": null,
            "grid_gap": null,
            "grid_row": null,
            "grid_template_areas": null,
            "grid_template_columns": null,
            "grid_template_rows": null,
            "height": null,
            "justify_content": null,
            "justify_items": null,
            "left": null,
            "margin": null,
            "max_height": null,
            "max_width": null,
            "min_height": null,
            "min_width": null,
            "object_fit": null,
            "object_position": null,
            "order": null,
            "overflow": null,
            "overflow_x": null,
            "overflow_y": null,
            "padding": null,
            "right": null,
            "top": null,
            "visibility": null,
            "width": null
          }
        },
        "6081ef3981ef4bc38b22c126e6b0fc0c": {
          "model_module": "@jupyter-widgets/controls",
          "model_name": "ProgressStyleModel",
          "model_module_version": "1.5.0",
          "state": {
            "_model_module": "@jupyter-widgets/controls",
            "_model_module_version": "1.5.0",
            "_model_name": "ProgressStyleModel",
            "_view_count": null,
            "_view_module": "@jupyter-widgets/base",
            "_view_module_version": "1.2.0",
            "_view_name": "StyleView",
            "bar_color": null,
            "description_width": ""
          }
        },
        "32adb5219ae441828c6032caea3bfdbf": {
          "model_module": "@jupyter-widgets/base",
          "model_name": "LayoutModel",
          "model_module_version": "1.2.0",
          "state": {
            "_model_module": "@jupyter-widgets/base",
            "_model_module_version": "1.2.0",
            "_model_name": "LayoutModel",
            "_view_count": null,
            "_view_module": "@jupyter-widgets/base",
            "_view_module_version": "1.2.0",
            "_view_name": "LayoutView",
            "align_content": null,
            "align_items": null,
            "align_self": null,
            "border": null,
            "bottom": null,
            "display": null,
            "flex": null,
            "flex_flow": null,
            "grid_area": null,
            "grid_auto_columns": null,
            "grid_auto_flow": null,
            "grid_auto_rows": null,
            "grid_column": null,
            "grid_gap": null,
            "grid_row": null,
            "grid_template_areas": null,
            "grid_template_columns": null,
            "grid_template_rows": null,
            "height": null,
            "justify_content": null,
            "justify_items": null,
            "left": null,
            "margin": null,
            "max_height": null,
            "max_width": null,
            "min_height": null,
            "min_width": null,
            "object_fit": null,
            "object_position": null,
            "order": null,
            "overflow": null,
            "overflow_x": null,
            "overflow_y": null,
            "padding": null,
            "right": null,
            "top": null,
            "visibility": null,
            "width": null
          }
        },
        "e3b6a2c92058408885e5b5337d50c5b0": {
          "model_module": "@jupyter-widgets/controls",
          "model_name": "DescriptionStyleModel",
          "model_module_version": "1.5.0",
          "state": {
            "_model_module": "@jupyter-widgets/controls",
            "_model_module_version": "1.5.0",
            "_model_name": "DescriptionStyleModel",
            "_view_count": null,
            "_view_module": "@jupyter-widgets/base",
            "_view_module_version": "1.2.0",
            "_view_name": "StyleView",
            "description_width": ""
          }
        }
      }
    }
  },
  "cells": [
    {
      "cell_type": "markdown",
      "source": [
        "#### <b>사전 학습된 BERT를 이용한 한국어 문장 임베딩</b>\n",
        "\n",
        "* 사전 학습된 BERT를 이용해 한국어 문장 혹은 단어를 임베딩할 수 있다.\n",
        "* <b>참조</b>: https://mccormickml.com/2019/05/14/BERT-word-embeddings-tutorial/"
      ],
      "metadata": {
        "id": "i3W5h-ho5RHh"
      }
    },
    {
      "cell_type": "markdown",
      "source": [
        "#### <b>BERT란?</b>\n",
        "\n",
        "* 2018년부터 대규모(large-scale) 모델에 대한 수요가 많아졌다.\n",
        "* 특히 2018년에는 Google의 <b>BERT</b>가 출시되었다.\n",
        "  * BERT는 다양한 작업(task)에 fine-tuning을 하기에 적합한 pre-trained 모델을 제공한다.\n",
        "  * 텍스트 분류, 질의 응답 등에서 뛰어난 정확도를 보인다."
      ],
      "metadata": {
        "id": "hQxHw6n5h9vO"
      }
    },
    {
      "cell_type": "markdown",
      "source": [
        "#### <b>BERT 임베딩(Embedding)이란?</b>\n",
        "\n",
        "* BERT는 <b>(1) 문장(sentence)</b> 혹은 <b>(2) 단어(word)</b> 두 가지 모두에 대하여 <b>임베딩(embeddig)을 추출</b>할 수 있다.\n",
        "* BERT는 문장 단위로 학습된 데이터라서, 문맥을 고려한 임베딩을 진행할 수 있다.\n",
        "  * <b>Word2Vec</b>는 학습 이후에 추론할 때, 각 단어는 고정된(fixed) 임베딩 값을 가진다.\n",
        "  * <b>BERT</b>는 학습 이후에 추론할 때, 각 단어의 임베딩은 주변 단어에 의하여 동적으로 변화한다.\n",
        "* 예를 들어, 다음의 두 문장에서 \"배\"는 다른 의미로 임베딩된다.\n",
        "  * 나는 학업으로 밤을 지새웠다.\n",
        "  * 그는 마을 입구에 있는 밤나무 앞에 서 있었다.\n"
      ],
      "metadata": {
        "id": "bNLJmxw1i0vO"
      }
    },
    {
      "cell_type": "markdown",
      "source": [
        "#### <b>필요한 라이브러리 설치하기</b>\n",
        "\n",
        "* 허깅 페이스(Hugging Face) 라이브러리를 사용하면 다양한 사전 학습된 Transformer 모델을 불러올 수 있다."
      ],
      "metadata": {
        "id": "UY1MjmKjkDad"
      }
    },
    {
      "cell_type": "code",
      "source": [
        "!pip install transformers"
      ],
      "metadata": {
        "colab": {
          "base_uri": "https://localhost:8080/"
        },
        "id": "YBbQLeVBkVXe",
        "outputId": "c5a682bd-d121-400a-d6ad-d69d4fa0995e"
      },
      "execution_count": 1,
      "outputs": [
        {
          "output_type": "stream",
          "name": "stdout",
          "text": [
            "Collecting transformers\n",
            "  Downloading transformers-4.31.0-py3-none-any.whl (7.4 MB)\n",
            "\u001b[2K     \u001b[90m━━━━━━━━━━━━━━━━━━━━━━━━━━━━━━━━━━━━━━━━\u001b[0m \u001b[32m7.4/7.4 MB\u001b[0m \u001b[31m27.8 MB/s\u001b[0m eta \u001b[36m0:00:00\u001b[0m\n",
            "\u001b[?25hRequirement already satisfied: filelock in /usr/local/lib/python3.10/dist-packages (from transformers) (3.12.2)\n",
            "Collecting huggingface-hub<1.0,>=0.14.1 (from transformers)\n",
            "  Downloading huggingface_hub-0.16.4-py3-none-any.whl (268 kB)\n",
            "\u001b[2K     \u001b[90m━━━━━━━━━━━━━━━━━━━━━━━━━━━━━━━━━━━━━━\u001b[0m \u001b[32m268.8/268.8 kB\u001b[0m \u001b[31m34.6 MB/s\u001b[0m eta \u001b[36m0:00:00\u001b[0m\n",
            "\u001b[?25hRequirement already satisfied: numpy>=1.17 in /usr/local/lib/python3.10/dist-packages (from transformers) (1.23.5)\n",
            "Requirement already satisfied: packaging>=20.0 in /usr/local/lib/python3.10/dist-packages (from transformers) (23.1)\n",
            "Requirement already satisfied: pyyaml>=5.1 in /usr/local/lib/python3.10/dist-packages (from transformers) (6.0.1)\n",
            "Requirement already satisfied: regex!=2019.12.17 in /usr/local/lib/python3.10/dist-packages (from transformers) (2022.10.31)\n",
            "Requirement already satisfied: requests in /usr/local/lib/python3.10/dist-packages (from transformers) (2.31.0)\n",
            "Collecting tokenizers!=0.11.3,<0.14,>=0.11.1 (from transformers)\n",
            "  Downloading tokenizers-0.13.3-cp310-cp310-manylinux_2_17_x86_64.manylinux2014_x86_64.whl (7.8 MB)\n",
            "\u001b[2K     \u001b[90m━━━━━━━━━━━━━━━━━━━━━━━━━━━━━━━━━━━━━━━━\u001b[0m \u001b[32m7.8/7.8 MB\u001b[0m \u001b[31m78.9 MB/s\u001b[0m eta \u001b[36m0:00:00\u001b[0m\n",
            "\u001b[?25hCollecting safetensors>=0.3.1 (from transformers)\n",
            "  Downloading safetensors-0.3.2-cp310-cp310-manylinux_2_17_x86_64.manylinux2014_x86_64.whl (1.3 MB)\n",
            "\u001b[2K     \u001b[90m━━━━━━━━━━━━━━━━━━━━━━━━━━━━━━━━━━━━━━━━\u001b[0m \u001b[32m1.3/1.3 MB\u001b[0m \u001b[31m81.3 MB/s\u001b[0m eta \u001b[36m0:00:00\u001b[0m\n",
            "\u001b[?25hRequirement already satisfied: tqdm>=4.27 in /usr/local/lib/python3.10/dist-packages (from transformers) (4.65.0)\n",
            "Requirement already satisfied: fsspec in /usr/local/lib/python3.10/dist-packages (from huggingface-hub<1.0,>=0.14.1->transformers) (2023.6.0)\n",
            "Requirement already satisfied: typing-extensions>=3.7.4.3 in /usr/local/lib/python3.10/dist-packages (from huggingface-hub<1.0,>=0.14.1->transformers) (4.7.1)\n",
            "Requirement already satisfied: charset-normalizer<4,>=2 in /usr/local/lib/python3.10/dist-packages (from requests->transformers) (3.2.0)\n",
            "Requirement already satisfied: idna<4,>=2.5 in /usr/local/lib/python3.10/dist-packages (from requests->transformers) (3.4)\n",
            "Requirement already satisfied: urllib3<3,>=1.21.1 in /usr/local/lib/python3.10/dist-packages (from requests->transformers) (1.26.16)\n",
            "Requirement already satisfied: certifi>=2017.4.17 in /usr/local/lib/python3.10/dist-packages (from requests->transformers) (2023.7.22)\n",
            "Installing collected packages: tokenizers, safetensors, huggingface-hub, transformers\n",
            "Successfully installed huggingface-hub-0.16.4 safetensors-0.3.2 tokenizers-0.13.3 transformers-4.31.0\n"
          ]
        }
      ]
    },
    {
      "cell_type": "markdown",
      "source": [
        "#### <b>사전 학습된 BERT 불러오기</b>\n",
        "\n",
        "* Tokenizer는 특정한 언어에 대한 단어집(vocabulary)과 같은 역할을 수행한다.\n",
        "* 한국어 전용 Tokenizer인 <b>bert-base-multilingual-cased</b>를 사용할 수 있다.\n",
        "  * 다양한 모델은 Hugging Face 공식 웹 사이트에서 확인할 수 있다.\n",
        "  * <b>링크</b>: https://huggingface.co/models"
      ],
      "metadata": {
        "id": "PLTAPIMDj809"
      }
    },
    {
      "cell_type": "code",
      "source": [
        "import torch # PyTorch 라이브러리\n",
        "from transformers import BertTokenizer # BERT를 위한 tokenizer 모델\n",
        "from transformers import BertModel # BERT 모델\n",
        "\n",
        "import matplotlib.pyplot as plt # 시각화 라이브러리\n",
        "\n",
        "# 단어집(vocabulary) 기능을 수행하는 사전 학습된 tokenizer 불러오기\n",
        "tokenizer = BertTokenizer.from_pretrained('bert-base-multilingual-cased')"
      ],
      "metadata": {
        "colab": {
          "base_uri": "https://localhost:8080/",
          "height": 113,
          "referenced_widgets": [
            "1dde71bf1e724932b256b7a17ce8d78c",
            "27daa9c8014a4173b089b207cc144620",
            "706a46dac8f54014866bb8ff9d8d13e6",
            "ce40d812da964bceac00c8fb416fcdaa",
            "8aae930b132f41e38b830f636e51d2e7",
            "af4e525db56c47abb835e87705093fea",
            "64525604bff3480d8cf5193de3c92f1b",
            "ff38cedb7e784a2bbe199426f8f27310",
            "08fb9ec957f04319895480b9972ba1f5",
            "412b9be910dc4175b4780725c3d5b60a",
            "0cb6e1e8b6504241bd845477736a81eb",
            "7b25a531d1d04d4db0a86619231d2f43",
            "d9b2f082c70f44eaa4dd5a5a85179998",
            "afc156e0be254578864db015d6d2a584",
            "57da14e4f4c145489295c4d4e45cc451",
            "35e26eb6974e4867aff9cc5b11b7002d",
            "6f3a40f7018144b3b2aaace763d5d30c",
            "4476ace7d47c403384d27b83be348738",
            "a2a467fa5f034c7e9f6052b60288ce92",
            "3a002dfc9d8c46cf847902eadf7156fc",
            "f910cdb875a54633ad9c3cd58f99c5fb",
            "b0ac02e60c284fac9e51ea8d75f40929",
            "091c5373cbb44c218a179e824c7f5169",
            "16e37d1398334d2595877abe760ba4cb",
            "e1a8ffa6c6db4dd691e6cdd0d7a52733",
            "90a6ee90d6c2495994b2468f19868be9",
            "9d5b5720ddfa4459a30e777c23db3b5e",
            "01398f5c0cac47feb335908d844187aa",
            "44ad2bda8cef44ed9bd39802fadc503b",
            "a400600fa1c34f18b4d1a164ef45b896",
            "6081ef3981ef4bc38b22c126e6b0fc0c",
            "32adb5219ae441828c6032caea3bfdbf",
            "e3b6a2c92058408885e5b5337d50c5b0"
          ]
        },
        "id": "Bzrv7aFyi0Ne",
        "outputId": "d3bb80ca-9607-4200-82e7-fe076dbebb13"
      },
      "execution_count": 4,
      "outputs": [
        {
          "output_type": "display_data",
          "data": {
            "text/plain": [
              "Downloading (…)solve/main/vocab.txt:   0%|          | 0.00/996k [00:00<?, ?B/s]"
            ],
            "application/vnd.jupyter.widget-view+json": {
              "version_major": 2,
              "version_minor": 0,
              "model_id": "1dde71bf1e724932b256b7a17ce8d78c"
            }
          },
          "metadata": {}
        },
        {
          "output_type": "display_data",
          "data": {
            "text/plain": [
              "Downloading (…)okenizer_config.json:   0%|          | 0.00/29.0 [00:00<?, ?B/s]"
            ],
            "application/vnd.jupyter.widget-view+json": {
              "version_major": 2,
              "version_minor": 0,
              "model_id": "7b25a531d1d04d4db0a86619231d2f43"
            }
          },
          "metadata": {}
        },
        {
          "output_type": "display_data",
          "data": {
            "text/plain": [
              "Downloading (…)lve/main/config.json:   0%|          | 0.00/625 [00:00<?, ?B/s]"
            ],
            "application/vnd.jupyter.widget-view+json": {
              "version_major": 2,
              "version_minor": 0,
              "model_id": "091c5373cbb44c218a179e824c7f5169"
            }
          },
          "metadata": {}
        }
      ]
    },
    {
      "cell_type": "markdown",
      "source": [
        "#### <b>BERT의 입력 구조 알아보기</b>\n",
        "\n",
        "* BERT의 경우 일반적으로 다음과 같은 입력 데이터를 사용한다.\n",
        "* <b>\\[CLS\\]</b>: 첫 문장을 시작할 때 사용한다.\n",
        "  * 일반적으로 텍스트 분류 모델을 만들 때, 이 <b>\\[CLS\\]</b> 토큰이 classification head의 입력으로 들어간다.\n",
        "* <b>\\[SEP\\]</b>: 문장의 끝을 표시할 때 사용한다.\n",
        "  * BERT는 최대 2개의 문장이 입력으로 들어올 수 있으며, 각 문장은 하나의 <b>구간(segment)</b>이 된다.\n",
        "* <b>토큰 ID</b>: 단어 사전에 있는 각 단어에 대하여 고유한 번호가 부여된다.\n",
        "* <b>마스크(Mask) ID</b>: 현재 시퀀스(sequence)에서 어떤 요소가 패딩(padding) 토큰인지를 나타낸다.\n",
        "* <b>위치 임베딩(positional embedding)</b>: 시퀀스 내에서 각 토큰의 위치 정보를 담고 있는 임베딩이다.\n",
        "  * 원본 Transformer 논문처럼 주기 함수를 단순히 그대로 사용할 수 있다."
      ],
      "metadata": {
        "id": "YAX2nd8-lPVN"
      }
    },
    {
      "cell_type": "markdown",
      "source": [
        "#### <b>Special Tokens: \\[CLS\\]와 \\[SEP\\] 알아보기</b>\n",
        "\n",
        "* BERT에서는 하나 혹은 두 개의 문장을 사용할 수 있다.\n",
        "* 다음과 같은 문장이 입력되었다고 가정하자.\n",
        "  * \"나는 어제 학교에 늦게 도착했다. 저녁에는 야채죽을 먹을 예정이다.\"\n",
        "* 이 경우, 다음과 같이 <b>특수 토큰(special tokens)이 반영</b>되어 입력으로 들어간다.\n",
        "  * <b>\\[CLS\\]</b> 나는 어제 학교에 늦게 도착했다. <b>\\[SEP\\]</b> 저녁에는 야채죽을 먹을 예정이다."
      ],
      "metadata": {
        "id": "2N9YhNXTm3XO"
      }
    },
    {
      "cell_type": "markdown",
      "source": [
        "#### <b>BERT의 Tokenizer 사용하기</b>\n",
        "\n",
        "* 기본적으로 BERT는 영어를 처리하도록 설계되었으나, 한국어 tokenizer 기능도 존재한다.\n",
        "* 간단히 <b>토큰화(tokenizing) 작업</b>을 수행해 볼 수 있다."
      ],
      "metadata": {
        "id": "zxgUQlxKuHWO"
      }
    },
    {
      "cell_type": "code",
      "source": [
        "text = \"나는 어제 학교에 늦게 도착했다.\"\n",
        "processed = \"[CLS]\" + text + \"[SEP]\"\n",
        "\n",
        "# 하나의 문장(sentence)을 BERT tokenizer를 사용해 토큰화할 수 있다.\n",
        "tokenized = tokenizer.tokenize(processed)\n",
        "\n",
        "# 토큰을 출력한다.\n",
        "print(tokenized)"
      ],
      "metadata": {
        "colab": {
          "base_uri": "https://localhost:8080/"
        },
        "id": "ui4hVv2IkDC9",
        "outputId": "167ccfa7-6d6c-4b23-bef3-4708ae194cb4"
      },
      "execution_count": 5,
      "outputs": [
        {
          "output_type": "stream",
          "name": "stdout",
          "text": [
            "['[CLS]', '나는', '어', '##제', '학', '##교', '##에', '늦', '##게', '도', '##착', '##했다', '.', '[SEP]']\n"
          ]
        }
      ]
    },
    {
      "cell_type": "markdown",
      "source": [
        "#### <b>토큰화 결과 예시 확인하기</b>\n",
        "\n",
        "* BERT의 경우 <b>단어 조각(Word Piece) 기법</b>을 적용한다.\n",
        "  * 하나의 단어(word)에 포함된 하위 단어(sub-word)를 고려한다.\n",
        "  * 사전에 없는 단어에 단순히 <b>\\[UNK\\]</b> 토큰을 적용하는 대신, 하위 단어 및 개별 문자 토큰으로 분해한다.\n",
        "* 한국어의 경우 BERT 모델이 단어 정보를 많이 가지고 있지 않다.\n",
        "  * 현재 \"학교\"라는 단어를 <b>고유한 단어</b>로 가지고 있지 않다.\n",
        "* 단어 사전(vocabulary)에서는 다음과 같은 정보를 활용한다.\n",
        "  * <b>고유한 단어</b>: \"나는\"과 같은 단어를 말한다.\n",
        "  * <b>하위 단어</b>: 뒤쪽에 붙는 하위 단어를 처리하기 위해 \"##\"가 앞에 붙는다.\n",
        "  * 기타 개별적인 문자\n",
        "* 현재 예시에서는 <b>\"도착했다\"</b>라는 단어가 고유한 단어로 존재하지 않는다.\n",
        "  * 이는 구체적으로 \\[\"도\", \"##착\", \"##했다\"\\]로 분해되었다.\n",
        "  * 무엇을 \"했다\"는 의미로 이해할 수 있게 된다."
      ],
      "metadata": {
        "id": "E0QwrMi8utBG"
      }
    },
    {
      "cell_type": "markdown",
      "source": [
        "#### <b>Tokenizer로 인덱스로 변환하기</b>\n",
        "\n",
        "* 컴퓨터는 문자열 데이터가 아닌 <b>수(number) 데이터</b>를 입력으로 받을 수 있다.\n",
        "* 따라서, 하나의 텍스트(text)를 여러 개의 토큰(token)으로 분리한 뒤에 이를 수 리스트로 변환하여 사용한다.\n",
        "  * <b>tokenizer.convert_tokens_to_ids(토큰 리스트)</b> 형태를 사용한다."
      ],
      "metadata": {
        "id": "PlD0HdaaxJRX"
      }
    },
    {
      "cell_type": "code",
      "source": [
        "text = \"나는 어제 학교에 늦게 도착해서 1교시 수업을 못 들었다.\"\n",
        "processed = \"[CLS]\" + text + \"[SEP]\"\n",
        "\n",
        "# 하나의 문장(sentence)을 BERT tokenizer를 사용해 토큰화할 수 있다.\n",
        "tokenized = tokenizer.tokenize(processed)\n",
        "\n",
        "# 토큰을 출력한다.\n",
        "print(tokenized)\n",
        "\n",
        "# 각 토큰(token)을 인덱스(index)로 매핑한다.\n",
        "indexed_tokens = tokenizer.convert_tokens_to_ids(tokenized)\n",
        "\n",
        "# 각 토큰(token)별로 인덱스(index) 정보를 출력할 수 있다.\n",
        "for (token, index) in zip(tokenized, indexed_tokens):\n",
        "    print(f\"{token}: {index}\")"
      ],
      "metadata": {
        "colab": {
          "base_uri": "https://localhost:8080/"
        },
        "id": "6lh0SYDqulhB",
        "outputId": "ff05dd18-94c0-484a-f9b2-35f454fe4f6b"
      },
      "execution_count": 7,
      "outputs": [
        {
          "output_type": "stream",
          "name": "stdout",
          "text": [
            "['[CLS]', '나는', '어', '##제', '학', '##교', '##에', '늦', '##게', '도', '##착', '##해서', '1', '##교', '##시', '수', '##업을', '못', '들', '##었다', '.', '[SEP]']\n",
            "[CLS]: 101\n",
            "나는: 100585\n",
            "어: 9546\n",
            "##제: 17730\n",
            "학: 9953\n",
            "##교: 25242\n",
            "##에: 10530\n",
            "늦: 9047\n",
            "##게: 14153\n",
            "도: 9087\n",
            "##착: 119248\n",
            "##해서: 70146\n",
            "1: 122\n",
            "##교: 25242\n",
            "##시: 14040\n",
            "수: 9460\n",
            "##업을: 75203\n",
            "못: 9290\n",
            "들: 9117\n",
            "##었다: 17706\n",
            ".: 119\n",
            "[SEP]: 102\n"
          ]
        }
      ]
    },
    {
      "cell_type": "markdown",
      "source": [
        "#### <b>BERT의 구간 번호(Segment ID)</b>\n",
        "\n",
        "* BERT는 최대 2개의 문장을 입력으로 받는다.\n",
        "  * 따라서, 두 문장을 구별하기 위하여 0 혹은 1의 값으로 토큰을 마스킹한다.\n",
        "  * 문장 0의 경우 <b>0의 값을 가진 리스트</b>로 표현하고, 문장 1의 경우 <b>1의 값을 가진 리스트</b>로 표현한다.\n",
        "* 현재 실습에서는 단순히 문장 혹은 단어의 <b>임베딩(embedding)</b>을 구할 것이다.\n",
        "  * 따라서, 단순히 각 토큰에 대하여 1의 값을 부여한다."
      ],
      "metadata": {
        "id": "3YZxBY0Uy4uu"
      }
    },
    {
      "cell_type": "code",
      "source": [
        "segments_ids = [1] * len(tokenized)\n",
        "\n",
        "print (segments_ids)"
      ],
      "metadata": {
        "colab": {
          "base_uri": "https://localhost:8080/"
        },
        "id": "nT7ermkSyeV0",
        "outputId": "c1b35eae-9fc5-4346-9a3c-d6fb84298560"
      },
      "execution_count": 8,
      "outputs": [
        {
          "output_type": "stream",
          "name": "stdout",
          "text": [
            "[1, 1, 1, 1, 1, 1, 1, 1, 1, 1, 1, 1, 1, 1, 1, 1, 1, 1, 1, 1, 1, 1]\n"
          ]
        }
      ]
    },
    {
      "cell_type": "markdown",
      "source": [
        "#### <b>BERT 모델 불러오기</b>\n",
        "\n",
        "* <b>허깅 페이스(Hugging Face)</b>에서 제공하는 모델을 불러와 사용할 수 있다.\n",
        "  * 다운로드가 자동으로 수행된다.\n",
        "  * 평가 모드(evalation mode)를 사용하여 드롭아웃과 같은 기법이 적절히 대응될 수 있도록 한다."
      ],
      "metadata": {
        "id": "rI1c2MCe0mCH"
      }
    },
    {
      "cell_type": "code",
      "source": [
        "# 사전 학습된(pre-trained) 모델 가중치 불러오기\n",
        "model = BertModel.from_pretrained('bert-base-multilingual-cased',\n",
        "                                  # 모델이 모든 hidden state를 뱉도록 할 것인지 설정할 수 있다.\n",
        "                                  output_hidden_states = True,\n",
        "                                  )\n",
        "\n",
        "# 모델을 평가(evaluation) 모드로 변경하여 feed-forward 역할을 수행하도록 한다.\n",
        "model.eval()"
      ],
      "metadata": {
        "colab": {
          "base_uri": "https://localhost:8080/"
        },
        "id": "Lw76f4Xs0n13",
        "outputId": "c8cc7d40-34a0-4b86-e11b-bfea5bf9d525"
      },
      "execution_count": 13,
      "outputs": [
        {
          "output_type": "execute_result",
          "data": {
            "text/plain": [
              "BertModel(\n",
              "  (embeddings): BertEmbeddings(\n",
              "    (word_embeddings): Embedding(119547, 768, padding_idx=0)\n",
              "    (position_embeddings): Embedding(512, 768)\n",
              "    (token_type_embeddings): Embedding(2, 768)\n",
              "    (LayerNorm): LayerNorm((768,), eps=1e-12, elementwise_affine=True)\n",
              "    (dropout): Dropout(p=0.1, inplace=False)\n",
              "  )\n",
              "  (encoder): BertEncoder(\n",
              "    (layer): ModuleList(\n",
              "      (0-11): 12 x BertLayer(\n",
              "        (attention): BertAttention(\n",
              "          (self): BertSelfAttention(\n",
              "            (query): Linear(in_features=768, out_features=768, bias=True)\n",
              "            (key): Linear(in_features=768, out_features=768, bias=True)\n",
              "            (value): Linear(in_features=768, out_features=768, bias=True)\n",
              "            (dropout): Dropout(p=0.1, inplace=False)\n",
              "          )\n",
              "          (output): BertSelfOutput(\n",
              "            (dense): Linear(in_features=768, out_features=768, bias=True)\n",
              "            (LayerNorm): LayerNorm((768,), eps=1e-12, elementwise_affine=True)\n",
              "            (dropout): Dropout(p=0.1, inplace=False)\n",
              "          )\n",
              "        )\n",
              "        (intermediate): BertIntermediate(\n",
              "          (dense): Linear(in_features=768, out_features=3072, bias=True)\n",
              "          (intermediate_act_fn): GELUActivation()\n",
              "        )\n",
              "        (output): BertOutput(\n",
              "          (dense): Linear(in_features=3072, out_features=768, bias=True)\n",
              "          (LayerNorm): LayerNorm((768,), eps=1e-12, elementwise_affine=True)\n",
              "          (dropout): Dropout(p=0.1, inplace=False)\n",
              "        )\n",
              "      )\n",
              "    )\n",
              "  )\n",
              "  (pooler): BertPooler(\n",
              "    (dense): Linear(in_features=768, out_features=768, bias=True)\n",
              "    (activation): Tanh()\n",
              "  )\n",
              ")"
            ]
          },
          "metadata": {},
          "execution_count": 13
        }
      ]
    },
    {
      "cell_type": "markdown",
      "source": [
        "#### <b>임베딩(Embedding) 추출하기</b>\n",
        "\n",
        "* 일반적으로 PyTorch의 임베딩(embedding) 레이어는 다음과 같이 동작한다.\n",
        "  * <b>인덱스(index)</b>를 받아서 <b>원하는 차원(dimension)의 임베딩 벡터</b>로 변환한다."
      ],
      "metadata": {
        "id": "jfgRbQvh0LPY"
      }
    },
    {
      "cell_type": "code",
      "source": [
        "text = \"나는 어제 학교에 늦게 도착해서 1교시 수업을 못 들었다.\"\n",
        "processed = \"[CLS]\" + text + \"[SEP]\"\n",
        "\n",
        "# 하나의 문장(sentence)을 BERT tokenizer를 사용해 토큰화할 수 있다.\n",
        "tokenized = tokenizer.tokenize(processed)\n",
        "\n",
        "segments_ids = [1] * len(tokenized)\n",
        "\n",
        "# 토큰을 출력한다.\n",
        "print(tokenized)\n",
        "\n",
        "# 각 토큰(token)을 인덱스(index)로 매핑한다.\n",
        "indexed_tokens = tokenizer.convert_tokens_to_ids(tokenized)\n",
        "\n",
        "# 입력을 PyTorch의 텐서 형태로 변환한다.\n",
        "tokens_tensor = torch.tensor([indexed_tokens])\n",
        "segments_tensors = torch.tensor([segments_ids])"
      ],
      "metadata": {
        "colab": {
          "base_uri": "https://localhost:8080/"
        },
        "id": "EqMMY0Zq0Jx_",
        "outputId": "e7c9cc5f-e324-4db7-a04a-3ea4d0a4d289"
      },
      "execution_count": 12,
      "outputs": [
        {
          "output_type": "stream",
          "name": "stdout",
          "text": [
            "['[CLS]', '나는', '어', '##제', '학', '##교', '##에', '늦', '##게', '도', '##착', '##해서', '1', '##교', '##시', '수', '##업을', '못', '들', '##었다', '.', '[SEP]']\n"
          ]
        }
      ]
    },
    {
      "cell_type": "markdown",
      "source": [
        "* <b>BERT 모델</b>에 텍스트를 넣은 결과를 얻을 수 있다.\n",
        "  * 구체적인 설명은 다음 링크에서 확인할 수 있다.\n",
        "  * <b>설명 링크</b>: https://huggingface.co/transformers/model_doc/bert.html#bertmodel"
      ],
      "metadata": {
        "id": "rzfcd9gu3IZA"
      }
    },
    {
      "cell_type": "code",
      "source": [
        "# 텍스트를 BERT에 삽입한 뒤에, 생성된 hidden states를 모두 수집한다.\n",
        "# 총 12개의 Transformer 레이어(layer)에 대한 결과를 모두 얻을 수 있다.\n",
        "with torch.no_grad():\n",
        "\n",
        "    outputs = model(tokens_tensor, segments_tensors)\n",
        "\n",
        "    # 아래 코드가 정상적으로 동작하려면, 정상적으로 BERT가 불러와져야 한다.\n",
        "    # (1) from_pretrained가 수행되었다.\n",
        "    # (2) output_hidden_states의 값이 True이므로, 세 번째 원소가 모든 레이어의 hidden states에 해당한다.\n",
        "    hidden_states = outputs[2]"
      ],
      "metadata": {
        "id": "hiJo8X9d1QlT"
      },
      "execution_count": 14,
      "outputs": []
    },
    {
      "cell_type": "markdown",
      "source": [
        "#### <b>출력된 임베딩 정보 확인하기</b>\n",
        "\n",
        "* hidden_states는 다음과 같은 정보를 포함하고 있다.\n",
        "  * <b>1번째 레이어</b>: 입력 토큰 임베딩 값을 포함한다.\n",
        "  * <b>이후 12개의 레이어</b>: 각 Transformer 구조에서 출력된 토큰 임베딩 값을 포함한다."
      ],
      "metadata": {
        "id": "QX0HXJ1C3Qc8"
      }
    },
    {
      "cell_type": "code",
      "source": [
        "# 총 13개의 레이어 (initial embeddings + 12 BERT layers)\n",
        "print(f\"레이어 개수: {len(hidden_states)}\")\n",
        "\n",
        "# 하나의 문장을 넣었으므로, 배치 크기는 1이다.\n",
        "layer_index = 0\n",
        "print(f\"배치 크기: {len(hidden_states[layer_index])}\")\n",
        "\n",
        "# 자신이 입력한 문자열의 길이에 맞게 나온다.\n",
        "batch_index = 0\n",
        "print(f\"토큰의 개수: {len(hidden_states[layer_index][batch_index])}\")\n",
        "\n",
        "# hidden units 개수는 768이다.\n",
        "token_index = 0\n",
        "print(f\"임베딩 차원의 크기: {len(hidden_states[layer_index][batch_index][token_index])}\")"
      ],
      "metadata": {
        "colab": {
          "base_uri": "https://localhost:8080/"
        },
        "id": "mtQs9nSD2nii",
        "outputId": "e6b46968-e154-4ec3-b414-abf59273665f"
      },
      "execution_count": 18,
      "outputs": [
        {
          "output_type": "stream",
          "name": "stdout",
          "text": [
            "레이어 개수: 13\n",
            "배치 크기: 1\n",
            "토큰의 개수: 22\n",
            "임베딩 차원의 크기: 768\n"
          ]
        }
      ]
    },
    {
      "cell_type": "markdown",
      "source": [
        "#### <b>토큰 임베딩 값 분석해 보기</b>\n",
        "\n",
        "* 임베딩의 값이 대체로 \\[-2, 2\\] 범위 내에 다수 존재한다."
      ],
      "metadata": {
        "id": "6HLAlpCC49D4"
      }
    },
    {
      "cell_type": "code",
      "source": [
        "# 입력 문장에서 5번째 토큰에 대하여 특징을 추출해보자.\n",
        "token_index = 5\n",
        "layer_index = 5\n",
        "vec = hidden_states[layer_index][batch_index][token_index]\n",
        "print(vec.shape) # 768차원의 값을 가진다.\n",
        "\n",
        "# 임베딩 값의 범위를 히스토그램(histogram) 분포로 그릴 수 있다.\n",
        "plt.figure(figsize=(8, 4))\n",
        "plt.hist(vec, bins=200)\n",
        "plt.show()"
      ],
      "metadata": {
        "colab": {
          "base_uri": "https://localhost:8080/",
          "height": 386
        },
        "id": "DfNWgYvN4Tf8",
        "outputId": "4bb8ebb9-918a-452b-cc75-8444ed795110"
      },
      "execution_count": 26,
      "outputs": [
        {
          "output_type": "stream",
          "name": "stdout",
          "text": [
            "torch.Size([768])\n"
          ]
        },
        {
          "output_type": "display_data",
          "data": {
            "text/plain": [
              "<Figure size 800x400 with 1 Axes>"
            ],
            "image/png": "[encoded data removed]"
          },
          "metadata": {}
        }
      ]
    },
    {
      "cell_type": "markdown",
      "source": [
        "#### <b>문장 혹은 단어의 임베딩(embedding) 추출하기</b>\n",
        "\n",
        "* <b>13개의 레이어</b>에 걸쳐서 각 토큰마다 <b>768차원 임베딩 벡터</b>가 추출된다.\n",
        "* 이것을 그대로 사용하기에는 너무 차원이 크다. (13 X 768)\n",
        "  * 여러 레이어에 걸쳐 기록된 <b>정보를 종합</b>하여 압축된 임베딩을 만들 수 있을 것이다."
      ],
      "metadata": {
        "id": "bago0D075rk4"
      }
    },
    {
      "cell_type": "markdown",
      "source": [
        "#### <b>임베딩 합치기</b>\n",
        "\n",
        "* 마지막 4개의 레이어에 걸쳐서 토큰 임베딩 값을 합쳐서 <b>최종 임베딩</b>을 만들 수 있다."
      ],
      "metadata": {
        "id": "GI7Bh3tv6bMX"
      }
    },
    {
      "cell_type": "code",
      "source": [
        "# 총 13개의 레이어를 서로 연결하여(concatenate) 하나의 벡터로 만든다.\n",
        "# 이러한 과정에서 새로운 축(axis)이 생성된다.\n",
        "token_embeddings = torch.stack(hidden_states, dim=0)\n",
        "print(token_embeddings.size()) # [13, 1, 22, 768]\n",
        "\n",
        "# 인덱스 1에 해당하는 축(axis)을 제거한다. (batch 차원 제거)\n",
        "token_embeddings = torch.squeeze(token_embeddings, dim=1)\n",
        "print(token_embeddings.size()) # [13, 22, 768]\n",
        "\n",
        "# 첫 번째 축과 두 번째 축을 서로 변환한다. (swapping)\n",
        "# 구체적으로 layers 축과 tokens 축을 서로 변경한다.\n",
        "token_embeddings = token_embeddings.permute(1, 0, 2)\n",
        "print(token_embeddings.size()) # [22, 13, 768]\n",
        "\n",
        "# 최종적인 토큰 임베딩 벡터를 구성할 것이다.\n",
        "# 현재 입력 텍스트 예시에서는 [22 X 768] 형태의 벡터가 추출된다.\n",
        "token_vecs_sum = []\n",
        "\n",
        "# token_embeddings는 기본적으로 [22, 13, 768]의 형태를 가진다.\n",
        "# 현재 문장의 각 토큰(token)을 하나씩 확인하며\n",
        "for token in token_embeddings:\n",
        "\n",
        "    # 하나의 토큰(token)은 [13 x 768] 크기의 텐서(tensor)다.\n",
        "    # 마지막 4개의 레이어의 임베딩 값에 대하여 합치기 연산을 수행한다.\n",
        "    sum_vec = torch.sum(token[-4:], dim=0)\n",
        "\n",
        "    # 결과적으로 sum_vec은 해당 토큰(token)을 표현하는 768차원 벡터가 된다.\n",
        "    token_vecs_sum.append(sum_vec)\n",
        "\n",
        "print(f\"Shape is: {len(token_vecs_sum)} x {len(token_vecs_sum[0])}\")"
      ],
      "metadata": {
        "colab": {
          "base_uri": "https://localhost:8080/"
        },
        "id": "olHCzoi56UA_",
        "outputId": "a46a2ffb-8036-447d-ed13-4f48805fe235"
      },
      "execution_count": 29,
      "outputs": [
        {
          "output_type": "stream",
          "name": "stdout",
          "text": [
            "torch.Size([13, 1, 22, 768])\n",
            "torch.Size([13, 22, 768])\n",
            "torch.Size([22, 13, 768])\n",
            "Shape is: 22 x 768\n"
          ]
        }
      ]
    },
    {
      "cell_type": "markdown",
      "source": [
        "#### <b>임베딩 추출 라이브러리 만들기</b>\n",
        "\n",
        "* 앞서 설명한 방법으로 임베딩 추출을 위한 라이브러리를 생성할 수 있다."
      ],
      "metadata": {
        "id": "eRQTVLZC_WSP"
      }
    },
    {
      "cell_type": "code",
      "source": [
        "def get_embeddings(tokenized):\n",
        "    segments_ids = [1] * len(tokenized)\n",
        "\n",
        "    # 각 토큰(token)을 인덱스(index)로 매핑한다.\n",
        "    indexed_tokens = tokenizer.convert_tokens_to_ids(tokenized)\n",
        "\n",
        "    # 입력을 PyTorch의 텐서 형태로 변환한다.\n",
        "    tokens_tensor = torch.tensor([indexed_tokens])\n",
        "    segments_tensors = torch.tensor([segments_ids])\n",
        "\n",
        "    # 텍스트를 BERT에 삽입한 뒤에, 생성된 hidden states를 모두 수집한다.\n",
        "    # 총 12개의 Transformer 레이어(layer)에 대한 결과를 모두 얻을 수 있다.\n",
        "    with torch.no_grad():\n",
        "        outputs = model(tokens_tensor, segments_tensors)\n",
        "\n",
        "        # 아래 코드가 정상적으로 동작하려면, 정상적으로 BERT가 불러와져야 한다.\n",
        "        # (1) from_pretrained가 수행되었다.\n",
        "        # (2) output_hidden_states의 값이 True이므로, 세 번째 원소가 모든 레이어의 hidden states에 해당한다.\n",
        "        hidden_states = outputs[2]\n",
        "\n",
        "    # 총 13개의 레이어를 서로 연결하여(concatenate) 하나의 벡터로 만든다.\n",
        "    # 이러한 과정에서 새로운 축(axis)이 생성된다.\n",
        "    token_embeddings = torch.stack(hidden_states, dim=0)\n",
        "\n",
        "    # 인덱스 1에 해당하는 축(axis)을 제거한다. (batch 차원 제거)\n",
        "    token_embeddings = torch.squeeze(token_embeddings, dim=1)\n",
        "\n",
        "    # 첫 번째 축과 두 번째 축을 서로 변환한다. (swapping)\n",
        "    # 구체적으로 layers 축과 tokens 축을 서로 변경한다.\n",
        "    token_embeddings = token_embeddings.permute(1, 0, 2)\n",
        "\n",
        "    # 최종적인 토큰 임베딩 벡터를 구성할 것이다.\n",
        "    # 현재 입력 텍스트 예시에서는 [22 X 768] 형태의 벡터가 추출된다.\n",
        "    token_vecs_sum = []\n",
        "\n",
        "    # token_embeddings는 기본적으로 [22, 13, 768]의 형태를 가진다.\n",
        "    # 현재 문장의 각 토큰(token)을 하나씩 확인하며\n",
        "    for token in token_embeddings:\n",
        "\n",
        "        # 하나의 토큰(token)은 [13 x 768] 크기의 텐서(tensor)다.\n",
        "        # 마지막 4개의 레이어의 임베딩 값에 대하여 합치기 연산을 수행한다.\n",
        "        sum_vec = torch.sum(token[-4:], dim=0)\n",
        "\n",
        "        # 결과적으로 sum_vec은 해당 토큰(token)을 표현하는 768차원 벡터가 된다.\n",
        "        token_vecs_sum.append(sum_vec)\n",
        "\n",
        "    return token_vecs_sum"
      ],
      "metadata": {
        "id": "it9DD6k94dxH"
      },
      "execution_count": 33,
      "outputs": []
    },
    {
      "cell_type": "code",
      "source": [
        "text = \"나는 어제 학교에 늦게 도착해서 1교시 수업을 못 들었다.\"\n",
        "processed = \"[CLS]\" + text + \"[SEP]\"\n",
        "\n",
        "# 하나의 문장(sentence)을 BERT tokenizer를 사용해 토큰화할 수 있다.\n",
        "tokenized = tokenizer.tokenize(processed)\n",
        "embeddings = get_embeddings(tokenized)\n",
        "\n",
        "print(\"토큰 길이:\", len(tokenized))\n",
        "print(\"추출된 임베딩 길이:\", len(embeddings))\n",
        "print(\"각 임베딩의 차원:\", embeddings[0].shape)"
      ],
      "metadata": {
        "colab": {
          "base_uri": "https://localhost:8080/"
        },
        "id": "UEv59I1J_15z",
        "outputId": "6d139c95-3a6b-482d-af53-6b243786c68f"
      },
      "execution_count": 36,
      "outputs": [
        {
          "output_type": "stream",
          "name": "stdout",
          "text": [
            "토큰 길이: 22\n",
            "추출된 임베딩 길이: 22\n",
            "각 임베딩의 차원: torch.Size([768])\n"
          ]
        }
      ]
    },
    {
      "cell_type": "markdown",
      "source": [
        "#### <b>임베딩 유사도 측정하기</b>\n",
        "\n",
        "* 앞선 내용을 토대로 임베딩 유사도 라이브러리를 작성할 수 있다.\n",
        "  * 단어간 유사도 분석을 위해 <b>get_word_cosine_similarity()</b>를 사용한다.\n",
        "  * 문장간 유사도 분석을 위해 <b>get_text_cosine_similarity()</b>를 사용한다."
      ],
      "metadata": {
        "id": "ByUh5e_AAcHB"
      }
    },
    {
      "cell_type": "code",
      "source": [
        "from scipy.spatial.distance import cosine\n",
        "\n",
        "\n",
        "# 두 개의 토큰(token)에 대한 유사도 추출\n",
        "def get_word_cosine_similarity(embedding_1, embedding_2):\n",
        "    return 1 - cosine(embedding_1, embedding_2)\n",
        "\n",
        "\n",
        "# 두 개의 문장(tokens)에 대한 유사도 추출\n",
        "def get_text_cosine_similarity(embeddings_1, embeddings_2):\n",
        "    embeddings_1 = torch.stack(embeddings_1, dim=0)\n",
        "    embeddings_2 = torch.stack(embeddings_2, dim=0)\n",
        "\n",
        "    # 각 문장마다 해당 문장에 들어있는 전체 토큰의 평균 임베딩 계산\n",
        "    average_embedding_1 = torch.mean(embeddings_1, dim=0)\n",
        "    average_embedding_2 = torch.mean(embeddings_2, dim=0)\n",
        "\n",
        "    return 1 - cosine(average_embedding_1, average_embedding_2)\n",
        "\n",
        "\n",
        "# 직접적으로 두 텍스트를 입력받아 유사도 분석하기\n",
        "def get_similarity(text_1, text_2):\n",
        "    processed_1 = \"[CLS]\" + text_1 + \"[SEP]\"\n",
        "    processed_2 = \"[CLS]\" + text_2 + \"[SEP]\"\n",
        "\n",
        "    tokenized_1 = tokenizer.tokenize(processed_1)\n",
        "    tokenized_2 = tokenizer.tokenize(processed_2)\n",
        "\n",
        "    embeddings_1 = get_embeddings(tokenized_1)\n",
        "    embeddings_2 = get_embeddings(tokenized_2)\n",
        "\n",
        "    return get_text_cosine_similarity(embeddings_1, embeddings_2)"
      ],
      "metadata": {
        "id": "ci1Rp51FAfBX"
      },
      "execution_count": 50,
      "outputs": []
    },
    {
      "cell_type": "code",
      "source": [
        "text_1 = \"나는 어제 학교에 늦게 도착해서 1교시 수업을 못 들었다.\"\n",
        "text_2 = \"나는 모든 수업에 성실히 참여하여 개근상을 받았다.\"\n",
        "text_3 = \"지각을 많이해서 선생님께 혼났다.\"\n",
        "text_4 = \"나는 항상 열정적으로 공부하고, 높은 성적을 받는다.\"\n",
        "\n",
        "print(\"유사도:\", get_similarity(text_1, text_1))\n",
        "print(\"유사도:\", get_similarity(text_1, text_2))\n",
        "print(\"유사도:\", get_similarity(text_1, text_3))\n",
        "print(\"유사도:\", get_similarity(text_1, text_4))"
      ],
      "metadata": {
        "colab": {
          "base_uri": "https://localhost:8080/"
        },
        "id": "BETrnFItAL93",
        "outputId": "d46a13b4-3246-4a0f-bf1c-6441d84af62c"
      },
      "execution_count": 60,
      "outputs": [
        {
          "output_type": "stream",
          "name": "stdout",
          "text": [
            "유사도: 1\n",
            "유사도: 0.8627861142158508\n",
            "유사도: 0.8967632055282593\n",
            "유사도: 0.882111132144928\n"
          ]
        }
      ]
    },
    {
      "cell_type": "code",
      "source": [
        "text_1 = \"학교\"\n",
        "text_2 = \"공부\"\n",
        "text_3 = \"수영\"\n",
        "text_4 = \"혹성탈출\"\n",
        "\n",
        "print(\"유사도:\", get_similarity(text_1, text_1))\n",
        "print(\"유사도:\", get_similarity(text_1, text_2))\n",
        "print(\"유사도:\", get_similarity(text_1, text_3))\n",
        "print(\"유사도:\", get_similarity(text_1, text_4))"
      ],
      "metadata": {
        "colab": {
          "base_uri": "https://localhost:8080/"
        },
        "id": "kvpotLJpBvjI",
        "outputId": "14dfd35d-dce3-4e34-af60-3608eabd94fc"
      },
      "execution_count": 61,
      "outputs": [
        {
          "output_type": "stream",
          "name": "stdout",
          "text": [
            "유사도: 1\n",
            "유사도: 0.8520808219909668\n",
            "유사도: 0.822685956954956\n",
            "유사도: 0.7803860902786255\n"
          ]
        }
      ]
    },
    {
      "cell_type": "markdown",
      "source": [
        "#### <b>리뷰 문장 비교하기</b>\n",
        "\n",
        "* 리뷰 문장으로 비교해 볼 수 있다."
      ],
      "metadata": {
        "id": "ef9n_kRxDcK9"
      }
    },
    {
      "cell_type": "code",
      "source": [
        "location_1 = \"중국의 맛인 산시도삭면과 딤섬을 제대로 맛볼 수 있는 식당\" # 식당\n",
        "location_2 = \"연어와 육회를 무한 리필로 술과 함께 먹을 수 있는 장소\" # 식당\n",
        "location_3 = \"지역주민이 추천하는 로컬 맛집, 피자, 맥주와 함께\" # 식당\n",
        "location_4 = \"63빌딩에 위치한 아쿠아리움\" # 아쿠아리움\n",
        "\n",
        "print(\"유사도:\", get_similarity(location_1, location_1))\n",
        "print(\"유사도:\", get_similarity(location_1, location_2))\n",
        "print(\"유사도:\", get_similarity(location_1, location_3))\n",
        "print(\"유사도:\", get_similarity(location_1, location_4))"
      ],
      "metadata": {
        "colab": {
          "base_uri": "https://localhost:8080/"
        },
        "id": "odmtGSEkDLTY",
        "outputId": "0a2cb091-b1c3-4e4a-c8c2-5f23c86baf14"
      },
      "execution_count": 65,
      "outputs": [
        {
          "output_type": "stream",
          "name": "stdout",
          "text": [
            "유사도: 1\n",
            "유사도: 0.9112938642501831\n",
            "유사도: 0.9079434871673584\n",
            "유사도: 0.8674262762069702\n"
          ]
        }
      ]
    }
  ]
}